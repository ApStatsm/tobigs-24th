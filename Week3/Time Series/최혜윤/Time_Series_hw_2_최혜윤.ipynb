{
  "nbformat": 4,
  "nbformat_minor": 0,
  "metadata": {
    "colab": {
      "provenance": []
    },
    "kernelspec": {
      "name": "python3",
      "display_name": "Python 3"
    },
    "language_info": {
      "name": "python"
    }
  },
  "cells": [
    {
      "cell_type": "markdown",
      "source": [
        "# 📌 Week 3 시계열 데이터 과제\n",
        "\n",
        "- **구성:** 이론 + 실습  \n",
        "- **이론:** 정규 세션 핵심 내용 기반 주관식 문제(총 2문제)\n",
        "- **실습:** ARIMA 모델 & DLinear 모델 활용(총 4문제)\n",
        "<br><br> 모르는 부분 혹은 문제에 오류가 있는 경우 편하게 연락해주세요:)"
      ],
      "metadata": {
        "id": "uaZhCL512ReK"
      }
    },
    {
      "cell_type": "markdown",
      "source": [
        "## 📖 이론\n",
        "🔹 정규 세션에서 배운 핵심 개념을 바탕으로 한 **주관식 문제**입니다.  "
      ],
      "metadata": {
        "id": "JYliBMVC4ZIX"
      }
    },
    {
      "cell_type": "markdown",
      "source": [
        "**Q1**\n",
        "\n",
        "\n",
        "- 시계열 데이터에서 정상성이 중요한 이유를 말씀해주시고, ARIMA 모델에서는 데이터의 비정상성을 어떻게 처리하는지 설명해주세요."
      ],
      "metadata": {
        "id": "44Su6JO6YO0N"
      }
    },
    {
      "cell_type": "markdown",
      "source": [
        "**A1**\n",
        "\n",
        "시계열 데이터의 정상성은 평균, 분산 등 통계적 특성이 시간에 따라 일정하여 데이터의 패턴을 파악하고 미래를 예측하기 위한 핵심 전제입니다. 대부분의 시계열 모델은 이 정상성을 가정하므로, 비정상 데이터를 그대로 사용하면 모델의 신뢰도가 떨어집니다.\n",
        "\n",
        "ARIMA 모델은 차분(Differencing)이라는 기법으로 이 문제를 해결합니다. 차분은 현재 데이터에서 이전 데이터를 빼주어 시간에 따른 추세나 계절성을 제거하고, 비정상 데이터를 안정적인 정상 데이터로 변환합니다. 이렇게 정상화된 데이터를 바탕으로 ARIMA는 패턴을 학습하여 안정적인 예측을 수행할 수 있습니다."
      ],
      "metadata": {
        "id": "EuY-FAJ6g4p2"
      }
    },
    {
      "cell_type": "markdown",
      "source": [
        "**Q2**\n",
        "\n",
        "- AR(p) 및 MA(q) 모델을 차이점을 중심으로 설명해주세요. 또한, 파라미터 p와 q 결정하는 방법에 대해 상세하게 설명해주세요."
      ],
      "metadata": {
        "id": "wl6-HJxSYSfq"
      }
    },
    {
      "cell_type": "markdown",
      "source": [
        "**A2**\n",
        "\n",
        "AR(p) 모델은 현재 값이 과거의 관측값들에 의해 결정된다고 보는 반면, MA(q) 모델은 현재 값이 과거의 예측 오차(shock)들에 의해 결정된다고 봅니다.\n",
        "\n",
        "파라미터 p와 q는 시계열 데이터의 ACF(자기상관함수)와 PACF(편자기상관함수) 그래프를 보고 결정합니다. AR(p) 모델은 PACF가 p 시차 이후 급격히 감소하고, MA(q) 모델은 ACF가 q 시차 이후 급격히 감소하는 특징을 가집니다."
      ],
      "metadata": {
        "id": "PbUoUgrSg-pw"
      }
    },
    {
      "cell_type": "markdown",
      "source": [
        "\n",
        "\n",
        "---\n",
        "\n"
      ],
      "metadata": {
        "id": "bP5MBZVOg_Cw"
      }
    },
    {
      "cell_type": "markdown",
      "source": [
        "## 💻 실습1 ARIMA  \n",
        "🔹 모의 데이터를 활용한 **ARIMA** 모델 실습입니다. 주어진 데이터를 활용하여 코드 중간중간 주어진 문제에 답해주세요.\n"
      ],
      "metadata": {
        "id": "AoE8VGWBrFDb"
      }
    },
    {
      "cell_type": "markdown",
      "source": [
        "### 데이터 전처리"
      ],
      "metadata": {
        "id": "pU0jSx6K4cRw"
      }
    },
    {
      "cell_type": "code",
      "execution_count": 1,
      "metadata": {
        "id": "F9kj82_R2ObN",
        "colab": {
          "base_uri": "https://localhost:8080/",
          "height": 206
        },
        "outputId": "b1ca50be-7816-435b-fec1-f68b135a7337"
      },
      "outputs": [
        {
          "output_type": "execute_result",
          "data": {
            "text/plain": [
              "         date   meantemp   humidity  wind_speed  meanpressure\n",
              "0  2017-01-01  15.913043  85.869565    2.743478     59.000000\n",
              "1  2017-01-02  18.500000  77.222222    2.894444   1018.277778\n",
              "2  2017-01-03  17.111111  81.888889    4.016667   1018.333333\n",
              "3  2017-01-04  18.700000  70.050000    4.545000   1015.700000\n",
              "4  2017-01-05  18.388889  74.944444    3.300000   1014.333333"
            ],
            "text/html": [
              "\n",
              "  <div id=\"df-e648fcfc-73c0-45bd-9a53-8d1208f9c543\" class=\"colab-df-container\">\n",
              "    <div>\n",
              "<style scoped>\n",
              "    .dataframe tbody tr th:only-of-type {\n",
              "        vertical-align: middle;\n",
              "    }\n",
              "\n",
              "    .dataframe tbody tr th {\n",
              "        vertical-align: top;\n",
              "    }\n",
              "\n",
              "    .dataframe thead th {\n",
              "        text-align: right;\n",
              "    }\n",
              "</style>\n",
              "<table border=\"1\" class=\"dataframe\">\n",
              "  <thead>\n",
              "    <tr style=\"text-align: right;\">\n",
              "      <th></th>\n",
              "      <th>date</th>\n",
              "      <th>meantemp</th>\n",
              "      <th>humidity</th>\n",
              "      <th>wind_speed</th>\n",
              "      <th>meanpressure</th>\n",
              "    </tr>\n",
              "  </thead>\n",
              "  <tbody>\n",
              "    <tr>\n",
              "      <th>0</th>\n",
              "      <td>2017-01-01</td>\n",
              "      <td>15.913043</td>\n",
              "      <td>85.869565</td>\n",
              "      <td>2.743478</td>\n",
              "      <td>59.000000</td>\n",
              "    </tr>\n",
              "    <tr>\n",
              "      <th>1</th>\n",
              "      <td>2017-01-02</td>\n",
              "      <td>18.500000</td>\n",
              "      <td>77.222222</td>\n",
              "      <td>2.894444</td>\n",
              "      <td>1018.277778</td>\n",
              "    </tr>\n",
              "    <tr>\n",
              "      <th>2</th>\n",
              "      <td>2017-01-03</td>\n",
              "      <td>17.111111</td>\n",
              "      <td>81.888889</td>\n",
              "      <td>4.016667</td>\n",
              "      <td>1018.333333</td>\n",
              "    </tr>\n",
              "    <tr>\n",
              "      <th>3</th>\n",
              "      <td>2017-01-04</td>\n",
              "      <td>18.700000</td>\n",
              "      <td>70.050000</td>\n",
              "      <td>4.545000</td>\n",
              "      <td>1015.700000</td>\n",
              "    </tr>\n",
              "    <tr>\n",
              "      <th>4</th>\n",
              "      <td>2017-01-05</td>\n",
              "      <td>18.388889</td>\n",
              "      <td>74.944444</td>\n",
              "      <td>3.300000</td>\n",
              "      <td>1014.333333</td>\n",
              "    </tr>\n",
              "  </tbody>\n",
              "</table>\n",
              "</div>\n",
              "    <div class=\"colab-df-buttons\">\n",
              "\n",
              "  <div class=\"colab-df-container\">\n",
              "    <button class=\"colab-df-convert\" onclick=\"convertToInteractive('df-e648fcfc-73c0-45bd-9a53-8d1208f9c543')\"\n",
              "            title=\"Convert this dataframe to an interactive table.\"\n",
              "            style=\"display:none;\">\n",
              "\n",
              "  <svg xmlns=\"http://www.w3.org/2000/svg\" height=\"24px\" viewBox=\"0 -960 960 960\">\n",
              "    <path d=\"M120-120v-720h720v720H120Zm60-500h600v-160H180v160Zm220 220h160v-160H400v160Zm0 220h160v-160H400v160ZM180-400h160v-160H180v160Zm440 0h160v-160H620v160ZM180-180h160v-160H180v160Zm440 0h160v-160H620v160Z\"/>\n",
              "  </svg>\n",
              "    </button>\n",
              "\n",
              "  <style>\n",
              "    .colab-df-container {\n",
              "      display:flex;\n",
              "      gap: 12px;\n",
              "    }\n",
              "\n",
              "    .colab-df-convert {\n",
              "      background-color: #E8F0FE;\n",
              "      border: none;\n",
              "      border-radius: 50%;\n",
              "      cursor: pointer;\n",
              "      display: none;\n",
              "      fill: #1967D2;\n",
              "      height: 32px;\n",
              "      padding: 0 0 0 0;\n",
              "      width: 32px;\n",
              "    }\n",
              "\n",
              "    .colab-df-convert:hover {\n",
              "      background-color: #E2EBFA;\n",
              "      box-shadow: 0px 1px 2px rgba(60, 64, 67, 0.3), 0px 1px 3px 1px rgba(60, 64, 67, 0.15);\n",
              "      fill: #174EA6;\n",
              "    }\n",
              "\n",
              "    .colab-df-buttons div {\n",
              "      margin-bottom: 4px;\n",
              "    }\n",
              "\n",
              "    [theme=dark] .colab-df-convert {\n",
              "      background-color: #3B4455;\n",
              "      fill: #D2E3FC;\n",
              "    }\n",
              "\n",
              "    [theme=dark] .colab-df-convert:hover {\n",
              "      background-color: #434B5C;\n",
              "      box-shadow: 0px 1px 3px 1px rgba(0, 0, 0, 0.15);\n",
              "      filter: drop-shadow(0px 1px 2px rgba(0, 0, 0, 0.3));\n",
              "      fill: #FFFFFF;\n",
              "    }\n",
              "  </style>\n",
              "\n",
              "    <script>\n",
              "      const buttonEl =\n",
              "        document.querySelector('#df-e648fcfc-73c0-45bd-9a53-8d1208f9c543 button.colab-df-convert');\n",
              "      buttonEl.style.display =\n",
              "        google.colab.kernel.accessAllowed ? 'block' : 'none';\n",
              "\n",
              "      async function convertToInteractive(key) {\n",
              "        const element = document.querySelector('#df-e648fcfc-73c0-45bd-9a53-8d1208f9c543');\n",
              "        const dataTable =\n",
              "          await google.colab.kernel.invokeFunction('convertToInteractive',\n",
              "                                                    [key], {});\n",
              "        if (!dataTable) return;\n",
              "\n",
              "        const docLinkHtml = 'Like what you see? Visit the ' +\n",
              "          '<a target=\"_blank\" href=https://colab.research.google.com/notebooks/data_table.ipynb>data table notebook</a>'\n",
              "          + ' to learn more about interactive tables.';\n",
              "        element.innerHTML = '';\n",
              "        dataTable['output_type'] = 'display_data';\n",
              "        await google.colab.output.renderOutput(dataTable, element);\n",
              "        const docLink = document.createElement('div');\n",
              "        docLink.innerHTML = docLinkHtml;\n",
              "        element.appendChild(docLink);\n",
              "      }\n",
              "    </script>\n",
              "  </div>\n",
              "\n",
              "\n",
              "    <div id=\"df-bd5c1bf1-b78a-4fdb-802f-4a0987e6169a\">\n",
              "      <button class=\"colab-df-quickchart\" onclick=\"quickchart('df-bd5c1bf1-b78a-4fdb-802f-4a0987e6169a')\"\n",
              "                title=\"Suggest charts\"\n",
              "                style=\"display:none;\">\n",
              "\n",
              "<svg xmlns=\"http://www.w3.org/2000/svg\" height=\"24px\"viewBox=\"0 0 24 24\"\n",
              "     width=\"24px\">\n",
              "    <g>\n",
              "        <path d=\"M19 3H5c-1.1 0-2 .9-2 2v14c0 1.1.9 2 2 2h14c1.1 0 2-.9 2-2V5c0-1.1-.9-2-2-2zM9 17H7v-7h2v7zm4 0h-2V7h2v10zm4 0h-2v-4h2v4z\"/>\n",
              "    </g>\n",
              "</svg>\n",
              "      </button>\n",
              "\n",
              "<style>\n",
              "  .colab-df-quickchart {\n",
              "      --bg-color: #E8F0FE;\n",
              "      --fill-color: #1967D2;\n",
              "      --hover-bg-color: #E2EBFA;\n",
              "      --hover-fill-color: #174EA6;\n",
              "      --disabled-fill-color: #AAA;\n",
              "      --disabled-bg-color: #DDD;\n",
              "  }\n",
              "\n",
              "  [theme=dark] .colab-df-quickchart {\n",
              "      --bg-color: #3B4455;\n",
              "      --fill-color: #D2E3FC;\n",
              "      --hover-bg-color: #434B5C;\n",
              "      --hover-fill-color: #FFFFFF;\n",
              "      --disabled-bg-color: #3B4455;\n",
              "      --disabled-fill-color: #666;\n",
              "  }\n",
              "\n",
              "  .colab-df-quickchart {\n",
              "    background-color: var(--bg-color);\n",
              "    border: none;\n",
              "    border-radius: 50%;\n",
              "    cursor: pointer;\n",
              "    display: none;\n",
              "    fill: var(--fill-color);\n",
              "    height: 32px;\n",
              "    padding: 0;\n",
              "    width: 32px;\n",
              "  }\n",
              "\n",
              "  .colab-df-quickchart:hover {\n",
              "    background-color: var(--hover-bg-color);\n",
              "    box-shadow: 0 1px 2px rgba(60, 64, 67, 0.3), 0 1px 3px 1px rgba(60, 64, 67, 0.15);\n",
              "    fill: var(--button-hover-fill-color);\n",
              "  }\n",
              "\n",
              "  .colab-df-quickchart-complete:disabled,\n",
              "  .colab-df-quickchart-complete:disabled:hover {\n",
              "    background-color: var(--disabled-bg-color);\n",
              "    fill: var(--disabled-fill-color);\n",
              "    box-shadow: none;\n",
              "  }\n",
              "\n",
              "  .colab-df-spinner {\n",
              "    border: 2px solid var(--fill-color);\n",
              "    border-color: transparent;\n",
              "    border-bottom-color: var(--fill-color);\n",
              "    animation:\n",
              "      spin 1s steps(1) infinite;\n",
              "  }\n",
              "\n",
              "  @keyframes spin {\n",
              "    0% {\n",
              "      border-color: transparent;\n",
              "      border-bottom-color: var(--fill-color);\n",
              "      border-left-color: var(--fill-color);\n",
              "    }\n",
              "    20% {\n",
              "      border-color: transparent;\n",
              "      border-left-color: var(--fill-color);\n",
              "      border-top-color: var(--fill-color);\n",
              "    }\n",
              "    30% {\n",
              "      border-color: transparent;\n",
              "      border-left-color: var(--fill-color);\n",
              "      border-top-color: var(--fill-color);\n",
              "      border-right-color: var(--fill-color);\n",
              "    }\n",
              "    40% {\n",
              "      border-color: transparent;\n",
              "      border-right-color: var(--fill-color);\n",
              "      border-top-color: var(--fill-color);\n",
              "    }\n",
              "    60% {\n",
              "      border-color: transparent;\n",
              "      border-right-color: var(--fill-color);\n",
              "    }\n",
              "    80% {\n",
              "      border-color: transparent;\n",
              "      border-right-color: var(--fill-color);\n",
              "      border-bottom-color: var(--fill-color);\n",
              "    }\n",
              "    90% {\n",
              "      border-color: transparent;\n",
              "      border-bottom-color: var(--fill-color);\n",
              "    }\n",
              "  }\n",
              "</style>\n",
              "\n",
              "      <script>\n",
              "        async function quickchart(key) {\n",
              "          const quickchartButtonEl =\n",
              "            document.querySelector('#' + key + ' button');\n",
              "          quickchartButtonEl.disabled = true;  // To prevent multiple clicks.\n",
              "          quickchartButtonEl.classList.add('colab-df-spinner');\n",
              "          try {\n",
              "            const charts = await google.colab.kernel.invokeFunction(\n",
              "                'suggestCharts', [key], {});\n",
              "          } catch (error) {\n",
              "            console.error('Error during call to suggestCharts:', error);\n",
              "          }\n",
              "          quickchartButtonEl.classList.remove('colab-df-spinner');\n",
              "          quickchartButtonEl.classList.add('colab-df-quickchart-complete');\n",
              "        }\n",
              "        (() => {\n",
              "          let quickchartButtonEl =\n",
              "            document.querySelector('#df-bd5c1bf1-b78a-4fdb-802f-4a0987e6169a button');\n",
              "          quickchartButtonEl.style.display =\n",
              "            google.colab.kernel.accessAllowed ? 'block' : 'none';\n",
              "        })();\n",
              "      </script>\n",
              "    </div>\n",
              "\n",
              "    </div>\n",
              "  </div>\n"
            ],
            "application/vnd.google.colaboratory.intrinsic+json": {
              "type": "dataframe",
              "variable_name": "df",
              "summary": "{\n  \"name\": \"df\",\n  \"rows\": 114,\n  \"fields\": [\n    {\n      \"column\": \"date\",\n      \"properties\": {\n        \"dtype\": \"object\",\n        \"num_unique_values\": 114,\n        \"samples\": [\n          \"2017-03-22\",\n          \"2017-01-05\",\n          \"2017-02-10\"\n        ],\n        \"semantic_type\": \"\",\n        \"description\": \"\"\n      }\n    },\n    {\n      \"column\": \"meantemp\",\n      \"properties\": {\n        \"dtype\": \"number\",\n        \"std\": 6.360071848767034,\n        \"min\": 11.0,\n        \"max\": 34.5,\n        \"num_unique_values\": 105,\n        \"samples\": [\n          16.125,\n          19.9375,\n          20.785714285714285\n        ],\n        \"semantic_type\": \"\",\n        \"description\": \"\"\n      }\n    },\n    {\n      \"column\": \"humidity\",\n      \"properties\": {\n        \"dtype\": \"number\",\n        \"std\": 19.068082852306677,\n        \"min\": 17.75,\n        \"max\": 95.83333333333331,\n        \"num_unique_values\": 109,\n        \"samples\": [\n          49.0,\n          72.11111111111111,\n          74.94444444444444\n        ],\n        \"semantic_type\": \"\",\n        \"description\": \"\"\n      }\n    },\n    {\n      \"column\": \"wind_speed\",\n      \"properties\": {\n        \"dtype\": \"number\",\n        \"std\": 3.588049465473026,\n        \"min\": 1.3875000000000002,\n        \"max\": 19.314285714285717,\n        \"num_unique_values\": 109,\n        \"samples\": [\n          10.187500000000002,\n          9.77222222222222,\n          3.3000000000000003\n        ],\n        \"semantic_type\": \"\",\n        \"description\": \"\"\n      }\n    },\n    {\n      \"column\": \"meanpressure\",\n      \"properties\": {\n        \"dtype\": \"number\",\n        \"std\": 89.47469204777894,\n        \"min\": 59.0,\n        \"max\": 1022.809523809524,\n        \"num_unique_values\": 109,\n        \"samples\": [\n          1011.75,\n          1016.7777777777778,\n          1014.3333333333334\n        ],\n        \"semantic_type\": \"\",\n        \"description\": \"\"\n      }\n    }\n  ]\n}"
            }
          },
          "metadata": {},
          "execution_count": 1
        }
      ],
      "source": [
        "import pandas as pd\n",
        "\n",
        "# 데이터 로드\n",
        "df = pd.read_csv(\"./Time_Series_hw_data_test.csv\")\n",
        "df_eval=pd.read_csv(\"./Time_Series_hw_data_train.csv\")\n",
        "\n",
        "# 데이터 확인\n",
        "df.head()"
      ]
    },
    {
      "cell_type": "code",
      "source": [
        "df[\"date\"] = pd.to_datetime(df[\"date\"])\n",
        "df.set_index(\"date\", inplace=True)\n",
        "\n",
        "# 필요한 컬럼 선택 (meantemp)\n",
        "df = df[[\"meantemp\"]]\n",
        "\n",
        "df_eval[\"date\"] = pd.to_datetime(df_eval[\"date\"])\n",
        "df_eval.set_index(\"date\", inplace=True)\n",
        "\n",
        "# 필요한 컬럼 선택 (meantemp)\n",
        "df_eval = df_eval[[\"meantemp\"]]\n",
        "\n",
        "df.head()"
      ],
      "metadata": {
        "id": "0ofoyuVC2SFY",
        "colab": {
          "base_uri": "https://localhost:8080/",
          "height": 238
        },
        "outputId": "8b0777ff-ac71-41a8-f6cf-6186a2285b34"
      },
      "execution_count": 2,
      "outputs": [
        {
          "output_type": "execute_result",
          "data": {
            "text/plain": [
              "             meantemp\n",
              "date                 \n",
              "2017-01-01  15.913043\n",
              "2017-01-02  18.500000\n",
              "2017-01-03  17.111111\n",
              "2017-01-04  18.700000\n",
              "2017-01-05  18.388889"
            ],
            "text/html": [
              "\n",
              "  <div id=\"df-82748053-b644-414f-bd84-aca88ee5c92b\" class=\"colab-df-container\">\n",
              "    <div>\n",
              "<style scoped>\n",
              "    .dataframe tbody tr th:only-of-type {\n",
              "        vertical-align: middle;\n",
              "    }\n",
              "\n",
              "    .dataframe tbody tr th {\n",
              "        vertical-align: top;\n",
              "    }\n",
              "\n",
              "    .dataframe thead th {\n",
              "        text-align: right;\n",
              "    }\n",
              "</style>\n",
              "<table border=\"1\" class=\"dataframe\">\n",
              "  <thead>\n",
              "    <tr style=\"text-align: right;\">\n",
              "      <th></th>\n",
              "      <th>meantemp</th>\n",
              "    </tr>\n",
              "    <tr>\n",
              "      <th>date</th>\n",
              "      <th></th>\n",
              "    </tr>\n",
              "  </thead>\n",
              "  <tbody>\n",
              "    <tr>\n",
              "      <th>2017-01-01</th>\n",
              "      <td>15.913043</td>\n",
              "    </tr>\n",
              "    <tr>\n",
              "      <th>2017-01-02</th>\n",
              "      <td>18.500000</td>\n",
              "    </tr>\n",
              "    <tr>\n",
              "      <th>2017-01-03</th>\n",
              "      <td>17.111111</td>\n",
              "    </tr>\n",
              "    <tr>\n",
              "      <th>2017-01-04</th>\n",
              "      <td>18.700000</td>\n",
              "    </tr>\n",
              "    <tr>\n",
              "      <th>2017-01-05</th>\n",
              "      <td>18.388889</td>\n",
              "    </tr>\n",
              "  </tbody>\n",
              "</table>\n",
              "</div>\n",
              "    <div class=\"colab-df-buttons\">\n",
              "\n",
              "  <div class=\"colab-df-container\">\n",
              "    <button class=\"colab-df-convert\" onclick=\"convertToInteractive('df-82748053-b644-414f-bd84-aca88ee5c92b')\"\n",
              "            title=\"Convert this dataframe to an interactive table.\"\n",
              "            style=\"display:none;\">\n",
              "\n",
              "  <svg xmlns=\"http://www.w3.org/2000/svg\" height=\"24px\" viewBox=\"0 -960 960 960\">\n",
              "    <path d=\"M120-120v-720h720v720H120Zm60-500h600v-160H180v160Zm220 220h160v-160H400v160Zm0 220h160v-160H400v160ZM180-400h160v-160H180v160Zm440 0h160v-160H620v160ZM180-180h160v-160H180v160Zm440 0h160v-160H620v160Z\"/>\n",
              "  </svg>\n",
              "    </button>\n",
              "\n",
              "  <style>\n",
              "    .colab-df-container {\n",
              "      display:flex;\n",
              "      gap: 12px;\n",
              "    }\n",
              "\n",
              "    .colab-df-convert {\n",
              "      background-color: #E8F0FE;\n",
              "      border: none;\n",
              "      border-radius: 50%;\n",
              "      cursor: pointer;\n",
              "      display: none;\n",
              "      fill: #1967D2;\n",
              "      height: 32px;\n",
              "      padding: 0 0 0 0;\n",
              "      width: 32px;\n",
              "    }\n",
              "\n",
              "    .colab-df-convert:hover {\n",
              "      background-color: #E2EBFA;\n",
              "      box-shadow: 0px 1px 2px rgba(60, 64, 67, 0.3), 0px 1px 3px 1px rgba(60, 64, 67, 0.15);\n",
              "      fill: #174EA6;\n",
              "    }\n",
              "\n",
              "    .colab-df-buttons div {\n",
              "      margin-bottom: 4px;\n",
              "    }\n",
              "\n",
              "    [theme=dark] .colab-df-convert {\n",
              "      background-color: #3B4455;\n",
              "      fill: #D2E3FC;\n",
              "    }\n",
              "\n",
              "    [theme=dark] .colab-df-convert:hover {\n",
              "      background-color: #434B5C;\n",
              "      box-shadow: 0px 1px 3px 1px rgba(0, 0, 0, 0.15);\n",
              "      filter: drop-shadow(0px 1px 2px rgba(0, 0, 0, 0.3));\n",
              "      fill: #FFFFFF;\n",
              "    }\n",
              "  </style>\n",
              "\n",
              "    <script>\n",
              "      const buttonEl =\n",
              "        document.querySelector('#df-82748053-b644-414f-bd84-aca88ee5c92b button.colab-df-convert');\n",
              "      buttonEl.style.display =\n",
              "        google.colab.kernel.accessAllowed ? 'block' : 'none';\n",
              "\n",
              "      async function convertToInteractive(key) {\n",
              "        const element = document.querySelector('#df-82748053-b644-414f-bd84-aca88ee5c92b');\n",
              "        const dataTable =\n",
              "          await google.colab.kernel.invokeFunction('convertToInteractive',\n",
              "                                                    [key], {});\n",
              "        if (!dataTable) return;\n",
              "\n",
              "        const docLinkHtml = 'Like what you see? Visit the ' +\n",
              "          '<a target=\"_blank\" href=https://colab.research.google.com/notebooks/data_table.ipynb>data table notebook</a>'\n",
              "          + ' to learn more about interactive tables.';\n",
              "        element.innerHTML = '';\n",
              "        dataTable['output_type'] = 'display_data';\n",
              "        await google.colab.output.renderOutput(dataTable, element);\n",
              "        const docLink = document.createElement('div');\n",
              "        docLink.innerHTML = docLinkHtml;\n",
              "        element.appendChild(docLink);\n",
              "      }\n",
              "    </script>\n",
              "  </div>\n",
              "\n",
              "\n",
              "    <div id=\"df-9811702d-1e91-4883-a80e-0773268ce1b3\">\n",
              "      <button class=\"colab-df-quickchart\" onclick=\"quickchart('df-9811702d-1e91-4883-a80e-0773268ce1b3')\"\n",
              "                title=\"Suggest charts\"\n",
              "                style=\"display:none;\">\n",
              "\n",
              "<svg xmlns=\"http://www.w3.org/2000/svg\" height=\"24px\"viewBox=\"0 0 24 24\"\n",
              "     width=\"24px\">\n",
              "    <g>\n",
              "        <path d=\"M19 3H5c-1.1 0-2 .9-2 2v14c0 1.1.9 2 2 2h14c1.1 0 2-.9 2-2V5c0-1.1-.9-2-2-2zM9 17H7v-7h2v7zm4 0h-2V7h2v10zm4 0h-2v-4h2v4z\"/>\n",
              "    </g>\n",
              "</svg>\n",
              "      </button>\n",
              "\n",
              "<style>\n",
              "  .colab-df-quickchart {\n",
              "      --bg-color: #E8F0FE;\n",
              "      --fill-color: #1967D2;\n",
              "      --hover-bg-color: #E2EBFA;\n",
              "      --hover-fill-color: #174EA6;\n",
              "      --disabled-fill-color: #AAA;\n",
              "      --disabled-bg-color: #DDD;\n",
              "  }\n",
              "\n",
              "  [theme=dark] .colab-df-quickchart {\n",
              "      --bg-color: #3B4455;\n",
              "      --fill-color: #D2E3FC;\n",
              "      --hover-bg-color: #434B5C;\n",
              "      --hover-fill-color: #FFFFFF;\n",
              "      --disabled-bg-color: #3B4455;\n",
              "      --disabled-fill-color: #666;\n",
              "  }\n",
              "\n",
              "  .colab-df-quickchart {\n",
              "    background-color: var(--bg-color);\n",
              "    border: none;\n",
              "    border-radius: 50%;\n",
              "    cursor: pointer;\n",
              "    display: none;\n",
              "    fill: var(--fill-color);\n",
              "    height: 32px;\n",
              "    padding: 0;\n",
              "    width: 32px;\n",
              "  }\n",
              "\n",
              "  .colab-df-quickchart:hover {\n",
              "    background-color: var(--hover-bg-color);\n",
              "    box-shadow: 0 1px 2px rgba(60, 64, 67, 0.3), 0 1px 3px 1px rgba(60, 64, 67, 0.15);\n",
              "    fill: var(--button-hover-fill-color);\n",
              "  }\n",
              "\n",
              "  .colab-df-quickchart-complete:disabled,\n",
              "  .colab-df-quickchart-complete:disabled:hover {\n",
              "    background-color: var(--disabled-bg-color);\n",
              "    fill: var(--disabled-fill-color);\n",
              "    box-shadow: none;\n",
              "  }\n",
              "\n",
              "  .colab-df-spinner {\n",
              "    border: 2px solid var(--fill-color);\n",
              "    border-color: transparent;\n",
              "    border-bottom-color: var(--fill-color);\n",
              "    animation:\n",
              "      spin 1s steps(1) infinite;\n",
              "  }\n",
              "\n",
              "  @keyframes spin {\n",
              "    0% {\n",
              "      border-color: transparent;\n",
              "      border-bottom-color: var(--fill-color);\n",
              "      border-left-color: var(--fill-color);\n",
              "    }\n",
              "    20% {\n",
              "      border-color: transparent;\n",
              "      border-left-color: var(--fill-color);\n",
              "      border-top-color: var(--fill-color);\n",
              "    }\n",
              "    30% {\n",
              "      border-color: transparent;\n",
              "      border-left-color: var(--fill-color);\n",
              "      border-top-color: var(--fill-color);\n",
              "      border-right-color: var(--fill-color);\n",
              "    }\n",
              "    40% {\n",
              "      border-color: transparent;\n",
              "      border-right-color: var(--fill-color);\n",
              "      border-top-color: var(--fill-color);\n",
              "    }\n",
              "    60% {\n",
              "      border-color: transparent;\n",
              "      border-right-color: var(--fill-color);\n",
              "    }\n",
              "    80% {\n",
              "      border-color: transparent;\n",
              "      border-right-color: var(--fill-color);\n",
              "      border-bottom-color: var(--fill-color);\n",
              "    }\n",
              "    90% {\n",
              "      border-color: transparent;\n",
              "      border-bottom-color: var(--fill-color);\n",
              "    }\n",
              "  }\n",
              "</style>\n",
              "\n",
              "      <script>\n",
              "        async function quickchart(key) {\n",
              "          const quickchartButtonEl =\n",
              "            document.querySelector('#' + key + ' button');\n",
              "          quickchartButtonEl.disabled = true;  // To prevent multiple clicks.\n",
              "          quickchartButtonEl.classList.add('colab-df-spinner');\n",
              "          try {\n",
              "            const charts = await google.colab.kernel.invokeFunction(\n",
              "                'suggestCharts', [key], {});\n",
              "          } catch (error) {\n",
              "            console.error('Error during call to suggestCharts:', error);\n",
              "          }\n",
              "          quickchartButtonEl.classList.remove('colab-df-spinner');\n",
              "          quickchartButtonEl.classList.add('colab-df-quickchart-complete');\n",
              "        }\n",
              "        (() => {\n",
              "          let quickchartButtonEl =\n",
              "            document.querySelector('#df-9811702d-1e91-4883-a80e-0773268ce1b3 button');\n",
              "          quickchartButtonEl.style.display =\n",
              "            google.colab.kernel.accessAllowed ? 'block' : 'none';\n",
              "        })();\n",
              "      </script>\n",
              "    </div>\n",
              "\n",
              "    </div>\n",
              "  </div>\n"
            ],
            "application/vnd.google.colaboratory.intrinsic+json": {
              "type": "dataframe",
              "variable_name": "df",
              "summary": "{\n  \"name\": \"df\",\n  \"rows\": 114,\n  \"fields\": [\n    {\n      \"column\": \"date\",\n      \"properties\": {\n        \"dtype\": \"date\",\n        \"min\": \"2017-01-01 00:00:00\",\n        \"max\": \"2017-04-24 00:00:00\",\n        \"num_unique_values\": 114,\n        \"samples\": [\n          \"2017-03-22 00:00:00\",\n          \"2017-01-05 00:00:00\",\n          \"2017-02-10 00:00:00\"\n        ],\n        \"semantic_type\": \"\",\n        \"description\": \"\"\n      }\n    },\n    {\n      \"column\": \"meantemp\",\n      \"properties\": {\n        \"dtype\": \"number\",\n        \"std\": 6.360071848767034,\n        \"min\": 11.0,\n        \"max\": 34.5,\n        \"num_unique_values\": 105,\n        \"samples\": [\n          16.125,\n          19.9375,\n          20.785714285714285\n        ],\n        \"semantic_type\": \"\",\n        \"description\": \"\"\n      }\n    }\n  ]\n}"
            }
          },
          "metadata": {},
          "execution_count": 2
        }
      ]
    },
    {
      "cell_type": "markdown",
      "source": [
        "### 정상성 확인"
      ],
      "metadata": {
        "id": "_0P2gVMSU7Dz"
      }
    },
    {
      "cell_type": "code",
      "source": [
        "import matplotlib.pyplot as plt\n",
        "import statsmodels.api as sm\n",
        "from statsmodels.tsa.stattools import adfuller\n",
        "\n",
        "# ADF 테스트 (단위근 검정) 수행\n",
        "adf_result = adfuller(df[\"meantemp\"])\n",
        "adf_statistic, p_value = adf_result[0], adf_result[1]\n",
        "\n",
        "\n",
        "# ADF 검정 결과 출력\n",
        "adf_statistic, p_value"
      ],
      "metadata": {
        "id": "HtkZx4jx2SIU",
        "colab": {
          "base_uri": "https://localhost:8080/"
        },
        "outputId": "b009e692-6976-4c3a-8a42-24571d220c80"
      },
      "execution_count": 3,
      "outputs": [
        {
          "output_type": "execute_result",
          "data": {
            "text/plain": [
              "(np.float64(-1.096474275875619), np.float64(0.7164758731775932))"
            ]
          },
          "metadata": {},
          "execution_count": 3
        }
      ]
    },
    {
      "cell_type": "markdown",
      "source": [
        "**Q1**\n",
        "\n",
        "- 위 결과로부터 데이터가 정상성을 가지는지 답하고, 비정상성을 가진다면 어떤 처리를 할 수 있는지 서술해주세요,<br><br>\n",
        "\n"
      ],
      "metadata": {
        "id": "1E_i5o-d3KPY"
      }
    },
    {
      "cell_type": "markdown",
      "source": [
        "\n",
        "**A1**<br><br>\n",
        "답:ADF 검정 결과, p-value가 유의수준(일반적으로 0.05)보다 크면 귀무가설을 기각하지 못하므로 데이터는 단위근을 가져 비정상성을 띤다고 판단합니다.\n",
        "\n",
        "이러한 비정상성은 데이터의 평균과 분산이 시간에 따라 변한다는 의미입니다. 이를 해결하기 위해 현재 시점의 데이터에서 이전 시점의 데이터를 빼주는 차분(differencing)을 적용하여 시계열의 추세를 제거하고 데이터를 안정화시킬 수 있습니다."
      ],
      "metadata": {
        "id": "EYlpBMGahiVU"
      }
    },
    {
      "cell_type": "code",
      "source": [
        "# 차분 진행\n",
        "df_diff = df.diff().dropna()\n",
        "\n",
        "# ADF 테스트 (차분 후)\n",
        "adf_result_diff = adfuller(df_diff[\"meantemp\"])\n",
        "adf_statistic_diff, p_value_diff = adf_result_diff[0], adf_result_diff[1]\n",
        "\n",
        "adf_statistic_diff, p_value_diff"
      ],
      "metadata": {
        "id": "b220-fCe2SKQ",
        "colab": {
          "base_uri": "https://localhost:8080/"
        },
        "outputId": "d04c0794-f6dc-4031-cfb3-c5a0d08ed462"
      },
      "execution_count": 4,
      "outputs": [
        {
          "output_type": "execute_result",
          "data": {
            "text/plain": [
              "(np.float64(-12.035797595562196), np.float64(2.8053213689778235e-22))"
            ]
          },
          "metadata": {},
          "execution_count": 4
        }
      ]
    },
    {
      "cell_type": "markdown",
      "source": [
        "### ARIMA 하이퍼 파라미터 결정"
      ],
      "metadata": {
        "id": "nxwU4AmbU_YC"
      }
    },
    {
      "cell_type": "markdown",
      "source": [
        "**Q2**\n",
        "\n",
        "- 아래 ACF와 PACF Plot으로부터 ARIMA의 하이퍼파라미터인 p와 q를 얼마로 설정해야할지 그 숫자와 근거를 적어주세요. 이후 변수를 선언해주세요.<br><br>\n",
        "\n",
        "**A2**<br>\n",
        "\n",
        "p: 1   \n",
        "<br>\n",
        "이유: ACF 플롯을 보면, lag 1에서 유의미한 양의 상관관계를 보인 후 급격하게 감소하여 신뢰 구간 안으로 들어갑니다. 이렇게 첫 번째 lag 이후 값이 절단되는 패턴은 MA(1) 모델의 특징입니다. 따라서 q는 1로 설정하는 것이 적절합니다.  \n",
        "<br><br>\n",
        "\n",
        "q: 1\n",
        "<br>\n",
        "이유:PACF 플롯 역시, lag 1에서 유의미한 양의 상관관계를 보인 후 급격하게 감소하여 신뢰 구간 안으로 들어갑니다. 이 패턴은 AR(1) 모델의 특징이므로, p는 1로 설정하는 것이 적절합니다."
      ],
      "metadata": {
        "id": "dY-bzSx2By4F"
      }
    },
    {
      "cell_type": "code",
      "source": [
        "# ACF와 PACF 플롯\n",
        "fig, axes = plt.subplots(1, 2, figsize=(12, 4))\n",
        "sm.graphics.tsa.plot_acf(df_diff[\"meantemp\"], lags=30, ax=axes[0])\n",
        "sm.graphics.tsa.plot_pacf(df_diff[\"meantemp\"], lags=30, ax=axes[1])\n",
        "\n",
        "plt.tight_layout()\n",
        "plt.show()\n"
      ],
      "metadata": {
        "id": "J65coWSX2SL1",
        "colab": {
          "base_uri": "https://localhost:8080/",
          "height": 276
        },
        "outputId": "f0874fdc-b429-4db0-ec00-1a09e6e250aa"
      },
      "execution_count": 5,
      "outputs": [
        {
          "output_type": "display_data",
          "data": {
            "text/plain": [
              "<Figure size 1200x400 with 2 Axes>"
            ],
            "image/png": "[encoded data removed]"
          },
          "metadata": {}
        }
      ]
    },
    {
      "cell_type": "code",
      "source": [
        "# 변수 선언\n",
        "\n",
        "p=\"1\"\n",
        "q=\"1\""
      ],
      "metadata": {
        "id": "3Faf8jFMXIgY"
      },
      "execution_count": 6,
      "outputs": []
    },
    {
      "cell_type": "markdown",
      "source": [
        "### ARIMA 학습"
      ],
      "metadata": {
        "id": "RhPYKMAhVFcG"
      }
    },
    {
      "cell_type": "code",
      "source": [
        "from statsmodels.tsa.arima.model import ARIMA\n",
        "\n",
        "model = ARIMA(df[\"meantemp\"], order=(int(p), 1, int(q)))\n",
        "model_fit = model.fit()\n",
        "\n",
        "# 예측 수행\n",
        "df[\"fitted\"] = model_fit.fittedvalues\n",
        "\n",
        "# 실제값과 예측값 시각화\n",
        "plt.figure(figsize=(12, 6))\n",
        "plt.plot(df[\"meantemp\"], label=\"Actual\", color=\"blue\")\n",
        "plt.plot(df[\"fitted\"], label=\"Fitted\", color=\"red\", linestyle=\"dashed\")\n",
        "plt.title(\"Actual vs Fitted Values (ARIMA)\")\n",
        "plt.legend()\n",
        "plt.show()"
      ],
      "metadata": {
        "id": "fYpPwPQi2SNY",
        "colab": {
          "base_uri": "https://localhost:8080/",
          "height": 574
        },
        "outputId": "e8a2cdc4-5dd9-4229-f122-ccbb39ec40e8"
      },
      "execution_count": 7,
      "outputs": [
        {
          "output_type": "stream",
          "name": "stderr",
          "text": [
            "/usr/local/lib/python3.12/dist-packages/statsmodels/tsa/base/tsa_model.py:473: ValueWarning: No frequency information was provided, so inferred frequency D will be used.\n",
            "  self._init_dates(dates, freq)\n",
            "/usr/local/lib/python3.12/dist-packages/statsmodels/tsa/base/tsa_model.py:473: ValueWarning: No frequency information was provided, so inferred frequency D will be used.\n",
            "  self._init_dates(dates, freq)\n",
            "/usr/local/lib/python3.12/dist-packages/statsmodels/tsa/base/tsa_model.py:473: ValueWarning: No frequency information was provided, so inferred frequency D will be used.\n",
            "  self._init_dates(dates, freq)\n"
          ]
        },
        {
          "output_type": "display_data",
          "data": {
            "text/plain": [
              "<Figure size 1200x600 with 1 Axes>"
            ],
            "image/png": "[encoded data removed]"
          },
          "metadata": {}
        }
      ]
    },
    {
      "cell_type": "code",
      "source": [
        "test_series = df_eval['meantemp'][:7]\n",
        "\n",
        "forecast_steps = 7\n",
        "forecast = model_fit.forecast(steps=forecast_steps)\n",
        "\n",
        "plt.figure(figsize=(12, 6))\n",
        "plt.plot(test_series.index, test_series, label=\"Actual\", linestyle=\"dashed\", marker=\"o\", color=\"blue\")\n",
        "plt.plot(test_series.index, forecast, label=\"Predicted\", marker=\"s\", color=\"red\")\n",
        "plt.fill_between(test_series.index, test_series, forecast, color=\"gray\", alpha=0.3, label=\"Error\")\n",
        "plt.title(\"ARIMA Forecast vs Actual (First 7 Days of df_eval)\")\n",
        "plt.xlabel(\"Date\")\n",
        "plt.ylabel(\"Temperature\")\n",
        "plt.legend()\n",
        "plt.grid()\n",
        "plt.show()"
      ],
      "metadata": {
        "id": "fAtYpTQtWs3l",
        "colab": {
          "base_uri": "https://localhost:8080/",
          "height": 451
        },
        "outputId": "93539e39-d0ec-4e42-d974-0bf7b670e7d0"
      },
      "execution_count": 8,
      "outputs": [
        {
          "output_type": "display_data",
          "data": {
            "text/plain": [
              "<Figure size 1200x600 with 1 Axes>"
            ],
            "image/png": "[encoded data removed]"
          },
          "metadata": {}
        }
      ]
    },
    {
      "cell_type": "markdown",
      "source": [
        "### AutoARIMA"
      ],
      "metadata": {
        "id": "N54OErDnU4Qa"
      }
    },
    {
      "cell_type": "markdown",
      "source": [
        "아래는 자동으로 p,d,q 값을 계산해주는 auto_arima를 사용한 코드입니다."
      ],
      "metadata": {
        "id": "Rl2j6RolXWl4"
      }
    },
    {
      "cell_type": "code",
      "source": [
        "!pip install pmdarima"
      ],
      "metadata": {
        "id": "_EL9qsNLBO1k",
        "colab": {
          "base_uri": "https://localhost:8080/"
        },
        "outputId": "f98e5a61-1b35-4d25-bd19-74a2f27dcdae"
      },
      "execution_count": 9,
      "outputs": [
        {
          "output_type": "stream",
          "name": "stdout",
          "text": [
            "Requirement already satisfied: pmdarima in /usr/local/lib/python3.12/dist-packages (2.0.4)\n",
            "Requirement already satisfied: joblib>=0.11 in /usr/local/lib/python3.12/dist-packages (from pmdarima) (1.5.1)\n",
            "Requirement already satisfied: Cython!=0.29.18,!=0.29.31,>=0.29 in /usr/local/lib/python3.12/dist-packages (from pmdarima) (3.0.12)\n",
            "Requirement already satisfied: numpy>=1.21.2 in /usr/local/lib/python3.12/dist-packages (from pmdarima) (2.0.2)\n",
            "Requirement already satisfied: pandas>=0.19 in /usr/local/lib/python3.12/dist-packages (from pmdarima) (2.2.2)\n",
            "Requirement already satisfied: scikit-learn>=0.22 in /usr/local/lib/python3.12/dist-packages (from pmdarima) (1.6.1)\n",
            "Requirement already satisfied: scipy>=1.3.2 in /usr/local/lib/python3.12/dist-packages (from pmdarima) (1.16.1)\n",
            "Requirement already satisfied: statsmodels>=0.13.2 in /usr/local/lib/python3.12/dist-packages (from pmdarima) (0.14.5)\n",
            "Requirement already satisfied: urllib3 in /usr/local/lib/python3.12/dist-packages (from pmdarima) (2.5.0)\n",
            "Requirement already satisfied: setuptools!=50.0.0,>=38.6.0 in /usr/local/lib/python3.12/dist-packages (from pmdarima) (75.2.0)\n",
            "Requirement already satisfied: packaging>=17.1 in /usr/local/lib/python3.12/dist-packages (from pmdarima) (25.0)\n",
            "Requirement already satisfied: python-dateutil>=2.8.2 in /usr/local/lib/python3.12/dist-packages (from pandas>=0.19->pmdarima) (2.9.0.post0)\n",
            "Requirement already satisfied: pytz>=2020.1 in /usr/local/lib/python3.12/dist-packages (from pandas>=0.19->pmdarima) (2025.2)\n",
            "Requirement already satisfied: tzdata>=2022.7 in /usr/local/lib/python3.12/dist-packages (from pandas>=0.19->pmdarima) (2025.2)\n",
            "Requirement already satisfied: threadpoolctl>=3.1.0 in /usr/local/lib/python3.12/dist-packages (from scikit-learn>=0.22->pmdarima) (3.6.0)\n",
            "Requirement already satisfied: patsy>=0.5.6 in /usr/local/lib/python3.12/dist-packages (from statsmodels>=0.13.2->pmdarima) (1.0.1)\n",
            "Requirement already satisfied: six>=1.5 in /usr/local/lib/python3.12/dist-packages (from python-dateutil>=2.8.2->pandas>=0.19->pmdarima) (1.17.0)\n"
          ]
        }
      ]
    },
    {
      "cell_type": "code",
      "source": [
        "import pandas as pd\n",
        "import numpy as np\n",
        "from statsmodels.tsa.arima.model import ARIMA\n",
        "import itertools\n",
        "import warnings\n",
        "\n",
        "warnings.filterwarnings(\"ignore\")\n",
        "\n",
        "data = df[\"meantemp\"]\n",
        "\n",
        "# 후보 범위\n",
        "p_range = range(0, 6)\n",
        "d_range = range(0, 3)\n",
        "q_range = range(0, 6)\n",
        "\n",
        "best_aic = np.inf\n",
        "best_order = None\n",
        "best_model = None\n",
        "\n",
        "print(\"Searching for optimal (p,d,q)...\")\n",
        "\n",
        "for p,d,q in itertools.product(p_range, d_range, q_range):\n",
        "    try:\n",
        "        model = ARIMA(data, order=(p,d,q))\n",
        "        fit = model.fit()\n",
        "        if fit.aic < best_aic:\n",
        "            best_aic = fit.aic\n",
        "            best_order = (p,d,q)\n",
        "            best_model = fit\n",
        "        print(f\"Tested ARIMA({p},{d},{q}) - AIC: {fit.aic}\")\n",
        "    except:\n",
        "        continue\n",
        "\n",
        "print(f\"\\nOptimal (p,d,q): {best_order}, AIC: {best_aic}\")\n",
        "\n",
        "# 최적 모델의 fitted 값 df에 추가\n",
        "df[\"fitted\"] = best_model.fittedvalues\n"
      ],
      "metadata": {
        "id": "32srZEj4BJRZ",
        "colab": {
          "base_uri": "https://localhost:8080/"
        },
        "outputId": "59371944-4a10-407f-92b3-1dac08fbb9c7"
      },
      "execution_count": 12,
      "outputs": [
        {
          "output_type": "stream",
          "name": "stdout",
          "text": [
            "Searching for optimal (p,d,q)...\n",
            "Tested ARIMA(0,0,0) - AIC: 748.3226195196617\n",
            "Tested ARIMA(0,0,1) - AIC: 635.9325089858683\n",
            "Tested ARIMA(0,0,2) - AIC: 580.2378363179264\n",
            "Tested ARIMA(0,0,3) - AIC: 538.7808571905755\n",
            "Tested ARIMA(0,0,4) - AIC: 514.7350028056633\n",
            "Tested ARIMA(0,0,5) - AIC: 505.9285772321729\n",
            "Tested ARIMA(0,1,0) - AIC: 441.2600773080422\n",
            "Tested ARIMA(0,1,1) - AIC: 441.5878423264652\n",
            "Tested ARIMA(0,1,2) - AIC: 443.5571765699425\n",
            "Tested ARIMA(0,1,3) - AIC: 445.5332738305505\n",
            "Tested ARIMA(0,1,4) - AIC: 444.7211969194537\n",
            "Tested ARIMA(0,1,5) - AIC: 446.39750169614865\n",
            "Tested ARIMA(0,2,0) - AIC: 527.65902993578\n",
            "Tested ARIMA(0,2,1) - AIC: 444.29855398875037\n",
            "Tested ARIMA(0,2,2) - AIC: 444.6668362218131\n",
            "Tested ARIMA(0,2,3) - AIC: 446.63803629809485\n",
            "Tested ARIMA(0,2,4) - AIC: 448.61247085667003\n",
            "Tested ARIMA(0,2,5) - AIC: 447.50639062582684\n",
            "Tested ARIMA(1,0,0) - AIC: 450.3976268317646\n",
            "Tested ARIMA(1,0,1) - AIC: 451.14835196666\n",
            "Tested ARIMA(1,0,2) - AIC: 453.0153772643007\n",
            "Tested ARIMA(1,0,3) - AIC: 455.00280098893023\n",
            "Tested ARIMA(1,0,4) - AIC: 454.8170633814416\n",
            "Tested ARIMA(1,0,5) - AIC: 456.60257604881707\n",
            "Tested ARIMA(1,1,0) - AIC: 441.5617938161894\n",
            "Tested ARIMA(1,1,1) - AIC: 443.56177364969136\n",
            "Tested ARIMA(1,1,2) - AIC: 445.55600123691937\n",
            "Tested ARIMA(1,1,3) - AIC: 447.55717152024107\n",
            "Tested ARIMA(1,1,4) - AIC: 446.18335810920837\n",
            "Tested ARIMA(1,1,5) - AIC: 448.24010972250807\n",
            "Tested ARIMA(1,2,0) - AIC: 488.4643099368491\n",
            "Tested ARIMA(1,2,1) - AIC: 444.64226321541105\n",
            "Tested ARIMA(1,2,2) - AIC: 446.64224904375635\n",
            "Tested ARIMA(1,2,3) - AIC: 448.38300738330133\n",
            "Tested ARIMA(1,2,4) - AIC: 450.3187742529162\n",
            "Tested ARIMA(1,2,5) - AIC: 452.2428343740503\n",
            "Tested ARIMA(2,0,0) - AIC: 451.090954082285\n",
            "Tested ARIMA(2,0,1) - AIC: 453.07996156324106\n",
            "Tested ARIMA(2,0,2) - AIC: 455.1340251546962\n",
            "Tested ARIMA(2,0,3) - AIC: 456.66453703047455\n",
            "Tested ARIMA(2,0,4) - AIC: 456.5080182597775\n",
            "Tested ARIMA(2,0,5) - AIC: 458.3928154440639\n",
            "Tested ARIMA(2,1,0) - AIC: 443.5617649478154\n",
            "Tested ARIMA(2,1,1) - AIC: 445.56177024340013\n",
            "Tested ARIMA(2,1,2) - AIC: 446.6041651528595\n",
            "Tested ARIMA(2,1,3) - AIC: 448.3731719117841\n",
            "Tested ARIMA(2,1,4) - AIC: 448.157237209836\n",
            "Tested ARIMA(2,1,5) - AIC: 450.1331911249473\n",
            "Tested ARIMA(2,2,0) - AIC: 473.58275987906876\n",
            "Tested ARIMA(2,2,1) - AIC: 446.64231472503775\n",
            "Tested ARIMA(2,2,2) - AIC: 448.3308693299317\n",
            "Tested ARIMA(2,2,3) - AIC: 445.0631209745052\n",
            "Tested ARIMA(2,2,4) - AIC: 446.84049666623537\n",
            "Tested ARIMA(2,2,5) - AIC: 451.27961773533684\n",
            "Tested ARIMA(3,0,0) - AIC: 453.07012900465367\n",
            "Tested ARIMA(3,0,1) - AIC: 455.0608908762881\n",
            "Tested ARIMA(3,0,2) - AIC: 452.40763081607565\n",
            "Tested ARIMA(3,0,3) - AIC: 458.2217414526802\n",
            "Tested ARIMA(3,0,4) - AIC: 458.4927598309333\n",
            "Tested ARIMA(3,0,5) - AIC: 460.3903282988163\n",
            "Tested ARIMA(3,1,0) - AIC: 445.492812320581\n",
            "Tested ARIMA(3,1,1) - AIC: 447.1419758743596\n",
            "Tested ARIMA(3,1,2) - AIC: 448.0558030699016\n",
            "Tested ARIMA(3,1,3) - AIC: 444.29089096748186\n",
            "Tested ARIMA(3,1,4) - AIC: 450.1033988896977\n",
            "Tested ARIMA(3,1,5) - AIC: 449.7288653200358\n",
            "Tested ARIMA(3,2,0) - AIC: 473.1674164693188\n",
            "Tested ARIMA(3,2,1) - AIC: 448.57371339075286\n",
            "Tested ARIMA(3,2,2) - AIC: 450.3259277223882\n",
            "Tested ARIMA(3,2,3) - AIC: 446.8555585326533\n",
            "Tested ARIMA(3,2,4) - AIC: 449.1653630117063\n",
            "Tested ARIMA(3,2,5) - AIC: 451.01874342471973\n",
            "Tested ARIMA(4,0,0) - AIC: 454.8884769885176\n",
            "Tested ARIMA(4,0,1) - AIC: 456.5135048237161\n",
            "Tested ARIMA(4,0,2) - AIC: 453.88495590243264\n",
            "Tested ARIMA(4,0,3) - AIC: 455.306605884032\n",
            "Tested ARIMA(4,0,4) - AIC: 460.51660213610216\n",
            "Tested ARIMA(4,0,5) - AIC: 460.41704315454507\n",
            "Tested ARIMA(4,1,0) - AIC: 445.24156015661424\n",
            "Tested ARIMA(4,1,1) - AIC: 446.02922918535825\n",
            "Tested ARIMA(4,1,2) - AIC: 448.02922719507086\n",
            "Tested ARIMA(4,1,3) - AIC: 449.93988347298927\n",
            "Tested ARIMA(4,1,4) - AIC: 446.7504164063289\n",
            "Tested ARIMA(4,1,5) - AIC: 450.80655601963423\n",
            "Tested ARIMA(4,2,0) - AIC: 471.4635204138952\n",
            "Tested ARIMA(4,2,1) - AIC: 448.2660562145119\n",
            "Tested ARIMA(4,2,2) - AIC: 452.2912274890857\n",
            "Tested ARIMA(4,2,3) - AIC: 451.22111789432915\n",
            "Tested ARIMA(4,2,4) - AIC: 450.9092425170398\n",
            "Tested ARIMA(4,2,5) - AIC: 452.45241668640585\n",
            "Tested ARIMA(5,0,0) - AIC: 455.0692201661468\n",
            "Tested ARIMA(5,0,1) - AIC: 456.2415905019129\n",
            "Tested ARIMA(5,0,2) - AIC: 456.63264592359036\n",
            "Tested ARIMA(5,0,3) - AIC: 460.2424498519158\n",
            "Tested ARIMA(5,0,4) - AIC: 455.7798904659108\n",
            "Tested ARIMA(5,0,5) - AIC: 460.95496978137476\n",
            "Tested ARIMA(5,1,0) - AIC: 446.2826985064323\n",
            "Tested ARIMA(5,1,1) - AIC: 448.02921403123963\n",
            "Tested ARIMA(5,1,2) - AIC: 449.8568757988369\n",
            "Tested ARIMA(5,1,3) - AIC: 450.56635979727923\n",
            "Tested ARIMA(5,1,4) - AIC: 449.1027350952137\n",
            "Tested ARIMA(5,1,5) - AIC: 451.9781301140025\n",
            "Tested ARIMA(5,2,0) - AIC: 468.51669627233105\n",
            "Tested ARIMA(5,2,1) - AIC: 449.23327103612627\n",
            "Tested ARIMA(5,2,2) - AIC: 451.31789294205396\n",
            "Tested ARIMA(5,2,3) - AIC: 453.5706919284585\n",
            "Tested ARIMA(5,2,4) - AIC: 449.43244460879515\n",
            "Tested ARIMA(5,2,5) - AIC: 451.6703525498002\n",
            "\n",
            "Optimal (p,d,q): (0, 1, 0), AIC: 441.2600773080422\n"
          ]
        }
      ]
    },
    {
      "cell_type": "code",
      "source": [
        "test_series = df_eval['meantemp'][:7]\n",
        "\n",
        "forecast_steps = 7\n",
        "forecast = model_fit.forecast(steps=forecast_steps)\n",
        "\n",
        "plt.figure(figsize=(12, 6))\n",
        "plt.plot(test_series.index, test_series, label=\"Actual\", linestyle=\"dashed\", marker=\"o\", color=\"blue\")\n",
        "plt.plot(test_series.index, forecast, label=\"Predicted\", marker=\"s\", color=\"red\")\n",
        "plt.fill_between(test_series.index, test_series, forecast, color=\"gray\", alpha=0.3, label=\"Error\")\n",
        "plt.title(\"ARIMA Forecast vs Actual (First 7 Days of df_eval)\")\n",
        "plt.xlabel(\"Date\")\n",
        "plt.ylabel(\"Temperature\")\n",
        "plt.legend()\n",
        "plt.grid()\n",
        "plt.show()"
      ],
      "metadata": {
        "id": "UZ-ifLfCW3HL",
        "colab": {
          "base_uri": "https://localhost:8080/",
          "height": 451
        },
        "outputId": "f4f6e6b1-0145-4990-f7cd-ffcba35d4a8a"
      },
      "execution_count": 13,
      "outputs": [
        {
          "output_type": "display_data",
          "data": {
            "text/plain": [
              "<Figure size 1200x600 with 1 Axes>"
            ],
            "image/png": "[encoded data removed]"
          },
          "metadata": {}
        }
      ]
    },
    {
      "cell_type": "markdown",
      "source": [
        "\n",
        "\n",
        "---\n",
        "\n"
      ],
      "metadata": {
        "id": "57MajOpDhVkK"
      }
    },
    {
      "cell_type": "markdown",
      "source": [
        "## 💻 실습2 Dlinear"
      ],
      "metadata": {
        "id": "fFqfhB35ID3i"
      }
    },
    {
      "cell_type": "code",
      "source": [
        "import pandas as pd\n",
        "\n",
        "# 데이터 로드\n",
        "train_df = pd.read_csv('./Time_Series_hw_data_test.csv')\n",
        "test_df = pd.read_csv('./Time_Series_hw_data_train.csv')\n",
        "\n",
        "# 날짜 컬럼을 제외한 데이터만 사용\n",
        "train_df['date'] = pd.to_datetime(train_df['date'])\n",
        "test_df['date'] = pd.to_datetime(test_df['date'])\n",
        "train_df.set_index('date', inplace=True)\n",
        "test_df.set_index('date', inplace=True)\n",
        "\n",
        "features = ['meantemp', 'humidity', 'wind_speed', 'meanpressure']\n",
        "train_values = train_df[features].values.astype(np.float32)\n",
        "test_values = test_df[features].values.astype(np.float32)"
      ],
      "metadata": {
        "id": "jA3grBioYpqt"
      },
      "execution_count": 14,
      "outputs": []
    },
    {
      "cell_type": "markdown",
      "source": [
        "**Q3**\n",
        "\n",
        "- 30일간의 날씨 데이터를 이용해 7일 동안의 온도, 습도, 풍속, 대기압을 예측하고자 합니다. 아래 코드의 빈칸을 채워주세요. <br><br>\n"
      ],
      "metadata": {
        "id": "yHkhu1abJtWB"
      }
    },
    {
      "cell_type": "code",
      "source": [
        "import pandas as pd\n",
        "import numpy as np\n",
        "import torch\n",
        "import torch.nn as nn\n",
        "import torch.optim as optim\n",
        "import matplotlib.pyplot as plt\n",
        "from sklearn.preprocessing import MinMaxScaler\n",
        "from torch.utils.data import Dataset, DataLoader\n",
        "\n",
        "# Sliding Window 전처리\n",
        "def create_sequences(data, seq_len, pred_len):\n",
        "    X, y = [], []\n",
        "    for i in range(len(data) - seq_len - pred_len):\n",
        "        X.append(data[i:i+seq_len]) # 빈칸을 채워주세요\n",
        "        y.append(data[i+seq_len:i+seq_len+pred_len])  # 빈칸을 채워주세요\n",
        "    return np.array(X), np.array(y)\n",
        "\n",
        "\n",
        "seq_len = 30 # 빈칸을 채워주세요(예측을 위해 사용할 time step 수)\n",
        "pred_len = 7 # 빈칸을 채워주세요(실제 예측할 time step 수)\n",
        "X_train, y_train = create_sequences(train_values, seq_len, pred_len)\n",
        "\n",
        "\n",
        "# PyTorch Dataset 정의\n",
        "class TimeSeriesDataset(Dataset):\n",
        "    def __init__(self, X, y):\n",
        "        self.X = torch.tensor(X, dtype=torch.float32)\n",
        "        self.y = torch.tensor(y, dtype=torch.float32)\n",
        "\n",
        "    def __len__(self):\n",
        "        return len(self.X)\n",
        "\n",
        "    def __getitem__(self, idx):\n",
        "        return self.X[idx], self.y[idx]\n",
        "\n",
        "X_train_tensor = torch.tensor(X_train, dtype=torch.float32)\n",
        "y_train_tensor = torch.tensor(y_train, dtype=torch.float32)\n",
        "\n",
        "train_dataset = TimeSeriesDataset(X_train_tensor, y_train_tensor)\n",
        "train_loader = DataLoader(train_dataset, batch_size=16, shuffle=True)"
      ],
      "metadata": {
        "id": "DzjSAbGJIHUK"
      },
      "execution_count": 19,
      "outputs": []
    },
    {
      "cell_type": "code",
      "source": [
        "import torch\n",
        "import torch.nn as nn\n",
        "import torch.nn.functional as F\n",
        "import numpy as np\n",
        "\n",
        "# Dlinear 모델 선언\n",
        "\n",
        "# 이동 평균을 이용한 추세 추출\n",
        "class moving_avg(nn.Module):\n",
        "\n",
        "    def __init__(self, kernel_size, stride):\n",
        "        super(moving_avg, self).__init__()\n",
        "        self.kernel_size = kernel_size # Kernel: 이동 평균을 계산하기 위한 시간대의 길이\n",
        "        self.avg = nn.AvgPool1d(kernel_size=kernel_size, stride=stride, padding=0)\n",
        "\n",
        "    def forward(self, x):\n",
        "        # padding on the both ends of time series\n",
        "        front = x[:, 0:1, :].repeat(1, (self.kernel_size - 1) // 2, 1)\n",
        "        end = x[:, -1:, :].repeat(1, (self.kernel_size - 1) // 2, 1)\n",
        "        x = torch.cat([front, x, end], dim=1)\n",
        "        x = self.avg(x.permute(0, 2, 1))\n",
        "        x = x.permute(0, 2, 1)\n",
        "        return x\n",
        "\n",
        "# 시계열 분해\n",
        "class series_decomp(nn.Module):\n",
        "    \"\"\"\n",
        "    Series decomposition block\n",
        "    \"\"\"\n",
        "    def __init__(self, kernel_size):\n",
        "        super(series_decomp, self).__init__()\n",
        "        self.moving_avg = moving_avg(kernel_size, stride=1)\n",
        "\n",
        "    def forward(self, x):\n",
        "        moving_mean = self.moving_avg(x)\n",
        "        res = x - moving_mean # 데이터에서 추세를 빼면 계절성 부분만 남음\n",
        "        return res, moving_mean\n",
        "\n",
        "# 모델\n",
        "class Model(nn.Module):\n",
        "    def __init__(self, configs):\n",
        "        super(Model, self).__init__()\n",
        "        self.seq_len = configs['seq_len']\n",
        "        self.pred_len = configs['pred_len']\n",
        "        self.individual = configs['individual'] # 특성마다 다른 선형 회귀를 적용할지 여부\n",
        "        self.channels = configs['enc_in'] # 입력 및 출력되는 특성 수\n",
        "\n",
        "        # Decomposition Kernel Size\n",
        "        kernel_size = configs['kernel_size'] # Kernel: 이동 평균을 계산하기 위한 시간대의 길이\n",
        "        self.decompsition = series_decomp(kernel_size)\n",
        "\n",
        "        if self.individual:\n",
        "            self.Linear_Seasonal = nn.ModuleList()\n",
        "            self.Linear_Trend = nn.ModuleList()\n",
        "\n",
        "            for i in range(self.channels):\n",
        "                self.Linear_Seasonal.append(nn.Linear(self.seq_len, self.pred_len))\n",
        "                self.Linear_Trend.append(nn.Linear(self.seq_len, self.pred_len))\n",
        "        else:\n",
        "            self.Linear_Seasonal = nn.Linear(self.seq_len, self.pred_len)\n",
        "            self.Linear_Trend = nn.Linear(self.seq_len, self.pred_len)\n",
        "\n",
        "    def forward(self, x):\n",
        "        seasonal_init, trend_init = self.decompsition(x)\n",
        "        seasonal_init, trend_init = seasonal_init.permute(0, 2, 1), trend_init.permute(0, 2, 1)\n",
        "\n",
        "        if self.individual:\n",
        "            seasonal_output = torch.zeros([seasonal_init.size(0), seasonal_init.size(1), self.pred_len], dtype=seasonal_init.dtype).to(seasonal_init.device)\n",
        "            trend_output = torch.zeros([trend_init.size(0), trend_init.size(1), self.pred_len], dtype=trend_init.dtype).to(trend_init.device)\n",
        "\n",
        "            for i in range(self.channels):\n",
        "                seasonal_output[:, i, :] = self.Linear_Seasonal[i](seasonal_init[:, i, :])\n",
        "                trend_output[:, i, :] = self.Linear_Trend[i](trend_init[:, i, :])\n",
        "        else:\n",
        "            seasonal_output = self.Linear_Seasonal(seasonal_init)\n",
        "            trend_output = self.Linear_Trend(trend_init)\n",
        "\n",
        "        x = seasonal_output + trend_output\n",
        "        return x.permute(0, 2, 1)"
      ],
      "metadata": {
        "id": "MOPA5henIHpc"
      },
      "execution_count": 20,
      "outputs": []
    },
    {
      "cell_type": "markdown",
      "source": [
        "**Q4**\n",
        "\n",
        "- Dlinear 모델은 kernel, learning rate, individual, epoch 등 여러 하이퍼 파라미터가 존재합니다. 위의 하이퍼 파라미터를 직접 조정하시면서 평균 에러가 가장 낮게 나온 값을 작성해주세요. 마지막으로 ARIMA와 비교하여 어느 모델의 정확도가 더 높은 것 같은지 적어주세요.<br><br>\n",
        "\n",
        "**A4**<br><br>\n",
        "Kernel:  25\n",
        "<br>\n",
        "learning rate: 0.001\n",
        "<br>\n",
        "individual:  False\n",
        "<br>\n",
        "epoch: 20\n",
        "<br><br>\n",
        "정확도가 더 높은 모델: Dlinear"
      ],
      "metadata": {
        "id": "LaG18ZK_S7Cm"
      }
    },
    {
      "cell_type": "code",
      "source": [
        "# Kernel과 individual의 경우 configs 값을 조정해주세요\n",
        "\n",
        "configs = {\n",
        "    'seq_len': seq_len,\n",
        "    'pred_len': pred_len,\n",
        "    'individual': False,\n",
        "    'enc_in': len(features),  # 모든 특성 사용\n",
        "    'kernel_size': 25\n",
        "}\n",
        "model = Model(configs)\n",
        "optimizer = optim.Adam(model.parameters(), lr=0.001) # learning rate 조절\n",
        "loss_fn = nn.MSELoss()\n",
        "\n",
        "# 모델 학습\n",
        "num_epochs = 20 # epoch 조절\n",
        "for epoch in range(num_epochs):\n",
        "    model.train()\n",
        "    total_loss = 0\n",
        "    for batch_X, batch_y in train_loader:\n",
        "        optimizer.zero_grad()\n",
        "        output = model(batch_X)\n",
        "        loss = loss_fn(output, batch_y)\n",
        "        loss.backward()\n",
        "        optimizer.step()\n",
        "        total_loss += loss.item()\n",
        "    print(f\"Epoch {epoch+1}/{num_epochs}, Loss: {total_loss/len(train_loader):.4f}\")\n"
      ],
      "metadata": {
        "id": "yWBh09I-IHta",
        "colab": {
          "base_uri": "https://localhost:8080/"
        },
        "outputId": "e152703d-2f5e-414b-c5c7-8128a08222a7"
      },
      "execution_count": 42,
      "outputs": [
        {
          "output_type": "stream",
          "name": "stdout",
          "text": [
            "Epoch 1/20, Loss: 336314.4625\n",
            "Epoch 2/20, Loss: 260017.7000\n",
            "Epoch 3/20, Loss: 196408.6437\n",
            "Epoch 4/20, Loss: 145332.3125\n",
            "Epoch 5/20, Loss: 105881.1609\n",
            "Epoch 6/20, Loss: 76375.6172\n",
            "Epoch 7/20, Loss: 54830.2242\n",
            "Epoch 8/20, Loss: 39281.2547\n",
            "Epoch 9/20, Loss: 28076.0559\n",
            "Epoch 10/20, Loss: 20013.0945\n",
            "Epoch 11/20, Loss: 14183.1525\n",
            "Epoch 12/20, Loss: 9956.4254\n",
            "Epoch 13/20, Loss: 6904.4452\n",
            "Epoch 14/20, Loss: 4709.9832\n",
            "Epoch 15/20, Loss: 3152.6711\n",
            "Epoch 16/20, Loss: 2073.0683\n",
            "Epoch 17/20, Loss: 1345.4093\n",
            "Epoch 18/20, Loss: 866.3787\n",
            "Epoch 19/20, Loss: 559.2651\n",
            "Epoch 20/20, Loss: 365.5606\n"
          ]
        }
      ]
    },
    {
      "cell_type": "code",
      "source": [
        "model.eval()\n",
        "last_30_days = torch.tensor(train_values[-30:], dtype=torch.float32).unsqueeze(0)\n",
        "with torch.no_grad():\n",
        "    predictions = model(last_30_days).squeeze().numpy()\n",
        "\n",
        "# 실제값 (온도만)\n",
        "actuals = test_values[:7, 0]\n",
        "\n",
        "# 예측값에서 온도만 선택\n",
        "predictions_temp = predictions[:, 0]\n",
        "\n",
        "# 차이 계산\n",
        "error = actuals - predictions_temp\n",
        "\n",
        "print(f\"평균 에러: {error.mean()}\")\n",
        "\n",
        "# 시각화\n",
        "plt.figure(figsize=(12, 6))\n",
        "plt.plot(range(7), actuals, label='Actual', linestyle='dashed')\n",
        "plt.plot(range(7), predictions_temp, label='Predicted')\n",
        "plt.fill_between(range(7), actuals, predictions_temp, color='gray', alpha=0.3, label='Error')\n",
        "plt.title('Actual vs Predicted Temperature (First 7 Days of Test)')\n",
        "plt.xlabel('Days')\n",
        "plt.ylabel('Temperature')\n",
        "plt.legend()\n",
        "plt.show()"
      ],
      "metadata": {
        "id": "L_zSnzklZ8ND",
        "colab": {
          "base_uri": "https://localhost:8080/",
          "height": 469
        },
        "outputId": "bc2fd5a7-7b6f-419b-9833-4f2512b074a3"
      },
      "execution_count": 43,
      "outputs": [
        {
          "output_type": "stream",
          "name": "stdout",
          "text": [
            "평균 에러: -22.44002914428711\n"
          ]
        },
        {
          "output_type": "display_data",
          "data": {
            "text/plain": [
              "<Figure size 1200x600 with 1 Axes>"
            ],
            "image/png": "[encoded data removed]"
          },
          "metadata": {}
        }
      ]
    }
  ]
}