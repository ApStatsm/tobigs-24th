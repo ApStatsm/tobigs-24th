{
  "cells": [
    {
      "cell_type": "markdown",
      "metadata": {
        "id": "_xOAfB-GiaZh"
      },
      "source": [
        "# Tobigs 24기 2주차 정규세션 Ensemble 과제"
      ]
    },
    {
      "cell_type": "markdown",
      "metadata": {
        "id": "5hxzIrdRihjn"
      },
      "source": [
        "# 과제1. High variance/bias"
      ]
    },
    {
      "cell_type": "markdown",
      "metadata": {
        "id": "liNjHb33irML"
      },
      "source": [
        "## Q1. High variance의 정의 및 문제점에 대해 설명해주세요."
      ]
    },
    {
      "cell_type": "markdown",
      "metadata": {
        "id": "zLMnK6tLnIdD"
      },
      "source": []
    },
    {
      "cell_type": "markdown",
      "metadata": {
        "id": "bivDB4kEnK-P"
      },
      "source": [
        "## Q2. High bias의 정의 및 문제점에 대해 설명해주세요."
      ]
    },
    {
      "cell_type": "markdown",
      "metadata": {
        "id": "h5JAKP30nOOP"
      },
      "source": []
    },
    {
      "cell_type": "markdown",
      "metadata": {
        "id": "a-WnTREZnW6x"
      },
      "source": [
        "## Q3. High variance 와 high bias를 다룰때 적합한 ensemble 방식과 그 이유를 적어주세요."
      ]
    },
    {
      "cell_type": "markdown",
      "metadata": {
        "id": "tmcHEXvvpQeZ"
      },
      "source": []
    },
    {
      "cell_type": "markdown",
      "metadata": {
        "id": "SQxmuuhJtMnR"
      },
      "source": [
        "# 과제2. Ensemble 실습"
      ]
    },
    {
      "cell_type": "markdown",
      "metadata": {
        "id": "BRjU5wonvHe-"
      },
      "source": [
        "데이터 출처: https://www.kaggle.com/sakshigoyal7/credit-card-customers"
      ]
    },
    {
      "cell_type": "markdown",
      "metadata": {
        "id": "AwPHTl6BtjH1"
      },
      "source": [
        "## 목표 : 은행 신용 카드 서비스 이탈 고객 예측 모델\n",
        "### 칼럼 설명\n",
        "```\n",
        "[features]\n",
        " - Customer_Age : 고객의 나이\n",
        " - Gender : 성별 (M=Male, F=Female)\n",
        " - Dependent_count : 부양하는 가족의 수\n",
        " - Education_Level : 고객의 최종 학력 (example: high school, college graduate, etc.)\n",
        " - Marital_Status : 결혼 상태 (Married, Single, Divorced, Unknown)\n",
        " - Income_Category : 소득 범주 (< $40K, $40K - 60K, $60K - $80K, $80K-$120K, etc.)\n",
        " - Card_Category : 카드 종류 (Blue, Silver, Gold, Platinum)\n",
        " - Months_on_book : 은행과의 관계 기간 (개월 수)\n",
        " - Total_Relationship_Count : 고객이 보유한 전체 제품 수\n",
        " - Months_Inactive_12_mon : 최근 12개월 동안 비활성화된 개월 수\n",
        " - Contacts_Count_12_mon : 최근 12개월 동안의 연락 횟수\n",
        " - Credit_Limit : 신용 카드의 신용 한도\n",
        " - Total_Revolving_Bal : 신용 카드의 총 회전 잔액\n",
        " - Avg_Open_To_Buy : 구매 가능 신용 한도 (최근 12개월 평균)\n",
        " - Total_Amt_Chng_Q4_Q1 : 거래 금액 변화율 (4분기 대비 1분기)\n",
        " - Total_Trans_Amt :  총 거래 금액 (지난 12개월)\n",
        " - Total_Trans_Ct : 총 거래 횟수 (지난 12개월)\n",
        " - Total_Ct_Chng_Q4_Q1 : 거래 횟수 변화율 (4분기 대비 1분기)\n",
        " - Avg_Utilization_Ratio : 평균 카드 이용 비율\n",
        "\n",
        "[target]\n",
        " - Attrition_Flag : 고객 활동 변수 / Existing Customer - 0, Attrited Customer - 1\n",
        "\n",
        "```\n"
      ]
    },
    {
      "cell_type": "markdown",
      "metadata": {
        "id": "visiNol_-5tR"
      },
      "source": [
        "### 데이터 불러오기"
      ]
    },
    {
      "cell_type": "code",
      "execution_count": null,
      "metadata": {
        "colab": {
          "base_uri": "https://localhost:8080/"
        },
        "id": "gwiB0Kht-5tR",
        "outputId": "097cc196-80f8-4d56-b8cd-af6f10fb7304"
      },
      "outputs": [],
      "source": [
        "!pip install kagglehub"
      ]
    },
    {
      "cell_type": "code",
      "execution_count": null,
      "metadata": {
        "colab": {
          "base_uri": "https://localhost:8080/",
          "height": 311
        },
        "id": "Gx9IZolp-5tR",
        "outputId": "ec59b6ca-f27e-4af3-b4bb-0547104d4a9c"
      },
      "outputs": [],
      "source": [
        "import kagglehub\n",
        "import pandas as pd\n",
        "import os\n",
        "\n",
        "path = kagglehub.dataset_download(\"sakshigoyal7/credit-card-customers\")\n",
        "\n",
        "print(\"Path to dataset files:\", path)\n",
        "\n",
        "# kagglehub로 받은 경로에서 csv 파일 경로 찾기\n",
        "csv_path = os.path.join(path, \"BankChurners.csv\")\n",
        "\n",
        "# 데이터 불러오기\n",
        "df = pd.read_csv(csv_path)\n",
        "\n",
        "# Feature 21 & 22의 경우 데이터 셋에서 삭제하는 것을 추천하는 문구 발견, 삭제\n",
        "print(len(df.columns))\n",
        "df.drop(df.columns[[21, 22]], axis = 1, inplace = True) # inplace = True 데이터 원본에서 처리 not copy\n",
        "print(len(df.columns))\n",
        "\n",
        "# 데이터 확인\n",
        "df.head()"
      ]
    },
    {
      "cell_type": "code",
      "execution_count": null,
      "metadata": {
        "colab": {
          "base_uri": "https://localhost:8080/"
        },
        "id": "dK41AVUos-2d",
        "outputId": "6011426d-e422-44fb-e010-3f0e5bd5042d"
      },
      "outputs": [],
      "source": [
        "df.info()"
      ]
    },
    {
      "cell_type": "markdown",
      "metadata": {
        "id": "_u9ONzkNw_-p"
      },
      "source": [
        "## EDA & Preprocessing"
      ]
    },
    {
      "cell_type": "code",
      "execution_count": 4,
      "metadata": {
        "id": "GHZ1VnE9SDe-"
      },
      "outputs": [],
      "source": [
        "from sklearn.preprocessing import LabelEncoder\n",
        "import matplotlib.pyplot as plt\n",
        "import numpy as np\n",
        "from sklearn.model_selection import train_test_split, cross_val_score\n",
        "from sklearn.tree import DecisionTreeClassifier\n",
        "from sklearn.ensemble import AdaBoostClassifier\n",
        "from sklearn.ensemble import RandomForestClassifier, RandomForestRegressor\n",
        "from sklearn.ensemble import GradientBoostingClassifier\n",
        "from sklearn.metrics import accuracy_score"
      ]
    },
    {
      "cell_type": "markdown",
      "metadata": {
        "id": "0zBRGTXhBBhD"
      },
      "source": [
        "### 결측치 확인"
      ]
    },
    {
      "cell_type": "code",
      "execution_count": null,
      "metadata": {
        "colab": {
          "base_uri": "https://localhost:8080/",
          "height": 743
        },
        "id": "0INxTcI_4cfd",
        "outputId": "6c2cd35a-ade6-41d3-d978-85b00d7c1590"
      },
      "outputs": [],
      "source": [
        "df.isna().sum()"
      ]
    },
    {
      "cell_type": "markdown",
      "metadata": {
        "id": "XYwCnlDMSe_H"
      },
      "source": [
        "### 범주형 데이터 확인 + Unknown 처리"
      ]
    },
    {
      "cell_type": "code",
      "execution_count": null,
      "metadata": {
        "colab": {
          "base_uri": "https://localhost:8080/"
        },
        "id": "lU07NblfSfK1",
        "outputId": "145fec73-1ba1-4fb9-cd95-c7574e192c6d"
      },
      "outputs": [],
      "source": [
        "categorical_columns = df.select_dtypes(include=['object']).columns\n",
        "\n",
        "# Printing unique values for each categorical column\n",
        "for column in categorical_columns:\n",
        "    unique_values = df[column].unique()\n",
        "    print(f\"Column: {column}\")\n",
        "    print(f\"Unique Values: {unique_values}\\n\")"
      ]
    },
    {
      "cell_type": "code",
      "execution_count": null,
      "metadata": {
        "colab": {
          "base_uri": "https://localhost:8080/",
          "height": 1000
        },
        "id": "VK0OHINOTDH9",
        "outputId": "3889db00-c646-4ad2-ea8f-117e5bdb6233"
      },
      "outputs": [],
      "source": [
        "for column in categorical_columns:\n",
        "    plt.figure(figsize=(10, 6))\n",
        "    df[column].value_counts().plot(kind='bar')\n",
        "    plt.title(f\"Histogram of {column}\")\n",
        "    plt.xlabel(f\"Unique values in {column}\")\n",
        "    plt.ylabel(\"Frequency\")\n",
        "    plt.xticks(rotation=45, ha='right')\n",
        "    plt.show()"
      ]
    },
    {
      "cell_type": "markdown",
      "metadata": {
        "id": "Tkxuuiw54Dkl"
      },
      "source": [
        "EDA 결과 Unknown값이 존재, 해당 비율이 적지 않으므로 제거하기보다는 대체"
      ]
    },
    {
      "cell_type": "code",
      "execution_count": null,
      "metadata": {
        "colab": {
          "base_uri": "https://localhost:8080/",
          "height": 256
        },
        "id": "OoA3UjlvtZcp",
        "outputId": "0ccd65e5-c2f7-4497-c091-1f032e1e4be2"
      },
      "outputs": [],
      "source": [
        "def replace_unknowns(df):\n",
        "    df_encoded = df.copy()\n",
        "\n",
        "    # 범주형 변수를 인코딩하기 위해 LabelEncoder를 적용\n",
        "    label_encoders = {}\n",
        "    for column in df_encoded.columns:\n",
        "        if df_encoded[column].dtype == 'object' and df_encoded[column].nunique() < 20:\n",
        "            le = LabelEncoder()\n",
        "            df_encoded[column] = le.fit_transform(df_encoded[column].astype(str))\n",
        "            label_encoders[column] = le\n",
        "\n",
        "    for target_column in df.columns:\n",
        "        # Unknown 값이 있는 행과 없는 행을 구분\n",
        "        unknown_mask = df[target_column] == 'Unknown'\n",
        "        known_mask = ~unknown_mask\n",
        "\n",
        "        # Unknown 값이 없다면 해당 열을 건너뜀\n",
        "        if unknown_mask.sum() == 0:\n",
        "            continue\n",
        "\n",
        "        # target 변수에 따라 회귀나 분류 모델 선택\n",
        "        if df[target_column].dtype == 'object' or df[target_column].nunique() < 20:\n",
        "            model = RandomForestClassifier()\n",
        "        else:\n",
        "            model = RandomForestRegressor()\n",
        "\n",
        "        # Unknown이 아닌 값으로 모델 훈련\n",
        "        X = df_encoded.loc[known_mask].drop(columns=[target_column])\n",
        "        y = df_encoded.loc[known_mask, target_column]\n",
        "        model.fit(X, y)\n",
        "\n",
        "        # Unknown 값 예측\n",
        "        X_unknown = df_encoded.loc[unknown_mask].drop(columns=[target_column])\n",
        "        predictions = model.predict(X_unknown)\n",
        "\n",
        "        # 예측된 값으로 Unknown 대체 (범주형인 경우 역변환)\n",
        "        if target_column in label_encoders:\n",
        "            predictions = label_encoders[target_column].inverse_transform(predictions)\n",
        "        df.loc[unknown_mask, target_column] = predictions\n",
        "\n",
        "    return df\n",
        "\n",
        "\n",
        "# 'Unknown' 값을 대체\n",
        "df_filled = replace_unknowns(df)\n",
        "\n",
        "df_filled.head()"
      ]
    },
    {
      "cell_type": "markdown",
      "metadata": {
        "id": "GnfVH14W4QoL"
      },
      "source": [
        "다른 열과의 관계를 고려하여 Unkonwn값을 예측하는 방식으로 처리(RF모델 이용)"
      ]
    },
    {
      "cell_type": "code",
      "execution_count": null,
      "metadata": {
        "colab": {
          "base_uri": "https://localhost:8080/",
          "height": 1000
        },
        "id": "QH6RHViLuM5a",
        "outputId": "33c75100-e6ae-4466-b26f-54aaa90877c8"
      },
      "outputs": [],
      "source": [
        "categorical_columns = df_filled.select_dtypes(include=['object']).columns\n",
        "\n",
        "for column in categorical_columns:\n",
        "    plt.figure(figsize=(10, 6))\n",
        "    df[column].value_counts().plot(kind='bar')\n",
        "    plt.title(f\"Histogram of {column}\")\n",
        "    plt.xlabel(f\"Unique values in {column}\")\n",
        "    plt.ylabel(\"Frequency\")\n",
        "    plt.xticks(rotation=45, ha='right')\n",
        "    plt.show()"
      ]
    },
    {
      "cell_type": "markdown",
      "metadata": {
        "id": "jwWr0PeBRtMk"
      },
      "source": [
        "### Label encoding"
      ]
    },
    {
      "cell_type": "code",
      "execution_count": null,
      "metadata": {
        "colab": {
          "base_uri": "https://localhost:8080/",
          "height": 256
        },
        "id": "XUr3ulkrRxE2",
        "outputId": "b94cbb19-33ed-48fd-9898-32ec8cd9f477"
      },
      "outputs": [],
      "source": [
        "def get_ordered_mappings(df):\n",
        "    mappings = {\n",
        "        'Education_Level': {\n",
        "            'Uneducated': 0,\n",
        "            'High School': 1,\n",
        "            'College': 2,\n",
        "            'Graduate': 3,\n",
        "            'Post-Graduate': 4,\n",
        "            'Doctorate': 5\n",
        "        },\n",
        "        'Income_Category': {\n",
        "            'Less than $40K': 0,\n",
        "            '$40K - $60K': 1,\n",
        "            '$60K - $80K': 2,\n",
        "            '$80K - $120K': 3,\n",
        "            '$120K +': 4\n",
        "        },\n",
        "        'Card_Category': {\n",
        "            'Blue': 0,\n",
        "            'Silver': 1,\n",
        "            'Gold': 2,\n",
        "            'Platinum': 3\n",
        "        },\n",
        "        # Custom mapping for customer status\n",
        "        'Attrition_Flag': {\n",
        "            'Existing Customer': 0,\n",
        "            'Attrited Customer': 1\n",
        "        }\n",
        "        # 필요한 다른 순서형 변수들을 여기에 추가\n",
        "    }\n",
        "    return mappings\n",
        "\n",
        "def label_encode_with_order(df):\n",
        "    mappings = get_ordered_mappings(df)\n",
        "\n",
        "    # 순서형 변수에 대해 수동으로 인코딩\n",
        "    for column, mapping in mappings.items():\n",
        "        if column in df.columns:\n",
        "            df[column] = df[column].map(mapping)\n",
        "\n",
        "    # 나머지 범주형 변수에 대해 자동 Label Encoding\n",
        "    for column in df.select_dtypes(include=['object']).columns:\n",
        "        if column not in mappings:\n",
        "            df[column] = pd.Categorical(df[column]).codes\n",
        "\n",
        "    return df\n",
        "\n",
        "\n",
        "df_encoded = label_encode_with_order(df_filled)\n",
        "\n",
        "df_encoded.head()"
      ]
    },
    {
      "cell_type": "markdown",
      "metadata": {
        "id": "tEW3bou2uevh"
      },
      "source": [
        "### outlier 처리"
      ]
    },
    {
      "cell_type": "code",
      "execution_count": null,
      "metadata": {
        "colab": {
          "base_uri": "https://localhost:8080/",
          "height": 583
        },
        "id": "F8hwa45KASkf",
        "outputId": "32ec0601-b1e5-4cd2-f769-cc512d5c9bce"
      },
      "outputs": [],
      "source": [
        "import seaborn as sns\n",
        "\n",
        "# Boxplot을 사용하여 각 수치형 변수에 대한 이상치 분석\n",
        "plt.figure(figsize=(15, 10))\n",
        "\n",
        "# 각 변수에 대해 boxplot 생성\n",
        "for i, column in enumerate(df_encoded.columns, 1):\n",
        "    plt.subplot(len(df_encoded.columns) // 3 + 1, 3, i)\n",
        "    sns.boxplot(data=df_encoded, y=column)\n",
        "    plt.title(f'Boxplot of {column}')\n",
        "    plt.tight_layout()\n",
        "\n",
        "plt.show()"
      ]
    },
    {
      "cell_type": "code",
      "execution_count": null,
      "metadata": {
        "colab": {
          "base_uri": "https://localhost:8080/"
        },
        "id": "-j4OeHZ3BP4k",
        "outputId": "15ffa7b1-fe7b-4d3d-9902-6880b95c5a56"
      },
      "outputs": [],
      "source": [
        "def remove_outliers(df, columns):\n",
        "    df_cleaned = df.copy()\n",
        "\n",
        "    for col in columns:\n",
        "        if df[col].dtype in [np.float64, np.int64]:  # 해당 열이 수치형 데이터인지 확인\n",
        "            Q1 = df[col].quantile(0.25)\n",
        "            Q3 = df[col].quantile(0.75)\n",
        "            IQR = Q3 - Q1\n",
        "            lower_bound = Q1 - 1.5 * IQR\n",
        "            upper_bound = Q3 + 1.5 * IQR\n",
        "\n",
        "            # 이상치가 아닌 데이터만 선택하여 해당 열에 대해 갱신\n",
        "            df_cleaned = df_cleaned[(df_cleaned[col] >= lower_bound) & (df_cleaned[col] <= upper_bound)]\n",
        "\n",
        "    # 인덱스 재설정\n",
        "    df_cleaned.reset_index(drop=True, inplace=True)\n",
        "    return df_cleaned\n",
        "\n",
        "# 이상치 제거를 원하는 열 선택\n",
        "columns_to_clean = ['Total_Trans_Amt', 'Avg_Open_To_Buy']\n",
        "\n",
        "# 선택한 열에 대해 이상치 제거 후 데이터 프레임 반환\n",
        "cleaned_df = remove_outliers(df_encoded, columns_to_clean)\n",
        "\n",
        "# 결과 확인\n",
        "print(df_encoded.shape, cleaned_df.shape)"
      ]
    },
    {
      "cell_type": "code",
      "execution_count": null,
      "metadata": {
        "colab": {
          "base_uri": "https://localhost:8080/",
          "height": 256
        },
        "id": "B4sRRlkNF3MV",
        "outputId": "036dd0c9-1c7b-4b8d-988c-923418a0ef87"
      },
      "outputs": [],
      "source": [
        "cleaned_df.head()"
      ]
    },
    {
      "cell_type": "code",
      "execution_count": 17,
      "metadata": {
        "id": "wfDFxsD0F8NA"
      },
      "outputs": [],
      "source": [
        "# 무의미한 변수 제거\n",
        "df=cleaned_df.drop(columns=['CLIENTNUM'])"
      ]
    },
    {
      "cell_type": "markdown",
      "metadata": {
        "id": "f9qhE9TU6kZw"
      },
      "source": [
        "### 상관관계 분석"
      ]
    },
    {
      "cell_type": "code",
      "execution_count": null,
      "metadata": {
        "colab": {
          "base_uri": "https://localhost:8080/",
          "height": 860
        },
        "id": "pkJz5T4Ow0P9",
        "outputId": "13fc65c7-91f3-4fe7-c309-ea2929eb1a80"
      },
      "outputs": [],
      "source": [
        "import seaborn as sns\n",
        "corr = df.corr()\n",
        "\n",
        "# 히트맵 그리기\n",
        "plt.figure(figsize=(10, 8))\n",
        "sns.heatmap(corr, annot=True, fmt=\".2f\", cmap='coolwarm', cbar=True, square=True)\n",
        "plt.title('Correlation Heatmap')\n",
        "plt.show()"
      ]
    },
    {
      "cell_type": "markdown",
      "metadata": {
        "id": "9iWTgvkF_Fwz"
      },
      "source": [
        "### Scale + 데이터 분할"
      ]
    },
    {
      "cell_type": "code",
      "execution_count": 19,
      "metadata": {
        "id": "J54JppLt_FRX"
      },
      "outputs": [],
      "source": [
        "from sklearn.decomposition import PCA\n",
        "from sklearn.preprocessing import StandardScaler\n",
        "\n",
        "X = df.drop(columns=['Attrition_Flag'])  # 독립 변수들\n",
        "y = df['Attrition_Flag']  # 종속 변수\n",
        "\n",
        "# 2. 데이터 분할\n",
        "X_train, X_test, y_train, y_test = train_test_split(X, y, test_size=0.2, random_state=42)\n",
        "\n",
        "# 3. 데이터 스케일링\n",
        "scaler = StandardScaler()\n",
        "X_train= scaler.fit_transform(X_train)\n",
        "X_test = scaler.transform(X_test)"
      ]
    },
    {
      "cell_type": "markdown",
      "metadata": {
        "id": "wNgTn3kYvipX"
      },
      "source": [
        "## Modeling"
      ]
    },
    {
      "cell_type": "markdown",
      "metadata": {
        "id": "1zRYeknLxTnw"
      },
      "source": [
        "다음 모델의 성능을 비교해주세요.\n",
        "- Decision Tree\n",
        "- Random Forest\n",
        "- Adaboost\n",
        "- Gradientboosting\n",
        "- Soft voting\n",
        "- Blending\n",
        "- Stacking\n",
        "- 이외 다른 ensemble 모델을 사용하셔도 됩니다!\n"
      ]
    },
    {
      "cell_type": "markdown",
      "metadata": {
        "id": "uBwRXKuGrz3I"
      },
      "source": [
        "### Decision Tree"
      ]
    },
    {
      "cell_type": "code",
      "execution_count": null,
      "metadata": {
        "colab": {
          "base_uri": "https://localhost:8080/"
        },
        "id": "ZJK2DD3xvgTE",
        "outputId": "680dc215-5b95-4b49-99d2-6a4f59326af5"
      },
      "outputs": [],
      "source": [
        "clf = DecisionTreeClassifier(random_state=42)\n",
        "\n",
        "clf.fit(X_train, y_train)\n",
        "\n",
        "y_pred = clf.predict(X_test)\n",
        "\n",
        "accuracy = accuracy_score(y_test, y_pred)\n",
        "\n",
        "print(f'Accuracy: {accuracy:.4f}')"
      ]
    },
    {
      "cell_type": "markdown",
      "metadata": {
        "id": "0b3at-0Hr_BI"
      },
      "source": [
        "### Random Forest"
      ]
    },
    {
      "cell_type": "code",
      "execution_count": null,
      "metadata": {
        "colab": {
          "base_uri": "https://localhost:8080/"
        },
        "id": "1SrdEwM2aaOZ",
        "outputId": "d15262a6-2be9-4949-d6a7-4a16871a3413"
      },
      "outputs": [],
      "source": [
        "model = RandomForestClassifier(n_estimators=100, random_state=42)\n",
        "model.fit(X_train, y_train)\n",
        "\n",
        "# 예측\n",
        "y_pred = model.predict(X_test)\n",
        "\n",
        "# 모델 평가\n",
        "accuracy = accuracy_score(y_test, y_pred)\n",
        "\n",
        "print(f'Accuracy: {accuracy:.4f}')"
      ]
    },
    {
      "cell_type": "markdown",
      "metadata": {
        "id": "M8rCnqWZr_jv"
      },
      "source": [
        "### Adaboost"
      ]
    },
    {
      "cell_type": "code",
      "execution_count": null,
      "metadata": {
        "colab": {
          "base_uri": "https://localhost:8080/"
        },
        "id": "ShKEe23yxdqN",
        "outputId": "192932df-94d8-4d34-d450-1f724c4c94ea"
      },
      "outputs": [],
      "source": [
        "# AdaBoost 모델 훈련\n",
        "model = AdaBoostClassifier(n_estimators=100, random_state=42)\n",
        "model.fit(X_train, y_train)\n",
        "\n",
        "# 예측\n",
        "y_pred = model.predict(X_test)\n",
        "\n",
        "# 모델 평가\n",
        "accuracy = accuracy_score(y_test, y_pred)\n",
        "\n",
        "\n",
        "print(f'Accuracy: {accuracy:.4f}')"
      ]
    },
    {
      "cell_type": "markdown",
      "metadata": {
        "id": "6dKn6gmWsNNd"
      },
      "source": [
        "### Gradientboosting"
      ]
    },
    {
      "cell_type": "code",
      "execution_count": null,
      "metadata": {
        "colab": {
          "base_uri": "https://localhost:8080/"
        },
        "id": "35keCeS-W16R",
        "outputId": "e6af5eb7-bd11-4c5b-d02a-5564c226bfc8"
      },
      "outputs": [],
      "source": [
        "# Gradient Boosting 모델 훈련\n",
        "model = GradientBoostingClassifier(n_estimators=100, learning_rate=0.1, max_depth=3, random_state=42)\n",
        "model.fit(X_train, y_train)\n",
        "\n",
        "# 예측\n",
        "y_pred = model.predict(X_test)\n",
        "\n",
        "# 모델 평가\n",
        "accuracy = accuracy_score(y_test, y_pred)\n",
        "\n",
        "print(f'Accuracy: {accuracy:.4f}')"
      ]
    },
    {
      "cell_type": "markdown",
      "metadata": {
        "id": "gZTGnND1ATe5"
      },
      "source": [
        "### soft voting(DecisionTree, RandomForest, AdaBoost, GradientBoosting)"
      ]
    },
    {
      "cell_type": "code",
      "execution_count": null,
      "metadata": {
        "colab": {
          "base_uri": "https://localhost:8080/"
        },
        "id": "DPXM2Kr7ARhA",
        "outputId": "7f247f4b-a821-4ca5-8f83-ffb36c99e602"
      },
      "outputs": [],
      "source": [
        "from sklearn.ensemble import VotingClassifier\n",
        "\n",
        "dt = DecisionTreeClassifier(random_state=42)\n",
        "rf = RandomForestClassifier(n_estimators=100, random_state=42)\n",
        "ada = AdaBoostClassifier(n_estimators=100, random_state=42)\n",
        "gb = GradientBoostingClassifier(n_estimators=100, learning_rate=0.1, max_depth=3, random_state=42)\n",
        "\n",
        "voting_clf = VotingClassifier(\n",
        "    estimators=[\n",
        "        ('dt',dt),\n",
        "        ('rf', rf),\n",
        "        ('ada', ada),\n",
        "        ('gb', gb)\n",
        "    ],\n",
        "    voting='soft'  # soft voting: 확률 평균, hard voting: 다수결\n",
        ")\n",
        "\n",
        "voting_clf.fit(X_train, y_train)\n",
        "y_pred = voting_clf.predict(X_test)\n",
        "accuracy = accuracy_score(y_test, y_pred)\n",
        "print(f'Voting (Soft) Model Accuracy: {accuracy:.4f}')"
      ]
    },
    {
      "cell_type": "markdown",
      "metadata": {
        "id": "glqfH57M_yeI"
      },
      "source": [
        "### Blending(RandomForest, SVC → LogisticRegression)\n"
      ]
    },
    {
      "cell_type": "code",
      "execution_count": null,
      "metadata": {
        "colab": {
          "base_uri": "https://localhost:8080/"
        },
        "id": "uaqsdjNo_xbd",
        "outputId": "bc95aa16-efdb-42a8-c823-6d2aef8f28ee"
      },
      "outputs": [],
      "source": [
        "from sklearn.model_selection import train_test_split\n",
        "from sklearn.ensemble import RandomForestClassifier\n",
        "from sklearn.svm import SVC\n",
        "from sklearn.linear_model import LogisticRegression\n",
        "from sklearn.metrics import accuracy_score\n",
        "import numpy as np\n",
        "\n",
        "# 1. train을 다시 train_blend, blend로 분할\n",
        "X_tr, X_blend, y_tr, y_blend = train_test_split(X_train, y_train, test_size=0.3, random_state=42)\n",
        "\n",
        "# 2. 개별 모델 학습 (train_blend로)\n",
        "rf = RandomForestClassifier(n_estimators=100, random_state=42)\n",
        "svc = SVC(probability=True, random_state=42)\n",
        "rf.fit(X_tr, y_tr)\n",
        "svc.fit(X_tr, y_tr)\n",
        "\n",
        "# 3. 블렌딩 세트에서 예측값 생성\n",
        "rf_blend_pred = rf.predict_proba(X_blend)\n",
        "svc_blend_pred = svc.predict_proba(X_blend)\n",
        "blend_features = np.hstack([rf_blend_pred, svc_blend_pred])\n",
        "\n",
        "# 4. 메타모델 학습 (블렌딩 세트의 예측값을 feature로)\n",
        "meta_model = LogisticRegression()\n",
        "meta_model.fit(blend_features, y_blend)\n",
        "\n",
        "# 5. 테스트셋 예측\n",
        "rf_test_pred = rf.predict_proba(X_test)\n",
        "svc_test_pred = svc.predict_proba(X_test)\n",
        "test_features = np.hstack([rf_test_pred, svc_test_pred])\n",
        "y_pred_blend = meta_model.predict(test_features)\n",
        "\n",
        "accuracy_blend = accuracy_score(y_test, y_pred_blend)\n",
        "print(f\"Blending Model Accuracy: {accuracy_blend:.4f}\")"
      ]
    },
    {
      "cell_type": "markdown",
      "metadata": {
        "id": "uI_8bpyVsRNV"
      },
      "source": [
        "### stacking(RandomForest, SVC → LogisticRegression)"
      ]
    },
    {
      "cell_type": "code",
      "execution_count": null,
      "metadata": {
        "colab": {
          "base_uri": "https://localhost:8080/"
        },
        "id": "uBE6CimwW19-",
        "outputId": "799d406e-e5a1-4ecd-ddd9-54227404b5f7"
      },
      "outputs": [],
      "source": [
        "from sklearn.ensemble import StackingClassifier\n",
        "from sklearn.linear_model import LogisticRegression\n",
        "from sklearn.svm import SVC\n",
        "\n",
        "estimators = [\n",
        "    ('rf', RandomForestClassifier(n_estimators=100, random_state=42)),\n",
        "    ('svc', SVC(probability=True, random_state=42))\n",
        "]\n",
        "\n",
        "# 최종 모델로 Logistic Regression 사용\n",
        "stacking_clf = StackingClassifier(\n",
        "    estimators=estimators,\n",
        "    final_estimator=LogisticRegression()\n",
        ")\n",
        "\n",
        "# 모델 학습\n",
        "stacking_clf.fit(X_train, y_train)\n",
        "\n",
        "# 예측\n",
        "y_pred = stacking_clf.predict(X_test)\n",
        "\n",
        "# 정확도 평가\n",
        "accuracy = accuracy_score(y_test, y_pred)\n",
        "print(f\"Stacking Model Accuracy: {accuracy:.4f}\")"
      ]
    },
    {
      "cell_type": "code",
      "execution_count": null,
      "metadata": {
        "id": "KvURL3nWBKBs"
      },
      "outputs": [],
      "source": []
    }
  ],
  "metadata": {
    "colab": {
      "provenance": []
    },
    "kernelspec": {
      "display_name": "Python 3",
      "name": "python3"
    },
    "language_info": {
      "name": "python"
    }
  },
  "nbformat": 4,
  "nbformat_minor": 0
}
