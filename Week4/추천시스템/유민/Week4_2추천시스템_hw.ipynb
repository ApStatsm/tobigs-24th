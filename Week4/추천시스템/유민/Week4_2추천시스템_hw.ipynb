{
  "cells": [
    {
      "cell_type": "markdown",
      "metadata": {
        "id": "H0swPcZprifR"
      },
      "source": [
        "# ToBig's 4주차 정규세션 2교시 추천시스템 과제\n",
        "여러분 정규세션 듣는다고 고생 많으셨습니다. 😊\n",
        "\n",
        "이번 과제는 간단하게 추천시스템의 여러 가지를 직접 구현해보는 쪽으로 만들어봤습니다. 총 3가지 실습입니다.\n",
        "\n",
        "과제에 대해 궁금한 점이 있으시면 언제든지 23기 김상우, 문혜원에게 개인적으로 연락 주시면 됩니다!"
      ]
    },
    {
      "cell_type": "markdown",
      "metadata": {
        "id": "D7nPg_9EtFUs"
      },
      "source": [
        "###`'your_code'라고 쓰인 부분에 본인의 코드를 채워주시면 됩니다.`"
      ]
    },
    {
      "cell_type": "markdown",
      "metadata": {
        "id": "S1kDHhA2rovK"
      },
      "source": [
        "## 1. 잠재 요인 기반 협업 필터링 (Latent Factor Collaborative Filtering) 실습\n",
        "1번째는 추천 시스템의 협업 필터링 중에서 행렬 분해(Matrix Factorization)에 대한 실습입니다.\n",
        "\n",
        "데이터는 Kaggle의 **The Movies Dataset** 데이터를 사용하였습니다.\n",
        "\n",
        "https://www.kaggle.com/datasets/rounakbanik/the-movies-dataset?select=movies_metadata.csv"
      ]
    },
    {
      "cell_type": "markdown",
      "metadata": {
        "id": "CrmCtim8rrg0"
      },
      "source": [
        "### Import Packages"
      ]
    },
    {
      "cell_type": "code",
      "execution_count": 1,
      "metadata": {
        "id": "gOVxi5A3rAin"
      },
      "outputs": [],
      "source": [
        "# 실습에 필요한 패키지들 import\n",
        "from sklearn.decomposition import TruncatedSVD\n",
        "from scipy.sparse.linalg import svds\n",
        "\n",
        "import matplotlib.pyplot as plt\n",
        "import seaborn as sns\n",
        "import pandas as pd\n",
        "import numpy as np\n",
        "from sklearn.feature_extraction.text import TfidfVectorizer\n",
        "from sklearn.feature_extraction.text import CountVectorizer\n",
        "from sklearn.metrics.pairwise import cosine_similarity\n",
        "\n",
        "import warnings\n",
        "warnings.filterwarnings(\"ignore\")"
      ]
    },
    {
      "cell_type": "code",
      "execution_count": 32,
      "metadata": {
        "colab": {
          "base_uri": "https://localhost:8080/"
        },
        "id": "-uE2TLPetQOH",
        "outputId": "41fcc320-a517-4ef0-efbf-0e6be84330bb"
      },
      "outputs": [
        {
          "name": "stdout",
          "output_type": "stream",
          "text": [
            "Drive already mounted at /content/drive; to attempt to forcibly remount, call drive.mount(\"/content/drive\", force_remount=True).\n"
          ]
        }
      ],
      "source": [
        "# Colab 기반\n",
        "from google.colab import drive\n",
        "drive.mount('/content/drive')"
      ]
    },
    {
      "cell_type": "markdown",
      "metadata": {
        "id": "lCbf6uXUru0A"
      },
      "source": [
        "### Data Load\n",
        "\n",
        "해당 movielens 데이터는 2개로 나뉘어져 있습니다.\n",
        "1. `ratings.csv` : 사용자-영화 평점 기반 데이터\n",
        "2. `movies.csv` : 영화 정보 데이터"
      ]
    },
    {
      "cell_type": "code",
      "execution_count": 2,
      "metadata": {
        "id": "Ek74r9AGrBtL"
      },
      "outputs": [],
      "source": [
        "rating_data = pd.read_csv(\"C:/Users/USER/Desktop/ratings.csv\")\n",
        "movie_data = pd.read_csv(\"C:/Users/USER/Desktop/movies.csv\")"
      ]
    },
    {
      "cell_type": "code",
      "execution_count": 3,
      "metadata": {
        "colab": {
          "base_uri": "https://localhost:8080/",
          "height": 396
        },
        "id": "EIyG2etorBvp",
        "outputId": "a82a0886-f559-4aa1-b6a3-9bb81e87070b"
      },
      "outputs": [
        {
          "data": {
            "text/html": [
              "<div>\n",
              "<style scoped>\n",
              "    .dataframe tbody tr th:only-of-type {\n",
              "        vertical-align: middle;\n",
              "    }\n",
              "\n",
              "    .dataframe tbody tr th {\n",
              "        vertical-align: top;\n",
              "    }\n",
              "\n",
              "    .dataframe thead th {\n",
              "        text-align: right;\n",
              "    }\n",
              "</style>\n",
              "<table border=\"1\" class=\"dataframe\">\n",
              "  <thead>\n",
              "    <tr style=\"text-align: right;\">\n",
              "      <th></th>\n",
              "      <th>userId</th>\n",
              "      <th>movieId</th>\n",
              "      <th>rating</th>\n",
              "      <th>timestamp</th>\n",
              "    </tr>\n",
              "  </thead>\n",
              "  <tbody>\n",
              "    <tr>\n",
              "      <th>0</th>\n",
              "      <td>1</td>\n",
              "      <td>31</td>\n",
              "      <td>2.5</td>\n",
              "      <td>1260759144</td>\n",
              "    </tr>\n",
              "    <tr>\n",
              "      <th>1</th>\n",
              "      <td>1</td>\n",
              "      <td>1029</td>\n",
              "      <td>3.0</td>\n",
              "      <td>1260759179</td>\n",
              "    </tr>\n",
              "    <tr>\n",
              "      <th>2</th>\n",
              "      <td>1</td>\n",
              "      <td>1061</td>\n",
              "      <td>3.0</td>\n",
              "      <td>1260759182</td>\n",
              "    </tr>\n",
              "    <tr>\n",
              "      <th>3</th>\n",
              "      <td>1</td>\n",
              "      <td>1129</td>\n",
              "      <td>2.0</td>\n",
              "      <td>1260759185</td>\n",
              "    </tr>\n",
              "    <tr>\n",
              "      <th>4</th>\n",
              "      <td>1</td>\n",
              "      <td>1172</td>\n",
              "      <td>4.0</td>\n",
              "      <td>1260759205</td>\n",
              "    </tr>\n",
              "  </tbody>\n",
              "</table>\n",
              "</div>"
            ],
            "text/plain": [
              "   userId  movieId  rating   timestamp\n",
              "0       1       31     2.5  1260759144\n",
              "1       1     1029     3.0  1260759179\n",
              "2       1     1061     3.0  1260759182\n",
              "3       1     1129     2.0  1260759185\n",
              "4       1     1172     4.0  1260759205"
            ]
          },
          "metadata": {},
          "output_type": "display_data"
        },
        {
          "data": {
            "text/html": [
              "<div>\n",
              "<style scoped>\n",
              "    .dataframe tbody tr th:only-of-type {\n",
              "        vertical-align: middle;\n",
              "    }\n",
              "\n",
              "    .dataframe tbody tr th {\n",
              "        vertical-align: top;\n",
              "    }\n",
              "\n",
              "    .dataframe thead th {\n",
              "        text-align: right;\n",
              "    }\n",
              "</style>\n",
              "<table border=\"1\" class=\"dataframe\">\n",
              "  <thead>\n",
              "    <tr style=\"text-align: right;\">\n",
              "      <th></th>\n",
              "      <th>movieId</th>\n",
              "      <th>title</th>\n",
              "      <th>genres</th>\n",
              "    </tr>\n",
              "  </thead>\n",
              "  <tbody>\n",
              "    <tr>\n",
              "      <th>0</th>\n",
              "      <td>1</td>\n",
              "      <td>Toy Story (1995)</td>\n",
              "      <td>Adventure|Animation|Children|Comedy|Fantasy</td>\n",
              "    </tr>\n",
              "    <tr>\n",
              "      <th>1</th>\n",
              "      <td>2</td>\n",
              "      <td>Jumanji (1995)</td>\n",
              "      <td>Adventure|Children|Fantasy</td>\n",
              "    </tr>\n",
              "    <tr>\n",
              "      <th>2</th>\n",
              "      <td>3</td>\n",
              "      <td>Grumpier Old Men (1995)</td>\n",
              "      <td>Comedy|Romance</td>\n",
              "    </tr>\n",
              "    <tr>\n",
              "      <th>3</th>\n",
              "      <td>4</td>\n",
              "      <td>Waiting to Exhale (1995)</td>\n",
              "      <td>Comedy|Drama|Romance</td>\n",
              "    </tr>\n",
              "    <tr>\n",
              "      <th>4</th>\n",
              "      <td>5</td>\n",
              "      <td>Father of the Bride Part II (1995)</td>\n",
              "      <td>Comedy</td>\n",
              "    </tr>\n",
              "  </tbody>\n",
              "</table>\n",
              "</div>"
            ],
            "text/plain": [
              "   movieId                               title  \\\n",
              "0        1                    Toy Story (1995)   \n",
              "1        2                      Jumanji (1995)   \n",
              "2        3             Grumpier Old Men (1995)   \n",
              "3        4            Waiting to Exhale (1995)   \n",
              "4        5  Father of the Bride Part II (1995)   \n",
              "\n",
              "                                        genres  \n",
              "0  Adventure|Animation|Children|Comedy|Fantasy  \n",
              "1                   Adventure|Children|Fantasy  \n",
              "2                               Comedy|Romance  \n",
              "3                         Comedy|Drama|Romance  \n",
              "4                                       Comedy  "
            ]
          },
          "metadata": {},
          "output_type": "display_data"
        }
      ],
      "source": [
        "# 데이터들 각각 확인\n",
        "display(rating_data.head(), movie_data.head())"
      ]
    },
    {
      "cell_type": "code",
      "execution_count": 4,
      "metadata": {
        "colab": {
          "base_uri": "https://localhost:8080/",
          "height": 52
        },
        "id": "JyPxTGt_rBx_",
        "outputId": "784ba527-ad4a-4206-c337-cb82d0f49da2"
      },
      "outputs": [
        {
          "data": {
            "text/plain": [
              "(9125, 3)"
            ]
          },
          "metadata": {},
          "output_type": "display_data"
        },
        {
          "data": {
            "text/plain": [
              "(100004, 4)"
            ]
          },
          "metadata": {},
          "output_type": "display_data"
        }
      ],
      "source": [
        "display(movie_data.shape, rating_data.shape)"
      ]
    },
    {
      "cell_type": "markdown",
      "metadata": {
        "id": "F4HUlWZDr1OU"
      },
      "source": [
        "### Data Preprocessing\n"
      ]
    },
    {
      "cell_type": "markdown",
      "metadata": {
        "id": "vwnssMMyr34z"
      },
      "source": [
        "앞서 살펴본 결과 영화 평점 데이터는 10만개가 넘고, 영화 데이터는 9000여개가 존재합니다.\n",
        "\n",
        "각각 데이터에 존재하는 timestamp와 genres는 잠재요인 기반 협업 필터링 추천 시스템에서는 필요없습니다.\n",
        "\n",
        "###`Q1. drop을 이용해서 'timestamp'와 'genre'를 제거해주세요.`"
      ]
    },
    {
      "cell_type": "code",
      "execution_count": 6,
      "metadata": {
        "colab": {
          "base_uri": "https://localhost:8080/",
          "height": 206
        },
        "id": "8jJh6BQ_r0nB",
        "outputId": "31e0be63-65e6-43ac-dbdc-db7e53072d0a"
      },
      "outputs": [
        {
          "data": {
            "text/html": [
              "<div>\n",
              "<style scoped>\n",
              "    .dataframe tbody tr th:only-of-type {\n",
              "        vertical-align: middle;\n",
              "    }\n",
              "\n",
              "    .dataframe tbody tr th {\n",
              "        vertical-align: top;\n",
              "    }\n",
              "\n",
              "    .dataframe thead th {\n",
              "        text-align: right;\n",
              "    }\n",
              "</style>\n",
              "<table border=\"1\" class=\"dataframe\">\n",
              "  <thead>\n",
              "    <tr style=\"text-align: right;\">\n",
              "      <th></th>\n",
              "      <th>userId</th>\n",
              "      <th>movieId</th>\n",
              "      <th>rating</th>\n",
              "    </tr>\n",
              "  </thead>\n",
              "  <tbody>\n",
              "    <tr>\n",
              "      <th>0</th>\n",
              "      <td>1</td>\n",
              "      <td>31</td>\n",
              "      <td>2.5</td>\n",
              "    </tr>\n",
              "    <tr>\n",
              "      <th>1</th>\n",
              "      <td>1</td>\n",
              "      <td>1029</td>\n",
              "      <td>3.0</td>\n",
              "    </tr>\n",
              "    <tr>\n",
              "      <th>2</th>\n",
              "      <td>1</td>\n",
              "      <td>1061</td>\n",
              "      <td>3.0</td>\n",
              "    </tr>\n",
              "    <tr>\n",
              "      <th>3</th>\n",
              "      <td>1</td>\n",
              "      <td>1129</td>\n",
              "      <td>2.0</td>\n",
              "    </tr>\n",
              "    <tr>\n",
              "      <th>4</th>\n",
              "      <td>1</td>\n",
              "      <td>1172</td>\n",
              "      <td>4.0</td>\n",
              "    </tr>\n",
              "  </tbody>\n",
              "</table>\n",
              "</div>"
            ],
            "text/plain": [
              "   userId  movieId  rating\n",
              "0       1       31     2.5\n",
              "1       1     1029     3.0\n",
              "2       1     1061     3.0\n",
              "3       1     1129     2.0\n",
              "4       1     1172     4.0"
            ]
          },
          "execution_count": 6,
          "metadata": {},
          "output_type": "execute_result"
        }
      ],
      "source": [
        "# rating_data에서 'timestamp' 컬럼 제거\n",
        "rating_data.drop('timestamp', axis = 1, inplace = True)\n",
        "rating_data.head()"
      ]
    },
    {
      "cell_type": "code",
      "execution_count": 7,
      "metadata": {
        "colab": {
          "base_uri": "https://localhost:8080/",
          "height": 206
        },
        "id": "dSWbgksDrB0V",
        "outputId": "4c2e1af7-b1a4-4983-f73d-6015f14478a1"
      },
      "outputs": [
        {
          "data": {
            "text/html": [
              "<div>\n",
              "<style scoped>\n",
              "    .dataframe tbody tr th:only-of-type {\n",
              "        vertical-align: middle;\n",
              "    }\n",
              "\n",
              "    .dataframe tbody tr th {\n",
              "        vertical-align: top;\n",
              "    }\n",
              "\n",
              "    .dataframe thead th {\n",
              "        text-align: right;\n",
              "    }\n",
              "</style>\n",
              "<table border=\"1\" class=\"dataframe\">\n",
              "  <thead>\n",
              "    <tr style=\"text-align: right;\">\n",
              "      <th></th>\n",
              "      <th>movieId</th>\n",
              "      <th>title</th>\n",
              "    </tr>\n",
              "  </thead>\n",
              "  <tbody>\n",
              "    <tr>\n",
              "      <th>0</th>\n",
              "      <td>1</td>\n",
              "      <td>Toy Story (1995)</td>\n",
              "    </tr>\n",
              "    <tr>\n",
              "      <th>1</th>\n",
              "      <td>2</td>\n",
              "      <td>Jumanji (1995)</td>\n",
              "    </tr>\n",
              "    <tr>\n",
              "      <th>2</th>\n",
              "      <td>3</td>\n",
              "      <td>Grumpier Old Men (1995)</td>\n",
              "    </tr>\n",
              "    <tr>\n",
              "      <th>3</th>\n",
              "      <td>4</td>\n",
              "      <td>Waiting to Exhale (1995)</td>\n",
              "    </tr>\n",
              "    <tr>\n",
              "      <th>4</th>\n",
              "      <td>5</td>\n",
              "      <td>Father of the Bride Part II (1995)</td>\n",
              "    </tr>\n",
              "  </tbody>\n",
              "</table>\n",
              "</div>"
            ],
            "text/plain": [
              "   movieId                               title\n",
              "0        1                    Toy Story (1995)\n",
              "1        2                      Jumanji (1995)\n",
              "2        3             Grumpier Old Men (1995)\n",
              "3        4            Waiting to Exhale (1995)\n",
              "4        5  Father of the Bride Part II (1995)"
            ]
          },
          "execution_count": 7,
          "metadata": {},
          "output_type": "execute_result"
        }
      ],
      "source": [
        "# movie_data에서 'genres' 컬럼 제거\n",
        "movie_data.drop('genres', axis = 1, inplace = True)\n",
        "movie_data.head()"
      ]
    },
    {
      "cell_type": "markdown",
      "metadata": {
        "id": "VG04sjayr9-i"
      },
      "source": [
        "필요없는 칼럼을 제거하였으니 이제 2개의 파일을 merge를 이용해서 합쳐줍니다. 2개의 데이터는 `movieId`라는 공통 컬럼이 존재합니다."
      ]
    },
    {
      "cell_type": "code",
      "execution_count": 8,
      "metadata": {
        "colab": {
          "base_uri": "https://localhost:8080/",
          "height": 206
        },
        "id": "y29cei7ErB26",
        "outputId": "38bc3a17-2b67-4e08-a709-5df00c63ab32"
      },
      "outputs": [
        {
          "data": {
            "text/html": [
              "<div>\n",
              "<style scoped>\n",
              "    .dataframe tbody tr th:only-of-type {\n",
              "        vertical-align: middle;\n",
              "    }\n",
              "\n",
              "    .dataframe tbody tr th {\n",
              "        vertical-align: top;\n",
              "    }\n",
              "\n",
              "    .dataframe thead th {\n",
              "        text-align: right;\n",
              "    }\n",
              "</style>\n",
              "<table border=\"1\" class=\"dataframe\">\n",
              "  <thead>\n",
              "    <tr style=\"text-align: right;\">\n",
              "      <th></th>\n",
              "      <th>userId</th>\n",
              "      <th>movieId</th>\n",
              "      <th>rating</th>\n",
              "      <th>title</th>\n",
              "    </tr>\n",
              "  </thead>\n",
              "  <tbody>\n",
              "    <tr>\n",
              "      <th>0</th>\n",
              "      <td>1</td>\n",
              "      <td>31</td>\n",
              "      <td>2.5</td>\n",
              "      <td>Dangerous Minds (1995)</td>\n",
              "    </tr>\n",
              "    <tr>\n",
              "      <th>1</th>\n",
              "      <td>1</td>\n",
              "      <td>1029</td>\n",
              "      <td>3.0</td>\n",
              "      <td>Dumbo (1941)</td>\n",
              "    </tr>\n",
              "    <tr>\n",
              "      <th>2</th>\n",
              "      <td>1</td>\n",
              "      <td>1061</td>\n",
              "      <td>3.0</td>\n",
              "      <td>Sleepers (1996)</td>\n",
              "    </tr>\n",
              "    <tr>\n",
              "      <th>3</th>\n",
              "      <td>1</td>\n",
              "      <td>1129</td>\n",
              "      <td>2.0</td>\n",
              "      <td>Escape from New York (1981)</td>\n",
              "    </tr>\n",
              "    <tr>\n",
              "      <th>4</th>\n",
              "      <td>1</td>\n",
              "      <td>1172</td>\n",
              "      <td>4.0</td>\n",
              "      <td>Cinema Paradiso (Nuovo cinema Paradiso) (1989)</td>\n",
              "    </tr>\n",
              "  </tbody>\n",
              "</table>\n",
              "</div>"
            ],
            "text/plain": [
              "   userId  movieId  rating                                           title\n",
              "0       1       31     2.5                          Dangerous Minds (1995)\n",
              "1       1     1029     3.0                                    Dumbo (1941)\n",
              "2       1     1061     3.0                                 Sleepers (1996)\n",
              "3       1     1129     2.0                     Escape from New York (1981)\n",
              "4       1     1172     4.0  Cinema Paradiso (Nuovo cinema Paradiso) (1989)"
            ]
          },
          "execution_count": 8,
          "metadata": {},
          "output_type": "execute_result"
        }
      ],
      "source": [
        "user_movie_data = pd.merge(rating_data, movie_data, on = 'movieId')\n",
        "user_movie_data.head()"
      ]
    },
    {
      "cell_type": "code",
      "execution_count": 9,
      "metadata": {
        "colab": {
          "base_uri": "https://localhost:8080/"
        },
        "id": "8Hhxty0NrB5h",
        "outputId": "07a095d1-2cc8-4e36-b3ed-5211acbdf39b"
      },
      "outputs": [
        {
          "data": {
            "text/plain": [
              "(100004, 4)"
            ]
          },
          "execution_count": 9,
          "metadata": {},
          "output_type": "execute_result"
        }
      ],
      "source": [
        "user_movie_data.shape"
      ]
    },
    {
      "cell_type": "markdown",
      "metadata": {
        "id": "bnkYn5ajsCFe"
      },
      "source": [
        "합친 결과 특정 유저가 영화에 대해 평점을 매겼는데 그 영화의 제목(title)이 무엇인지 알 수 있게 되었습니다.\n",
        "\n",
        "현재 `user`, `movie`, `rating`이 각각 컬럼에 존재하는 상황입니다.\n",
        "\n",
        "이렇게 생긴 데이터를 `value`를 평점으로 column은 `movie`로, row는 `userId`로 바꿔주려고 합니다.\n",
        "\n",
        "###`Q2. pivot_table을 이용해서 변환해주세요.`"
      ]
    },
    {
      "cell_type": "code",
      "execution_count": 12,
      "metadata": {
        "id": "6R73VSrorB7m"
      },
      "outputs": [
        {
          "data": {
            "text/html": [
              "<div>\n",
              "<style scoped>\n",
              "    .dataframe tbody tr th:only-of-type {\n",
              "        vertical-align: middle;\n",
              "    }\n",
              "\n",
              "    .dataframe tbody tr th {\n",
              "        vertical-align: top;\n",
              "    }\n",
              "\n",
              "    .dataframe thead th {\n",
              "        text-align: right;\n",
              "    }\n",
              "</style>\n",
              "<table border=\"1\" class=\"dataframe\">\n",
              "  <thead>\n",
              "    <tr style=\"text-align: right;\">\n",
              "      <th>title</th>\n",
              "      <th>\"Great Performances\" Cats (1998)</th>\n",
              "      <th>$9.99 (2008)</th>\n",
              "      <th>'Hellboy': The Seeds of Creation (2004)</th>\n",
              "      <th>'Neath the Arizona Skies (1934)</th>\n",
              "      <th>'Round Midnight (1986)</th>\n",
              "      <th>'Salem's Lot (2004)</th>\n",
              "      <th>'Til There Was You (1997)</th>\n",
              "      <th>'burbs, The (1989)</th>\n",
              "      <th>'night Mother (1986)</th>\n",
              "      <th>(500) Days of Summer (2009)</th>\n",
              "      <th>...</th>\n",
              "      <th>Zulu (1964)</th>\n",
              "      <th>Zulu (2013)</th>\n",
              "      <th>[REC] (2007)</th>\n",
              "      <th>eXistenZ (1999)</th>\n",
              "      <th>loudQUIETloud: A Film About the Pixies (2006)</th>\n",
              "      <th>xXx (2002)</th>\n",
              "      <th>xXx: State of the Union (2005)</th>\n",
              "      <th>¡Three Amigos! (1986)</th>\n",
              "      <th>À nous la liberté (Freedom for Us) (1931)</th>\n",
              "      <th>İtirazım Var (2014)</th>\n",
              "    </tr>\n",
              "    <tr>\n",
              "      <th>userId</th>\n",
              "      <th></th>\n",
              "      <th></th>\n",
              "      <th></th>\n",
              "      <th></th>\n",
              "      <th></th>\n",
              "      <th></th>\n",
              "      <th></th>\n",
              "      <th></th>\n",
              "      <th></th>\n",
              "      <th></th>\n",
              "      <th></th>\n",
              "      <th></th>\n",
              "      <th></th>\n",
              "      <th></th>\n",
              "      <th></th>\n",
              "      <th></th>\n",
              "      <th></th>\n",
              "      <th></th>\n",
              "      <th></th>\n",
              "      <th></th>\n",
              "      <th></th>\n",
              "    </tr>\n",
              "  </thead>\n",
              "  <tbody>\n",
              "    <tr>\n",
              "      <th>1</th>\n",
              "      <td>0.0</td>\n",
              "      <td>0.0</td>\n",
              "      <td>0.0</td>\n",
              "      <td>0.0</td>\n",
              "      <td>0.0</td>\n",
              "      <td>0.0</td>\n",
              "      <td>0.0</td>\n",
              "      <td>0.0</td>\n",
              "      <td>0.0</td>\n",
              "      <td>0.0</td>\n",
              "      <td>...</td>\n",
              "      <td>0.0</td>\n",
              "      <td>0.0</td>\n",
              "      <td>0.0</td>\n",
              "      <td>0.0</td>\n",
              "      <td>0.0</td>\n",
              "      <td>0.0</td>\n",
              "      <td>0.0</td>\n",
              "      <td>0.0</td>\n",
              "      <td>0.0</td>\n",
              "      <td>0.0</td>\n",
              "    </tr>\n",
              "    <tr>\n",
              "      <th>2</th>\n",
              "      <td>0.0</td>\n",
              "      <td>0.0</td>\n",
              "      <td>0.0</td>\n",
              "      <td>0.0</td>\n",
              "      <td>0.0</td>\n",
              "      <td>0.0</td>\n",
              "      <td>0.0</td>\n",
              "      <td>0.0</td>\n",
              "      <td>0.0</td>\n",
              "      <td>0.0</td>\n",
              "      <td>...</td>\n",
              "      <td>0.0</td>\n",
              "      <td>0.0</td>\n",
              "      <td>0.0</td>\n",
              "      <td>0.0</td>\n",
              "      <td>0.0</td>\n",
              "      <td>0.0</td>\n",
              "      <td>0.0</td>\n",
              "      <td>0.0</td>\n",
              "      <td>0.0</td>\n",
              "      <td>0.0</td>\n",
              "    </tr>\n",
              "    <tr>\n",
              "      <th>3</th>\n",
              "      <td>0.0</td>\n",
              "      <td>0.0</td>\n",
              "      <td>0.0</td>\n",
              "      <td>0.0</td>\n",
              "      <td>0.0</td>\n",
              "      <td>0.0</td>\n",
              "      <td>0.0</td>\n",
              "      <td>0.0</td>\n",
              "      <td>0.0</td>\n",
              "      <td>0.0</td>\n",
              "      <td>...</td>\n",
              "      <td>0.0</td>\n",
              "      <td>0.0</td>\n",
              "      <td>0.0</td>\n",
              "      <td>0.0</td>\n",
              "      <td>0.0</td>\n",
              "      <td>0.0</td>\n",
              "      <td>0.0</td>\n",
              "      <td>0.0</td>\n",
              "      <td>0.0</td>\n",
              "      <td>0.0</td>\n",
              "    </tr>\n",
              "    <tr>\n",
              "      <th>4</th>\n",
              "      <td>0.0</td>\n",
              "      <td>0.0</td>\n",
              "      <td>0.0</td>\n",
              "      <td>0.0</td>\n",
              "      <td>0.0</td>\n",
              "      <td>0.0</td>\n",
              "      <td>0.0</td>\n",
              "      <td>0.0</td>\n",
              "      <td>0.0</td>\n",
              "      <td>0.0</td>\n",
              "      <td>...</td>\n",
              "      <td>0.0</td>\n",
              "      <td>0.0</td>\n",
              "      <td>0.0</td>\n",
              "      <td>0.0</td>\n",
              "      <td>0.0</td>\n",
              "      <td>0.0</td>\n",
              "      <td>0.0</td>\n",
              "      <td>0.0</td>\n",
              "      <td>0.0</td>\n",
              "      <td>0.0</td>\n",
              "    </tr>\n",
              "    <tr>\n",
              "      <th>5</th>\n",
              "      <td>0.0</td>\n",
              "      <td>0.0</td>\n",
              "      <td>0.0</td>\n",
              "      <td>0.0</td>\n",
              "      <td>0.0</td>\n",
              "      <td>0.0</td>\n",
              "      <td>0.0</td>\n",
              "      <td>0.0</td>\n",
              "      <td>0.0</td>\n",
              "      <td>0.0</td>\n",
              "      <td>...</td>\n",
              "      <td>0.0</td>\n",
              "      <td>0.0</td>\n",
              "      <td>0.0</td>\n",
              "      <td>0.0</td>\n",
              "      <td>0.0</td>\n",
              "      <td>0.0</td>\n",
              "      <td>0.0</td>\n",
              "      <td>0.0</td>\n",
              "      <td>0.0</td>\n",
              "      <td>0.0</td>\n",
              "    </tr>\n",
              "  </tbody>\n",
              "</table>\n",
              "<p>5 rows × 9064 columns</p>\n",
              "</div>"
            ],
            "text/plain": [
              "title   \"Great Performances\" Cats (1998)  $9.99 (2008)  \\\n",
              "userId                                                   \n",
              "1                                    0.0           0.0   \n",
              "2                                    0.0           0.0   \n",
              "3                                    0.0           0.0   \n",
              "4                                    0.0           0.0   \n",
              "5                                    0.0           0.0   \n",
              "\n",
              "title   'Hellboy': The Seeds of Creation (2004)  \\\n",
              "userId                                            \n",
              "1                                           0.0   \n",
              "2                                           0.0   \n",
              "3                                           0.0   \n",
              "4                                           0.0   \n",
              "5                                           0.0   \n",
              "\n",
              "title   'Neath the Arizona Skies (1934)  'Round Midnight (1986)  \\\n",
              "userId                                                            \n",
              "1                                   0.0                     0.0   \n",
              "2                                   0.0                     0.0   \n",
              "3                                   0.0                     0.0   \n",
              "4                                   0.0                     0.0   \n",
              "5                                   0.0                     0.0   \n",
              "\n",
              "title   'Salem's Lot (2004)  'Til There Was You (1997)  'burbs, The (1989)  \\\n",
              "userId                                                                       \n",
              "1                       0.0                        0.0                 0.0   \n",
              "2                       0.0                        0.0                 0.0   \n",
              "3                       0.0                        0.0                 0.0   \n",
              "4                       0.0                        0.0                 0.0   \n",
              "5                       0.0                        0.0                 0.0   \n",
              "\n",
              "title   'night Mother (1986)  (500) Days of Summer (2009)  ...  Zulu (1964)  \\\n",
              "userId                                                     ...                \n",
              "1                        0.0                          0.0  ...          0.0   \n",
              "2                        0.0                          0.0  ...          0.0   \n",
              "3                        0.0                          0.0  ...          0.0   \n",
              "4                        0.0                          0.0  ...          0.0   \n",
              "5                        0.0                          0.0  ...          0.0   \n",
              "\n",
              "title   Zulu (2013)  [REC] (2007)  eXistenZ (1999)  \\\n",
              "userId                                               \n",
              "1               0.0           0.0              0.0   \n",
              "2               0.0           0.0              0.0   \n",
              "3               0.0           0.0              0.0   \n",
              "4               0.0           0.0              0.0   \n",
              "5               0.0           0.0              0.0   \n",
              "\n",
              "title   loudQUIETloud: A Film About the Pixies (2006)  xXx (2002)  \\\n",
              "userId                                                              \n",
              "1                                                 0.0         0.0   \n",
              "2                                                 0.0         0.0   \n",
              "3                                                 0.0         0.0   \n",
              "4                                                 0.0         0.0   \n",
              "5                                                 0.0         0.0   \n",
              "\n",
              "title   xXx: State of the Union (2005)  ¡Three Amigos! (1986)  \\\n",
              "userId                                                          \n",
              "1                                  0.0                    0.0   \n",
              "2                                  0.0                    0.0   \n",
              "3                                  0.0                    0.0   \n",
              "4                                  0.0                    0.0   \n",
              "5                                  0.0                    0.0   \n",
              "\n",
              "title   À nous la liberté (Freedom for Us) (1931)  İtirazım Var (2014)  \n",
              "userId                                                                  \n",
              "1                                             0.0                  0.0  \n",
              "2                                             0.0                  0.0  \n",
              "3                                             0.0                  0.0  \n",
              "4                                             0.0                  0.0  \n",
              "5                                             0.0                  0.0  \n",
              "\n",
              "[5 rows x 9064 columns]"
            ]
          },
          "execution_count": 12,
          "metadata": {},
          "output_type": "execute_result"
        }
      ],
      "source": [
        "\n",
        "\n",
        "user_movie_rating = user_movie_data.pivot_table(\n",
        "    values='rating', \n",
        "    index='userId', \n",
        "    columns='title'\n",
        ").fillna(0)\n",
        "\n",
        "user_movie_rating.head()"
      ]
    },
    {
      "cell_type": "code",
      "execution_count": 13,
      "metadata": {
        "colab": {
          "base_uri": "https://localhost:8080/",
          "height": 390
        },
        "id": "CeGYpKtnrB-N",
        "outputId": "f9d1389f-f113-4b2b-a813-4714b34005be"
      },
      "outputs": [
        {
          "data": {
            "text/plain": [
              "(671, 9064)"
            ]
          },
          "metadata": {},
          "output_type": "display_data"
        },
        {
          "data": {
            "text/html": [
              "<div>\n",
              "<style scoped>\n",
              "    .dataframe tbody tr th:only-of-type {\n",
              "        vertical-align: middle;\n",
              "    }\n",
              "\n",
              "    .dataframe tbody tr th {\n",
              "        vertical-align: top;\n",
              "    }\n",
              "\n",
              "    .dataframe thead th {\n",
              "        text-align: right;\n",
              "    }\n",
              "</style>\n",
              "<table border=\"1\" class=\"dataframe\">\n",
              "  <thead>\n",
              "    <tr style=\"text-align: right;\">\n",
              "      <th>title</th>\n",
              "      <th>\"Great Performances\" Cats (1998)</th>\n",
              "      <th>$9.99 (2008)</th>\n",
              "      <th>'Hellboy': The Seeds of Creation (2004)</th>\n",
              "      <th>'Neath the Arizona Skies (1934)</th>\n",
              "      <th>'Round Midnight (1986)</th>\n",
              "      <th>'Salem's Lot (2004)</th>\n",
              "      <th>'Til There Was You (1997)</th>\n",
              "      <th>'burbs, The (1989)</th>\n",
              "      <th>'night Mother (1986)</th>\n",
              "      <th>(500) Days of Summer (2009)</th>\n",
              "      <th>...</th>\n",
              "      <th>Zulu (1964)</th>\n",
              "      <th>Zulu (2013)</th>\n",
              "      <th>[REC] (2007)</th>\n",
              "      <th>eXistenZ (1999)</th>\n",
              "      <th>loudQUIETloud: A Film About the Pixies (2006)</th>\n",
              "      <th>xXx (2002)</th>\n",
              "      <th>xXx: State of the Union (2005)</th>\n",
              "      <th>¡Three Amigos! (1986)</th>\n",
              "      <th>À nous la liberté (Freedom for Us) (1931)</th>\n",
              "      <th>İtirazım Var (2014)</th>\n",
              "    </tr>\n",
              "    <tr>\n",
              "      <th>userId</th>\n",
              "      <th></th>\n",
              "      <th></th>\n",
              "      <th></th>\n",
              "      <th></th>\n",
              "      <th></th>\n",
              "      <th></th>\n",
              "      <th></th>\n",
              "      <th></th>\n",
              "      <th></th>\n",
              "      <th></th>\n",
              "      <th></th>\n",
              "      <th></th>\n",
              "      <th></th>\n",
              "      <th></th>\n",
              "      <th></th>\n",
              "      <th></th>\n",
              "      <th></th>\n",
              "      <th></th>\n",
              "      <th></th>\n",
              "      <th></th>\n",
              "      <th></th>\n",
              "    </tr>\n",
              "  </thead>\n",
              "  <tbody>\n",
              "    <tr>\n",
              "      <th>1</th>\n",
              "      <td>0.0</td>\n",
              "      <td>0.0</td>\n",
              "      <td>0.0</td>\n",
              "      <td>0.0</td>\n",
              "      <td>0.0</td>\n",
              "      <td>0.0</td>\n",
              "      <td>0.0</td>\n",
              "      <td>0.0</td>\n",
              "      <td>0.0</td>\n",
              "      <td>0.0</td>\n",
              "      <td>...</td>\n",
              "      <td>0.0</td>\n",
              "      <td>0.0</td>\n",
              "      <td>0.0</td>\n",
              "      <td>0.0</td>\n",
              "      <td>0.0</td>\n",
              "      <td>0.0</td>\n",
              "      <td>0.0</td>\n",
              "      <td>0.0</td>\n",
              "      <td>0.0</td>\n",
              "      <td>0.0</td>\n",
              "    </tr>\n",
              "    <tr>\n",
              "      <th>2</th>\n",
              "      <td>0.0</td>\n",
              "      <td>0.0</td>\n",
              "      <td>0.0</td>\n",
              "      <td>0.0</td>\n",
              "      <td>0.0</td>\n",
              "      <td>0.0</td>\n",
              "      <td>0.0</td>\n",
              "      <td>0.0</td>\n",
              "      <td>0.0</td>\n",
              "      <td>0.0</td>\n",
              "      <td>...</td>\n",
              "      <td>0.0</td>\n",
              "      <td>0.0</td>\n",
              "      <td>0.0</td>\n",
              "      <td>0.0</td>\n",
              "      <td>0.0</td>\n",
              "      <td>0.0</td>\n",
              "      <td>0.0</td>\n",
              "      <td>0.0</td>\n",
              "      <td>0.0</td>\n",
              "      <td>0.0</td>\n",
              "    </tr>\n",
              "    <tr>\n",
              "      <th>3</th>\n",
              "      <td>0.0</td>\n",
              "      <td>0.0</td>\n",
              "      <td>0.0</td>\n",
              "      <td>0.0</td>\n",
              "      <td>0.0</td>\n",
              "      <td>0.0</td>\n",
              "      <td>0.0</td>\n",
              "      <td>0.0</td>\n",
              "      <td>0.0</td>\n",
              "      <td>0.0</td>\n",
              "      <td>...</td>\n",
              "      <td>0.0</td>\n",
              "      <td>0.0</td>\n",
              "      <td>0.0</td>\n",
              "      <td>0.0</td>\n",
              "      <td>0.0</td>\n",
              "      <td>0.0</td>\n",
              "      <td>0.0</td>\n",
              "      <td>0.0</td>\n",
              "      <td>0.0</td>\n",
              "      <td>0.0</td>\n",
              "    </tr>\n",
              "    <tr>\n",
              "      <th>4</th>\n",
              "      <td>0.0</td>\n",
              "      <td>0.0</td>\n",
              "      <td>0.0</td>\n",
              "      <td>0.0</td>\n",
              "      <td>0.0</td>\n",
              "      <td>0.0</td>\n",
              "      <td>0.0</td>\n",
              "      <td>0.0</td>\n",
              "      <td>0.0</td>\n",
              "      <td>0.0</td>\n",
              "      <td>...</td>\n",
              "      <td>0.0</td>\n",
              "      <td>0.0</td>\n",
              "      <td>0.0</td>\n",
              "      <td>0.0</td>\n",
              "      <td>0.0</td>\n",
              "      <td>0.0</td>\n",
              "      <td>0.0</td>\n",
              "      <td>0.0</td>\n",
              "      <td>0.0</td>\n",
              "      <td>0.0</td>\n",
              "    </tr>\n",
              "    <tr>\n",
              "      <th>5</th>\n",
              "      <td>0.0</td>\n",
              "      <td>0.0</td>\n",
              "      <td>0.0</td>\n",
              "      <td>0.0</td>\n",
              "      <td>0.0</td>\n",
              "      <td>0.0</td>\n",
              "      <td>0.0</td>\n",
              "      <td>0.0</td>\n",
              "      <td>0.0</td>\n",
              "      <td>0.0</td>\n",
              "      <td>...</td>\n",
              "      <td>0.0</td>\n",
              "      <td>0.0</td>\n",
              "      <td>0.0</td>\n",
              "      <td>0.0</td>\n",
              "      <td>0.0</td>\n",
              "      <td>0.0</td>\n",
              "      <td>0.0</td>\n",
              "      <td>0.0</td>\n",
              "      <td>0.0</td>\n",
              "      <td>0.0</td>\n",
              "    </tr>\n",
              "  </tbody>\n",
              "</table>\n",
              "<p>5 rows × 9064 columns</p>\n",
              "</div>"
            ],
            "text/plain": [
              "title   \"Great Performances\" Cats (1998)  $9.99 (2008)  \\\n",
              "userId                                                   \n",
              "1                                    0.0           0.0   \n",
              "2                                    0.0           0.0   \n",
              "3                                    0.0           0.0   \n",
              "4                                    0.0           0.0   \n",
              "5                                    0.0           0.0   \n",
              "\n",
              "title   'Hellboy': The Seeds of Creation (2004)  \\\n",
              "userId                                            \n",
              "1                                           0.0   \n",
              "2                                           0.0   \n",
              "3                                           0.0   \n",
              "4                                           0.0   \n",
              "5                                           0.0   \n",
              "\n",
              "title   'Neath the Arizona Skies (1934)  'Round Midnight (1986)  \\\n",
              "userId                                                            \n",
              "1                                   0.0                     0.0   \n",
              "2                                   0.0                     0.0   \n",
              "3                                   0.0                     0.0   \n",
              "4                                   0.0                     0.0   \n",
              "5                                   0.0                     0.0   \n",
              "\n",
              "title   'Salem's Lot (2004)  'Til There Was You (1997)  'burbs, The (1989)  \\\n",
              "userId                                                                       \n",
              "1                       0.0                        0.0                 0.0   \n",
              "2                       0.0                        0.0                 0.0   \n",
              "3                       0.0                        0.0                 0.0   \n",
              "4                       0.0                        0.0                 0.0   \n",
              "5                       0.0                        0.0                 0.0   \n",
              "\n",
              "title   'night Mother (1986)  (500) Days of Summer (2009)  ...  Zulu (1964)  \\\n",
              "userId                                                     ...                \n",
              "1                        0.0                          0.0  ...          0.0   \n",
              "2                        0.0                          0.0  ...          0.0   \n",
              "3                        0.0                          0.0  ...          0.0   \n",
              "4                        0.0                          0.0  ...          0.0   \n",
              "5                        0.0                          0.0  ...          0.0   \n",
              "\n",
              "title   Zulu (2013)  [REC] (2007)  eXistenZ (1999)  \\\n",
              "userId                                               \n",
              "1               0.0           0.0              0.0   \n",
              "2               0.0           0.0              0.0   \n",
              "3               0.0           0.0              0.0   \n",
              "4               0.0           0.0              0.0   \n",
              "5               0.0           0.0              0.0   \n",
              "\n",
              "title   loudQUIETloud: A Film About the Pixies (2006)  xXx (2002)  \\\n",
              "userId                                                              \n",
              "1                                                 0.0         0.0   \n",
              "2                                                 0.0         0.0   \n",
              "3                                                 0.0         0.0   \n",
              "4                                                 0.0         0.0   \n",
              "5                                                 0.0         0.0   \n",
              "\n",
              "title   xXx: State of the Union (2005)  ¡Three Amigos! (1986)  \\\n",
              "userId                                                          \n",
              "1                                  0.0                    0.0   \n",
              "2                                  0.0                    0.0   \n",
              "3                                  0.0                    0.0   \n",
              "4                                  0.0                    0.0   \n",
              "5                                  0.0                    0.0   \n",
              "\n",
              "title   À nous la liberté (Freedom for Us) (1931)  İtirazım Var (2014)  \n",
              "userId                                                                  \n",
              "1                                             0.0                  0.0  \n",
              "2                                             0.0                  0.0  \n",
              "3                                             0.0                  0.0  \n",
              "4                                             0.0                  0.0  \n",
              "5                                             0.0                  0.0  \n",
              "\n",
              "[5 rows x 9064 columns]"
            ]
          },
          "metadata": {},
          "output_type": "display_data"
        }
      ],
      "source": [
        "display(user_movie_rating.shape, user_movie_rating.head())"
      ]
    },
    {
      "cell_type": "markdown",
      "metadata": {
        "id": "B7VCXqYpsIKx"
      },
      "source": [
        "이제 사용자-영화 기준의 데이터를 **영화-사용자** 기준으로 만들어서 특정 '영화'와 비슷한 영화를 추천해주는 시스템을 구현해보도록 하겠습니다.\n",
        "\n",
        "#### **즉 '특정 영화와 비슷한 영화를 추천'해주는 시스템을 의미합니다.**\n",
        "\n",
        "이를 위해 현재 user-movie로 되어 있는 pivot_table을 movie-user 데이터로 바꿔줍니다."
      ]
    },
    {
      "cell_type": "code",
      "execution_count": 14,
      "metadata": {
        "colab": {
          "base_uri": "https://localhost:8080/"
        },
        "id": "KaEcWC2erCAj",
        "outputId": "6d4de3ab-5675-44b5-f84f-41a75729ef24"
      },
      "outputs": [
        {
          "data": {
            "text/plain": [
              "(9064, 671)"
            ]
          },
          "execution_count": 14,
          "metadata": {},
          "output_type": "execute_result"
        }
      ],
      "source": [
        "movie_user_rating = user_movie_rating.values.T # 전치(transpose) 사용\n",
        "movie_user_rating.shape"
      ]
    },
    {
      "cell_type": "markdown",
      "metadata": {
        "id": "r1vvJ4kIsMEz"
      },
      "source": [
        "### SVD (특이값 분해)"
      ]
    },
    {
      "cell_type": "markdown",
      "metadata": {
        "id": "LQ8PX2JZsNjC"
      },
      "source": [
        "여기서, SVD를 사용할 계획입니다.\n",
        "\n",
        "**SVD(Singular Value Decomposition), 특이값 분해**란 m x n 크기의 데이터 행렬 A를 아래와 같이 분해하는 것을 말합니다.\n",
        "![68747470733a2f2f757365722d696d616765732e67697468756275736572636f6e74656e742e636f6d2f32343633343035342f37333131353132392d39333133386330302d336636352d313165612d396131302d3830616263353961383439342e4a5047.jpeg](data:image/jpeg;base64,/9j/4AAQSkZJRgABAQEAeAB4AAD/4RDoRXhpZgAATU0AKgAAAAgABAE7AAIAAAAKAAAISodpAAQAAAABAAAIVJydAAEAAAAUAAAQzOocAAcAAAgMAAAAPgAAAAAc6gAAAAgAAAAAAAAAAAAAAAAAAAAAAAAAAAAAAAAAAAAAAAAAAAAAAAAAAAAAAAAAAAAAAAAAAAAAAAAAAAAAAAAAAAAAAAAAAAAAAAAAAAAAAAAAAAAAAAAAAAAAAAAAAAAAAAAAAAAAAAAAAAAAAAAAAAAAAAAAAAAAAAAAAAAAAAAAAAAAAAAAAAAAAAAAAAAAAAAAAAAAAAAAAAAAAAAAAAAAAAAAAAAAAAAAAAAAAAAAAAAAAAAAAAAAAAAAAAAAAAAAAAAAAAAAAAAAAAAAAAAAAAAAAAAAAAAAAAAAAAAAAAAAAAAAAAAAAAAAAAAAAAAAAAAAAAAAAAAAAAAAAAAAAAAAAAAAAAAAAAAAAAAAAAAAAAAAAAAAAAAAAAAAAAAAAAAAAAAAAAAAAAAAAAAAAAAAAAAAAAAAAAAAAAAAAAAAAAAAAAAAAAAAAAAAAAAAAAAAAAAAAAAAAAAAAAAAAAAAAAAAAAAAAAAAAAAAAAAAAAAAAAAAAAAAAAAAAAAAAAAAAAAAAAAAAAAAAAAAAAAAAAAAAAAAAAAAAAAAAAAAAAAAAAAAAAAAAAAAAAAAAAAAAAAAAAAAAAAAAAAAAAAAAAAAAAAAAAAAAAAAAAAAAAAAAAAAAAAAAAAAAAAAAAAAAAAAAAAAAAAAAAAAAAAAAAAAAAAAAAAAAAAAAAAAAAAAAAAAAAAAAAAAAAAAAAAAAAAAAAAAAAAAAAAAAAAAAAAAAAAAAAAAAAAAAAAAAAAAAAAAAAAAAAAAAAAAAAAAAAAAAAAAAAAAAAAAAAAAAAAAAAAAAAAAAAAAAAAAAAAAAAAAAAAAAAAAAAAAAAAAAAAAAAAAAAAAAAAAAAAAAAAAAAAAAAAAAAAAAAAAAAAAAAAAAAAAAAAAAAAAAAAAAAAAAAAAAAAAAAAAAAAAAAAAAAAAAAAAAAAAAAAAAAAAAAAAAAAAAAAAAAAAAAAAAAAAAAAAAAAAAAAAAAAAAAAAAAAAAAAAAAAAAAAAAAAAAAAAAAAAAAAAAAAAAAAAAAAAAAAAAAAAAAAAAAAAAAAAAAAAAAAAAAAAAAAAAAAAAAAAAAAAAAAAAAAAAAAAAAAAAAAAAAAAAAAAAAAAAAAAAAAAAAAAAAAAAAAAAAAAAAAAAAAAAAAAAAAAAAAAAAAAAAAAAAAAAAAAAAAAAAAAAAAAAAAAAAAAAAAAAAAAAAAAAAAAAAAAAAAAAAAAAAAAAAAAAAAAAAAAAAAAAAAAAAAAAAAAAAAAAAAAAAAAAAAAAAAAAAAAAAAAAAAAAAAAAAAAAAAAAAAAAAAAAAAAAAAAAAAAAAAAAAAAAAAAAAAAAAAAAAAAAAAAAAAAAAAAAAAAAAAAAAAAAAAAAAAAAAAAAAAAAAAAAAAAAAAAAAAAAAAAAAAAAAAAAAAAAAAAAAAAAAAAAAAAAAAAAAAAAAAAAAAAAAAAAAAAAAAAAAAAAAAAAAAAAAAAAAAAAAAAAAAAAAAAAAAAAAAAAAAAAAAAAAAAAAAAAAAAAAAAAAAAAAAAAAAAAAAAAAAAAAAAAAAAAAAAAAAAAAAAAAAAAAAAAAAAAAAAAAAAAAAAAAAAAAAAAAAAAAAAAAAAAAAAAAAAAAAAAAAAAAAAAAAAAAAAAAAAAAAAAAAAAAAAAAAAAAAAAAAAAAAAAAAAAAAAAAAAAAAAAAAAAAAAAAAAAAAAAAAAAAAAAAAAAAAAAAAAAAAAAAAAAAAAAAAAAAAAAAAAAAAAAAAAAAAAAAAAAAAAAAAAAAAAAAAAAAAAAAAAAAAAAAAAAAAAAAAAAAAAAAAAAAAAAAAAAAAAAAAAAAAAAAAAAAAAAAAAAAAAAAAAAAAAAAAAAAAAAAAAAAAAAAAAAAAAAAAAAAAAAAAAAAAAAAAAAAAAAAAAAAAAAAAAAAAAAAAAAAAAAAAAAAAAAAAAAAAAAAAAAAAAAAAAAAAAAAAAAAAAAAAAAAAAAAAAAAAAAAAAAAAAAAAAAAAAAAAAAAAAAAAAAAAAAAAAAAAAAAAAAAAAAAAAAAAAAAAAAAAAAAAAAAAAAAAAAAAAAAAAAAAAAAAAAAAAAAAAAAAAAAAAAAAAAAAAAAAAAAAAAAAAAAAAAAAAAAAAAAAAAAAAAAAAAAAAAAAAAAAAAAAAAAAAAAAAAAAAAAAAAAAAAAAAAAAAAAAAAAAAAAAAAAAAAAAAAAAAAAAAAAAAAAAAAAAAAAAAAAAAAAAAAAAAAAAAAAAAAAAAAAAAAAAAAAAAAAAAAAAAAAAAAAAAAAAAAAAAAAAAAAAAAAAAAAAAAAAAAAAAAAAAAAAAAAAAAAAAAAAAAAAAAAAAAAAAAAAAAAAAAAAAAAAAAAAAAAAAAAAAAAAAAAAAAAAAAAAAAAAAAAAAAAAAAAAAAAAAAAAAAAAAAAAAAAAAAAAAAAAAAAAAAAAAAAAAAAAAAAAAAAAAAAAAAAAAAAAAAAAAAAAAAAAAAAAAAAAAAAAAAAAAAAAAAAAAAAAAAAAAAAAAAAAAAAAAAAAAAAAAAAAAAAAAAAAAAAAAAAAAAAAAAAAAAAAAAAAAAAAAAAAAAAAAAAAAAAAAAAAAAAAAAAAAAAAAAAAAAAAAAAAAAAAAAAAAAAAAAAAAAAAAAAAAAAAAAAAAAAAAAAAAAAAAAAAAAAAAAAAAAAAAAAAAAAAAAAAAAAAAAAAAAAAAAAAAAAAAAAAAAAAAAAAAAAAAAAAAAAAAAAAAAAAAAAAAAAAAAGxlZXNvb2ppbgAABZADAAIAAAAUAAAQopAEAAIAAAAUAAAQtpKRAAIAAAADMTQAAJKSAAIAAAADMTQAAOocAAcAAAgMAAAIlgAAAAAc6gAAAAgAAAAAAAAAAAAAAAAAAAAAAAAAAAAAAAAAAAAAAAAAAAAAAAAAAAAAAAAAAAAAAAAAAAAAAAAAAAAAAAAAAAAAAAAAAAAAAAAAAAAAAAAAAAAAAAAAAAAAAAAAAAAAAAAAAAAAAAAAAAAAAAAAAAAAAAAAAAAAAAAAAAAAAAAAAAAAAAAAAAAAAAAAAAAAAAAAAAAAAAAAAAAAAAAAAAAAAAAAAAAAAAAAAAAAAAAAAAAAAAAAAAAAAAAAAAAAAAAAAAAAAAAAAAAAAAAAAAAAAAAAAAAAAAAAAAAAAAAAAAAAAAAAAAAAAAAAAAAAAAAAAAAAAAAAAAAAAAAAAAAAAAAAAAAAAAAAAAAAAAAAAAAAAAAAAAAAAAAAAAAAAAAAAAAAAAAAAAAAAAAAAAAAAAAAAAAAAAAAAAAAAAAAAAAAAAAAAAAAAAAAAAAAAAAAAAAAAAAAAAAAAAAAAAAAAAAAAAAAAAAAAAAAAAAAAAAAAAAAAAAAAAAAAAAAAAAAAAAAAAAAAAAAAAAAAAAAAAAAAAAAAAAAAAAAAAAAAAAAAAAAAAAAAAAAAAAAAAAAAAAAAAAAAAAAAAAAAAAAAAAAAAAAAAAAAAAAAAAAAAAAAAAAAAAAAAAAAAAAAAAAAAAAAAAAAAAAAAAAAAAAAAAAAAAAAAAAAAAAAAAAAAAAAAAAAAAAAAAAAAAAAAAAAAAAAAAAAAAAAAAAAAAAAAAAAAAAAAAAAAAAAAAAAAAAAAAAAAAAAAAAAAAAAAAAAAAAAAAAAAAAAAAAAAAAAAAAAAAAAAAAAAAAAAAAAAAAAAAAAAAAAAAAAAAAAAAAAAAAAAAAAAAAAAAAAAAAAAAAAAAAAAAAAAAAAAAAAAAAAAAAAAAAAAAAAAAAAAAAAAAAAAAAAAAAAAAAAAAAAAAAAAAAAAAAAAAAAAAAAAAAAAAAAAAAAAAAAAAAAAAAAAAAAAAAAAAAAAAAAAAAAAAAAAAAAAAAAAAAAAAAAAAAAAAAAAAAAAAAAAAAAAAAAAAAAAAAAAAAAAAAAAAAAAAAAAAAAAAAAAAAAAAAAAAAAAAAAAAAAAAAAAAAAAAAAAAAAAAAAAAAAAAAAAAAAAAAAAAAAAAAAAAAAAAAAAAAAAAAAAAAAAAAAAAAAAAAAAAAAAAAAAAAAAAAAAAAAAAAAAAAAAAAAAAAAAAAAAAAAAAAAAAAAAAAAAAAAAAAAAAAAAAAAAAAAAAAAAAAAAAAAAAAAAAAAAAAAAAAAAAAAAAAAAAAAAAAAAAAAAAAAAAAAAAAAAAAAAAAAAAAAAAAAAAAAAAAAAAAAAAAAAAAAAAAAAAAAAAAAAAAAAAAAAAAAAAAAAAAAAAAAAAAAAAAAAAAAAAAAAAAAAAAAAAAAAAAAAAAAAAAAAAAAAAAAAAAAAAAAAAAAAAAAAAAAAAAAAAAAAAAAAAAAAAAAAAAAAAAAAAAAAAAAAAAAAAAAAAAAAAAAAAAAAAAAAAAAAAAAAAAAAAAAAAAAAAAAAAAAAAAAAAAAAAAAAAAAAAAAAAAAAAAAAAAAAAAAAAAAAAAAAAAAAAAAAAAAAAAAAAAAAAAAAAAAAAAAAAAAAAAAAAAAAAAAAAAAAAAAAAAAAAAAAAAAAAAAAAAAAAAAAAAAAAAAAAAAAAAAAAAAAAAAAAAAAAAAAAAAAAAAAAAAAAAAAAAAAAAAAAAAAAAAAAAAAAAAAAAAAAAAAAAAAAAAAAAAAAAAAAAAAAAAAAAAAAAAAAAAAAAAAAAAAAAAAAAAAAAAAAAAAAAAAAAAAAAAAAAAAAAAAAAAAAAAAAAAAAAAAAAAAAAAAAAAAAAAAAAAAAAAAAAAAAAAAAAAAAAAAAAAAAAAAAAAAAAAAAAAAAAAAAAAAAAAAAAAAAAAAAAAAAAAAAAAAAAAAAAAAAAAAAAAAAAAAAAAAAAAAAAAAAAAAAAAAAAAAAAAAAAAAAAAAAAAAAAAAAAAAAAAAAAAAAAAAAAAAAAAAAAAAAAAAAAAAAAAAAAAAAAAAAAAAAAAAAAAAAAAAAAAAAAAAAAAAAAAAAAAAAAAAAAAAAAAAAAAAAAAAAAAAAAAAAAAAAAAAAAAAAAAAAAAAAAAAAAAAAAAAAAAAAAAAAAAAAAAAAAAAAAAAAAAAAAAAAAAAAAAAAAAAAAAAAAAAAAAAAAAAAAAAAAAAAAAAAAAAAAAAAAAAAAAAAAAAAAAAAAAAAAAAAAAAAAAAAAAAAAAAAAAAAAAAAAAAAAAAAAAAAAAAAAAAAAAAAAAAAAAAAAAAAAAAAAAAAAAAAAAAAAAAAAAAAAAAAAAAAAAAAAAAAAAAAAAAAAAAAAAAAAAAAAAAAAAAAAAAAAAAAAAAAAAAAAAAAAAAAAAAAAAAAAAAAAAAAAAAAAAAAAAAAAAAAAAAAAAAAAAAAAAAAAAAAAAAAAAAAAAAAAAAAAAAAAAAAAAAAAAAAAAAAAAAAAAAAAAAAAAAAAAAAAAAAAAAAAAAAAAAAAAAAAAAAAAAAAAAAAAAAAAAAAAAAAAAAAAAAAAAAAAAAAAAAAAAAAAAAAAAAAAAAAAAAAAAAAAAAAAAAAAAAAAAAAAAAAAAAAAAAAAAAAAAAAAAAAAAAAAAAAAAAAAAAAAAAAAAAAAAAAAAAAAAAAAAAAAAAAAAAAAAAAAAAAAAAAAAAAAAAAAAAAAAAAAAAAAAAAAAAAAAAAAAAAAAAAAAAAAAAAAAAAAAAAAAAAAAAAADIwMjA6MDE6MjUgMTE6MTc6MDcAMjAyMDowMToyNSAxMToxNzowNwAAAGwAZQBlAHMAbwBvAGoAaQBuAAAA/+ELHGh0dHA6Ly9ucy5hZG9iZS5jb20veGFwLzEuMC8APD94cGFja2V0IGJlZ2luPSfvu78nIGlkPSdXNU0wTXBDZWhpSHpyZVN6TlRjemtjOWQnPz4NCjx4OnhtcG1ldGEgeG1sbnM6eD0iYWRvYmU6bnM6bWV0YS8iPjxyZGY6UkRGIHhtbG5zOnJkZj0iaHR0cDovL3d3dy53My5vcmcvMTk5OS8wMi8yMi1yZGYtc3ludGF4LW5zIyI+PHJkZjpEZXNjcmlwdGlvbiByZGY6YWJvdXQ9InV1aWQ6ZmFmNWJkZDUtYmEzZC0xMWRhLWFkMzEtZDMzZDc1MTgyZjFiIiB4bWxuczpkYz0iaHR0cDovL3B1cmwub3JnL2RjL2VsZW1lbnRzLzEuMS8iLz48cmRmOkRlc2NyaXB0aW9uIHJkZjphYm91dD0idXVpZDpmYWY1YmRkNS1iYTNkLTExZGEtYWQzMS1kMzNkNzUxODJmMWIiIHhtbG5zOnhtcD0iaHR0cDovL25zLmFkb2JlLmNvbS94YXAvMS4wLyI+PHhtcDpDcmVhdGVEYXRlPjIwMjAtMDEtMjVUMTE6MTc6MDcuMTQxPC94bXA6Q3JlYXRlRGF0ZT48L3JkZjpEZXNjcmlwdGlvbj48cmRmOkRlc2NyaXB0aW9uIHJkZjphYm91dD0idXVpZDpmYWY1YmRkNS1iYTNkLTExZGEtYWQzMS1kMzNkNzUxODJmMWIiIHhtbG5zOmRjPSJodHRwOi8vcHVybC5vcmcvZGMvZWxlbWVudHMvMS4xLyI+PGRjOmNyZWF0b3I+PHJkZjpTZXEgeG1sbnM6cmRmPSJodHRwOi8vd3d3LnczLm9yZy8xOTk5LzAyLzIyLXJkZi1zeW50YXgtbnMjIj48cmRmOmxpPmxlZXNvb2ppbjwvcmRmOmxpPjwvcmRmOlNlcT4NCgkJCTwvZGM6Y3JlYXRvcj48L3JkZjpEZXNjcmlwdGlvbj48L3JkZjpSREY+PC94OnhtcG1ldGE+DQogICAgICAgICAgICAgICAgICAgICAgICAgICAgICAgICAgICAgICAgICAgICAgICAgICAgICAgICAgICAgICAgICAgICAgICAgICAgICAgICAgICAgICAgICAgICAgICAgICAgCiAgICAgICAgICAgICAgICAgICAgICAgICAgICAgICAgICAgICAgICAgICAgICAgICAgICAgICAgICAgICAgICAgICAgICAgICAgICAgICAgICAgICAgICAgICAgICAgICAgICAKICAgICAgICAgICAgICAgICAgICAgICAgICAgICAgICAgICAgICAgICAgICAgICAgICAgICAgICAgICAgICAgICAgICAgICAgICAgICAgICAgICAgICAgICAgICAgICAgICAgIAogICAgICAgICAgICAgICAgICAgICAgICAgICAgICAgICAgICAgICAgICAgICAgICAgICAgICAgICAgICAgICAgICAgICAgICAgICAgICAgICAgICAgICAgICAgICAgICAgICAgCiAgICAgICAgICAgICAgICAgICAgICAgICAgICAgICAgICAgICAgICAgICAgICAgICAgICAgICAgICAgICAgICAgICAgICAgICAgICAgICAgICAgICAgICAgICAgICAgICAgICAKICAgICAgICAgICAgICAgICAgICAgICAgICAgICAgICAgICAgICAgICAgICAgICAgICAgICAgICAgICAgICAgICAgICAgICAgICAgICAgICAgICAgICAgICAgICAgICAgICAgIAogICAgICAgICAgICAgICAgICAgICAgICAgICAgICAgICAgICAgICAgICAgICAgICAgICAgICAgICAgICAgICAgICAgICAgICAgICAgICAgICAgICAgICAgICAgICAgICAgICAgCiAgICAgICAgICAgICAgICAgICAgICAgICAgICAgICAgICAgICAgICAgICAgICAgICAgICAgICAgICAgICAgICAgICAgICAgICAgICAgICAgICAgICAgICAgICAgICAgICAgICAKICAgICAgICAgICAgICAgICAgICAgICAgICAgICAgICAgICAgICAgICAgICAgICAgICAgICAgICAgICAgICAgICAgICAgICAgICAgICAgICAgICAgICAgICAgICAgICAgICAgIAogICAgICAgICAgICAgICAgICAgICAgICAgICAgICAgICAgICAgICAgICAgICAgICAgICAgICAgICAgICAgICAgICAgICAgICAgICAgICAgICAgICAgICAgICAgICAgICAgICAgCiAgICAgICAgICAgICAgICAgICAgICAgICAgICAgICAgICAgICAgICAgICAgICAgICAgICAgICAgICAgICAgICAgICAgICAgICAgICAgICAgICAgICAgICAgICAgICAgICAgICAKICAgICAgICAgICAgICAgICAgICAgICAgICAgICAgICAgICAgICAgICAgICAgICAgICAgICAgICAgICAgICAgICAgICAgICAgICAgICAgICAgICAgICAgICAgICAgICAgICAgIAogICAgICAgICAgICAgICAgICAgICAgICAgICAgICAgICAgICAgICAgICAgICAgICAgICAgICAgICAgICAgICAgICAgICAgICAgICAgICAgICAgICAgICAgICAgICAgICAgICAgCiAgICAgICAgICAgICAgICAgICAgICAgICAgICAgICAgICAgICAgICAgICAgICAgICAgICAgICAgICAgICAgICAgICAgICAgICAgICAgICAgICAgICAgICAgICAgICAgICAgICAKICAgICAgICAgICAgICAgICAgICAgICAgICAgICAgICAgICAgICAgICAgICAgICAgICAgICAgICAgICAgICAgICAgICAgICAgICAgICAgICAgICAgICAgICAgICAgICAgICAgIAogICAgICAgICAgICAgICAgICAgICAgICAgICAgICAgICAgICAgICAgICAgICAgICAgICAgICAgICAgICAgICAgICAgICAgICAgICAgICAgICAgICAgICAgICAgICAgICAgICAgCiAgICAgICAgICAgICAgICAgICAgICAgICAgICAgICAgICAgICAgICAgICAgICAgICAgICAgICAgICAgICAgICAgICAgICAgICAgICAgICAgICAgICAgICAgICAgICAgICAgICAKICAgICAgICAgICAgICAgICAgICAgICAgICAgICAgICAgICAgICAgICAgICAgICAgICAgICAgICAgICAgICAgICAgICAgICAgICAgICAgICAgICAgICAgICAgICAgICAgICAgIAogICAgICAgICAgICAgICAgICAgICAgICAgICAgICAgICAgICAgICAgICAgICAgICAgICAgICAgICAgICAgICAgICAgICAgICAgICAgICAgICAgICAgICAgICAgICAgICAgICAgCiAgICAgICAgICAgICAgICAgICAgICAgICAgICAgICAgICAgICAgICAgICAgICAgICAgICAgICAgICAgICAgICAgICAgICAgICAgICAgICAgICAgICAgICAgICAgICAgICAgICAKICAgICAgICAgICAgICAgICAgICAgICAgICAgIDw/eHBhY2tldCBlbmQ9J3cnPz7/2wBDAAcFBQYFBAcGBQYIBwcIChELCgkJChUPEAwRGBUaGRgVGBcbHichGx0lHRcYIi4iJSgpKywrGiAvMy8qMicqKyr/2wBDAQcICAoJChQLCxQqHBgcKioqKioqKioqKioqKioqKioqKioqKioqKioqKioqKioqKioqKioqKioqKioqKioqKir/wAARCAGYA9UDASIAAhEBAxEB/8QAHwAAAQUBAQEBAQEAAAAAAAAAAAECAwQFBgcICQoL/8QAtRAAAgEDAwIEAwUFBAQAAAF9AQIDAAQRBRIhMUEGE1FhByJxFDKBkaEII0KxwRVS0fAkM2JyggkKFhcYGRolJicoKSo0NTY3ODk6Q0RFRkdISUpTVFVWV1hZWmNkZWZnaGlqc3R1dnd4eXqDhIWGh4iJipKTlJWWl5iZmqKjpKWmp6ipqrKztLW2t7i5usLDxMXGx8jJytLT1NXW19jZ2uHi4+Tl5ufo6erx8vP09fb3+Pn6/8QAHwEAAwEBAQEBAQEBAQAAAAAAAAECAwQFBgcICQoL/8QAtREAAgECBAQDBAcFBAQAAQJ3AAECAxEEBSExBhJBUQdhcRMiMoEIFEKRobHBCSMzUvAVYnLRChYkNOEl8RcYGRomJygpKjU2Nzg5OkNERUZHSElKU1RVVldYWVpjZGVmZ2hpanN0dXZ3eHl6goOEhYaHiImKkpOUlZaXmJmaoqOkpaanqKmqsrO0tba3uLm6wsPExcbHyMnK0tPU1dbX2Nna4uPk5ebn6Onq8vP09fb3+Pn6/9oADAMBAAIRAxEAPwD6RooooAKKKKACiiigAooooAKKKKACiiigAooooAKKKKACiiigAooooAKKKKACiiigAooooAKKKKACiiigAooooAKKKKACiiigAooooAKKKKACiiigAooooAKKKKACiiigAooooAKKKKACiiigAooooAKKKKACiiigAooooAKKKKACiiigAooooAKKKKACiiigAooooAKKKKACiiigAooooAKKKKACiiigAooooAKKKKACiiigAooooAKKKKACiiigAooooAKKKKACiiigAooooAKKKKACiiigAooooAKKKKACiiigAooooAKKKKACiiigAooooAKKKKACiiigAooooAKKKKACiiigAooooAKKKKACiiigAooooAKKKKACiiigAooooAKKKKACiiigAooooAKKKKACiiigAooooAKKKKACiiigAooooAKKKKACiiigAooooAKKKKACiiigAooooAKKKKACiiigAooooAKK474h+Ox4LsLT7NCtxeXU6IFdSVjj3AM7YIx1wPc12AO5QR3GaAFooooAKKK5L4j+I9T8KeF21bSXsy8brH5FzbvJ5zMwAAKyLt7nofwoA62isW3bXY/Dss2o3unLfeX5iulk4ii4BIZTKS2OeQy/Ssez1Lxld+An1iEaVLqU1stxa2gtZFX1KsTKSSR06YPrQB2VFcD4L8R+I/Gfh5dRtdW0a3mVzFcWr6TKWgkHVSftI/PFaugan4ku7vW9L1o6bDf2ZQ2s9vA5ieN1O12Qvk8gjAYdOvegDqaK4jwD4n1zxLe6umrtp8a6XdvZtFb2zq0jDpJuMhAB5+XB+tX49Q8RX/jK8tNOudMGkWZQSySWkjS+YeWiBEoBIGDuxxuAweaANDU/FekaRNPHfzyobaMSztHayyLCp6FmVSF6dzUmneJNN1S7W2tJJ/OeLz0Wa0li3R5A3AuoBHI6VzfxFgiGhx6TaKFn8Q6jDbynJJdeN5/74TFdgljbx3KXCx4lji8lWyeEznGOnYflQBYooooAKKKKACiiigAooooAKKKKACiiigAooooAKKKKACiiigAooooAKKKKACiiigAooooAKKKKACiiigAooooAKKKKACiiigAooooAKKKKACiiigAooooAKKKKACiiigAooooAKKKKACiiigAooooAKKKKACiiigAooooAKKKKACiiigAooooAKKKKACiiigAooooAKKKKACiiigAooooAKKKKACiiigAooooAKKKKACiiigAooooAKKKKACiiigAooooAKKKKACiiigAooooAKKKKACiiigAqC9vINPsZry8kEcECF5HPYAVPWD4i8Lf8JG0Sza1qdnBE6SCC0MIRnU5DNujYnnHBOOBxQB5n8QpNSvPh7rN9qHh3Ure6upYpvtMpt/LhiRx5aYEpfGDk/L95j0r2HTJvtGk2kw6SQI/5qDWZ4m8MR+KdFOlXupX1vbSLtnFv5QMw4+8WRscjPy4q5omlHRdKisBfXV6kKhI3uvL3KoAAX5FUEDHcZ96AM3xHrf8AZd3FH/wk+g6NvTd5WqRbnfnqv7+Pj8D9axv+Eu/6qH4L/wDAf/7rru6KAM3QL/8AtHSxP/aun6rlyPtOnJtiOO2PMfkf71cb8SAdV8W+DfD5B8q4vzdzehWIZx+teiVl614fs9c+zPcmWG5s5PNtrqBtskLYwSCQRyOCCCD6UAVPGkzjwzNZW7EXOostnCFPOZDgkfRdzfQVuQQpb28cMQwkahFA7ADArOsdCitbtby7u7rUbxFKJcXbLlAeu1UVUXPchQT3NWNW086rpU9iLy5shOuwzWrKsijvgsCB9cUAcZ4e0Vf+FoarrvhyfytImj8q9QDMdzcg8mP/AHe59cj1x2EF1Yy67eW8Ma/bYYojPIEAJVt2xS3fGGOO2fesO18DzWNnFa2fi3XoYIUCRxobUBVHQD9xV3wz4Tt/DLX0kV/f6hPfyiWee/lWRyQMAAhRxjtQBwGhatJoXxC8b6TYqr6he3kL2UR6M7qSWI/uqDuPsPevT9H0uLR9Lis4WLlctJK33pXJyzn3JJNUrXwnplp4vvfEqIzaheRJCzMQQiqMfLxxnAz9K26AMy88N6FqN19p1DRdPurj/nrPao7+nUjNaKIkUaxxqqIoAVVGAAOwFOooAKKKKACiiigAooooAKKKKACiiigAooooAKKKKACiiigAooooAKKKKACiiigAooooAKKKKACiiigAooooAKKKKACiiigAooooAKKKKACiiigAooooAKKKKACiiigAooooAKKKKACiiigAooooAKKKKACiiigAooooAKKKKACiiigAooooAKKKKACiiigAooooAKKKKACiiigAooooAKKKKACiiigAooooAKKKKACiiigAooooAKKKKACiiigAooooAKKKKACiiigAooooAKKKKACiiigAooooAKKKKACiiigAooooAKKKKACiiigAooooAKKKKACiiigAooooAKKKKACiiigAooooAKKKKACiiigAooooAKKKKACiiigAooooAKKKKACiiigAooooAKKKKACiiigAooooAKKKKACiiigAooooAKKKKACiiigAooooAKKKKACiiigAooooAKKKKACiiigAooooAKKKKACiiigAooooAKKKKACiiigAooooAKKKKACiiigAooooAKKKKACiiigAooooAKKKKACiiigAooooAKKKKACiiigAooooAKKKKACiiigAooooAKKKKACiiigAooooAKKKKACiiigAooooAKKKKACiiigAooooAKKKKACiiigAooooAKKKKACiiigAooooAKKKKACiiigAooooAKKKKACiiigAooooAKKKKACiiigAooooAKKKKACiiigAooooAKKKKACiiigAooooAKKKKACiiigAooooAKKKKACiiigAooooAKKKKACiiigAooooAKKKKACiiigAooooAKKKKACiiigAooooAKKKKACiiigAooooAKKKKACiiigAooooAKKKKACiiigAooooAKKKKACiiigAooooAKKKKACiiigAooooAKKKKACiiigAooooAKKKKACiiigAooooAKKKKACiiigAooooAKKKKACiiigAooooAKKKKACiiigAooooAKKKKACiiigAooooAKKKKACiiigAooooAKKKKACiiigAooooAKKKKACiimtIiffZV+pxQA6imCaNjgSIT6BhT6ACiiigAooooAKKKKACiiigAooooAKKKKACiiigAooooAKKKKACiiigAooooAKKKKACiiigAooooAKKKKACiiigAooooAKKKKACiiigAooooAKKKKACiiigAr5Y+KPxN8Sf8LWurrwzfXiaR4deJLlIJmETneN28A4OSdvPpX0L4+8TReEPAuqa1KQGt4D5QJ+9IeFH4kivlPwd448N6b8PfEmk+ItP1S71PXmYyXMMSso4yhyWBzuJNLrfsPp6n2Fo+p2+taLZ6nZtugu4VmjPswzVyvFP2ZfFn9r+BZ9BuXzc6RLhAevlPkj8ju/Sva6uSsyVsFFFFSMKKKKACiiigAooooAKKKKACiiigAooooAKKKKACiiigAooooAKKKKACvMv2gNV1DR/hRdXek3txY3K3EQE1vKY3ALcjI5r02vKP2kVJ+Dd4QM4uISfb5xUy2Kjudr8Prme8+HOgXN3NJPPLp8LySyMWZ2KjJJPU15j4h17V4f2sdA0mHU7yPTZbQNJZrOwic7JTkpnB6D8hXo/wxkWX4WeG2jO4f2dCMj1CgV5P4idZf2zNAWM7jHaAOB2Plyn+RFXL4/mQvgfofQNFFFIYUUUUAFFFFABRRRQAUUUUAFFFFABRRRQAUUUUAFFFFABRRRQAUUUUAFFFFAEF7HNNYTxWkvkzvGyxy4zsYjg49jXyydf+Ldr8QP+ET1vxoNHu5Di3nu41EM/Py7WCHr2z9OvFfVteGftEapouqWll4UtLD+1PFNzKps1gP7y2yepI9fT8e1LqPobvhDwj8V9O8VWd34p8Z2mo6VGW8+2jX5pAVIGPkHfB69q9WrnPAOk61ongjTrDxPf/b9ShiAll9PRc/xYHGe+K6OqfYldwooopDCiiigAooooAKKKKACiiigAooooAKKKKACiiigArxnQvHniTSf2g9Q8G+KtQ+06ddKz6aWgVNufnUAqBn5dwOe617NXhX7Rmjz6ZLoHj3S0xdaTcrHMQDym7cmfbO4f8CoWjVw3TR6b8SPFX/CGfD/VNZVlWeGLbb5GcytwvHfk1wPg3wePib8ObLXvimratfyCSS0OTB5MR6DEZUHO3dk+tc38YPEH/CxtU8F+EdDl3x6r5d7OV7Kw4J+i7jXv9rp8Njo8WnWaLHDDAIY1HRQBgUW0bC+qR4r8BPh54ZvPB+m+KLnT2fWIbubZcefJxtcqvy7tvT2r3WuP+FvhG98EeBINE1OaCa4jnlkLwElcO5YdQD0NdhTYdQooopAFFFFABRRRQAUUUUAFFFFABRRRQAUUUUAFFFFABRRRQAUUUUAFFFFABRRRQAUUUUAFFFFABRRRQAUUUUAFFFFABRRRQAUUUUAFFFFABRRRQAUUUUAeZ/GfwN4j+IOladpGhT2kFks/nXjTyspbHCgAA56k/UCu+0rSLTSNHtNOtIVWC1hWFBjsoxV6ijoB5Rpfwz1rw78d7vxZostmND1KMrd27ORICw5wMYPzqrde5r1eiijpYOtwooooAKKKKACiiigAooooAKKKKACiiigAooooAKKKKACiiigAooooAKKKKACsbxd4Zs/GPhW+0LUdwgu49u9eqMDlWH0IBrZoo3DY+ftH8KfG34e2R0Tww+l6zpaswt3mdQYQT1AZlI65x8wFdH8MfhJq+i+Lrvxp491GLUNfuAVjEXKxZGCxOBzj5QAMAZ69vXqKd3uAUUUUgCiiigAooooAKKKKACiiigAooooAKKKKACiiigAooooAKKKKACiiigAooooAzvELaonhzUG8PxpLqYt3+ypIQFaTHyg5IHX3r5v8MeBvjN4X8R3mvweHNNv9WvCS95f3UcjrnrtxKAM/y46V9Q0UbO4dLHlHhPU/jRP4os4/FuhaRbaOzH7TLBIpdRtOMYlbvjsa9XoooAKKKKACiiigAooooAKKKKACiiigAooooAKKKKACiiigArF8YeHofFXg/U9FuANt5AyKT/C/VT+DAGtqik9UNaM+fvgT8KfEPh7xdd634ys3ge0txbWAkkV8g8EjBOAAMfjX0DRRVXuTYKKKKQwooooAKKKKACiiigAooooAKKKKACiiigAooooAKKKKACiiigAooooAKKKKACiiigAooooAKKKKACiiigAooooAKKKKACiiigApk0qwQvLIcIgyTjtT6q6n/wAgq5/65n+VAEP9uWX99/8Av2arX3izSdOhWS8neNGbaD5THn8vasTNc144P/Epg/67j/0E0Adl/wALE8N/8/zf9+X/AMKs2XjTRNRlaOzuWkdV3EeUw4/KvnnTNds9Wu7y3tCxezk2PkcH3HtkEfhXb+B/+QtP/wBcT/MUAeu/25Zf33/79mj+3LL++/8A37Nc3mjNAHSf25Zf33/79mj+3LL++/8A37Nc3mjNAHSf25Zf33/79mj+3LL++/8A37Nc3mjNAHSf25Zf33/79mj+3LL++/8A37Nc3mjNAHSf25Zf33/79mj+3LL++/8A37Nc3mjNAHSf25Zf33/79mrdvcR3UCywklGzgkY6HFchmuk0P/kERf7zf+hGgDQooooAKKKKACsx/EFhHI6NI+5GKnEZ6g4NadcFcf8AH5cf9d5P/QjW9Gmp3uY1ZuFrHU/8JFp/9+T/AL9tVJ/HOgxyMj3bBlOCPKbg/lXP1wFzeW9xqF6YZlcQzukm0/dYHkGu6lhKc3Zs46uKqQV0j17/AITzw/8A8/jf9+m/wq6viTTmUMskhBGR+7b/AArw62uYbu2S4tpFlikG5HU5DD1r0KD/AI94/wDdH8qdXB04JWbJo4upNtOx2H/CRaf/AH5P+/bUf8JFp/8Afk/79tXJUVh9XgdHtpHW/wDCRaf/AH5P+/bUf8JFp/8Afk/79tXJUUfV4B7aR1v/AAkWn/35P+/bUf8ACRaf/fk/79tXJUUfV4B7aR1v/CRaf/fk/wC/bUf8JFp/9+T/AL9tXJUUfV4B7aR1v/CRaf8A35P+/bUf8JFp/wDfk/79tXJUUfV4B7aR1v8AwkWn/wB+T/v21H/CRaf/AH5P+/bVyVFH1eAe2kdb/wAJFp/9+T/v21H/AAkWn/35P+/bVyVFH1eAe2kdb/wkWn/35P8Av21H/CRaf/fk/wC/bVyVFH1eAe2kdb/wkWn/AN+T/v21H/CRaf8A35P+/bVyVFH1eAe2kdb/AMJFp/8Afk/79tR/wkWn/wB+T/v21clRR9XgHtpHW/8ACRaf/fk/79tSHxHpygkySADk/u2/wrk6ZN/qJP8AdP8AKj6vAPbSPRAcjNFIv3F+lLXAdgUUUUAFMnmS3t5JpThI1LMcZwBT6p6x/wAgS9/693/9BNKTsmxPRFf/AISPTv8AnpJ/37akPiTTVGTJJ/36b/CuTqOY/u/+BD+Yri+sTOf2sjsf+Ej07/npJ/37aj/hI9O/56Sf9+2rkqKPbzD2sjrf+Ej07/npJ/37aj/hI9O/56Sf9+2rkqKPbzD2sjrf+Ej07/npJ/37aj/hI9O/56Sf9+2rkqKPbzD2sjrf+Ej07/npJ/37aj/hI9O/56Sf9+2rkqKPbzD2sjrf+Ej07/npJ/37aj/hI9O/56Sf9+2rkqKPbzD2sjrf+Ej07/npJ/37aj/hI9O/56Sf9+2rkqKPbzD2sjrf+Ej07/npJ/37arlnewX8JktmLKrbTlSOcZ7/AFrhq6fwv/yDp/8Aruf/AEFa0p1ZSlZlwqOTszaooorqNgooooAKzn12xjkeNnfcjFTiM9Rwa0a4e4/4/bn/AK7yf+hGuevUlTtY68NRjVb5jpf+EgsP78n/AH7NH/CQWH9+T/v2a5aiub6zM7fqVLzOp/4SCw/vyf8Afs0f8JBYf35P+/ZrlqKPrMw+pUvM6n/hILD+/J/37NH/AAkFh/fk/wC/ZrlqKPrMw+pUvM6n/hILD+/J/wB+zR/wkFh/fk/79muWoo+szD6lS8zqf+EgsP78n/fs0f8ACQWH9+T/AL9muWoo+szD6lS8zqf+EgsP78n/AH7NH/CQWH9+T/v2a5aij6zMPqVLzOp/4SCw/vyf9+zR/wAJBYf35P8Av2a5aij6zMPqVLzOwtNVtb2YxQMxfbuwUI4/yauVy3h7/kMH/ri381rqa66M3ON2efiKcac+WIUUUVsc4UUUUAFFFFABRRRQAUUUUAFFFFABRRRQAUUUUAFFFFABRRRQAUUUUAFFFFABRRRQAUUUUAFFFFABVXU/+QVc/wDXM/yq1VXVP+QVc/8AXM/yoA5SuN+KFxcW3hFpLKF5rjzMRIi5JYqQOPxrsa5vxv8A8gmD/ruP/QTQB4rp2ial4e1LTpyyXURQ2swghIYA5YOxyc4bvx1r0b4Y6qmpX05yDMsJ8wIDtX5+Bn146Vl9a2Ph1pVtp2sXJtFZA8HzDdwx3DnHr70Aei0UlFAC0UlFAC0UlFAC0UlFAC0UlFAC10uhf8giL/eb/wBCNczXTaF/yB4v95v/AEI0AaFFFee3/wAWvsGpXNp/wg3i+48iVo/Og0zdHJg43Kd3IPUGgD0KivNf+Fyf9SB41/8ABV/9lWt4a+I//CR61Hp3/CJeJdM3qzfadQsPKiXAzgtuPJ7UAdpXA3H/AB+XP/XeT/0I131cBc/8ftz/ANd5P/QjXXht2c1foMrxQ6zYaJq3ie21S4S2ma/lmjjk4MisBgqP4unavaq4XUYo5NSmZ41ZllbBK5I5r0qMHJuzPPrSUY2aOa8M3K6foOmafeqYJVsllYyYUKMgYOeh5r1yA/6PH/uj+VeXaloQv9Vt78XHlvbqAiFdyk7s8jPP9Dg16hB/x7x/7o/lV1rpJMii022iWikormOoWikooAWikooAWikooAWikooAWikooAWikooAWikooAWikooAWikooAWmTf6h/wDdP8qdTJv9S/8Aun+VC3E9j0VfuL9KWkX7i/Sh13xsuSu4YyOoryD0xaK8fs/EGs/CTxP/AGT4zu59S8LajOTY6zMdzWrsc+XKfT3/AKZxoeM/Heo63rX/AAhXw3dJ9VlXN7qSnMWnxnvnu+Ogo9APUKpax/yA77/r3f8A9BNQ+HdIbQfD1npkl7cX728YRrm5fc8h7kmp9Y/5Al7/ANe7/wDoJqZ/CyXscJ5z/wDPvJ+a/wCNQ3NyYrdnkgkCrgk5Xpn61azVTVcHSrgHpsOa8qV1Fs4nsU/+EmsM4y+foP8AGrFtrVtd3CwxCTc3TK8dK8Y0PQNHPim8aysbeeyhcOtw68xTZ5RD3A6+x4r0Pw5dRXWqRPA25Vd0Jxj5lyCPzFc7qSUkk+3QhyadjtKKTNGa6jQWikzRmgBaKTNGaAForK1vUXtIVjgOJJO/oKzH06/jtPthnbcBuI3HcBWMqtm0lexDlZ2R1FFZmiX73lqwmOZIzgn1FaWa1jJSV0UndXFrqPC3/IOm/wCu5/8AQVrls11Hhb/kGzf9dz/6Ctb0fjNaXxG3RRXlPi258TfDnxbN4rtprrWvDF4R/aNix3PZY48yMf3fUfn613nUerUV514q+Len2mj2Efg7Zrutayo/s60hOev8b/3VHOc46H0JG54A8O6v4f0GT/hJNXm1TVb2Y3Ny7tmOJ2A+SMdlGKdgOprzfUtYt7TVruGUSFlnfOB/tGvSK8b8Sf8AIyX3/XZv515GaVZUoRlHue1lFONSpJS7Gl/wkNn/AHZf++R/jUQ8V6Y101sJCZ1UO0XG4KehxnpXPVy3iuYaFqFl4kCExwq1tdBVyTG3K/k4H/fVeLTxVWcuX7vU92rh6dOPN239D0qLxXpk8kscEhkeFtsirglD6Hng1QPj2zGsf2d/ZmomTr5gjTZtzjdnfnH4ZrivDn/Eq0uzW/VvtmqSPPK2Bw5G45+g4/CtgWYbVhfrLkeR5QUDrznOaqWLnCTT1REcNGcE1o/0/wCGOx/4SGz/ALsv/fI/xo/4SGz/ALsv/fI/xrmaKw+u1To+qUjpv+Ehs/7sv/fI/wAaP+Ehs/7sv/fI/wAa5mij67VD6pSOm/4SGz/uy/8AfI/xo/4SGz/uy/8AfI/xrmaKPrtUPqlI6b/hIbP+7L/3yP8AGj/hIbP+7L/3yP8AGuZoo+u1Q+qUjpv+Ehs/7sv/AHyP8aP+Ehs/7sv/AHyP8a5mij67VD6pSPQvCWqQXuuMkIcEQMfmGO4rtq8y+Hn/ACMj/wDXu38xXptfSZbUlUoc0u58vmkFTxHLHsgooor0TywooooAKKKKACiiigAooooAKKKKACiiigAooooAKKKKACiiigAooooAKKKKACiiigAooooAKKKKACquqf8AIKuf+uZ/lVqquqf8gq5/65t/KgDkq5vxt/yCYP8AruP/AEE10ma5vxt/yCYP+u4/9BNAHEV0ngn/AJC0/wD1x/qK5uuk8Ff8hWf/AK4/1FAHb0UZozQAUUZozQAUUZozQAUUZozQAUUZozQAV02hf8geL/eb/wBCNczmum0L/kDxf7zf+hGgDRrzvUPHnja11K5gtPhre3UEUrJHOt9GolUHAYAjjI5r0SigDzP/AIWH48/6Jbff+DCP/Ctbwz4w8VaxrcdprPgW60a1ZWLXcl2kgUgZAwBnk8V21FABXAXP/H7c/wDXeT/0I139ef3P/H7c/wDXeT/0I114bdnNX6DK4i+/5CFx/wBdG/nXbVxN9/yELj/ro3869bD7s8vE7IgruoP+PeP/AHR/KuFruYP+PeP/AHR/KqxGyJw27JaKSiuQ7RaKSigBaKSigBaKSigBaKSigBaKSigBaKSigBaKSigBaKSigBaKSigBaZN/qX/3T/KnUyX/AFL/AO6aFuJ7Hoy/cX6UtIv3F+lI6CSNkbOGGDg4rxz0zyj4k+IpvGV3P8OfB9tDf3lyuNSu5VDw2Eeep/2/TuD71h+FoZfgHrzaPripceGtWlBg1lYgrQy4xslx29D/APXx6z4W8H6N4OsJbXQ7YxiaVpZpZG3ySsTnLMeTV7WtFsPEOj3GmavbJc2lwu2SNx+o9D70bbBuXI5EmiWSJg6MMqynIIqrrH/IEvf+vd//AEE1FoGh2nhvQbTSNO8z7NaxiOPzZC7Y9yal1j/kB33/AF7v/wCgmpn8LJfwnEVXv7f7XYTW4x+8QrzU9FeY1dWOI88t/hJo9rcRzwWcCSRuHVhLJwQcg9ateFfB+q6L4glu72eKW3d5WjVXP7rc7HGMYOcg56jGK7mio5e+oeotFQy3MUMkccjhWkOFHrUtXcBaKSigBaKSigDm/EPOpRDtsH8zW9cAGxlB6eWf5VjeIrdt8VwoyANp9qdNrkL6YUUN5zJtIxwPeuTmUJTUjO9pO4zw1/rbj0wP610NY3h62aK2eZwR5hGM+grYraimqaTHD4Ra6jwt/wAg2b/ruf8A0Fa5aup8K/8AINm/67n/ANBWuuj8Z0UviNuuF+Ivj5PDkMWiaPaDVvEepAx2mnqNw543yeiD9fzI7qsHTfBmi6X4n1DxBbWzNqeoEebPK5cqAPurn7o46D/Cu/1Oo8U0vwVrfwPvrfxjNDDrNrcRldZjt4AHs9zZLRf7I6EcdO3GPfNH1iw1/SbfU9IuUubS4QPHIhyCP6H2q3JGk0TRyoro4KsrDIIPYisTwt4O0fwbbXdvoMLwQXVw1w0RkLKjHso/hHHSmBu15XrWjz3euXs0boFad8Ak+pr1SuCuz/xMLr/ru/8A6Ea83H041IxUj1ssqSpzk4nNf8I9c/8APSL8z/hTJvDElxCYrjyJY26o4yD+BFdHmjNeT9TpI9r6zUZxGveAbnWo7dBeRwCFmbgE7sjGD6j1HccVqReHLpIUVpIcqoB25A/CujzRmreGpuKi9kSq81JyW7Of/wCEeuf+ekX5n/Cj/hHrn/npF+Z/wroM0ZqPqdIv61VOf/4R65/56Rfmf8KP+Eeuf+ekX5n/AAroM0Zo+p0g+tVTn/8AhHrn/npF+Z/wo/4R65/56Rfmf8K6DNGaPqdIPrVU5/8A4R65/wCekX5n/Cj/AIR65/56Rfmf8K6DNGaPqdIPrVU5/wD4R65/56Rfmf8ACj/hHrn/AJ6Rfmf8K6DNGaPqdIPrVUd4I0uWy193kdGBgYfLn1FegVyfhr/kMN/1xb+a11le1gqcadLlj3PnswnKde8uwUUUV2nnhRRRQAUUUUAFFFFABRRRQAUUUUAFFFFABRRRQAUUUUAFFFFABRRRQAUUUUAFFFFABRRRQAUUUUAFVdU/5BNz/wBc2/lVqqmqf8gm5/65N/KgDkq5vxr/AMgmD/ruP/QTXR1znjX/AJBUH/Xcf+gmgDia6PwV/wAhWb/rj/UVzldH4L/5Cs3/AFxP8xQB29FJRQAtFJRQAtFJRQAtFJRQAtFJRQAtdPoP/IHi+rf+hGuXrqNB/wCQPF/vN/6EaANGiiigAooooAK8+uf+P65/67yf+hGvQa89uv8Aj+uf+u8n/oRrrw27ObEdCOuLvv8AkIXH/XRv512dcZe/8f8AP/10b+devh92eXidkQV3EH/HvH/uj+VcPXbw/wCoj/3R/KniNkRht2SUUlFch2i0UlFAC0UlFAC0UlFAC0UlFAC0UlFAC0UlFAC0UlFAC0UlFAC0UlFAC02X/Uv/ALppabL/AKl/9001uI9IX7i/SlpF+4v0pa8Y9QKKKKACqesf8gO+/wCvd/8A0E1cqnrH/IDvv+vd/wD0E1M/hYpbM4bNGaTNGa8s4Rc0ZpM0ZoAa0aO6s6KzJypI6VFBJctPMJ41WNT+7YH7wqfNRzxC4geJiyhhjKnmk11QEuaM1HEgihSMEkKMAk8mn5pgLmjNJmjNAAyq6lXUMp6gjOaqrplksm8W6Z9+R+VWs0ZpOKe6CyFHHSjNJmjNMBc11XhX/kGzf9dz/wCgrXKZrq/Cn/IMm/67n/0Fa3ofGa0viNuiiiu86gooooAK4K7P/Ewuv+u7/wDoRrva4G7/AOQhdf8AXd//AEI1w4vZHp5f8UiLNGaTNGa4T1Rc0ZpM0ZoAXNGaTNGaAFzRmkzRmgBc0ZpM0ZoAXNGaTNGaAFzRmkzRmgDY8M/8hhv+uLfzFdZXJeGf+Qw3/XFv5iutr0sL/DPEx38X5BRRRXUcQUUUUAFFFFABRRRQAUUUUAFFFFABRRRQAUUUUAFFFFABRRRQAUUUUAFFFFABRRRQAUUUUAFFFFABVTVP+QTdf9cm/lVuqmqf8gm6/wCuTfyoA5Cuc8af8gqD/rsP/QTXRZrnfGn/ACCoP+uw/wDQTQBxVdH4L/5Cs3/XE/zFc5XReDP+QrN/1x/qKAO2opM0ZoAWikzRmgBaKTNGaAFopM0ZoAWikzRmgBa6nQf+QNF9W/8AQjXK5rqtB/5A0X1b/wBCNAGjRRRQAUUUUAFee3X/AB/XP/XeT/0I16FXnl1/x/XP/XeT/wBCNdmF3ZzYjoR1xl7/AMf8/wD10b+ddlXG3v8Ax/T/APXRv5162H3Z5WJ2RBXbwf8AHvH/ALoriK7aD/j3j/3RVYjZE4bdklFJRXIdotFJRQAtFJRQAtFJRQAtFJRQAtFJRQAtFJRQAtFJRQAtFJRQAtFJRQAtMl/1L/7pp1Ml/wBS/wDumhbiPSl+4v0paRfuL9KWvGPUCiiigAqnrH/IDvv+vd//AEE1cqlrH/IDvv8Ar3f/ANBNTP4WKWzOFoozRmvLOEKKM0ZoAKKM0ZoAKjkL7lWMqCckkjNSZqNj++T6H+lJgJtn/wCekf8A3wf8aWMyCRlkZTwCMDFSZqMH/SG/3R/M0CJKKM0ZpjCijNGaACur8Kf8gyb/AK7n/wBBWuUzXV+FP+QZN/13P/oK1tQ+M1pfEblFFFegdQUUUUAFef3h/wCJjdf9d3/9CNegV59e/wDIRuv+u7/+hGuHGbI9PL/ikRZozSUVwHr2FzRmkooCwuaM0lFAWFzRmkooCwuaM0lFAWFzRmkooCwuaM0lFAWNnwx/yGG/64t/MV11cj4X/wCQw3/XFv5iuur08L/DPDx38b5BRRRXUcIUUUUAFFFFABRRRQAUUUUAFFFFABRRRQAUUUUAFFFFABRRRQAUUUUAFFFFABRRRQAUUUUAFFFFABVTVf8AkE3X/XJv5Vbqpqv/ACCbr/rk38qAOPrnPGf/ACC4f+uw/wDQTXRVzvjP/kFw/wDXYf8AoJoA4uui8Gf8hSb/AK4/1Fc7XReDf+QpN/1x/qKAO1opKKAFopKKAFopKKAFopKKAFopKKAFrqtB/wCQND9W/wDQjXKV1egf8gWH6t/6EaANGiiigAooooAK87u/+P8Auv8ArvJ/6Ea9Erzq7/5CF1/13k/9CNdmF3ZzYjoR1x17/wAf0/8A10b+ddhXH3v/AB/T/wDXRv5162H3Z5WJ2RBXaw/6iP8A3R/KuKrtIf8AUJ/uiqxGyJw27JKKSiuQ7RaKSigBaKSigBaKSigBaKSigBaKSigBaKSigBaKSigBaKSigBaKSigBaZL/AKl/9006myf6p/8AdNMT2PS1+4v0paRfuL9KWvFPUCiiigAqlrH/ACA77/r3f/0E1dqlrH/IDvv+vd//AEE1M/hYpbM4SikoryjhFpks0cEZeVgqjqTTqwdelZ7qKAHgDOPc1nUnyRuKTsrl4a5ZF9u5gP7xXitBHWRAyEMpGQR3rKvNKt001/LTDxrnd3OKb4flLW8kZPCNkfjUxnJT5ZEpu9mbFMkj3kEOyEd1x/UU6itiyPyX/wCfiX8l/wAKjMTi4A+0Scqc8L2/D3qxUZ/4+U/3T/MVLQg8l/8An4l/Jf8ACiPcsro0jOAARuA9/Qe1SVGv/Hy/+4v8zTsBLRSUUxi11nhT/kFzf9dz/wCgrXJV1vhP/kFzf9dz/wCgrW9D4zWl8RuUUUV6B1BRRRQAV57en/iZXf8A13f/ANCNehV55e/8hK7/AOu7/wDoRrgxm0T1Mu+KRFmjNJRXnHs2FzRmkooCwuaM0lFAWFzRmkooCwuaM0lFAWFzRmkooCwuaM0lFAWNrwsf+Jw3/XFv5iuvrj/Cv/IYf/ri38xXYV6uE/hngY/+N8gooorrOEKKKKACiiigAooooAKKKKACiiigAooooAKKKKACiiigAooooAKKKKACiiigAooooAKKKKACiiigAqpqv/IIuv8Ark38qt1U1X/kEXX/AFyb+VAHG1zvjL/kFw/9dh/6Ca6HNc94y/5BcP8A12H/AKCaAOMrofBv/IUm/wCuJ/mK56uh8Hf8hSb/AK4n+YoA7SikzRmgBaKTNGaAFopM0ZoAWikzRmgBaKTNGaAFrq9A/wCQLD9W/wDQjXJ5rrNA/wCQLD9W/wDQjQBpUUUUAFFFFABXnN3/AMhC6/67yf8AoRr0avObw/8AEwuv+u8n/oRrswu7OXEbIirj7z/j+n/66N/OuvzXIXn/AB/T/wDXRv516+H3Z5eI2RDXZw/6hP8AdFcZXZQn9wn+6KeI2ROG3ZJRSZozXKdgtFJmjNAC0UmaM0ALRSZozQAtFJmjNAC0UmaM0ALRSZozQAtFJmjNAC0UmaM0ALRSZozQAtNk/wBU/wDumlzTZD+6f/dNMTPTU+4v0paRPuL9KWvEPVCiiigAqlrH/IDvv+vd/wD0E1dqlrP/ACA77/r3f/0E1M/hYpbM4LNGaTNGa8o4Bc1z2sfLqyE9MKf1roM1m6tp7XarJD/rE4x6isa0W46EyV0XL1gLCcnp5Z/lWZ4eB2zt2yBUDDVbiEWzxtt6EkYz+Na+n2gsrUR5yxOWI9amN51Oa2iFu0Ws0ZpM0ZroLFzTWUMwbkEDHFLmjNACbf8Aab86Yq/6Q/zN91e/uakzTFP+kP8A7q/zNIB23/ab86RCdzgnODxn6U7NMQ/vJPqP5UASZrrfCf8AyC5v+u5/9BWuRzXXeEv+QVN/13P/AKCtdFD4zWl8Ru0UUV6B1hRRRQAV53ff8hK7/wCu7/8AoRr0SvOr8/8AEzu/+u7/APoRrz8btE9XLfikQ5ozSZozXnHtWFzRmkzRmgLC5ozSZozQFhc0ZpM0ZoCwuaM0maM0BYXNGaTNGaAsLmjNJmjNAWNzwr/yGH/64n+YrsK47wp/yGH/AOuJ/mK7GvWwn8M+fzD+N8gooorrOAKKKKACiiigAooooAKKKKACiiigAooooAKKKKACiiigAooooAKKKKACiiigAooooAKKKKACiiigAqpqv/IIuv8Ark38qt1U1b/kEXX/AFyb+VAHF1z3jH/kFw/9dh/6Ca6Cuf8AGP8AyC4f+uw/9BNAHG10Pg7/AJCk3/XH+ornq6Dwf/yFJv8Arl/UUAdnRSUUALRSUUALRSUUALRSUUALRSUUALXW6B/yBYfq3/oRrka67w//AMgSH6t/6EaANKiiigAooooAK84vP+Qhdf8AXeT/ANCNej15vef8hC6/67yf+hGuzC7s5cRsiOuQvP8Aj+n/AOujfzrra5K8/wCP2b/rof5169Ddnl4jZENdlD/qE/3RXG12EP8AqE/3RVV9kTh92S0U2iuU6x1FNooAdRTaKAHUU2igB1FNooAdRTaKAHUU2igB1FNooAdRTaKAHUU2igB1Mk/1T/7ppabJ/qn/AN00Aenp9xfpS0ifcX6UteIeqFFFFABVLWf+QHff9e7/APoJq7VLWf8AkB33/Xu//oJqZ/CxS2ZwNFJmjNeScAtFJmjNAC0UmaM0ALRSZozQAtFJmjNAC1G8KO247gcY+VyP5Gn5ozRuBH9nT+9J/wB/W/xpiW6eY/MnUf8ALVvT61PmmIf3kn1H8qVkLQT7On96T/v63+Ndl4QUJpEoGceeepJ/hX1rkc11/hL/AJBU3/Xc/wDoK10YdL2htS+I3aKKK9E6wooooAK85vz/AMTS7/67v/6Ea9Grzm/P/E0u/wDru/8A6Ea8/HbRPWyz4pEGaM0maM15lz27C5ozSZozRcLC5ozSZozRcLC5ozSZozRcLC5ozSZozRcLC5ozSZozRcLC5ozSZozRcLG54T/5DD/9cT/MV2Vcb4S/5DD/APXE/wAxXZV6+D/hHz2Yfx/kFFFFdh54UUUUAFFFFABRRRQAUUUUAFFFFABRRRQAUUUUAFFFFABRRRQAUUUUAFFFFABRRRQAUUUUAFFFFABVTVv+QRdf9cm/lVuqmrf8ge6/65N/KgDiq57xj/yC4f8ArsP/AEE10Fc/4w/5BkP/AF2H/oJoA46ug8H/APIUm/65f1Fc/XQeD/8AkJzf9cv6igDsqKSigBaKSigBaKSigBaKSigBaKSigBa67w//AMgSH6t/6Ea5Cuv8P/8AIEh+rf8AoRoA0qKKKACiiigArze8/wCQhdf9d5P/AEI16RXm17/yEbr/AK7yf+hGu3Cbs5cRsiKuSvP+P2b/AK6H+ddZXJ3f/H7N/vn+devQ3Z5WI2RDXYQ/6hP90Vx9dfF/qU/3RTr7InD7skopKK5jrFopKKAFopKKAFopKKAFopKKAFopKKAFopKKAFopKKAFopKKAFopKKAFpsn+qb/dNLTZP9W30NAHqCfcX6UtIn3F+lLXhnrBRRRQAVS1n/kB33/Xu/8A6Cau1S1n/kB33/Xu/wD6CamfwsUtmef5ozSUV5BwC5ozSUUALmjNJRQAuaM0lFAC5ozSUUALmjNJRQAuaQqpOSOaKKAE2L6frXY+EBjSZcf89z/6CtcfXY+Ef+QTL/13P/oK10Yf+Ia0viN2iiivROsKKKKACqj6VYSSM72kLMxySUHJq3RScU90VGUo7Mpf2Pp3/PlD/wB8Cj+x9O/58of++BV2ip9nDsiva1P5n95S/sfTv+fKH/vgUf2Pp3/PlD/3wKu0Uezh2Qe1qfzP7yl/Y+nf8+UP/fAo/sfTv+fKH/vgVdoo9nDsg9rU/mf3lL+x9O/58of++BR/Y+nf8+UP/fAq7RR7OHZB7Wp/M/vKX9j6d/z5Q/8AfAo/sfTv+fKH/vgVdoo9nDsg9rU/mf3lL+x9O/58of8AvgUf2Pp3/PlD/wB8CrtFHs4dkHtan8z+8pf2Pp3/AD5Q/wDfAo/sfTv+fKH/AL4FXaKPZw7IPa1P5n95XgsLS1kL29vHGxGCVXBxViiiqSS0RDk5O7CiiimIKKKKACiiigAooooAKKKKACiiigAooooAKKKKACiiigAooooAKKKKACiiigAooooAKKKKACiiigAqpq3/ACB7r/rk38qt1U1b/kD3X/XJv5UAcRmuf8Yf8gyH/rsP/QTXQVz/AIv/AOQZD/12H8jQBx9b/hD/AJCc3/XL+orArf8ACH/ITm/65f1FAHY5ozRRQAZozRRQAZozRRQAZozRRQAZozRRQAZrsPD/APyBIfq3/oRrj67Dw9/yA4fq3/oRoA0qKKKACiiigArzW9/5CN1/13k/9CNelV5ren/iZXf/AF3k/wDQjXbhN2cmJ2RDXKXf/H7N/vn+ddVmuVu/+Pyb/fP869ejuzy8RsiGuuh/1Kf7orka66E/uU/3RVV9kTh92PopM0ZrmOoWikzRmgBaKTNGaAFopM0ZoAWikzRmgBaKTNGaAFopM0ZoAWikzRmgBaKTNGaAFopM0ZoAWmyf6tvoaXNJIf3bfQ0Aeop9xfpS0ifcX6UteEeuFFFFABVLWf8AkB33/Xu//oJq7VLWf+QHff8AXu//AKCamfwsUtmefZozSZozXjnni5ozSZozQAuaM0maM0ALmjNJmjNAC5ozSZozQAuaM0maM0ALmjNJmjNAC5rsPCP/ACCZf+u5/wDQVrjs12PhD/kEy/8AXc/+grXRh/4hrR+I3qKKK9I7AooooAKKKKACiiigAooooAKKKKACiiigAooooAKKKKACiiigAooooAKKKKACiiigAooooAKKKKACiiigAooooAKKKKACiiigAooooAKKKKACiiigAooooAKKKKACiiigAooooAKp6t/yB7r/AK5N/KrlU9W/5A91/wBcm/lQBxFYHi//AJBkP/XYfyNb1YHi/wD5BsP/AF2H8jQByFb/AIR/5Ccv/XL+orArf8I/8hOX/rl/UUAdhRSUUALRSUUALRSUUALRSUUALRSUUALXYeHv+QHB9W/9CNcdXY+Hv+QHB9W/9CNAGnRRRQAUUUUAFeaX3/ISu/8ArvJ/6Ea9LrzO+/5CV3/13k/9CNduE3ZyYnZENctd/wDH5N/vn+ddTXK3X/H5N/vn+devR3Z5VfZEVdZF/qU/3RXJ11kX+pT/AHRVVugqG7H0UUVzHUFFFFABRRRQAUUUUAFFFFABRRRQAUUUUAFFFFABRRRQAUUUUAFNf/Vt9DTqbJ/q2+hpiPU0+4v0paRPuL9KWvBPYCiiigAqlrP/ACA77/r3f/0E1dqlrP8AyA77/r3f/wBBNTP4WKWzPPKKTNGa8Y84WikzRmgBaKTNGaAFqhc6vDBIUUGRh1x0qzdSGK0lccEKcVl6LAknmySKGIIAyM1lKUuZRiS29kXrTU4bp9gyj+h71crAv0FrqqNENoOGwO1bwPFOnJu6fQE3sLRSZozWhQtFJmjNAC12XhD/AJBEv/Xc/wDoK1xma7Pwh/yCJf8Aruf/AEFa6MN/ENqPxG9RRRXpnYFFFFABRRRQAUUUUAFFFFABRRRQAUUUUAFFFFABRRRQAUUUUAFFFFABRRRQAUUUUAFFFFABRRRQAUUUUAFFFFABRRRQAUUUUAFFFFABRRRQAUUUUAFFFFABRRRQAUUUUAFFFFABVPVv+QPdf9cm/lVyqerf8ge7/wCuTfyoA4esDxd/yDYf+uw/ka3s1geLv+QbD/12H8jQByNb3hH/AJCU3/XL+orBre8Jf8hKb/rl/UUAdhRSZozQAtFJmjNAC0UmaM0ALRSZozQAtFJmjNAC12Ph7/kBwfVv/QjXG5rsvD3/ACA4Pq3/AKEaANOiiigAooooAK8zvv8AkJXf/XeT/wBCNemV5lfH/iZXf/XxJ/6Ea7sHuzkxOyIa5a6/4/Jv98/zrqM1y91/x+Tf75/nXr0d2eVX2RFXVxf6lP8AdFcpXVRH9yn+6KdboTQ3ZJRSZozXOdQtFJmjNAC0UmaM0ALRSZozQAtFJmjNAC0UmaM0ALRSZozQAtFJmjNAC0UmaM0ALRSZozQAtNf/AFbfQ0uaa5/dt9DQB6qn3F+lLSJ9xfpS14J7AUUUUAFUtZ/5AV9/17v/AOgmrtUtZ/5AV9/17v8A+gmpn8LFLZnneaM0lFeKecLmjNJRQAuaM0lFAEF8N1jMB/dNUdDYeXKvfINahAZSDyDwax2026tpi1m/B6c4OKyndTUkS97jNW/eakiLycBf1rcHAFZdnpsi3Hn3bbm6gZzz71qU6aerfUFvcXNGaSitChc0ZpKKAFzXZ+D/APkES/8AXc/+grXF12fg/wD5A8v/AF3P/oK104b+IbUfjN+iiivTOwKKKKACiiigAooooAKKKKACiiigAooooAKKKKACiiigAooooAKKKKACiiigAooooAKKKKACiiigAooooAKKKKACiiigAooooAKKKKACiiigAooooAKKKKACiiigAooooAKKKKACqerf8ge7/wCuTfyq5VPV/wDkD3f/AFyb+VAHC1g+Lf8AkGw/9dh/I1u1heLf+QbD/wBdh/I0AcjW94S/5CU3/XL+orBre8Jf8hKX/rl/UUAddRSUUALRSUUALRSUUALRSUUALRSUUALXZ+Hf+QHB9W/9CNcXXaeHf+QFB9W/9CNAGnRRRQAUUUUAFeY33/ITu/8Ar4k/9CNenV5hf/8AITu/+viT/wBCNd2D3Zx4rZENcxdf8fk3++f5102a5m6/4+5f98/zr16O7PKr7Iirqov9Sn+6K5WupiP7lP8AdFVW6CodR9FJmjNc50i0UmaM0ALRSZozQAtFJmjNAC0UmaM0ALRSZozQAtFJmjNAC0UmaM0ALRSZozQAtFJmjNAC0j/6tvoaM01z+7b6GgD1dPuL9KWkT7i/SlrwD2QooooAKpaz/wAgK+/695P/AEE1dqlrX/ICvv8Ar3k/9BNTP4WKWzPOc0ZoorxDzQzRmiigAzRmiigAzRmiigAzRmiigAzRmiigAzRmiigAzXaeD/8AkDy/9dz/AOgrXF12ng7/AJA8v/Xc/wDoK104b+IbUfjN+iiivUO0KKKKACiiigAooooAKKKKACiiigAooooAKKKKACiiigAooooAKKKKACiiigAooooAKKKKACiiigAooooAKKKKACiiigAooooAKKKKACiiigAooooAKKKKACiiigAooooAKKKKACqer/8AIHu/+uTfyq5Ve/ga50+eGPG+RCoz0yaAOArB8W/8g2H/AK7D+Rrtf+EY1D1h/wC+z/hWdrfgbVNStUihe3Uq+4lnPofb3oA8urd8J/8AISl/65f1FbP/AAqzW/8AnvZ/99t/hWjovw91bTbp5ZpbZgybcK59fpQBJRWv/wAIxqHrD/32f8KP+EY1D1h/77P+FAGRRWv/AMIxqHrD/wB9n/Cj/hGNQ9Yf++z/AIUAZFFa/wDwjGoesP8A32f8KP8AhGNQ9Yf++z/hQBkUVr/8IxqHrD/32f8ACj/hGNQ9Yf8Avs/4UAZFFa//AAjGoesP/fZ/wo/4RjUPWH/vs/4UAZFdp4d/5AUH1b/0I1hf8IxqHrD/AN9n/Cuj0m0ksdMit5tpdc52nI5JNAF2iiigAooooAK8wv8A/kKXf/XxJ/6Ea9PrirrwnqU17cSoYNskrOuXOcEk+ldmFnGLfMzlxEZSSsjna5q6/wCPuX/fP869C/4Q/VPW3/7+H/Csmb4dazJM7iS1AZiR+8P+FenTxFJPWR51WjUklaJx1dRF/qk/3RU3/Ct9Z/56Wv8A38P+Fa6eDtUVFGbfgY/1h/wp1MRSdrSFSoVY3vExKK3f+EP1T1t/+/h/wo/4Q/VPW3/7+H/CsfbU+5v7KfYwqK3f+EP1T1t/+/h/wo/4Q/VPW3/7+H/Cj21PuHsp9jCord/4Q/VPW3/7+H/Cj/hD9U9bf/v4f8KPbU+4eyn2MKit3/hD9U9bf/v4f8KP+EP1T1t/+/h/wo9tT7h7KfYwqK3f+EP1T1t/+/h/wo/4Q/VPW3/7+H/Cj21PuHsp9jCord/4Q/VPW3/7+H/Cj/hD9U9bf/v4f8KPbU+4eyn2MKit3/hD9U9bf/v4f8KP+EP1T1t/+/h/wo9tT7h7KfYwqK3f+EP1T1t/+/h/wo/4Q/VPW3/7+H/Cj21PuHsp9jCord/4Q/VPW3/7+H/Cj/hD9U9bf/v4f8KPbU+4eyn2MKit3/hD9U9bf/v4f8KP+EP1T1t/+/h/wo9tT7h7KfYwqR/9W30Nb3/CH6p62/8A38P+FI3g7VCpGbfkf89D/hT9tT7i9lPsd0n3F+lLSKMKB7UteIesFFFFABVLWv8AkBX3/XvJ/wCgmrtVtRge60y5t4sb5YmRc9MkYqZaxYnseaUVuf8ACI6n6wf99n/Cj/hEdT9YP++z/hXkexqdjg9nPsYdFbn/AAiOp+sH/fZ/wo/4RHU/WD/vs/4Uexqdg9nPsYdFbn/CI6n6wf8AfZ/wo/4RHU/WD/vs/wCFHsanYPZz7GHRW5/wiOp+sH/fZ/wo/wCER1P1g/77P+FHsanYPZz7GHRW5/wiOp+sH/fZ/wAKP+ER1P1g/wC+z/hR7Gp2D2c+xh0Vuf8ACI6n6wf99n/Cj/hEdT9YP++z/hR7Gp2D2c+xh0Vuf8IjqfrB/wB9n/Cj/hEdT9YP++z/AIUexqdg9nPsYddr4O/5A8v/AF3P/oK1jf8ACI6n6wf99n/Cuj8PadPpmnPDc7N7Sl/kORjAH9K6MPTnGd2jWlGSldo1aKKK9E6wooooAKKKKACiiigAooooAKKKKACiiigAooooAKKKKACiiigAooooAKKKKACiiigAooooAKKKKACiiigAooooAKKKKACiiigAooooAKKKKACiiigAooooAKKKKACiiigAooooAKKKKACiiigAooooAKKy73xLo+n6pDp17fxQ3U+QkbZ/uluTjC8KSMkZwcVkn4m+DBo82qf8JDafYoZ/szy5P+s9AMZPHOQCMc9KAOqopkM0dxBHPA6yRSKHR1OQwIyCDVDT/EGnalqF9Y28xW6sX2zwyqUZR2YA9VPZhxQBpUVn6Rrljrsc8umSNNDDMYfO2EI7DrsP8QB4yOMg1XuvFmhWOpvp95qcMNzHE8zq5IVVQAtlvuggMDjOcEHFAGxRWboPiLSfE+mDUNBvo7213mPzI8jDDqCDgitKgAooooAKKKKACiiigAooooAKKKKACiiigAooooAKKKKACiiigAoorGufFug2Woy2N3qkEM8MLzSByQqomNxLfdyNy5Gc8jigDZorlx8SvBx06xvv+EgtBb6hKYrZySC7A4IwRkYPUkACuoz8ueo9qACisrTPEml6tZ3VzbXIRbN2juVmHltAy9d4PK8c89RzU+j6va67pkeoaeZGtpSfLd0KbwDjcAf4T1B7jmgC9RWDdeN/DdlJepd6vbwmxjEk5ckBV3FeDjDfMCMDJzx1qFPiH4Tkk0xE160Z9Wx9jUMcy5JA4x8vII5xzx1oA6SiiigAooooAKKKKACiiigAooooAKKKKACiiigAooooAKKKKACiiigAorN1bxBpWheT/a14lt5zqiAgkklgoJwDgbmUZPAJHPNZx+IPhMTajEdesw+mAG7+fiLJx16HnjjPPHWgDo6Kp6Rq9hr2lQalpF0l3Z3C7o5k6MPx5H0NQjX9P/4SI6HJK0V/5ImjSRSolXvsJ4bHcDpkUAaVFZ1prtjf6xeabZyNNPZBftDIpKRsf4N3TdjkjqARnrTdQ8RaTpV9bWeoXscE904SJCCck5xkgYXODjOM4wKANOisfQ/FmheJZruLQdTgvnsnCTiI52E9PqPcZHBrYoAKKKKACiiigAooooAKKKKACiiigAooooAKKKKACisK68beHLKa9iu9Xghaxi82ffkBV3bcg4w3zDbgZIPHWtDSNYsNe0mDU9Huku7O4XdFMnRh078jnjBoAu0Vmwa/p8+vXOjCVo7+3QSGGRSpdD/GmfvDPBI6GjTdfsNWv7610+RpzYuI5pVU+WH7oG6EjuB0zQBpUVm6j4i0nSb62s9QvY4J7p1jiQgnLNnaCQMLnBAzjJGBUOh+LNC8Sz3kOhapBfPZOEnERzsJ6fUHnkZHB9KANiiiigAooooAKKKKACiiigAooooAKKKKACiiigAooooAKKKKACiiigAooooAKKKKACiiigAooooAKKKKACiiigAooooAKKKKACiiigAooooAKKKKAOA8X2qa58TfC2jyJvt7dZ9RuRnGQqeWoPqCZOR3GRXJXsUI8IfEbxQlsPP1C7k0+BmGRHGgSAt7DduJPoo9K9r2Lu3bRuxjOOaTyo9hTYu09VxwaOlg6lDQPsi+H7KPTpPNtYYViicA4YKNuR6jjr3rg/F/h7UPH+tSJo6PpMemq8Tai6sj3bEcwgAgmL+8e/b1r00AAAAYA6AUU3q7gtFYwfB98brQ1tpdKbSZ7E/ZpbUJiNSoHMZ6MhGCD+B5rnNUtItd+NtjBPHvttE0p7t17NLLIFTI74EZP1Ar0GkCKGLBRuPU45NF9bi6WOD+E11bXXh+/uInH2m81K5uriIKR5RaRgqn0O1Rx1/Ou9pqIiDCKqjrwMU6kMKKKKACiiigAooooAKKKKACiiigAooooAKKKKACiiigAooooAK8+u7aLWPjarXEYa00HSDKwzwZppARkd8CLPPfB7CvQaTYu4naMt1OOtHW4dLHhUdnZp8J4dQuYlgPivXlnuJpOkMD3Bcc/wAI2KPxb3r3G3mjmtI5oSTEyBlJUg4x6HmnmKMoEMalR0XbwKdTA8m1/wAMan441efXdLtFsLa2AjFtcho/7YCNnbMoIxHwQuQTzk8cH0fw/qa6vosF0tnNYtyj206bWiZTgr7gEcEcEc1pUUulg63PMma2m+JXi3xBeIGtvD+nR28QI+UPsaV2x64YDPua5610qy0TwN4Es70LANS1KO/vJ3X+IK0wXPu21QPwr2zy0+b5F+b73HX60GNGADIpC9AR0oAVHEkauucMMjIxS0UUAFFFFABRRRQAUUUUAFFFFABRRRQAUUUUAFFFFABRRRQAUUUUAcL8VEa/0vRtDizv1bV7eF2U4ZY0PmuQRyOI6y47Gxf4m69qcdmrReG9JitYI0XjeVaQ4HqFKgfU16aVViCyglehI6UBFBJCgFuvHWjoBxvwnNsPhxpi2syzMY/NmZBwJJCXYZ6cFscdOlV/HOn3Pi6/g8PaZBJazW7JcyaztKGy9PJbjMh5HHAGc56V3SoqLhFCj0AxS03qwOO+H6XGj2MnhnUdP+z3engE3USkxXqsT++DH+MnO4E5zk8g1R+IlsmteJPCfh9wTHc3zXVwB/FHChOD7FmArv6QqpYMVBYdDjkUX1uBwPg2ezk+JPi5wRHc+dDaRwBMERRRA7j6Al2wT1x7V39NCIrFgqhj1IHJp1IAooooAKKKKACiiigAooooAKKKKACiiigAooooA82CRXvxX8S6zNCZovD+mxQQxgZBlYNKxx3bBUfia1fhI1sPhppSWsyyt5XmzlR8okkPmMAenBcjjp07V2YRQSQoBbqcdaERY12ooUegGKOlgPP/ABtpF5421ZNI0lJdNk08+ZJreGR4iy/6uEjBbIPzHpjjr01/Acj2mktoV3pX9m3WlgRuIkPkzg9JI2PXdySDyDnPqeqooA4D4jWya14h8I+HnBKXeoNdXAX+KKCMtg+xZlH40ng6ezk+Jni9wRHciaG0jgCYIiiiUhj6AtI2CevbpXflVLBioLDocdKQIgYsFUMepA5NCAdRRRQAUUUUAFFFFABRRRQAUUUUAFFFFABRRRQAUUUUAFFFFABRRRQAUUUUAFFFFABRRRQAUUUUAFFFFABRRRQAUUUUAFFFFABRRRQAUUUUAFFFFABRRRQAUUUUAFFFFABRRRQAUUUUAFFFFABRRRQAUUUUAFFFFABRRRQAUUUUAFFFFABRRRQAUUUUAFFFFABRRRQAUUUUAFFFFABRRRQAUUUUAFFFFABRRRQAUUUUAFFFFABRRRQAUUUUAFFFFABRRRQAUUUUAFFFFABRRRQAUUUUAFFFFABRRRQAUUUUAFFFFABRRRQAUUUUAFFFFABRRRQAUUUUAFFFFABRRRQAUUUUAFFFFABRRRQAUUUUAFFFFABRRRQAUUUUAFFFFABRRRQAUUUUAFFFFABRRRQAUUUUAFFFFABRRRQAUUUUAFFFFABRRRQAUUUUAFFFFABRRRQAUUUUAFFFFABRRRQAUUUUAFFFFABRRRQAUUUUAFFFFABRRRQAUUUUAFFFFABRRRQAUUUUAFFFFABRRRQAUUUUAFFFFABRRRQAUUUUAFFFFABRRRQAUUUUAFFFFABRRRQAUUUUAFFFFABRRRQAUUUUAFFFFABRRRQAUUUUAFFFFABRRRQAUUUUAFFFFABRRRQAUUUUAFFFFABRRRQAUUUUAFFFFABRRRQAUUUUAFFFFABRRRQAUUUUAFFFFABRRRQAUUUUAFFFFABRRRQAUUUUAFFFFAH/2Q==)\n",
        "\n",
        "간단하게 설명하자면, 행렬 U와 V에 속한 열벡터는 특이벡터(singular vector)로 불리고, 이 특이벡터들은 서로 직교하는 성질을 가지고 있습니다.\n",
        "\n",
        "또한, 가운데 시그마 기호로 보이는 것도 행렬인데, 이 행렬은 대각행렬(diagonal matrix) 성질을 가지고 있습니다.\n",
        "\n",
        "그래서 대각 성분이 행렬 A의 특이값이고 나머지 성분이 0입니다."
      ]
    },
    {
      "cell_type": "markdown",
      "metadata": {
        "id": "n-KaIh0fsVzZ"
      },
      "source": [
        "우리가 사용할 방법인 **Truncated SVD**는 이러한 SVD의 변형입니다.\n",
        "\n",
        "**Truncated SVD**는 시그마 행렬의 대각원소(특이값) 가운데 상위 n개만 골라낸 것입니다. 이렇게 하면 기존 행렬 A의 성질을 100% 원복할 수는 없지만, (그 만큼 데이터 정보를 압축) 행렬 A와 거의 근사한 값이 나오게 됩니다."
      ]
    },
    {
      "cell_type": "markdown",
      "metadata": {
        "id": "b4ui04tcvDXK"
      },
      "source": [
        "### `Q3. 'movie_user_rating' 데이터프레임을 이용하여, TruncatedSVD를 사용해 12차원으로 축소된 잠재 요인 행렬을 구해주세요.`"
      ]
    },
    {
      "cell_type": "code",
      "execution_count": 18,
      "metadata": {
        "colab": {
          "base_uri": "https://localhost:8080/"
        },
        "id": "pEHfKjcHsLgG",
        "outputId": "857a0aa3-a148-42cd-d5d4-ac142472a991"
      },
      "outputs": [
        {
          "data": {
            "text/plain": [
              "(9064, 12)"
            ]
          },
          "execution_count": 18,
          "metadata": {},
          "output_type": "execute_result"
        }
      ],
      "source": [
        "\n",
        "\n",
        "# Truncated SVD 사용 (12차원 축소)\n",
        "SVD = TruncatedSVD(n_components=12)     \n",
        "matrix = SVD.fit_transform(movie_user_rating)  \n",
        "matrix.shape"
      ]
    },
    {
      "cell_type": "markdown",
      "metadata": {
        "id": "vXlvAlFzsaq6"
      },
      "source": [
        "Latent 값을 12로 두어 12개의 component로 차원을 축소했습니다.\n",
        "\n",
        "그리고, SVD.fit_transform을 통해 변환하게 되면 9064개의 영화 데이터가 12개의 어떤 요소의 값을 가지게 됩니다."
      ]
    },
    {
      "cell_type": "code",
      "execution_count": 19,
      "metadata": {
        "colab": {
          "base_uri": "https://localhost:8080/"
        },
        "id": "RTrFdf7jsLjD",
        "outputId": "0d594d88-31a6-417a-b4b1-1a480fcd1548"
      },
      "outputs": [
        {
          "data": {
            "text/plain": [
              "array([ 0.01227491,  0.00250763,  0.01554746, -0.03398421, -0.01447023,\n",
              "        0.00354112, -0.00230572,  0.04461072, -0.0169403 , -0.02124986,\n",
              "        0.01110393, -0.00981635])"
            ]
          },
          "execution_count": 19,
          "metadata": {},
          "output_type": "execute_result"
        }
      ],
      "source": [
        "# component 확인\n",
        "matrix[0]"
      ]
    },
    {
      "cell_type": "markdown",
      "metadata": {
        "id": "SCo57wnDsdsr"
      },
      "source": [
        "이렇게 나온 데이터를 활용해 피어슨 상관계수를 구하겠습니다."
      ]
    },
    {
      "cell_type": "code",
      "execution_count": 20,
      "metadata": {
        "colab": {
          "base_uri": "https://localhost:8080/"
        },
        "id": "mUADpuAxsff8",
        "outputId": "7bd0f1a8-3e1f-4c90-99f5-9147efd71e48"
      },
      "outputs": [
        {
          "data": {
            "text/plain": [
              "(9064, 9064)"
            ]
          },
          "execution_count": 20,
          "metadata": {},
          "output_type": "execute_result"
        }
      ],
      "source": [
        "corr = np.corrcoef(matrix)\n",
        "corr.shape"
      ]
    },
    {
      "cell_type": "code",
      "execution_count": 21,
      "metadata": {
        "colab": {
          "base_uri": "https://localhost:8080/",
          "height": 709
        },
        "id": "bSoMuAiMrCDU",
        "outputId": "445261b9-e0de-4a8e-cf22-1fb84dd8a041"
      },
      "outputs": [
        {
          "data": {
            "text/plain": [
              "<Axes: >"
            ]
          },
          "execution_count": 21,
          "metadata": {},
          "output_type": "execute_result"
        },
        {
          "data": {
            "image/png": "[encoded data removed]",
            "text/plain": [
              "<Figure size 1200x800 with 2 Axes>"
            ]
          },
          "metadata": {},
          "output_type": "display_data"
        }
      ],
      "source": [
        "corr2 = corr[:200, :200]\n",
        "corr2.shape\n",
        "# seaborn의 heatmap 시각화\n",
        "plt.figure(figsize=(12, 8))\n",
        "sns.heatmap(corr2)"
      ]
    },
    {
      "cell_type": "markdown",
      "metadata": {
        "id": "WWPeInw9sifg"
      },
      "source": [
        "seaborn의 heatmap을 사용하면 상관계수끼리의 관계를 한 눈에 파악할 수 있습니다.\n",
        "여기서 대각선이 하얀색인 이유는 자기 자신과의 관계이기 때문에 가장 높은 하얀색이 나온 것입니다.\n",
        "\n",
        "이렇게 나온 상관계수를 이용해서 '특정 영화'와 관련하여 상관계수가 높은 영화를 뽑아보도록 하겠습니다."
      ]
    },
    {
      "cell_type": "code",
      "execution_count": 22,
      "metadata": {
        "id": "iBy_wqmDskNV"
      },
      "outputs": [],
      "source": [
        "movie_title = user_movie_rating.columns\n",
        "movie_title_list = list(movie_title)\n",
        "coffey_hands = movie_title_list.index(\"Guardians of the Galaxy (2014)\")"
      ]
    },
    {
      "cell_type": "code",
      "execution_count": 23,
      "metadata": {
        "colab": {
          "base_uri": "https://localhost:8080/"
        },
        "id": "E7BIy4NSskRW",
        "outputId": "cad3ad7d-c2f5-439a-f39c-13fd38056887"
      },
      "outputs": [
        {
          "data": {
            "text/plain": [
              "['10,000 BC (2008)',\n",
              " '2 Guns (2013)',\n",
              " '2012 (2009)',\n",
              " '300: Rise of an Empire (2014)',\n",
              " 'Abduction (2011)',\n",
              " 'Adjustment Bureau, The (2011)',\n",
              " 'Adventures of Tintin, The (2011)',\n",
              " 'Alice in Wonderland (2010)',\n",
              " 'Amazing Spider-Man, The (2012)',\n",
              " 'Angels & Demons (2009)',\n",
              " 'Ant-Man (2015)',\n",
              " 'Avatar (2009)',\n",
              " 'Avengers, The (2012)',\n",
              " 'Avengers: Age of Ultron (2015)',\n",
              " 'Bad Teacher (2011)',\n",
              " 'Batman: The Dark Knight Returns, Part 1 (2012)',\n",
              " 'Batman: The Dark Knight Returns, Part 2 (2013)',\n",
              " 'Battle: Los Angeles (2011)',\n",
              " 'Bee Movie (2007)',\n",
              " 'Beowulf (2007)']"
            ]
          },
          "execution_count": 23,
          "metadata": {},
          "output_type": "execute_result"
        }
      ],
      "source": [
        "corr_coffey_hands  = corr[coffey_hands]\n",
        "list(movie_title[(corr_coffey_hands >= 0.9)])[:20]"
      ]
    },
    {
      "cell_type": "markdown",
      "metadata": {
        "id": "sJ3_r6TssoW-"
      },
      "source": [
        "마블의 가디언즈 오브 갤럭시를 지정하여 상관계수가 높은 영화들을 뽑은 결과\n",
        "\n",
        "**마블 어벤져스, 캡틴 아메리카, 배트맨 등**이 결과로 나온 걸로 봐서 비슷하게 추천되었다고 볼 수 있겠습니다."
      ]
    },
    {
      "cell_type": "markdown",
      "metadata": {
        "id": "_WoJIF7-spL2"
      },
      "source": [
        "## 2. 아이템 기반 협업 필터링 실습"
      ]
    },
    {
      "cell_type": "markdown",
      "metadata": {
        "id": "ueZM-g6EspTY"
      },
      "source": [
        "### Data Load"
      ]
    },
    {
      "cell_type": "code",
      "execution_count": 24,
      "metadata": {
        "id": "8J2L4im3stBh"
      },
      "outputs": [],
      "source": [
        "rating_data = pd.read_csv(\"C:/Users/USER/Desktop/ratings.csv\")\n",
        "movie_data = pd.read_csv(\"C:/Users/USER/Desktop/movies.csv\")"
      ]
    },
    {
      "cell_type": "code",
      "execution_count": 25,
      "metadata": {
        "colab": {
          "base_uri": "https://localhost:8080/",
          "height": 396
        },
        "id": "oqhxOMm3stGA",
        "outputId": "5a17ad4a-f080-4968-9f97-46754d33d93d"
      },
      "outputs": [
        {
          "data": {
            "text/html": [
              "<div>\n",
              "<style scoped>\n",
              "    .dataframe tbody tr th:only-of-type {\n",
              "        vertical-align: middle;\n",
              "    }\n",
              "\n",
              "    .dataframe tbody tr th {\n",
              "        vertical-align: top;\n",
              "    }\n",
              "\n",
              "    .dataframe thead th {\n",
              "        text-align: right;\n",
              "    }\n",
              "</style>\n",
              "<table border=\"1\" class=\"dataframe\">\n",
              "  <thead>\n",
              "    <tr style=\"text-align: right;\">\n",
              "      <th></th>\n",
              "      <th>userId</th>\n",
              "      <th>movieId</th>\n",
              "      <th>rating</th>\n",
              "      <th>timestamp</th>\n",
              "    </tr>\n",
              "  </thead>\n",
              "  <tbody>\n",
              "    <tr>\n",
              "      <th>0</th>\n",
              "      <td>1</td>\n",
              "      <td>31</td>\n",
              "      <td>2.5</td>\n",
              "      <td>1260759144</td>\n",
              "    </tr>\n",
              "    <tr>\n",
              "      <th>1</th>\n",
              "      <td>1</td>\n",
              "      <td>1029</td>\n",
              "      <td>3.0</td>\n",
              "      <td>1260759179</td>\n",
              "    </tr>\n",
              "    <tr>\n",
              "      <th>2</th>\n",
              "      <td>1</td>\n",
              "      <td>1061</td>\n",
              "      <td>3.0</td>\n",
              "      <td>1260759182</td>\n",
              "    </tr>\n",
              "    <tr>\n",
              "      <th>3</th>\n",
              "      <td>1</td>\n",
              "      <td>1129</td>\n",
              "      <td>2.0</td>\n",
              "      <td>1260759185</td>\n",
              "    </tr>\n",
              "    <tr>\n",
              "      <th>4</th>\n",
              "      <td>1</td>\n",
              "      <td>1172</td>\n",
              "      <td>4.0</td>\n",
              "      <td>1260759205</td>\n",
              "    </tr>\n",
              "  </tbody>\n",
              "</table>\n",
              "</div>"
            ],
            "text/plain": [
              "   userId  movieId  rating   timestamp\n",
              "0       1       31     2.5  1260759144\n",
              "1       1     1029     3.0  1260759179\n",
              "2       1     1061     3.0  1260759182\n",
              "3       1     1129     2.0  1260759185\n",
              "4       1     1172     4.0  1260759205"
            ]
          },
          "metadata": {},
          "output_type": "display_data"
        },
        {
          "data": {
            "text/html": [
              "<div>\n",
              "<style scoped>\n",
              "    .dataframe tbody tr th:only-of-type {\n",
              "        vertical-align: middle;\n",
              "    }\n",
              "\n",
              "    .dataframe tbody tr th {\n",
              "        vertical-align: top;\n",
              "    }\n",
              "\n",
              "    .dataframe thead th {\n",
              "        text-align: right;\n",
              "    }\n",
              "</style>\n",
              "<table border=\"1\" class=\"dataframe\">\n",
              "  <thead>\n",
              "    <tr style=\"text-align: right;\">\n",
              "      <th></th>\n",
              "      <th>movieId</th>\n",
              "      <th>title</th>\n",
              "      <th>genres</th>\n",
              "    </tr>\n",
              "  </thead>\n",
              "  <tbody>\n",
              "    <tr>\n",
              "      <th>0</th>\n",
              "      <td>1</td>\n",
              "      <td>Toy Story (1995)</td>\n",
              "      <td>Adventure|Animation|Children|Comedy|Fantasy</td>\n",
              "    </tr>\n",
              "    <tr>\n",
              "      <th>1</th>\n",
              "      <td>2</td>\n",
              "      <td>Jumanji (1995)</td>\n",
              "      <td>Adventure|Children|Fantasy</td>\n",
              "    </tr>\n",
              "    <tr>\n",
              "      <th>2</th>\n",
              "      <td>3</td>\n",
              "      <td>Grumpier Old Men (1995)</td>\n",
              "      <td>Comedy|Romance</td>\n",
              "    </tr>\n",
              "    <tr>\n",
              "      <th>3</th>\n",
              "      <td>4</td>\n",
              "      <td>Waiting to Exhale (1995)</td>\n",
              "      <td>Comedy|Drama|Romance</td>\n",
              "    </tr>\n",
              "    <tr>\n",
              "      <th>4</th>\n",
              "      <td>5</td>\n",
              "      <td>Father of the Bride Part II (1995)</td>\n",
              "      <td>Comedy</td>\n",
              "    </tr>\n",
              "  </tbody>\n",
              "</table>\n",
              "</div>"
            ],
            "text/plain": [
              "   movieId                               title  \\\n",
              "0        1                    Toy Story (1995)   \n",
              "1        2                      Jumanji (1995)   \n",
              "2        3             Grumpier Old Men (1995)   \n",
              "3        4            Waiting to Exhale (1995)   \n",
              "4        5  Father of the Bride Part II (1995)   \n",
              "\n",
              "                                        genres  \n",
              "0  Adventure|Animation|Children|Comedy|Fantasy  \n",
              "1                   Adventure|Children|Fantasy  \n",
              "2                               Comedy|Romance  \n",
              "3                         Comedy|Drama|Romance  \n",
              "4                                       Comedy  "
            ]
          },
          "metadata": {},
          "output_type": "display_data"
        }
      ],
      "source": [
        "display(rating_data.head(), movie_data.head())"
      ]
    },
    {
      "cell_type": "markdown",
      "metadata": {
        "id": "OFx0bbEosx06"
      },
      "source": [
        "### Data Preprocessing"
      ]
    },
    {
      "cell_type": "code",
      "execution_count": 26,
      "metadata": {
        "id": "GP3F5t2BsxPQ"
      },
      "outputs": [],
      "source": [
        "# rating_data에서 'timestamp' 컬럼 제거\n",
        "rating_data.drop('timestamp', axis = 1, inplace = True)\n",
        "# movie_data에서 'genres' 컬럼 제거\n",
        "movie_data.drop('genres', axis = 1, inplace = True)"
      ]
    },
    {
      "cell_type": "code",
      "execution_count": 27,
      "metadata": {
        "colab": {
          "base_uri": "https://localhost:8080/",
          "height": 112
        },
        "id": "umfZjfmxstIU",
        "outputId": "23039d75-f3ec-44fc-916e-138a72ae9936"
      },
      "outputs": [
        {
          "data": {
            "text/html": [
              "<div>\n",
              "<style scoped>\n",
              "    .dataframe tbody tr th:only-of-type {\n",
              "        vertical-align: middle;\n",
              "    }\n",
              "\n",
              "    .dataframe tbody tr th {\n",
              "        vertical-align: top;\n",
              "    }\n",
              "\n",
              "    .dataframe thead th {\n",
              "        text-align: right;\n",
              "    }\n",
              "</style>\n",
              "<table border=\"1\" class=\"dataframe\">\n",
              "  <thead>\n",
              "    <tr style=\"text-align: right;\">\n",
              "      <th></th>\n",
              "      <th>userId</th>\n",
              "      <th>movieId</th>\n",
              "      <th>rating</th>\n",
              "      <th>title</th>\n",
              "    </tr>\n",
              "  </thead>\n",
              "  <tbody>\n",
              "    <tr>\n",
              "      <th>0</th>\n",
              "      <td>1</td>\n",
              "      <td>31</td>\n",
              "      <td>2.5</td>\n",
              "      <td>Dangerous Minds (1995)</td>\n",
              "    </tr>\n",
              "    <tr>\n",
              "      <th>1</th>\n",
              "      <td>1</td>\n",
              "      <td>1029</td>\n",
              "      <td>3.0</td>\n",
              "      <td>Dumbo (1941)</td>\n",
              "    </tr>\n",
              "  </tbody>\n",
              "</table>\n",
              "</div>"
            ],
            "text/plain": [
              "   userId  movieId  rating                   title\n",
              "0       1       31     2.5  Dangerous Minds (1995)\n",
              "1       1     1029     3.0            Dumbo (1941)"
            ]
          },
          "execution_count": 27,
          "metadata": {},
          "output_type": "execute_result"
        }
      ],
      "source": [
        "# 데이터 합치기\n",
        "user_movie_rating = pd.merge(rating_data, movie_data, on = 'movieId')\n",
        "user_movie_rating.head(2)"
      ]
    },
    {
      "cell_type": "code",
      "execution_count": 28,
      "metadata": {
        "id": "AQE-Fx5-stKo"
      },
      "outputs": [],
      "source": [
        "# pivot_table 적용\n",
        "movie_user_rating = user_movie_rating.pivot_table('rating', index = 'title', columns='userId')\n",
        "user_movie_rating = user_movie_rating.pivot_table('rating', index = 'userId', columns='title')\n",
        "movie_user_rating.fillna(0, inplace = True)"
      ]
    },
    {
      "cell_type": "markdown",
      "metadata": {
        "id": "KbuMYreZs1as"
      },
      "source": [
        "- movie_user_rating: 행=영화, 열=사용자, 값=평점\n",
        "\n",
        "  → 각 영화가 어떤 사용자에게 어떤 평점을 받았는지\n",
        "- user_movie_rating: 행=사용자, 열=영화, 값=평점\n",
        "\n",
        "  → 각 사용자가 어떤 영화에 어떤 평점을 줬는지\n",
        "- 결측치(NaN)는 아직 평가되지 않은 영화이므로 0으로 채움"
      ]
    },
    {
      "cell_type": "code",
      "execution_count": 29,
      "metadata": {
        "colab": {
          "base_uri": "https://localhost:8080/",
          "height": 624
        },
        "id": "-FI1gaAzs3EN",
        "outputId": "81416b79-e184-4a54-adee-ae63d87de457"
      },
      "outputs": [
        {
          "data": {
            "text/html": [
              "<div>\n",
              "<style scoped>\n",
              "    .dataframe tbody tr th:only-of-type {\n",
              "        vertical-align: middle;\n",
              "    }\n",
              "\n",
              "    .dataframe tbody tr th {\n",
              "        vertical-align: top;\n",
              "    }\n",
              "\n",
              "    .dataframe thead th {\n",
              "        text-align: right;\n",
              "    }\n",
              "</style>\n",
              "<table border=\"1\" class=\"dataframe\">\n",
              "  <thead>\n",
              "    <tr style=\"text-align: right;\">\n",
              "      <th>title</th>\n",
              "      <th>\"Great Performances\" Cats (1998)</th>\n",
              "      <th>$9.99 (2008)</th>\n",
              "      <th>'Hellboy': The Seeds of Creation (2004)</th>\n",
              "      <th>'Neath the Arizona Skies (1934)</th>\n",
              "      <th>'Round Midnight (1986)</th>\n",
              "      <th>'Salem's Lot (2004)</th>\n",
              "      <th>'Til There Was You (1997)</th>\n",
              "      <th>'burbs, The (1989)</th>\n",
              "      <th>'night Mother (1986)</th>\n",
              "      <th>(500) Days of Summer (2009)</th>\n",
              "      <th>...</th>\n",
              "      <th>Zulu (1964)</th>\n",
              "      <th>Zulu (2013)</th>\n",
              "      <th>[REC] (2007)</th>\n",
              "      <th>eXistenZ (1999)</th>\n",
              "      <th>loudQUIETloud: A Film About the Pixies (2006)</th>\n",
              "      <th>xXx (2002)</th>\n",
              "      <th>xXx: State of the Union (2005)</th>\n",
              "      <th>¡Three Amigos! (1986)</th>\n",
              "      <th>À nous la liberté (Freedom for Us) (1931)</th>\n",
              "      <th>İtirazım Var (2014)</th>\n",
              "    </tr>\n",
              "    <tr>\n",
              "      <th>userId</th>\n",
              "      <th></th>\n",
              "      <th></th>\n",
              "      <th></th>\n",
              "      <th></th>\n",
              "      <th></th>\n",
              "      <th></th>\n",
              "      <th></th>\n",
              "      <th></th>\n",
              "      <th></th>\n",
              "      <th></th>\n",
              "      <th></th>\n",
              "      <th></th>\n",
              "      <th></th>\n",
              "      <th></th>\n",
              "      <th></th>\n",
              "      <th></th>\n",
              "      <th></th>\n",
              "      <th></th>\n",
              "      <th></th>\n",
              "      <th></th>\n",
              "      <th></th>\n",
              "    </tr>\n",
              "  </thead>\n",
              "  <tbody>\n",
              "    <tr>\n",
              "      <th>1</th>\n",
              "      <td>NaN</td>\n",
              "      <td>NaN</td>\n",
              "      <td>NaN</td>\n",
              "      <td>NaN</td>\n",
              "      <td>NaN</td>\n",
              "      <td>NaN</td>\n",
              "      <td>NaN</td>\n",
              "      <td>NaN</td>\n",
              "      <td>NaN</td>\n",
              "      <td>NaN</td>\n",
              "      <td>...</td>\n",
              "      <td>NaN</td>\n",
              "      <td>NaN</td>\n",
              "      <td>NaN</td>\n",
              "      <td>NaN</td>\n",
              "      <td>NaN</td>\n",
              "      <td>NaN</td>\n",
              "      <td>NaN</td>\n",
              "      <td>NaN</td>\n",
              "      <td>NaN</td>\n",
              "      <td>NaN</td>\n",
              "    </tr>\n",
              "    <tr>\n",
              "      <th>2</th>\n",
              "      <td>NaN</td>\n",
              "      <td>NaN</td>\n",
              "      <td>NaN</td>\n",
              "      <td>NaN</td>\n",
              "      <td>NaN</td>\n",
              "      <td>NaN</td>\n",
              "      <td>NaN</td>\n",
              "      <td>NaN</td>\n",
              "      <td>NaN</td>\n",
              "      <td>NaN</td>\n",
              "      <td>...</td>\n",
              "      <td>NaN</td>\n",
              "      <td>NaN</td>\n",
              "      <td>NaN</td>\n",
              "      <td>NaN</td>\n",
              "      <td>NaN</td>\n",
              "      <td>NaN</td>\n",
              "      <td>NaN</td>\n",
              "      <td>NaN</td>\n",
              "      <td>NaN</td>\n",
              "      <td>NaN</td>\n",
              "    </tr>\n",
              "    <tr>\n",
              "      <th>3</th>\n",
              "      <td>NaN</td>\n",
              "      <td>NaN</td>\n",
              "      <td>NaN</td>\n",
              "      <td>NaN</td>\n",
              "      <td>NaN</td>\n",
              "      <td>NaN</td>\n",
              "      <td>NaN</td>\n",
              "      <td>NaN</td>\n",
              "      <td>NaN</td>\n",
              "      <td>NaN</td>\n",
              "      <td>...</td>\n",
              "      <td>NaN</td>\n",
              "      <td>NaN</td>\n",
              "      <td>NaN</td>\n",
              "      <td>NaN</td>\n",
              "      <td>NaN</td>\n",
              "      <td>NaN</td>\n",
              "      <td>NaN</td>\n",
              "      <td>NaN</td>\n",
              "      <td>NaN</td>\n",
              "      <td>NaN</td>\n",
              "    </tr>\n",
              "    <tr>\n",
              "      <th>4</th>\n",
              "      <td>NaN</td>\n",
              "      <td>NaN</td>\n",
              "      <td>NaN</td>\n",
              "      <td>NaN</td>\n",
              "      <td>NaN</td>\n",
              "      <td>NaN</td>\n",
              "      <td>NaN</td>\n",
              "      <td>NaN</td>\n",
              "      <td>NaN</td>\n",
              "      <td>NaN</td>\n",
              "      <td>...</td>\n",
              "      <td>NaN</td>\n",
              "      <td>NaN</td>\n",
              "      <td>NaN</td>\n",
              "      <td>NaN</td>\n",
              "      <td>NaN</td>\n",
              "      <td>NaN</td>\n",
              "      <td>NaN</td>\n",
              "      <td>NaN</td>\n",
              "      <td>NaN</td>\n",
              "      <td>NaN</td>\n",
              "    </tr>\n",
              "    <tr>\n",
              "      <th>5</th>\n",
              "      <td>NaN</td>\n",
              "      <td>NaN</td>\n",
              "      <td>NaN</td>\n",
              "      <td>NaN</td>\n",
              "      <td>NaN</td>\n",
              "      <td>NaN</td>\n",
              "      <td>NaN</td>\n",
              "      <td>NaN</td>\n",
              "      <td>NaN</td>\n",
              "      <td>NaN</td>\n",
              "      <td>...</td>\n",
              "      <td>NaN</td>\n",
              "      <td>NaN</td>\n",
              "      <td>NaN</td>\n",
              "      <td>NaN</td>\n",
              "      <td>NaN</td>\n",
              "      <td>NaN</td>\n",
              "      <td>NaN</td>\n",
              "      <td>NaN</td>\n",
              "      <td>NaN</td>\n",
              "      <td>NaN</td>\n",
              "    </tr>\n",
              "  </tbody>\n",
              "</table>\n",
              "<p>5 rows × 9064 columns</p>\n",
              "</div>"
            ],
            "text/plain": [
              "title   \"Great Performances\" Cats (1998)  $9.99 (2008)  \\\n",
              "userId                                                   \n",
              "1                                    NaN           NaN   \n",
              "2                                    NaN           NaN   \n",
              "3                                    NaN           NaN   \n",
              "4                                    NaN           NaN   \n",
              "5                                    NaN           NaN   \n",
              "\n",
              "title   'Hellboy': The Seeds of Creation (2004)  \\\n",
              "userId                                            \n",
              "1                                           NaN   \n",
              "2                                           NaN   \n",
              "3                                           NaN   \n",
              "4                                           NaN   \n",
              "5                                           NaN   \n",
              "\n",
              "title   'Neath the Arizona Skies (1934)  'Round Midnight (1986)  \\\n",
              "userId                                                            \n",
              "1                                   NaN                     NaN   \n",
              "2                                   NaN                     NaN   \n",
              "3                                   NaN                     NaN   \n",
              "4                                   NaN                     NaN   \n",
              "5                                   NaN                     NaN   \n",
              "\n",
              "title   'Salem's Lot (2004)  'Til There Was You (1997)  'burbs, The (1989)  \\\n",
              "userId                                                                       \n",
              "1                       NaN                        NaN                 NaN   \n",
              "2                       NaN                        NaN                 NaN   \n",
              "3                       NaN                        NaN                 NaN   \n",
              "4                       NaN                        NaN                 NaN   \n",
              "5                       NaN                        NaN                 NaN   \n",
              "\n",
              "title   'night Mother (1986)  (500) Days of Summer (2009)  ...  Zulu (1964)  \\\n",
              "userId                                                     ...                \n",
              "1                        NaN                          NaN  ...          NaN   \n",
              "2                        NaN                          NaN  ...          NaN   \n",
              "3                        NaN                          NaN  ...          NaN   \n",
              "4                        NaN                          NaN  ...          NaN   \n",
              "5                        NaN                          NaN  ...          NaN   \n",
              "\n",
              "title   Zulu (2013)  [REC] (2007)  eXistenZ (1999)  \\\n",
              "userId                                               \n",
              "1               NaN           NaN              NaN   \n",
              "2               NaN           NaN              NaN   \n",
              "3               NaN           NaN              NaN   \n",
              "4               NaN           NaN              NaN   \n",
              "5               NaN           NaN              NaN   \n",
              "\n",
              "title   loudQUIETloud: A Film About the Pixies (2006)  xXx (2002)  \\\n",
              "userId                                                              \n",
              "1                                                 NaN         NaN   \n",
              "2                                                 NaN         NaN   \n",
              "3                                                 NaN         NaN   \n",
              "4                                                 NaN         NaN   \n",
              "5                                                 NaN         NaN   \n",
              "\n",
              "title   xXx: State of the Union (2005)  ¡Three Amigos! (1986)  \\\n",
              "userId                                                          \n",
              "1                                  NaN                    NaN   \n",
              "2                                  NaN                    NaN   \n",
              "3                                  NaN                    NaN   \n",
              "4                                  NaN                    NaN   \n",
              "5                                  NaN                    NaN   \n",
              "\n",
              "title   À nous la liberté (Freedom for Us) (1931)  İtirazım Var (2014)  \n",
              "userId                                                                  \n",
              "1                                             NaN                  NaN  \n",
              "2                                             NaN                  NaN  \n",
              "3                                             NaN                  NaN  \n",
              "4                                             NaN                  NaN  \n",
              "5                                             NaN                  NaN  \n",
              "\n",
              "[5 rows x 9064 columns]"
            ]
          },
          "metadata": {},
          "output_type": "display_data"
        },
        {
          "data": {
            "text/html": [
              "<div>\n",
              "<style scoped>\n",
              "    .dataframe tbody tr th:only-of-type {\n",
              "        vertical-align: middle;\n",
              "    }\n",
              "\n",
              "    .dataframe tbody tr th {\n",
              "        vertical-align: top;\n",
              "    }\n",
              "\n",
              "    .dataframe thead th {\n",
              "        text-align: right;\n",
              "    }\n",
              "</style>\n",
              "<table border=\"1\" class=\"dataframe\">\n",
              "  <thead>\n",
              "    <tr style=\"text-align: right;\">\n",
              "      <th>userId</th>\n",
              "      <th>1</th>\n",
              "      <th>2</th>\n",
              "      <th>3</th>\n",
              "      <th>4</th>\n",
              "      <th>5</th>\n",
              "      <th>6</th>\n",
              "      <th>7</th>\n",
              "      <th>8</th>\n",
              "      <th>9</th>\n",
              "      <th>10</th>\n",
              "      <th>...</th>\n",
              "      <th>662</th>\n",
              "      <th>663</th>\n",
              "      <th>664</th>\n",
              "      <th>665</th>\n",
              "      <th>666</th>\n",
              "      <th>667</th>\n",
              "      <th>668</th>\n",
              "      <th>669</th>\n",
              "      <th>670</th>\n",
              "      <th>671</th>\n",
              "    </tr>\n",
              "    <tr>\n",
              "      <th>title</th>\n",
              "      <th></th>\n",
              "      <th></th>\n",
              "      <th></th>\n",
              "      <th></th>\n",
              "      <th></th>\n",
              "      <th></th>\n",
              "      <th></th>\n",
              "      <th></th>\n",
              "      <th></th>\n",
              "      <th></th>\n",
              "      <th></th>\n",
              "      <th></th>\n",
              "      <th></th>\n",
              "      <th></th>\n",
              "      <th></th>\n",
              "      <th></th>\n",
              "      <th></th>\n",
              "      <th></th>\n",
              "      <th></th>\n",
              "      <th></th>\n",
              "      <th></th>\n",
              "    </tr>\n",
              "  </thead>\n",
              "  <tbody>\n",
              "    <tr>\n",
              "      <th>\"Great Performances\" Cats (1998)</th>\n",
              "      <td>0.0</td>\n",
              "      <td>0.0</td>\n",
              "      <td>0.0</td>\n",
              "      <td>0.0</td>\n",
              "      <td>0.0</td>\n",
              "      <td>0.0</td>\n",
              "      <td>0.0</td>\n",
              "      <td>0.0</td>\n",
              "      <td>0.0</td>\n",
              "      <td>0.0</td>\n",
              "      <td>...</td>\n",
              "      <td>0.0</td>\n",
              "      <td>0.0</td>\n",
              "      <td>0.0</td>\n",
              "      <td>0.0</td>\n",
              "      <td>0.0</td>\n",
              "      <td>0.0</td>\n",
              "      <td>0.0</td>\n",
              "      <td>0.0</td>\n",
              "      <td>0.0</td>\n",
              "      <td>0.0</td>\n",
              "    </tr>\n",
              "    <tr>\n",
              "      <th>$9.99 (2008)</th>\n",
              "      <td>0.0</td>\n",
              "      <td>0.0</td>\n",
              "      <td>0.0</td>\n",
              "      <td>0.0</td>\n",
              "      <td>0.0</td>\n",
              "      <td>0.0</td>\n",
              "      <td>0.0</td>\n",
              "      <td>0.0</td>\n",
              "      <td>0.0</td>\n",
              "      <td>0.0</td>\n",
              "      <td>...</td>\n",
              "      <td>0.0</td>\n",
              "      <td>0.0</td>\n",
              "      <td>0.0</td>\n",
              "      <td>0.0</td>\n",
              "      <td>0.0</td>\n",
              "      <td>0.0</td>\n",
              "      <td>0.0</td>\n",
              "      <td>0.0</td>\n",
              "      <td>0.0</td>\n",
              "      <td>0.0</td>\n",
              "    </tr>\n",
              "    <tr>\n",
              "      <th>'Hellboy': The Seeds of Creation (2004)</th>\n",
              "      <td>0.0</td>\n",
              "      <td>0.0</td>\n",
              "      <td>0.0</td>\n",
              "      <td>0.0</td>\n",
              "      <td>0.0</td>\n",
              "      <td>0.0</td>\n",
              "      <td>0.0</td>\n",
              "      <td>0.0</td>\n",
              "      <td>0.0</td>\n",
              "      <td>0.0</td>\n",
              "      <td>...</td>\n",
              "      <td>0.0</td>\n",
              "      <td>0.0</td>\n",
              "      <td>0.0</td>\n",
              "      <td>0.0</td>\n",
              "      <td>0.0</td>\n",
              "      <td>0.0</td>\n",
              "      <td>0.0</td>\n",
              "      <td>0.0</td>\n",
              "      <td>0.0</td>\n",
              "      <td>0.0</td>\n",
              "    </tr>\n",
              "    <tr>\n",
              "      <th>'Neath the Arizona Skies (1934)</th>\n",
              "      <td>0.0</td>\n",
              "      <td>0.0</td>\n",
              "      <td>0.0</td>\n",
              "      <td>0.0</td>\n",
              "      <td>0.0</td>\n",
              "      <td>0.0</td>\n",
              "      <td>0.0</td>\n",
              "      <td>0.0</td>\n",
              "      <td>0.0</td>\n",
              "      <td>0.0</td>\n",
              "      <td>...</td>\n",
              "      <td>0.0</td>\n",
              "      <td>0.0</td>\n",
              "      <td>0.0</td>\n",
              "      <td>0.0</td>\n",
              "      <td>0.0</td>\n",
              "      <td>0.0</td>\n",
              "      <td>0.0</td>\n",
              "      <td>0.0</td>\n",
              "      <td>0.0</td>\n",
              "      <td>0.0</td>\n",
              "    </tr>\n",
              "    <tr>\n",
              "      <th>'Round Midnight (1986)</th>\n",
              "      <td>0.0</td>\n",
              "      <td>0.0</td>\n",
              "      <td>0.0</td>\n",
              "      <td>0.0</td>\n",
              "      <td>0.0</td>\n",
              "      <td>0.0</td>\n",
              "      <td>0.0</td>\n",
              "      <td>0.0</td>\n",
              "      <td>0.0</td>\n",
              "      <td>0.0</td>\n",
              "      <td>...</td>\n",
              "      <td>0.0</td>\n",
              "      <td>0.0</td>\n",
              "      <td>0.0</td>\n",
              "      <td>0.0</td>\n",
              "      <td>0.0</td>\n",
              "      <td>0.0</td>\n",
              "      <td>0.0</td>\n",
              "      <td>0.0</td>\n",
              "      <td>0.0</td>\n",
              "      <td>0.0</td>\n",
              "    </tr>\n",
              "  </tbody>\n",
              "</table>\n",
              "<p>5 rows × 671 columns</p>\n",
              "</div>"
            ],
            "text/plain": [
              "userId                                   1    2    3    4    5    6    7    \\\n",
              "title                                                                        \n",
              "\"Great Performances\" Cats (1998)         0.0  0.0  0.0  0.0  0.0  0.0  0.0   \n",
              "$9.99 (2008)                             0.0  0.0  0.0  0.0  0.0  0.0  0.0   \n",
              "'Hellboy': The Seeds of Creation (2004)  0.0  0.0  0.0  0.0  0.0  0.0  0.0   \n",
              "'Neath the Arizona Skies (1934)          0.0  0.0  0.0  0.0  0.0  0.0  0.0   \n",
              "'Round Midnight (1986)                   0.0  0.0  0.0  0.0  0.0  0.0  0.0   \n",
              "\n",
              "userId                                   8    9    10   ...  662  663  664  \\\n",
              "title                                                   ...                  \n",
              "\"Great Performances\" Cats (1998)         0.0  0.0  0.0  ...  0.0  0.0  0.0   \n",
              "$9.99 (2008)                             0.0  0.0  0.0  ...  0.0  0.0  0.0   \n",
              "'Hellboy': The Seeds of Creation (2004)  0.0  0.0  0.0  ...  0.0  0.0  0.0   \n",
              "'Neath the Arizona Skies (1934)          0.0  0.0  0.0  ...  0.0  0.0  0.0   \n",
              "'Round Midnight (1986)                   0.0  0.0  0.0  ...  0.0  0.0  0.0   \n",
              "\n",
              "userId                                   665  666  667  668  669  670  671  \n",
              "title                                                                       \n",
              "\"Great Performances\" Cats (1998)         0.0  0.0  0.0  0.0  0.0  0.0  0.0  \n",
              "$9.99 (2008)                             0.0  0.0  0.0  0.0  0.0  0.0  0.0  \n",
              "'Hellboy': The Seeds of Creation (2004)  0.0  0.0  0.0  0.0  0.0  0.0  0.0  \n",
              "'Neath the Arizona Skies (1934)          0.0  0.0  0.0  0.0  0.0  0.0  0.0  \n",
              "'Round Midnight (1986)                   0.0  0.0  0.0  0.0  0.0  0.0  0.0  \n",
              "\n",
              "[5 rows x 671 columns]"
            ]
          },
          "metadata": {},
          "output_type": "display_data"
        }
      ],
      "source": [
        "display(user_movie_rating.head(), movie_user_rating.head())"
      ]
    },
    {
      "cell_type": "markdown",
      "metadata": {
        "id": "J0jbZt3-txhS"
      },
      "source": [
        "### `Q1. 아이템 간 코사인 유사도를 계산해주세요.`"
      ]
    },
    {
      "cell_type": "code",
      "execution_count": 31,
      "metadata": {
        "colab": {
          "base_uri": "https://localhost:8080/"
        },
        "id": "-Y2Urb0_s3Ta",
        "outputId": "a49c5c07-45cb-4e23-8d21-bf9cb180b940"
      },
      "outputs": [
        {
          "data": {
            "text/plain": [
              "array([[1.        , 0.        , 0.        , ..., 0.        , 0.        ,\n",
              "        0.        ],\n",
              "       [0.        , 1.        , 0.        , ..., 0.05821787, 0.        ,\n",
              "        0.        ],\n",
              "       [0.        , 0.        , 1.        , ..., 0.        , 0.        ,\n",
              "        0.        ],\n",
              "       ...,\n",
              "       [0.        , 0.05821787, 0.        , ..., 1.        , 0.        ,\n",
              "        0.        ],\n",
              "       [0.        , 0.        , 0.        , ..., 0.        , 1.        ,\n",
              "        0.        ],\n",
              "       [0.        , 0.        , 0.        , ..., 0.        , 0.        ,\n",
              "        1.        ]])"
            ]
          },
          "execution_count": 31,
          "metadata": {},
          "output_type": "execute_result"
        }
      ],
      "source": [
        "# 아이템 간 유사도 계산\n",
        "item_based_collabor = cosine_similarity(movie_user_rating)\n",
        "item_based_collabor"
      ]
    },
    {
      "cell_type": "code",
      "execution_count": 32,
      "metadata": {
        "colab": {
          "base_uri": "https://localhost:8080/"
        },
        "id": "mvzknBR9s6Er",
        "outputId": "75bc29d0-931e-48fe-d105-4e3b02d69475"
      },
      "outputs": [
        {
          "name": "stdout",
          "output_type": "stream",
          "text": [
            "(9064, 671)\n",
            "(9064, 9064)\n"
          ]
        }
      ],
      "source": [
        "print(movie_user_rating.shape)\n",
        "print(item_based_collabor.shape)"
      ]
    },
    {
      "cell_type": "code",
      "execution_count": 33,
      "metadata": {
        "colab": {
          "base_uri": "https://localhost:8080/",
          "height": 529
        },
        "id": "9qWsAgpYs6Ii",
        "outputId": "d6036e64-785c-4fef-eb52-a82238452d22"
      },
      "outputs": [
        {
          "data": {
            "text/html": [
              "<div>\n",
              "<style scoped>\n",
              "    .dataframe tbody tr th:only-of-type {\n",
              "        vertical-align: middle;\n",
              "    }\n",
              "\n",
              "    .dataframe tbody tr th {\n",
              "        vertical-align: top;\n",
              "    }\n",
              "\n",
              "    .dataframe thead th {\n",
              "        text-align: right;\n",
              "    }\n",
              "</style>\n",
              "<table border=\"1\" class=\"dataframe\">\n",
              "  <thead>\n",
              "    <tr style=\"text-align: right;\">\n",
              "      <th>title</th>\n",
              "      <th>\"Great Performances\" Cats (1998)</th>\n",
              "      <th>$9.99 (2008)</th>\n",
              "      <th>'Hellboy': The Seeds of Creation (2004)</th>\n",
              "      <th>'Neath the Arizona Skies (1934)</th>\n",
              "      <th>'Round Midnight (1986)</th>\n",
              "      <th>'Salem's Lot (2004)</th>\n",
              "      <th>'Til There Was You (1997)</th>\n",
              "      <th>'burbs, The (1989)</th>\n",
              "      <th>'night Mother (1986)</th>\n",
              "      <th>(500) Days of Summer (2009)</th>\n",
              "      <th>...</th>\n",
              "      <th>Zulu (1964)</th>\n",
              "      <th>Zulu (2013)</th>\n",
              "      <th>[REC] (2007)</th>\n",
              "      <th>eXistenZ (1999)</th>\n",
              "      <th>loudQUIETloud: A Film About the Pixies (2006)</th>\n",
              "      <th>xXx (2002)</th>\n",
              "      <th>xXx: State of the Union (2005)</th>\n",
              "      <th>¡Three Amigos! (1986)</th>\n",
              "      <th>À nous la liberté (Freedom for Us) (1931)</th>\n",
              "      <th>İtirazım Var (2014)</th>\n",
              "    </tr>\n",
              "    <tr>\n",
              "      <th>title</th>\n",
              "      <th></th>\n",
              "      <th></th>\n",
              "      <th></th>\n",
              "      <th></th>\n",
              "      <th></th>\n",
              "      <th></th>\n",
              "      <th></th>\n",
              "      <th></th>\n",
              "      <th></th>\n",
              "      <th></th>\n",
              "      <th></th>\n",
              "      <th></th>\n",
              "      <th></th>\n",
              "      <th></th>\n",
              "      <th></th>\n",
              "      <th></th>\n",
              "      <th></th>\n",
              "      <th></th>\n",
              "      <th></th>\n",
              "      <th></th>\n",
              "      <th></th>\n",
              "    </tr>\n",
              "  </thead>\n",
              "  <tbody>\n",
              "    <tr>\n",
              "      <th>\"Great Performances\" Cats (1998)</th>\n",
              "      <td>1.000000</td>\n",
              "      <td>0.0</td>\n",
              "      <td>0.0</td>\n",
              "      <td>0.164399</td>\n",
              "      <td>0.020391</td>\n",
              "      <td>0.0</td>\n",
              "      <td>0.014046</td>\n",
              "      <td>0.000000</td>\n",
              "      <td>0.0</td>\n",
              "      <td>0.003166</td>\n",
              "      <td>...</td>\n",
              "      <td>0.0</td>\n",
              "      <td>0.0</td>\n",
              "      <td>0.0</td>\n",
              "      <td>0.000000</td>\n",
              "      <td>0.0</td>\n",
              "      <td>0.000000</td>\n",
              "      <td>0.0</td>\n",
              "      <td>0.000000</td>\n",
              "      <td>0.0</td>\n",
              "      <td>0.0</td>\n",
              "    </tr>\n",
              "    <tr>\n",
              "      <th>$9.99 (2008)</th>\n",
              "      <td>0.000000</td>\n",
              "      <td>1.0</td>\n",
              "      <td>0.0</td>\n",
              "      <td>0.000000</td>\n",
              "      <td>0.000000</td>\n",
              "      <td>0.0</td>\n",
              "      <td>0.000000</td>\n",
              "      <td>0.079474</td>\n",
              "      <td>0.0</td>\n",
              "      <td>0.156330</td>\n",
              "      <td>...</td>\n",
              "      <td>0.0</td>\n",
              "      <td>0.0</td>\n",
              "      <td>0.0</td>\n",
              "      <td>0.000000</td>\n",
              "      <td>0.0</td>\n",
              "      <td>0.013899</td>\n",
              "      <td>0.0</td>\n",
              "      <td>0.058218</td>\n",
              "      <td>0.0</td>\n",
              "      <td>0.0</td>\n",
              "    </tr>\n",
              "    <tr>\n",
              "      <th>'Hellboy': The Seeds of Creation (2004)</th>\n",
              "      <td>0.000000</td>\n",
              "      <td>0.0</td>\n",
              "      <td>1.0</td>\n",
              "      <td>0.000000</td>\n",
              "      <td>0.000000</td>\n",
              "      <td>1.0</td>\n",
              "      <td>0.000000</td>\n",
              "      <td>0.217357</td>\n",
              "      <td>0.0</td>\n",
              "      <td>0.000000</td>\n",
              "      <td>...</td>\n",
              "      <td>0.0</td>\n",
              "      <td>0.0</td>\n",
              "      <td>0.0</td>\n",
              "      <td>0.000000</td>\n",
              "      <td>0.0</td>\n",
              "      <td>0.000000</td>\n",
              "      <td>0.0</td>\n",
              "      <td>0.000000</td>\n",
              "      <td>0.0</td>\n",
              "      <td>0.0</td>\n",
              "    </tr>\n",
              "    <tr>\n",
              "      <th>'Neath the Arizona Skies (1934)</th>\n",
              "      <td>0.164399</td>\n",
              "      <td>0.0</td>\n",
              "      <td>0.0</td>\n",
              "      <td>1.000000</td>\n",
              "      <td>0.124035</td>\n",
              "      <td>0.0</td>\n",
              "      <td>0.085436</td>\n",
              "      <td>0.000000</td>\n",
              "      <td>0.0</td>\n",
              "      <td>0.019259</td>\n",
              "      <td>...</td>\n",
              "      <td>0.0</td>\n",
              "      <td>0.0</td>\n",
              "      <td>0.0</td>\n",
              "      <td>0.000000</td>\n",
              "      <td>0.0</td>\n",
              "      <td>0.000000</td>\n",
              "      <td>0.0</td>\n",
              "      <td>0.000000</td>\n",
              "      <td>0.0</td>\n",
              "      <td>0.0</td>\n",
              "    </tr>\n",
              "    <tr>\n",
              "      <th>'Round Midnight (1986)</th>\n",
              "      <td>0.020391</td>\n",
              "      <td>0.0</td>\n",
              "      <td>0.0</td>\n",
              "      <td>0.124035</td>\n",
              "      <td>1.000000</td>\n",
              "      <td>0.0</td>\n",
              "      <td>0.010597</td>\n",
              "      <td>0.143786</td>\n",
              "      <td>0.0</td>\n",
              "      <td>0.136163</td>\n",
              "      <td>...</td>\n",
              "      <td>0.0</td>\n",
              "      <td>0.0</td>\n",
              "      <td>0.0</td>\n",
              "      <td>0.121567</td>\n",
              "      <td>0.0</td>\n",
              "      <td>0.000000</td>\n",
              "      <td>0.0</td>\n",
              "      <td>0.000000</td>\n",
              "      <td>0.0</td>\n",
              "      <td>0.0</td>\n",
              "    </tr>\n",
              "  </tbody>\n",
              "</table>\n",
              "<p>5 rows × 9064 columns</p>\n",
              "</div>"
            ],
            "text/plain": [
              "title                                    \"Great Performances\" Cats (1998)  \\\n",
              "title                                                                       \n",
              "\"Great Performances\" Cats (1998)                                 1.000000   \n",
              "$9.99 (2008)                                                     0.000000   \n",
              "'Hellboy': The Seeds of Creation (2004)                          0.000000   \n",
              "'Neath the Arizona Skies (1934)                                  0.164399   \n",
              "'Round Midnight (1986)                                           0.020391   \n",
              "\n",
              "title                                    $9.99 (2008)  \\\n",
              "title                                                   \n",
              "\"Great Performances\" Cats (1998)                  0.0   \n",
              "$9.99 (2008)                                      1.0   \n",
              "'Hellboy': The Seeds of Creation (2004)           0.0   \n",
              "'Neath the Arizona Skies (1934)                   0.0   \n",
              "'Round Midnight (1986)                            0.0   \n",
              "\n",
              "title                                    'Hellboy': The Seeds of Creation (2004)  \\\n",
              "title                                                                              \n",
              "\"Great Performances\" Cats (1998)                                             0.0   \n",
              "$9.99 (2008)                                                                 0.0   \n",
              "'Hellboy': The Seeds of Creation (2004)                                      1.0   \n",
              "'Neath the Arizona Skies (1934)                                              0.0   \n",
              "'Round Midnight (1986)                                                       0.0   \n",
              "\n",
              "title                                    'Neath the Arizona Skies (1934)  \\\n",
              "title                                                                      \n",
              "\"Great Performances\" Cats (1998)                                0.164399   \n",
              "$9.99 (2008)                                                    0.000000   \n",
              "'Hellboy': The Seeds of Creation (2004)                         0.000000   \n",
              "'Neath the Arizona Skies (1934)                                 1.000000   \n",
              "'Round Midnight (1986)                                          0.124035   \n",
              "\n",
              "title                                    'Round Midnight (1986)  \\\n",
              "title                                                             \n",
              "\"Great Performances\" Cats (1998)                       0.020391   \n",
              "$9.99 (2008)                                           0.000000   \n",
              "'Hellboy': The Seeds of Creation (2004)                0.000000   \n",
              "'Neath the Arizona Skies (1934)                        0.124035   \n",
              "'Round Midnight (1986)                                 1.000000   \n",
              "\n",
              "title                                    'Salem's Lot (2004)  \\\n",
              "title                                                          \n",
              "\"Great Performances\" Cats (1998)                         0.0   \n",
              "$9.99 (2008)                                             0.0   \n",
              "'Hellboy': The Seeds of Creation (2004)                  1.0   \n",
              "'Neath the Arizona Skies (1934)                          0.0   \n",
              "'Round Midnight (1986)                                   0.0   \n",
              "\n",
              "title                                    'Til There Was You (1997)  \\\n",
              "title                                                                \n",
              "\"Great Performances\" Cats (1998)                          0.014046   \n",
              "$9.99 (2008)                                              0.000000   \n",
              "'Hellboy': The Seeds of Creation (2004)                   0.000000   \n",
              "'Neath the Arizona Skies (1934)                           0.085436   \n",
              "'Round Midnight (1986)                                    0.010597   \n",
              "\n",
              "title                                    'burbs, The (1989)  \\\n",
              "title                                                         \n",
              "\"Great Performances\" Cats (1998)                   0.000000   \n",
              "$9.99 (2008)                                       0.079474   \n",
              "'Hellboy': The Seeds of Creation (2004)            0.217357   \n",
              "'Neath the Arizona Skies (1934)                    0.000000   \n",
              "'Round Midnight (1986)                             0.143786   \n",
              "\n",
              "title                                    'night Mother (1986)  \\\n",
              "title                                                           \n",
              "\"Great Performances\" Cats (1998)                          0.0   \n",
              "$9.99 (2008)                                              0.0   \n",
              "'Hellboy': The Seeds of Creation (2004)                   0.0   \n",
              "'Neath the Arizona Skies (1934)                           0.0   \n",
              "'Round Midnight (1986)                                    0.0   \n",
              "\n",
              "title                                    (500) Days of Summer (2009)  ...  \\\n",
              "title                                                                 ...   \n",
              "\"Great Performances\" Cats (1998)                            0.003166  ...   \n",
              "$9.99 (2008)                                                0.156330  ...   \n",
              "'Hellboy': The Seeds of Creation (2004)                     0.000000  ...   \n",
              "'Neath the Arizona Skies (1934)                             0.019259  ...   \n",
              "'Round Midnight (1986)                                      0.136163  ...   \n",
              "\n",
              "title                                    Zulu (1964)  Zulu (2013)  \\\n",
              "title                                                               \n",
              "\"Great Performances\" Cats (1998)                 0.0          0.0   \n",
              "$9.99 (2008)                                     0.0          0.0   \n",
              "'Hellboy': The Seeds of Creation (2004)          0.0          0.0   \n",
              "'Neath the Arizona Skies (1934)                  0.0          0.0   \n",
              "'Round Midnight (1986)                           0.0          0.0   \n",
              "\n",
              "title                                    [REC] (2007)  eXistenZ (1999)  \\\n",
              "title                                                                    \n",
              "\"Great Performances\" Cats (1998)                  0.0         0.000000   \n",
              "$9.99 (2008)                                      0.0         0.000000   \n",
              "'Hellboy': The Seeds of Creation (2004)           0.0         0.000000   \n",
              "'Neath the Arizona Skies (1934)                   0.0         0.000000   \n",
              "'Round Midnight (1986)                            0.0         0.121567   \n",
              "\n",
              "title                                    loudQUIETloud: A Film About the Pixies (2006)  \\\n",
              "title                                                                                    \n",
              "\"Great Performances\" Cats (1998)                                                   0.0   \n",
              "$9.99 (2008)                                                                       0.0   \n",
              "'Hellboy': The Seeds of Creation (2004)                                            0.0   \n",
              "'Neath the Arizona Skies (1934)                                                    0.0   \n",
              "'Round Midnight (1986)                                                             0.0   \n",
              "\n",
              "title                                    xXx (2002)  \\\n",
              "title                                                 \n",
              "\"Great Performances\" Cats (1998)           0.000000   \n",
              "$9.99 (2008)                               0.013899   \n",
              "'Hellboy': The Seeds of Creation (2004)    0.000000   \n",
              "'Neath the Arizona Skies (1934)            0.000000   \n",
              "'Round Midnight (1986)                     0.000000   \n",
              "\n",
              "title                                    xXx: State of the Union (2005)  \\\n",
              "title                                                                     \n",
              "\"Great Performances\" Cats (1998)                                    0.0   \n",
              "$9.99 (2008)                                                        0.0   \n",
              "'Hellboy': The Seeds of Creation (2004)                             0.0   \n",
              "'Neath the Arizona Skies (1934)                                     0.0   \n",
              "'Round Midnight (1986)                                              0.0   \n",
              "\n",
              "title                                    ¡Three Amigos! (1986)  \\\n",
              "title                                                            \n",
              "\"Great Performances\" Cats (1998)                      0.000000   \n",
              "$9.99 (2008)                                          0.058218   \n",
              "'Hellboy': The Seeds of Creation (2004)               0.000000   \n",
              "'Neath the Arizona Skies (1934)                       0.000000   \n",
              "'Round Midnight (1986)                                0.000000   \n",
              "\n",
              "title                                    À nous la liberté (Freedom for Us) (1931)  \\\n",
              "title                                                                                \n",
              "\"Great Performances\" Cats (1998)                                               0.0   \n",
              "$9.99 (2008)                                                                   0.0   \n",
              "'Hellboy': The Seeds of Creation (2004)                                        0.0   \n",
              "'Neath the Arizona Skies (1934)                                                0.0   \n",
              "'Round Midnight (1986)                                                         0.0   \n",
              "\n",
              "title                                    İtirazım Var (2014)  \n",
              "title                                                         \n",
              "\"Great Performances\" Cats (1998)                         0.0  \n",
              "$9.99 (2008)                                             0.0  \n",
              "'Hellboy': The Seeds of Creation (2004)                  0.0  \n",
              "'Neath the Arizona Skies (1934)                          0.0  \n",
              "'Round Midnight (1986)                                   0.0  \n",
              "\n",
              "[5 rows x 9064 columns]"
            ]
          },
          "execution_count": 33,
          "metadata": {},
          "output_type": "execute_result"
        }
      ],
      "source": [
        "# 추천 함수 정의\n",
        "item_based_collabor = pd.DataFrame(data = item_based_collabor, index = movie_user_rating.index, columns = movie_user_rating.index)\n",
        "item_based_collabor.head()"
      ]
    },
    {
      "cell_type": "code",
      "execution_count": 34,
      "metadata": {
        "colab": {
          "base_uri": "https://localhost:8080/",
          "height": 304
        },
        "id": "VzoSKYI1s6Mh",
        "outputId": "6d06732f-a1a2-44e3-d493-f28f52eca991"
      },
      "outputs": [
        {
          "data": {
            "text/plain": [
              "title\n",
              "Godfather, The (1972)                        1.000000\n",
              "Godfather: Part II, The (1974)               0.773685\n",
              "Goodfellas (1990)                            0.620349\n",
              "One Flew Over the Cuckoo's Nest (1975)       0.568244\n",
              "American Beauty (1999)                       0.557997\n",
              "Star Wars: Episode IV - A New Hope (1977)    0.546750\n",
              "Name: Godfather, The (1972), dtype: float64"
            ]
          },
          "execution_count": 34,
          "metadata": {},
          "output_type": "execute_result"
        }
      ],
      "source": [
        "def get_item_based_collabor(title):\n",
        "    return item_based_collabor[title].sort_values(ascending=False)[:6]\n",
        "\n",
        "# 해당 영화와 평점 패턴이 비슷한 영화 출력\n",
        "get_item_based_collabor('Godfather, The (1972)')"
      ]
    },
    {
      "cell_type": "markdown",
      "metadata": {
        "id": "kqL_KXKThhal"
      },
      "source": [
        "# 3. 실제 패션 데이터를 이용한 추천시스템 실습\n",
        "마지막으로 Ai-Hub에서 제공하는 **상품 리뷰데이터**를 사용해 간단한 데이터 EDA와 추천시스템 구현을 해보고자 합니다.\n",
        "\n",
        "데이터셋 링크는 다음과 같습니다.\n",
        "\n",
        "https://www.aihub.or.kr/aihubdata/data/view.do?currMenu=115&topMenu=100&searchKeyword=%EC%86%8D%EC%84%B1%EA%B8%B0%EB%B0%98%20%EA%B0%90%EC%A0%95%EB%B6%84%EC%84%9D%20%EB%8D%B0%EC%9D%B4%ED%84%B0&aihubDataSe=data&dataSetSn=71603\n",
        "\n",
        "우리는 여기서 `\"패션 아이템 SNS 리뷰 데이터\"` 를 이용하려고 합니다!\n",
        "\n",
        "아무래도 간단한 실습이다보니, 데이터 EDA와 간단한 모델 적용에 중점을 준 점 양해부탁드립니다. 😅\n"
      ]
    },
    {
      "cell_type": "markdown",
      "metadata": {
        "id": "l4iJLCMihjEF"
      },
      "source": [
        "## Import Packages"
      ]
    },
    {
      "cell_type": "markdown",
      "metadata": {
        "id": "nfZZoajokvXr"
      },
      "source": [
        "시각화를 했을때 한글이 깨지는 경우 하단 패키지 설치 코드를 실행한 다음, **`런타임 초기화 후 다시 시작`** 하면 한글이 깨지지 않습니다!"
      ]
    },
    {
      "cell_type": "code",
      "execution_count": 35,
      "metadata": {
        "id": "rG4o9dzikT8K"
      },
      "outputs": [
        {
          "name": "stderr",
          "output_type": "stream",
          "text": [
            "'sudo'��(��) ���� �Ǵ� �ܺ� ����, ������ �� �ִ� ���α׷�, �Ǵ�\n",
            "��ġ ������ �ƴմϴ�.\n",
            "'sudo'��(��) ���� �Ǵ� �ܺ� ����, ������ �� �ִ� ���α׷�, �Ǵ�\n",
            "��ġ ������ �ƴմϴ�.\n",
            "'rm'��(��) ���� �Ǵ� �ܺ� ����, ������ �� �ִ� ���α׷�, �Ǵ�\n",
            "��ġ ������ �ƴմϴ�.\n"
          ]
        }
      ],
      "source": [
        "!sudo apt-get install -y fonts-nanum\n",
        "!sudo fc-cache -fv\n",
        "!rm ~/.cache/matplotlib -rf"
      ]
    },
    {
      "cell_type": "code",
      "execution_count": 36,
      "metadata": {
        "id": "3295be35"
      },
      "outputs": [
        {
          "name": "stdout",
          "output_type": "stream",
          "text": [
            "Requirement already satisfied: gensim in c:\\users\\user\\anaconda3\\lib\\site-packages (4.3.2)\n",
            "Requirement already satisfied: numpy>=1.18.5 in c:\\users\\user\\anaconda3\\lib\\site-packages (from gensim) (1.26.4)\n",
            "Requirement already satisfied: scipy>=1.7.0 in c:\\users\\user\\anaconda3\\lib\\site-packages (from gensim) (1.13.1)\n",
            "Requirement already satisfied: smart-open>=1.8.1 in c:\\users\\user\\anaconda3\\lib\\site-packages (from gensim) (5.2.1)\n"
          ]
        }
      ],
      "source": [
        "# Word2Vec을 위한 패키지 설치\n",
        "!pip install gensim"
      ]
    },
    {
      "cell_type": "code",
      "execution_count": 39,
      "metadata": {
        "id": "9KbdgTTJgq29"
      },
      "outputs": [
        {
          "ename": "ImportError",
          "evalue": "cannot import name 'triu' from 'scipy.linalg' (c:\\Users\\USER\\anaconda3\\Lib\\site-packages\\scipy\\linalg\\__init__.py)",
          "output_type": "error",
          "traceback": [
            "\u001b[1;31m---------------------------------------------------------------------------\u001b[0m",
            "\u001b[1;31mImportError\u001b[0m                               Traceback (most recent call last)",
            "Cell \u001b[1;32mIn[39], line 8\u001b[0m\n\u001b[0;32m      6\u001b[0m \u001b[38;5;28;01mfrom\u001b[39;00m \u001b[38;5;21;01msklearn\u001b[39;00m\u001b[38;5;21;01m.\u001b[39;00m\u001b[38;5;21;01mfeature_extraction\u001b[39;00m\u001b[38;5;21;01m.\u001b[39;00m\u001b[38;5;21;01mtext\u001b[39;00m \u001b[38;5;28;01mimport\u001b[39;00m TfidfVectorizer, CountVectorizer\n\u001b[0;32m      7\u001b[0m \u001b[38;5;28;01mfrom\u001b[39;00m \u001b[38;5;21;01msklearn\u001b[39;00m\u001b[38;5;21;01m.\u001b[39;00m\u001b[38;5;21;01mmetrics\u001b[39;00m\u001b[38;5;21;01m.\u001b[39;00m\u001b[38;5;21;01mpairwise\u001b[39;00m \u001b[38;5;28;01mimport\u001b[39;00m cosine_similarity\n\u001b[1;32m----> 8\u001b[0m \u001b[38;5;28;01mfrom\u001b[39;00m \u001b[38;5;21;01mgensim\u001b[39;00m\u001b[38;5;21;01m.\u001b[39;00m\u001b[38;5;21;01mmodels\u001b[39;00m \u001b[38;5;28;01mimport\u001b[39;00m Word2Vecz\n",
            "File \u001b[1;32mc:\\Users\\USER\\anaconda3\\Lib\\site-packages\\gensim\\__init__.py:11\u001b[0m\n\u001b[0;32m      7\u001b[0m __version__ \u001b[38;5;241m=\u001b[39m \u001b[38;5;124m'\u001b[39m\u001b[38;5;124m4.3.2\u001b[39m\u001b[38;5;124m'\u001b[39m\n\u001b[0;32m      9\u001b[0m \u001b[38;5;28;01mimport\u001b[39;00m \u001b[38;5;21;01mlogging\u001b[39;00m\n\u001b[1;32m---> 11\u001b[0m \u001b[38;5;28;01mfrom\u001b[39;00m \u001b[38;5;21;01mgensim\u001b[39;00m \u001b[38;5;28;01mimport\u001b[39;00m parsing, corpora, matutils, interfaces, models, similarities, utils  \u001b[38;5;66;03m# noqa:F401\u001b[39;00m\n\u001b[0;32m     14\u001b[0m logger \u001b[38;5;241m=\u001b[39m logging\u001b[38;5;241m.\u001b[39mgetLogger(\u001b[38;5;124m'\u001b[39m\u001b[38;5;124mgensim\u001b[39m\u001b[38;5;124m'\u001b[39m)\n\u001b[0;32m     15\u001b[0m \u001b[38;5;28;01mif\u001b[39;00m \u001b[38;5;129;01mnot\u001b[39;00m logger\u001b[38;5;241m.\u001b[39mhandlers:  \u001b[38;5;66;03m# To ensure reload() doesn't add another one\u001b[39;00m\n",
            "File \u001b[1;32mc:\\Users\\USER\\anaconda3\\Lib\\site-packages\\gensim\\corpora\\__init__.py:6\u001b[0m\n\u001b[0;32m      1\u001b[0m \u001b[38;5;124;03m\"\"\"\u001b[39;00m\n\u001b[0;32m      2\u001b[0m \u001b[38;5;124;03mThis package contains implementations of various streaming corpus I/O format.\u001b[39;00m\n\u001b[0;32m      3\u001b[0m \u001b[38;5;124;03m\"\"\"\u001b[39;00m\n\u001b[0;32m      5\u001b[0m \u001b[38;5;66;03m# bring corpus classes directly into package namespace, to save some typing\u001b[39;00m\n\u001b[1;32m----> 6\u001b[0m \u001b[38;5;28;01mfrom\u001b[39;00m \u001b[38;5;21;01m.\u001b[39;00m\u001b[38;5;21;01mindexedcorpus\u001b[39;00m \u001b[38;5;28;01mimport\u001b[39;00m IndexedCorpus  \u001b[38;5;66;03m# noqa:F401 must appear before the other classes\u001b[39;00m\n\u001b[0;32m      8\u001b[0m \u001b[38;5;28;01mfrom\u001b[39;00m \u001b[38;5;21;01m.\u001b[39;00m\u001b[38;5;21;01mmmcorpus\u001b[39;00m \u001b[38;5;28;01mimport\u001b[39;00m MmCorpus  \u001b[38;5;66;03m# noqa:F401\u001b[39;00m\n\u001b[0;32m      9\u001b[0m \u001b[38;5;28;01mfrom\u001b[39;00m \u001b[38;5;21;01m.\u001b[39;00m\u001b[38;5;21;01mbleicorpus\u001b[39;00m \u001b[38;5;28;01mimport\u001b[39;00m BleiCorpus  \u001b[38;5;66;03m# noqa:F401\u001b[39;00m\n",
            "File \u001b[1;32mc:\\Users\\USER\\anaconda3\\Lib\\site-packages\\gensim\\corpora\\indexedcorpus.py:14\u001b[0m\n\u001b[0;32m     10\u001b[0m \u001b[38;5;28;01mimport\u001b[39;00m \u001b[38;5;21;01mlogging\u001b[39;00m\n\u001b[0;32m     12\u001b[0m \u001b[38;5;28;01mimport\u001b[39;00m \u001b[38;5;21;01mnumpy\u001b[39;00m\n\u001b[1;32m---> 14\u001b[0m \u001b[38;5;28;01mfrom\u001b[39;00m \u001b[38;5;21;01mgensim\u001b[39;00m \u001b[38;5;28;01mimport\u001b[39;00m interfaces, utils\n\u001b[0;32m     16\u001b[0m logger \u001b[38;5;241m=\u001b[39m logging\u001b[38;5;241m.\u001b[39mgetLogger(\u001b[38;5;18m__name__\u001b[39m)\n\u001b[0;32m     19\u001b[0m \u001b[38;5;28;01mclass\u001b[39;00m \u001b[38;5;21;01mIndexedCorpus\u001b[39;00m(interfaces\u001b[38;5;241m.\u001b[39mCorpusABC):\n",
            "File \u001b[1;32mc:\\Users\\USER\\anaconda3\\Lib\\site-packages\\gensim\\interfaces.py:19\u001b[0m\n\u001b[0;32m      7\u001b[0m \u001b[38;5;124;03m\"\"\"Basic interfaces used across the whole Gensim package.\u001b[39;00m\n\u001b[0;32m      8\u001b[0m \n\u001b[0;32m      9\u001b[0m \u001b[38;5;124;03mThese interfaces are used for building corpora, model transformation and similarity queries.\u001b[39;00m\n\u001b[1;32m   (...)\u001b[0m\n\u001b[0;32m     14\u001b[0m \n\u001b[0;32m     15\u001b[0m \u001b[38;5;124;03m\"\"\"\u001b[39;00m\n\u001b[0;32m     17\u001b[0m \u001b[38;5;28;01mimport\u001b[39;00m \u001b[38;5;21;01mlogging\u001b[39;00m\n\u001b[1;32m---> 19\u001b[0m \u001b[38;5;28;01mfrom\u001b[39;00m \u001b[38;5;21;01mgensim\u001b[39;00m \u001b[38;5;28;01mimport\u001b[39;00m utils, matutils\n\u001b[0;32m     22\u001b[0m logger \u001b[38;5;241m=\u001b[39m logging\u001b[38;5;241m.\u001b[39mgetLogger(\u001b[38;5;18m__name__\u001b[39m)\n\u001b[0;32m     25\u001b[0m \u001b[38;5;28;01mclass\u001b[39;00m \u001b[38;5;21;01mCorpusABC\u001b[39;00m(utils\u001b[38;5;241m.\u001b[39mSaveLoad):\n",
            "File \u001b[1;32mc:\\Users\\USER\\anaconda3\\Lib\\site-packages\\gensim\\matutils.py:20\u001b[0m\n\u001b[0;32m     18\u001b[0m \u001b[38;5;28;01mimport\u001b[39;00m \u001b[38;5;21;01mscipy\u001b[39;00m\u001b[38;5;21;01m.\u001b[39;00m\u001b[38;5;21;01msparse\u001b[39;00m\n\u001b[0;32m     19\u001b[0m \u001b[38;5;28;01mfrom\u001b[39;00m \u001b[38;5;21;01mscipy\u001b[39;00m\u001b[38;5;21;01m.\u001b[39;00m\u001b[38;5;21;01mstats\u001b[39;00m \u001b[38;5;28;01mimport\u001b[39;00m entropy\n\u001b[1;32m---> 20\u001b[0m \u001b[38;5;28;01mfrom\u001b[39;00m \u001b[38;5;21;01mscipy\u001b[39;00m\u001b[38;5;21;01m.\u001b[39;00m\u001b[38;5;21;01mlinalg\u001b[39;00m \u001b[38;5;28;01mimport\u001b[39;00m get_blas_funcs, triu\n\u001b[0;32m     21\u001b[0m \u001b[38;5;28;01mfrom\u001b[39;00m \u001b[38;5;21;01mscipy\u001b[39;00m\u001b[38;5;21;01m.\u001b[39;00m\u001b[38;5;21;01mlinalg\u001b[39;00m\u001b[38;5;21;01m.\u001b[39;00m\u001b[38;5;21;01mlapack\u001b[39;00m \u001b[38;5;28;01mimport\u001b[39;00m get_lapack_funcs\n\u001b[0;32m     22\u001b[0m \u001b[38;5;28;01mfrom\u001b[39;00m \u001b[38;5;21;01mscipy\u001b[39;00m\u001b[38;5;21;01m.\u001b[39;00m\u001b[38;5;21;01mspecial\u001b[39;00m \u001b[38;5;28;01mimport\u001b[39;00m psi  \u001b[38;5;66;03m# gamma function utils\u001b[39;00m\n",
            "\u001b[1;31mImportError\u001b[0m: cannot import name 'triu' from 'scipy.linalg' (c:\\Users\\USER\\anaconda3\\Lib\\site-packages\\scipy\\linalg\\__init__.py)"
          ]
        }
      ],
      "source": [
        "import pandas as pd\n",
        "import numpy as np\n",
        "import matplotlib.pyplot as plt\n",
        "import seaborn as sns\n",
        "import re\n",
        "from sklearn.feature_extraction.text import TfidfVectorizer, CountVectorizer\n",
        "from sklearn.metrics.pairwise import cosine_similarity\n",
        "from gensim.models import Word2Vecz"
      ]
    },
    {
      "cell_type": "code",
      "execution_count": 2,
      "metadata": {
        "id": "w_NTO5JnkckY"
      },
      "outputs": [],
      "source": [
        "# 한글 폰트 설정\n",
        "plt.rc('font', family='NanumBarunGothic')\n",
        "plt.rcParams['axes.unicode_minus'] =False"
      ]
    },
    {
      "cell_type": "markdown",
      "metadata": {
        "id": "gR-XD22niEe0"
      },
      "source": [
        "## Load Data"
      ]
    },
    {
      "cell_type": "code",
      "execution_count": null,
      "metadata": {
        "id": "BqWvaNNBhrdB"
      },
      "outputs": [],
      "source": [
        "# 경로는 각자 맞게 변경해주세요\n",
        "train = pd.read_excel('/content/drive/MyDrive/Colab Notebooks/Train_SNS_패션.xlsx')"
      ]
    },
    {
      "cell_type": "code",
      "execution_count": 4,
      "metadata": {
        "id": "wi1qXDoMjgAW"
      },
      "outputs": [],
      "source": [
        "# 컬럼 표준화\n",
        "train = train.rename(columns={\"상품명\":\"item_name\",\"상품평\":\"review\",\"카테고리\":\"category\"})"
      ]
    },
    {
      "cell_type": "code",
      "execution_count": 5,
      "metadata": {
        "colab": {
          "base_uri": "https://localhost:8080/",
          "height": 206
        },
        "id": "RLqzp2lojRJe",
        "outputId": "08aa3b94-f1bc-4006-eddd-527d852391c5"
      },
      "outputs": [
        {
          "data": {
            "application/vnd.google.colaboratory.intrinsic+json": {
              "summary": "{\n  \"name\": \"display(train\",\n  \"rows\": 5,\n  \"fields\": [\n    {\n      \"column\": \"INDEX\",\n      \"properties\": {\n        \"dtype\": \"number\",\n        \"std\": 357,\n        \"min\": 1024338,\n        \"max\": 1025071,\n        \"num_unique_values\": 5,\n        \"samples\": [\n          1024477,\n          1025071,\n          1025044\n        ],\n        \"semantic_type\": \"\",\n        \"description\": \"\"\n      }\n    },\n    {\n      \"column\": \"\\ub3c4\\uba54\\uc778\",\n      \"properties\": {\n        \"dtype\": \"category\",\n        \"num_unique_values\": 1,\n        \"samples\": [\n          \"\\ud328\\uc158\"\n        ],\n        \"semantic_type\": \"\",\n        \"description\": \"\"\n      }\n    },\n    {\n      \"column\": \"category\",\n      \"properties\": {\n        \"dtype\": \"category\",\n        \"num_unique_values\": 1,\n        \"samples\": [\n          \"\\uc5ec\\uc131\\uc758\\ub958\"\n        ],\n        \"semantic_type\": \"\",\n        \"description\": \"\"\n      }\n    },\n    {\n      \"column\": \"item_name\",\n      \"properties\": {\n        \"dtype\": \"category\",\n        \"num_unique_values\": 2,\n        \"samples\": [\n          \"OO \\uc544** \\uad6c\\uc2a4\\ucf54\\ud2b8  \"\n        ],\n        \"semantic_type\": \"\",\n        \"description\": \"\"\n      }\n    },\n    {\n      \"column\": \"review\",\n      \"properties\": {\n        \"dtype\": \"string\",\n        \"num_unique_values\": 5,\n        \"samples\": [\n          \"\\ub4dc\\ub514\\uc5b4 \\uaca8\\uc6b8\\uc774 \\ucc3e\\uc544\\uc654\\ub124\\uc694. \\uc774\\uc81c\\ubd80\\ud130 \\uc2ac\\uc2ac \\uaca8\\uc6b8 \\ud328\\ub529 \\uc7a5\\ub9cc\\ud558\\uc154\\uc57c\\uc9c0\\uc694?\\n\\ud328\\ub529 \\uc18c\\uac1c\\ud574 \\ub4dc\\ub9b4\\uac8c\\uc694. \\n\\n\\uc791\\ub144\\ubd80\\ud130 \\ub208\\uc5ec\\uaca8 \\ubcf4\\ub358 OO\\uc785\\ub2c8\\ub2e4. \\uc800\\ub294 \\ube14\\ub79990 \\uc0ac\\uc774\\uc988 \\uad6c\\ub9e4\\ud588\\ub294\\ub370 \\ub531 \\uc798 \\ub9de\\ub124\\uc694. \\uc791\\ub144\\uc5d0 \\ube44\\ud574 \\uc800\\ub834\\ud558\\uac8c \\uad6c\\ub9e4\\ud574\\uc11c \\uc544\\uc8fc \\ub9cc\\uc871\\ud574\\uc694. \\uc2e0\\uc81c\\ud488\\uc740 \\uacbd\\ub7c9\\ud328\\ub529\\uc73c\\ub85c \\ub418\\uc11c 3in1\\uae30\\ub2a5\\uc774\\ub354\\ub77c\\uad6c\\uc694. \\uacbd\\ub7c9 \\ud328\\ub529 \\uad6c\\ub9e4 \\ub530\\ub85c \\ud558\\uc154\\uc57c \\ud558\\ub294 \\ubd84\\ub4e4\\uc5d0\\uac90 \\uc2e0\\uc81c\\ud488 \\ub9e4\\uc7a5\\uc5d0\\uc11c \\ud655\\uc778\\ud558\\uc2dc\\ub77c\\uace0 \\uad8c\\ud558\\uace0 \\uc2f6\\ub124\\uc694. \\uc800\\ub294 \\uacbd\\ub7c9\\uc774 \\uc788\\ub294 \\uad00\\uacc4\\ub85c \\uc774 \\uc81c\\ud488 \\uad6c\\ub9e4\\ud588\\ub294\\ub370 \\uc2ac\\ub9bc\\ud54f\\uc774\\ub77c \\ub0a0\\uc52c\\ud574 \\ubcf4\\uc5ec\\uc694. \\ud558\\uc9c0\\ub9cc \\uc548\\uc5d0 \\ub450\\uaecd\\uac8c \\uc785\\uae30\\uc5d4 \\uc880 \\ubd88\\ud3b8\\ud558\\ub354\\ub77c\\uad6c\\uc694. \\uac04\\ud3b8\\ud558\\uac8c \\ub2c8\\ud2b8 \\ud2f0\\uc154\\uce20\\uc5d0 \\uc785\\uae30\\uc5d0\\ub294 \\ub531\\uc785\\ub2c8\\ub2e4. \\uc544\\uc9c1\\uc740 \\ucd08\\uaca8\\uc6b8\\uc774\\ub77c OO\\ub97c \\ucb49 \\uc785\\uace0 \\uc788\\uc5b4\\uc694. \\ud6c4\\uae30 \\uc77d\\uc73c\\uba70 \\ub9ce\\uc774 \\uace0\\ubbfc\\ud588\\uace0 \\ub3c4\\uc6c0\\uc744 \\ubc1b\\uc544\\uc11c \\uc800\\ub3c4 \\ud6c4\\uae30 \\ub0a8\\uaca8\\ubd05\\ub2c8\\ub2e4.\\ub204\\uad70\\uac00\\uc5d0\\uac90 \\ub3c4\\uc6c0\\uc774 \\ub418\\uc168\\uae30\\ub97c \\ubc14\\ub77c\\ub294 \\ub9c8\\uc74c\\uc5d0\\uc11c\\uc694. \\n\\nOO \\ud328\\ub529 \\uc88b\\uc740 \\uac74 \\ub2e4\\ub4e4 \\uc544\\uc2e4\\ud14c\\uace0.. \\ub871\\uc774\\uba74\\uc11c \\uc2ac\\ub9bc\\ud558\\ub2c8 \\uac10\\ucd94\\uace0 \\uc2f6\\uc740 \\ubd80\\ubd84 \\uac10\\ucd94\\uace0 \\uadf8\\ub7ec\\uba74\\uc11c\\ub3c4 \\ub0a0\\uc52c\\ud558\\uac8c \\ubcf4\\uc774\\ub294 \\ud328\\ub529\\uc73c\\ub85c \\uc774\\ubc88 \\uaca8\\uc6b8 \\uba4b\\uc7c1\\uc774\\uac00 \\ub418\\uc5b4 \\ubcf4\\uc2dc\\uae38\\uc694..\"\n        ],\n        \"semantic_type\": \"\",\n        \"description\": \"\"\n      }\n    },\n    {\n      \"column\": \"\\ub370\\uc774\\ud130\\uad6c\\ubd84\",\n      \"properties\": {\n        \"dtype\": \"category\",\n        \"num_unique_values\": 1,\n        \"samples\": [\n          \"SNS\"\n        ],\n        \"semantic_type\": \"\",\n        \"description\": \"\"\n      }\n    }\n  ]\n}",
              "type": "dataframe"
            },
            "text/html": [
              "\n",
              "  <div id=\"df-75191f35-ad64-442a-bb61-e9bc858ecd24\" class=\"colab-df-container\">\n",
              "    <div>\n",
              "<style scoped>\n",
              "    .dataframe tbody tr th:only-of-type {\n",
              "        vertical-align: middle;\n",
              "    }\n",
              "\n",
              "    .dataframe tbody tr th {\n",
              "        vertical-align: top;\n",
              "    }\n",
              "\n",
              "    .dataframe thead th {\n",
              "        text-align: right;\n",
              "    }\n",
              "</style>\n",
              "<table border=\"1\" class=\"dataframe\">\n",
              "  <thead>\n",
              "    <tr style=\"text-align: right;\">\n",
              "      <th></th>\n",
              "      <th>INDEX</th>\n",
              "      <th>도메인</th>\n",
              "      <th>category</th>\n",
              "      <th>item_name</th>\n",
              "      <th>review</th>\n",
              "      <th>데이터구분</th>\n",
              "    </tr>\n",
              "  </thead>\n",
              "  <tbody>\n",
              "    <tr>\n",
              "      <th>0</th>\n",
              "      <td>1024338</td>\n",
              "      <td>패션</td>\n",
              "      <td>여성의류</td>\n",
              "      <td>OO 경량 다운 자켓</td>\n",
              "      <td>안녕하세요 이웃님들 반갑습니다. 요즘 날씨가 많이 쌀쌀해졌죠? 요즘 계절에 입으면 ...</td>\n",
              "      <td>SNS</td>\n",
              "    </tr>\n",
              "    <tr>\n",
              "      <th>1</th>\n",
              "      <td>1024477</td>\n",
              "      <td>패션</td>\n",
              "      <td>여성의류</td>\n",
              "      <td>OO 아** 구스코트</td>\n",
              "      <td>드디어 겨울이 찾아왔네요. 이제부터 슬슬 겨울 패딩 장만하셔야지요?\\n패딩 소개해 ...</td>\n",
              "      <td>SNS</td>\n",
              "    </tr>\n",
              "    <tr>\n",
              "      <th>2</th>\n",
              "      <td>1025044</td>\n",
              "      <td>패션</td>\n",
              "      <td>여성의류</td>\n",
              "      <td>OO 아** 구스코트</td>\n",
              "      <td>오늘도 정말 춥네요... 롱패딩 찾고 계신 분을 위한 후기 공유합니다.\\n\\n키 1...</td>\n",
              "      <td>SNS</td>\n",
              "    </tr>\n",
              "    <tr>\n",
              "      <th>3</th>\n",
              "      <td>1025046</td>\n",
              "      <td>패션</td>\n",
              "      <td>여성의류</td>\n",
              "      <td>OO 아** 구스코트</td>\n",
              "      <td>이웃님들 오늘도 안녕하신가요? 오늘은 따끈한 신상 패딩 후기 올려봅니다~~\\n\\n겨...</td>\n",
              "      <td>SNS</td>\n",
              "    </tr>\n",
              "    <tr>\n",
              "      <th>4</th>\n",
              "      <td>1025071</td>\n",
              "      <td>패션</td>\n",
              "      <td>여성의류</td>\n",
              "      <td>OO 아** 구스코트</td>\n",
              "      <td>OOO 구스로 소문난 OO의 롱패딩~ 한번 구경 가봐요.\\n\\n일단 보는 순간 고급...</td>\n",
              "      <td>SNS</td>\n",
              "    </tr>\n",
              "  </tbody>\n",
              "</table>\n",
              "</div>\n",
              "    <div class=\"colab-df-buttons\">\n",
              "\n",
              "  <div class=\"colab-df-container\">\n",
              "    <button class=\"colab-df-convert\" onclick=\"convertToInteractive('df-75191f35-ad64-442a-bb61-e9bc858ecd24')\"\n",
              "            title=\"Convert this dataframe to an interactive table.\"\n",
              "            style=\"display:none;\">\n",
              "\n",
              "  <svg xmlns=\"http://www.w3.org/2000/svg\" height=\"24px\" viewBox=\"0 -960 960 960\">\n",
              "    <path d=\"M120-120v-720h720v720H120Zm60-500h600v-160H180v160Zm220 220h160v-160H400v160Zm0 220h160v-160H400v160ZM180-400h160v-160H180v160Zm440 0h160v-160H620v160ZM180-180h160v-160H180v160Zm440 0h160v-160H620v160Z\"/>\n",
              "  </svg>\n",
              "    </button>\n",
              "\n",
              "  <style>\n",
              "    .colab-df-container {\n",
              "      display:flex;\n",
              "      gap: 12px;\n",
              "    }\n",
              "\n",
              "    .colab-df-convert {\n",
              "      background-color: #E8F0FE;\n",
              "      border: none;\n",
              "      border-radius: 50%;\n",
              "      cursor: pointer;\n",
              "      display: none;\n",
              "      fill: #1967D2;\n",
              "      height: 32px;\n",
              "      padding: 0 0 0 0;\n",
              "      width: 32px;\n",
              "    }\n",
              "\n",
              "    .colab-df-convert:hover {\n",
              "      background-color: #E2EBFA;\n",
              "      box-shadow: 0px 1px 2px rgba(60, 64, 67, 0.3), 0px 1px 3px 1px rgba(60, 64, 67, 0.15);\n",
              "      fill: #174EA6;\n",
              "    }\n",
              "\n",
              "    .colab-df-buttons div {\n",
              "      margin-bottom: 4px;\n",
              "    }\n",
              "\n",
              "    [theme=dark] .colab-df-convert {\n",
              "      background-color: #3B4455;\n",
              "      fill: #D2E3FC;\n",
              "    }\n",
              "\n",
              "    [theme=dark] .colab-df-convert:hover {\n",
              "      background-color: #434B5C;\n",
              "      box-shadow: 0px 1px 3px 1px rgba(0, 0, 0, 0.15);\n",
              "      filter: drop-shadow(0px 1px 2px rgba(0, 0, 0, 0.3));\n",
              "      fill: #FFFFFF;\n",
              "    }\n",
              "  </style>\n",
              "\n",
              "    <script>\n",
              "      const buttonEl =\n",
              "        document.querySelector('#df-75191f35-ad64-442a-bb61-e9bc858ecd24 button.colab-df-convert');\n",
              "      buttonEl.style.display =\n",
              "        google.colab.kernel.accessAllowed ? 'block' : 'none';\n",
              "\n",
              "      async function convertToInteractive(key) {\n",
              "        const element = document.querySelector('#df-75191f35-ad64-442a-bb61-e9bc858ecd24');\n",
              "        const dataTable =\n",
              "          await google.colab.kernel.invokeFunction('convertToInteractive',\n",
              "                                                    [key], {});\n",
              "        if (!dataTable) return;\n",
              "\n",
              "        const docLinkHtml = 'Like what you see? Visit the ' +\n",
              "          '<a target=\"_blank\" href=https://colab.research.google.com/notebooks/data_table.ipynb>data table notebook</a>'\n",
              "          + ' to learn more about interactive tables.';\n",
              "        element.innerHTML = '';\n",
              "        dataTable['output_type'] = 'display_data';\n",
              "        await google.colab.output.renderOutput(dataTable, element);\n",
              "        const docLink = document.createElement('div');\n",
              "        docLink.innerHTML = docLinkHtml;\n",
              "        element.appendChild(docLink);\n",
              "      }\n",
              "    </script>\n",
              "  </div>\n",
              "\n",
              "\n",
              "    <div id=\"df-fe0a4680-75fc-483d-8779-bd24c70203df\">\n",
              "      <button class=\"colab-df-quickchart\" onclick=\"quickchart('df-fe0a4680-75fc-483d-8779-bd24c70203df')\"\n",
              "                title=\"Suggest charts\"\n",
              "                style=\"display:none;\">\n",
              "\n",
              "<svg xmlns=\"http://www.w3.org/2000/svg\" height=\"24px\"viewBox=\"0 0 24 24\"\n",
              "     width=\"24px\">\n",
              "    <g>\n",
              "        <path d=\"M19 3H5c-1.1 0-2 .9-2 2v14c0 1.1.9 2 2 2h14c1.1 0 2-.9 2-2V5c0-1.1-.9-2-2-2zM9 17H7v-7h2v7zm4 0h-2V7h2v10zm4 0h-2v-4h2v4z\"/>\n",
              "    </g>\n",
              "</svg>\n",
              "      </button>\n",
              "\n",
              "<style>\n",
              "  .colab-df-quickchart {\n",
              "      --bg-color: #E8F0FE;\n",
              "      --fill-color: #1967D2;\n",
              "      --hover-bg-color: #E2EBFA;\n",
              "      --hover-fill-color: #174EA6;\n",
              "      --disabled-fill-color: #AAA;\n",
              "      --disabled-bg-color: #DDD;\n",
              "  }\n",
              "\n",
              "  [theme=dark] .colab-df-quickchart {\n",
              "      --bg-color: #3B4455;\n",
              "      --fill-color: #D2E3FC;\n",
              "      --hover-bg-color: #434B5C;\n",
              "      --hover-fill-color: #FFFFFF;\n",
              "      --disabled-bg-color: #3B4455;\n",
              "      --disabled-fill-color: #666;\n",
              "  }\n",
              "\n",
              "  .colab-df-quickchart {\n",
              "    background-color: var(--bg-color);\n",
              "    border: none;\n",
              "    border-radius: 50%;\n",
              "    cursor: pointer;\n",
              "    display: none;\n",
              "    fill: var(--fill-color);\n",
              "    height: 32px;\n",
              "    padding: 0;\n",
              "    width: 32px;\n",
              "  }\n",
              "\n",
              "  .colab-df-quickchart:hover {\n",
              "    background-color: var(--hover-bg-color);\n",
              "    box-shadow: 0 1px 2px rgba(60, 64, 67, 0.3), 0 1px 3px 1px rgba(60, 64, 67, 0.15);\n",
              "    fill: var(--button-hover-fill-color);\n",
              "  }\n",
              "\n",
              "  .colab-df-quickchart-complete:disabled,\n",
              "  .colab-df-quickchart-complete:disabled:hover {\n",
              "    background-color: var(--disabled-bg-color);\n",
              "    fill: var(--disabled-fill-color);\n",
              "    box-shadow: none;\n",
              "  }\n",
              "\n",
              "  .colab-df-spinner {\n",
              "    border: 2px solid var(--fill-color);\n",
              "    border-color: transparent;\n",
              "    border-bottom-color: var(--fill-color);\n",
              "    animation:\n",
              "      spin 1s steps(1) infinite;\n",
              "  }\n",
              "\n",
              "  @keyframes spin {\n",
              "    0% {\n",
              "      border-color: transparent;\n",
              "      border-bottom-color: var(--fill-color);\n",
              "      border-left-color: var(--fill-color);\n",
              "    }\n",
              "    20% {\n",
              "      border-color: transparent;\n",
              "      border-left-color: var(--fill-color);\n",
              "      border-top-color: var(--fill-color);\n",
              "    }\n",
              "    30% {\n",
              "      border-color: transparent;\n",
              "      border-left-color: var(--fill-color);\n",
              "      border-top-color: var(--fill-color);\n",
              "      border-right-color: var(--fill-color);\n",
              "    }\n",
              "    40% {\n",
              "      border-color: transparent;\n",
              "      border-right-color: var(--fill-color);\n",
              "      border-top-color: var(--fill-color);\n",
              "    }\n",
              "    60% {\n",
              "      border-color: transparent;\n",
              "      border-right-color: var(--fill-color);\n",
              "    }\n",
              "    80% {\n",
              "      border-color: transparent;\n",
              "      border-right-color: var(--fill-color);\n",
              "      border-bottom-color: var(--fill-color);\n",
              "    }\n",
              "    90% {\n",
              "      border-color: transparent;\n",
              "      border-bottom-color: var(--fill-color);\n",
              "    }\n",
              "  }\n",
              "</style>\n",
              "\n",
              "      <script>\n",
              "        async function quickchart(key) {\n",
              "          const quickchartButtonEl =\n",
              "            document.querySelector('#' + key + ' button');\n",
              "          quickchartButtonEl.disabled = true;  // To prevent multiple clicks.\n",
              "          quickchartButtonEl.classList.add('colab-df-spinner');\n",
              "          try {\n",
              "            const charts = await google.colab.kernel.invokeFunction(\n",
              "                'suggestCharts', [key], {});\n",
              "          } catch (error) {\n",
              "            console.error('Error during call to suggestCharts:', error);\n",
              "          }\n",
              "          quickchartButtonEl.classList.remove('colab-df-spinner');\n",
              "          quickchartButtonEl.classList.add('colab-df-quickchart-complete');\n",
              "        }\n",
              "        (() => {\n",
              "          let quickchartButtonEl =\n",
              "            document.querySelector('#df-fe0a4680-75fc-483d-8779-bd24c70203df button');\n",
              "          quickchartButtonEl.style.display =\n",
              "            google.colab.kernel.accessAllowed ? 'block' : 'none';\n",
              "        })();\n",
              "      </script>\n",
              "    </div>\n",
              "\n",
              "    </div>\n",
              "  </div>\n"
            ],
            "text/plain": [
              "     INDEX 도메인 category      item_name  \\\n",
              "0  1024338  패션     여성의류    OO 경량 다운 자켓   \n",
              "1  1024477  패션     여성의류  OO 아** 구스코트     \n",
              "2  1025044  패션     여성의류  OO 아** 구스코트     \n",
              "3  1025046  패션     여성의류  OO 아** 구스코트     \n",
              "4  1025071  패션     여성의류  OO 아** 구스코트     \n",
              "\n",
              "                                              review 데이터구분  \n",
              "0  안녕하세요 이웃님들 반갑습니다. 요즘 날씨가 많이 쌀쌀해졌죠? 요즘 계절에 입으면 ...   SNS  \n",
              "1  드디어 겨울이 찾아왔네요. 이제부터 슬슬 겨울 패딩 장만하셔야지요?\\n패딩 소개해 ...   SNS  \n",
              "2  오늘도 정말 춥네요... 롱패딩 찾고 계신 분을 위한 후기 공유합니다.\\n\\n키 1...   SNS  \n",
              "3  이웃님들 오늘도 안녕하신가요? 오늘은 따끈한 신상 패딩 후기 올려봅니다~~\\n\\n겨...   SNS  \n",
              "4  OOO 구스로 소문난 OO의 롱패딩~ 한번 구경 가봐요.\\n\\n일단 보는 순간 고급...   SNS  "
            ]
          },
          "metadata": {},
          "output_type": "display_data"
        }
      ],
      "source": [
        "# 데이터 확인\n",
        "display(train.head())"
      ]
    },
    {
      "cell_type": "markdown",
      "metadata": {
        "id": "-3X-vsjujpZE"
      },
      "source": [
        "## EDA (데이터 분석)"
      ]
    },
    {
      "cell_type": "code",
      "execution_count": 6,
      "metadata": {
        "colab": {
          "base_uri": "https://localhost:8080/"
        },
        "id": "EZDb4rLcjgDT",
        "outputId": "a84fd841-cdfa-418b-a2d2-e86f5cf11eb6"
      },
      "outputs": [
        {
          "name": "stdout",
          "output_type": "stream",
          "text": [
            "Train 크기: (3890, 6)\n",
            "\n",
            "결측치 개수:\n",
            " INDEX         0\n",
            "도메인           0\n",
            "category      0\n",
            "item_name    10\n",
            "review        0\n",
            "데이터구분         0\n",
            "dtype: int64\n"
          ]
        }
      ],
      "source": [
        "# 크기 및 결측치 개수 확인\n",
        "print(\"Train 크기:\", train.shape)\n",
        "print(\"\\n결측치 개수:\\n\", train.isnull().sum())"
      ]
    },
    {
      "cell_type": "code",
      "execution_count": 7,
      "metadata": {
        "colab": {
          "base_uri": "https://localhost:8080/"
        },
        "id": "OQA4ZUDHmq-L",
        "outputId": "3d8f1593-38e0-4b04-cb72-0fd15d4c7538"
      },
      "outputs": [
        {
          "name": "stdout",
          "output_type": "stream",
          "text": [
            "중복 행 개수: 0\n"
          ]
        }
      ],
      "source": [
        "# 중복 리뷰 개수 확인\n",
        "dup_count = train.duplicated().sum()\n",
        "print(f\"중복 행 개수: {dup_count}\")"
      ]
    },
    {
      "cell_type": "markdown",
      "metadata": {
        "id": "EsJLdakn7Won"
      },
      "source": [
        "### `Q1. 빈칸에 본인의 코드를 채워, 패션 카테고리의 분포를 시각화해주세요.`"
      ]
    },
    {
      "cell_type": "code",
      "execution_count": null,
      "metadata": {
        "colab": {
          "base_uri": "https://localhost:8080/",
          "height": 486
        },
        "id": "VX8a1SFzjxod",
        "outputId": "f15b6061-9b5e-48bc-9a94-954b54040e4b"
      },
      "outputs": [
        {
          "data": {
            "image/png": "[encoded data removed]",
            "text/plain": [
              "<Figure size 1000x500 with 1 Axes>"
            ]
          },
          "metadata": {},
          "output_type": "display_data"
        }
      ],
      "source": [
        "# 카테고리 분포 시각화\n",
        "plt.figure(figsize=(10,5))\n",
        "sns.countplot(y=\"category\", data=train, order=train[\"category\"].value_counts().index)\n",
        "plt.title(\"카테고리별 리뷰 개수\")\n",
        "plt.show()\n",
        "\n",
        "\n"
      ]
    },
    {
      "cell_type": "code",
      "execution_count": 9,
      "metadata": {
        "colab": {
          "base_uri": "https://localhost:8080/"
        },
        "id": "TLJFevCUm00M",
        "outputId": "0748638e-1b5d-4355-ea13-6a251a3be1fc"
      },
      "outputs": [
        {
          "name": "stdout",
          "output_type": "stream",
          "text": [
            "\n",
            "카테고리별 평균 리뷰 길이:\n",
            "category\n",
            "남성의류    298.935354\n",
            "여성의류    312.692971\n",
            "패션슈즈    319.507184\n",
            "Name: review, dtype: float64\n"
          ]
        }
      ],
      "source": [
        "# 카테고리별 평균 리뷰 길이 확인\n",
        "print(\"\\n카테고리별 평균 리뷰 길이:\")\n",
        "print(train.groupby(\"category\")[\"review\"].apply(lambda x: np.mean([len(str(r)) for r in x])))"
      ]
    },
    {
      "cell_type": "code",
      "execution_count": 10,
      "metadata": {
        "colab": {
          "base_uri": "https://localhost:8080/",
          "height": 409
        },
        "id": "nGHFb6CWjxrM",
        "outputId": "c876f26e-52ce-43a7-c7bd-19f48b2c6eb3"
      },
      "outputs": [
        {
          "data": {
            "image/png": "[encoded data removed]",
            "text/plain": [
              "<Figure size 800x400 with 1 Axes>"
            ]
          },
          "metadata": {},
          "output_type": "display_data"
        }
      ],
      "source": [
        "# 리뷰 길이 분포 시각화\n",
        "train[\"review_length\"] = train[\"review\"].astype(str).apply(len)\n",
        "plt.figure(figsize=(8,4))\n",
        "sns.histplot(train[\"review_length\"], bins=50, kde=True)\n",
        "plt.title(\"리뷰 길이 분포\")\n",
        "plt.show()"
      ]
    },
    {
      "cell_type": "code",
      "execution_count": 11,
      "metadata": {
        "colab": {
          "base_uri": "https://localhost:8080/"
        },
        "id": "2L0thZofm-pB",
        "outputId": "af1670c1-3069-4635-db50-9e70cd0a1477"
      },
      "outputs": [
        {
          "name": "stdout",
          "output_type": "stream",
          "text": [
            "가장 긴 리뷰 예시:\n",
            " 안녕하세요 이웃님들~~ 요즘 머스트잇템 OOO슈퍼스타, 너무 예쁜데 가격이 사악해 구매가 망설여지죠? 그럴 줄 알고 제가 내돈내산 구매 후기 작성합니다. 오늘 OOO 슈퍼 스타 낱낱이 분석해 드릴게요.지금 바로 Go Go Go~\n",
            "\n",
            "빈티지 슈즈의 레전드답게 신으면 너무 너무 예쁩니다. 빈티지인데 고급스러워 보이는 이 신기한 마술~~신발에 스크래치가 있는건 알고 있었지만 뒷쪽 은색부분이 벗겨져 있어서 문의 했더니 이마저도 OOO만의 특성이라 하네요. 저같은 분들 참고하시길요. 바지,치마,트레이닝복 모든 옷에 다 잘 어울립니다. 트레이닝복과 함께 장착해도 무심한 듯 흐르는 멋스러움과 고급스러움! 이 맛에 OOO 신는 듯요. 사이즈는 평소 235신는데  2cm가량의 굽이 있어서 37 사이즈 정사이즈로 잘 맞네요. 36도 맞을수 있다고는 하는데 너무 딱 맞아 착화감을 고려해서 37사이즈 추천합니다. 아쉬운 점은 OOO의 단점인 밑바닥이 지우개(?)라 불리우듯 내구성이 안좋은 점입니다. 그렇지만 이점은 밑창 보강하거나 슈구를 발라서 해결할수 있고 보강가격도 예전에 비해 많이 착해져서 부담없이 하실수 있어요.\n",
            "\n",
            "오늘 준비한 소식은 여기까지입니다. 이웃님들 마음에 드셨나요? 도움이 되셨다면 좋아요 꾹~ 잊지 마세요. 여러분의 지지와 격려는 저에게 큰 힘이 됩니다.\n",
            "\n",
            "가장 짧은 리뷰 예시:\n",
            " 날씨가 흐려서 제 마음도 흐린 것 같아요 \n",
            "이웃님들은 마음은 흐리지 않도록 제가 활기찬 내용으로 도와 드릴께요\n",
            "\n",
            "디자인이 예뻐서 고심끝에 평소 사이즈 105를 구매했어요 상의는 좀 큰감이 있지만 하의는 좀 작아요 105는 좀 여유핏이 납니다 전체적으로 상의는 크게 하의는 작게 나왔어요\n",
            "\n",
            "제 글을 끝까지 읽어주시니 너무 너무 감사하네요 \n",
            "다음번에도 기분 좋은 내용으로 다시 찾아 오겠습니다\n"
          ]
        }
      ],
      "source": [
        "# 가장 긴 리뷰 / 가장 짧은 리뷰 확인\n",
        "print(\"가장 긴 리뷰 예시:\\n\", train.loc[train[\"review_length\"].idxmax(),\"review\"])\n",
        "print(\"\\n가장 짧은 리뷰 예시:\\n\", train.loc[train[\"review_length\"].idxmin(),\"review\"])"
      ]
    },
    {
      "cell_type": "markdown",
      "metadata": {
        "id": "2XGg5Iyg7xMC"
      },
      "source": [
        "### `Q2. 빈칸에 본인의 코드를 채워, 상품별 리뷰 개수 Top-10을 시각화해주세요.`"
      ]
    },
    {
      "cell_type": "code",
      "execution_count": null,
      "metadata": {
        "colab": {
          "base_uri": "https://localhost:8080/",
          "height": 633
        },
        "id": "S_mTdXVTjxty",
        "outputId": "9e8b3eff-e08c-4187-be4e-77b8c577f004"
      },
      "outputs": [
        {
          "name": "stdout",
          "output_type": "stream",
          "text": [
            "\n",
            "리뷰가 가장 많은 상품 Top-10:\n",
            " item_name\n",
            "OO 오** 메리제인 구두         15\n",
            "OO 클** 부츠              15\n",
            "OO 여성 소가죽 다이얼 스니커즈     15\n",
            "OO 싱글 울 코트             14\n",
            "OO 코튼 가디건              14\n",
            "OO 여성 소가죽 샌들           13\n",
            "OO 아** 구스코트            13\n",
            "OO 모** 삭스 앵클부츠         13\n",
            "OO 브** 터틀넥 긴팔티         13\n",
            "OO 젠** 싱글 재킷           13\n",
            "Name: count, dtype: int64\n"
          ]
        },
        {
          "data": {
            "image/png": "[encoded data removed]",
            "text/plain": [
              "<Figure size 800x400 with 1 Axes>"
            ]
          },
          "metadata": {},
          "output_type": "display_data"
        }
      ],
      "source": [
        "# 상품별 리뷰 개수 Top-10 출력\n",
        "top_items = train[\"item_name\"].value_counts().head(10)\n",
        "print(\"\\n리뷰가 가장 많은 상품 Top-10:\\n\", top_items)\n",
        "# 시각화\n",
        "plt.figure(figsize=(8,4))\n",
        "sns.barplot(x=top_items.values, y=top_items.index)\n",
        "plt.title(\"리뷰 수 상위 10개 상품\")\n",
        "plt.show()\n",
        "\n",
        "\n",
        "\n"
      ]
    },
    {
      "cell_type": "markdown",
      "metadata": {
        "id": "iUjrCBeP35P5"
      },
      "source": [
        "## 심화 EDA"
      ]
    },
    {
      "cell_type": "markdown",
      "metadata": {
        "id": "--G4InWrpXVn"
      },
      "source": [
        "### 1. 카테고리별 텍스트 차이 분석\n",
        "카테고리별 텍스트 차이를 분석하기 위해, TF-IDF을 사용해 자주 등장하는 단어 Top-N을 뽑아 인사이트를 도출하고자 합니다."
      ]
    },
    {
      "cell_type": "markdown",
      "metadata": {
        "id": "tH6EeIesTERk"
      },
      "source": [
        "###` Q3. 주석(#)을 참고하여 빈칸에 본인의 코드를 채워 함수를 구현해주세요.`"
      ]
    },
    {
      "cell_type": "code",
      "execution_count": null,
      "metadata": {
        "colab": {
          "base_uri": "https://localhost:8080/"
        },
        "id": "Ae9f03S6o8HR",
        "outputId": "24b3a737-d943-48e5-a791-52e9559ad688"
      },
      "outputs": [
        {
          "name": "stdout",
          "output_type": "stream",
          "text": [
            "\n",
            "[카테고리: 여성의류] Top 10 단어:\n",
            "너무, 정말, 좋은, 같아요, ooo, 입고, 입을, 있는, 추천, 같습니다\n",
            "\n",
            "[카테고리: 남성의류] Top 10 단어:\n",
            "너무, 같습니다, 합니다, 좋습니다, 좋은, 후기를, 아주, 마음에, 조금, 같아요\n",
            "\n",
            "[카테고리: 패션슈즈] Top 10 단어:\n",
            "너무, 신고, 정말, 신발, 좋은, ooo, 같아요, 발이, 좋습니다, 제가\n"
          ]
        }
      ],
      "source": [
        "# 카테고리별 상위 단어 출력 함수\n",
        "def top_keywords_by_category(df, category_col=\"category\", text_col=\"review\", topn=10):\n",
        "    # TF-IDF 벡터라이저 선언\n",
        "    tfidf = TfidfVectorizer(max_features=5000)\n",
        "    # 카테고리 값별로 분리 -> 리뷰가 5개 미만이면 제외\n",
        "    for cat in df[category_col].unique():\n",
        "        sub = df[df[category_col]==cat]\n",
        "        if len(sub) < 5: continue\n",
        "        # TF-IDF 변환 -> 상위 키워드 추출\n",
        "        X = tfidf.fit_transform(sub[text_col]) # 리뷰 텍스트를 TF-IDF 벡터로 변환\n",
        "\n",
        "        # 상위 단어 뽑기\n",
        "        idx = np.asarray(X.sum(axis=0)).ravel().argsort()[::-1][:topn]\n",
        "        terms = np.array(tfidf.get_feature_names_out())[idx] # 실제 단어 리스트 반환\n",
        "        print(f\"\\n[카테고리: {cat}] Top {topn} 단어:\")\n",
        "        print(\", \".join(terms))\n",
        "\n",
        "top_keywords_by_category(train)\n",
        "\n",
        "\n"
      ]
    },
    {
      "cell_type": "markdown",
      "metadata": {
        "id": "geto-lSUpsSG"
      },
      "source": [
        "### 2. 상품별 리뷰 감정 분포 (긍정/부정 단어 기반 간이 감정 스코어)\n",
        "상품별 리뷰 감정 분포를 확인하기 위해, 지금은 원천 데이터라 라벨링 데이터가 없지만, 간단한 감정 리스트를 만들어 리뷰 감정 분포를 확인해보고자 합니다."
      ]
    },
    {
      "cell_type": "markdown",
      "metadata": {
        "id": "I8dOeTg76_RQ"
      },
      "source": [
        "###` Q4. 빈칸에 본인의 코드를 채워서, 감정 점수 분포를 시각화해주세요.`"
      ]
    },
    {
      "cell_type": "code",
      "execution_count": null,
      "metadata": {
        "colab": {
          "base_uri": "https://localhost:8080/",
          "height": 592
        },
        "id": "GIvFp1ONpok7",
        "outputId": "3ff638bd-0ef6-4996-fffa-5c7c111f488a"
      },
      "outputs": [
        {
          "data": {
            "image/png": "[encoded data removed]",
            "text/plain": [
              "<Figure size 640x480 with 1 Axes>"
            ]
          },
          "metadata": {},
          "output_type": "display_data"
        },
        {
          "name": "stdout",
          "output_type": "stream",
          "text": [
            "item_name\n",
            "OO 캐시미어 코트       7.0\n",
            "OO 스탠카라 패딩코트     5.0\n",
            "OO 램** 로퍼남성      4.0\n",
            "OO 체** 셔츠        3.0\n",
            "OO 밴딩 기모팬츠       3.0\n",
            "Name: sentiment_score, dtype: float64\n"
          ]
        }
      ],
      "source": [
        "# 감정 단어 사전 리스트(긍정, 부정)\n",
        "positive_words = [\"좋다\",\"만족\",\"편하다\",\"추천\",\"최고\"]\n",
        "negative_words = [\"별로\",\"불편\",\"실망\",\"나쁘다\",\"환불\"]\n",
        "\n",
        "# 감정 점수 계산 함수\n",
        "def sentiment_score(text):\n",
        "    text = str(text)\n",
        "    pos = sum([text.count(w) for w in positive_words])\n",
        "    neg = sum([text.count(w) for w in negative_words])\n",
        "    return pos - neg\n",
        "\n",
        "# 리뷰별 감정 점수 계산\n",
        "train[\"sentiment_score\"] = train[\"review\"].apply(sentiment_score)\n",
        "\n",
        "# 감정 점수 분포 시각화\n",
        "sns.histplot(train[\"sentiment_score\"], bins=20, kde=True)\n",
        "plt.title(\"리뷰 감정 점수 분포\")\n",
        "plt.show()\n",
        "\n",
        "# 'item_name' 기준 상품별 평균 감정 점수 Top-5\n",
        "print(train.groupby(\"item_name\")[\"sentiment_score\"].mean().sort_values(ascending=False).head())\n",
        "\n",
        "\n",
        "\n"
      ]
    },
    {
      "cell_type": "markdown",
      "metadata": {
        "id": "VJtOfwyf6jT4"
      },
      "source": [
        "히스토그램으로 각 리뷰의 감정 점수가 출력되게 됩니다.\n",
        "\n",
        "분포 해석 :\n",
        "- 오른쪽으로 치우치면 긍정 리뷰가 많음\n",
        "- 왼쪽으로 치우치면 부정 리뷰가 많음\n",
        "- 0 근처에 몰려 있으면 긍,부정 단어가 거의 없거나 균형을 의미합니다."
      ]
    },
    {
      "cell_type": "markdown",
      "metadata": {
        "id": "aRc23OZGqIA0"
      },
      "source": [
        "### 3. 리뷰 다양성(Diversity) 측정\n",
        "리뷰들이 단순 복붙 패턴, 짧은 패턴으로 반복되는지, 다양한 단어들로 쓰였는지 확인하기 위해 리뷰 다양성을 측정해보고자 합니다."
      ]
    },
    {
      "cell_type": "code",
      "execution_count": 15,
      "metadata": {
        "colab": {
          "base_uri": "https://localhost:8080/"
        },
        "id": "q2jJE6ncqCbz",
        "outputId": "9d395775-c35d-4a37-a1ca-d760f830512b"
      },
      "outputs": [
        {
          "name": "stdout",
          "output_type": "stream",
          "text": [
            "리뷰 다양성이 높은 상품 Top-5:\n",
            " item_name\n",
            "OO 스니커즈           103.0\n",
            "OO 소가죽 스니커즈       102.0\n",
            "OO 슈** 스니커즈        88.0\n",
            "OO 컨버스화            87.5\n",
            "OO 베** 소가죽 로퍼      86.0\n",
            "Name: review, dtype: float64\n",
            "결과 해석 : 리뷰 한 건당 평균적으로 몇 개의 고유 단어가 쓰였는지를 나타내는 결과\n"
          ]
        }
      ],
      "source": [
        "# 리뷰 다양성 측정 함수\n",
        "def review_diversity(texts):\n",
        "    vec = CountVectorizer() # 텍스트 안에 등장하는 모든 단어를 \"단어 카운트 행렬\"로 변환\n",
        "    X = vec.fit_transform(texts)\n",
        "    return X.shape[1] / X.shape[0]  # 고유단어수/리뷰수 비율\n",
        "\n",
        "div_scores = (train.groupby(\"item_name\")[\"review\"]\n",
        "              .apply(review_diversity)\n",
        "              .sort_values(ascending=False))\n",
        "\n",
        "print(\"리뷰 다양성이 높은 상품 Top-5:\\n\", div_scores.head())\n",
        "print(\"결과 해석 : 리뷰 한 건당 평균적으로 몇 개의 고유 단어가 쓰였는지를 나타내는 결과\")"
      ]
    },
    {
      "cell_type": "markdown",
      "metadata": {
        "id": "XZBZZHvktNAp"
      },
      "source": [
        "# Data Preprocessing (데이터 전처리)"
      ]
    },
    {
      "cell_type": "code",
      "execution_count": 16,
      "metadata": {
        "id": "jgJMfiKutPXm"
      },
      "outputs": [],
      "source": [
        "# 텍스트 전처리 -> 한글, 영문, 숫자만 남기기\n",
        "def clean_text(text):\n",
        "    text = str(text)\n",
        "    text = re.sub(r\"[^가-힣0-9a-zA-Z ]\", \" \", text)\n",
        "    text = re.sub(r\"\\s+\", \" \", text).strip()\n",
        "    return text\n",
        "\n",
        "# 전처리한 컬럼 생성\n",
        "train[\"clean_review\"] = train[\"review\"].apply(clean_text)"
      ]
    },
    {
      "cell_type": "code",
      "execution_count": 17,
      "metadata": {
        "id": "iGNnpodUx8aI"
      },
      "outputs": [],
      "source": [
        "# 결측치 제거\n",
        "train = train.dropna(subset=[\"item_name\",\"clean_review\",\"category\"])"
      ]
    },
    {
      "cell_type": "code",
      "execution_count": 18,
      "metadata": {
        "id": "WbGxecZxtPZQ"
      },
      "outputs": [],
      "source": [
        "# 상품명도 통일 (공백, 특수문자 제거)\n",
        "train[\"item_name\"] = train[\"item_name\"].astype(str).str.strip()"
      ]
    },
    {
      "cell_type": "code",
      "execution_count": 19,
      "metadata": {
        "colab": {
          "base_uri": "https://localhost:8080/"
        },
        "id": "4hmr67E8tPgS",
        "outputId": "62534608-5815-4f3a-a377-d7186a4f3d21"
      },
      "outputs": [
        {
          "name": "stdout",
          "output_type": "stream",
          "text": [
            "아이템 단위 문서 수: 1270\n"
          ]
        }
      ],
      "source": [
        "# 아이템 단위 문서 생성\n",
        "train_docs = (train\n",
        "              .groupby([\"item_name\",\"category\"])[\"clean_review\"]\n",
        "              .apply(lambda s: \" \".join(s.dropna().astype(str)))\n",
        "              .reset_index())\n",
        "\n",
        "print(\"아이템 단위 문서 수:\", len(train_docs))"
      ]
    },
    {
      "cell_type": "code",
      "execution_count": 20,
      "metadata": {
        "colab": {
          "base_uri": "https://localhost:8080/",
          "height": 206
        },
        "id": "jq-FZXa3tPio",
        "outputId": "bc771398-1609-4538-dc96-044a3cac98f1"
      },
      "outputs": [
        {
          "data": {
            "application/vnd.google.colaboratory.intrinsic+json": {
              "summary": "{\n  \"name\": \"train_docs\",\n  \"rows\": 1270,\n  \"fields\": [\n    {\n      \"column\": \"item_name\",\n      \"properties\": {\n        \"dtype\": \"string\",\n        \"num_unique_values\": 1267,\n        \"samples\": [\n          \"OO \\ud50c** \\ud398\\ub2c8 \\ub85c\\ud37c\",\n          \"OO \\ucf54** \\uc870\\uac70 \\ud32c\\uce20\",\n          \"OO \\uc0ac** \\ub9e8\\ud22c\\ub9e8\"\n        ],\n        \"semantic_type\": \"\",\n        \"description\": \"\"\n      }\n    },\n    {\n      \"column\": \"category\",\n      \"properties\": {\n        \"dtype\": \"category\",\n        \"num_unique_values\": 3,\n        \"samples\": [\n          \"\\ud328\\uc158\\uc288\\uc988\",\n          \"\\ub0a8\\uc131\\uc758\\ub958\",\n          \"\\uc5ec\\uc131\\uc758\\ub958\"\n        ],\n        \"semantic_type\": \"\",\n        \"description\": \"\"\n      }\n    },\n    {\n      \"column\": \"clean_review\",\n      \"properties\": {\n        \"dtype\": \"string\",\n        \"num_unique_values\": 1270,\n        \"samples\": [\n          \"\\uc774\\uc6c3\\ub2d8\\ub4e4 \\uc548\\ub155\\ud558\\uc138\\uc694 OO F \\ubaa8\\ub4dc \\ud50c\\ub7ab\\ud3fc \\ud398\\ub2c8 \\ub85c\\ud37c \\uc194\\uc9c1 \\ub9ac\\uc5bc \\ucc29\\uc6a9 \\ud6c4\\uae30 \\uc9c0\\uae08 \\uc2dc\\uc791\\ud569\\ub2c8\\ub2e4 \\ub81b\\uce20 \\uace0 \\uac00\\uaca9\\uc774 \\uc880 \\ub098\\uac00\\uc11c \\uad6c\\ub9e4 \\uace0\\ubbfc \\ub9ce\\uc774 \\ud588\\ub294\\ub370 \\uc65c \\uadf8\\ub7ac\\ub098 \\uc2f6\\uc744 \\uc815\\ub3c4\\ub85c \\ud488\\uc9c8\\uc774 \\ub108\\ubb34 \\ub9c8\\uc74c\\uc5d0 \\ub4e4\\uc5b4\\uc694 \\ub514\\uc790\\uc778 \\ub2e8\\uc815\\ud558\\uace0 \\ubc1c \\ud3b8\\ud574\\uc11c \\ucc29\\ud654\\uac10 \\uc88b\\uc2b5\\ub2c8\\ub2e4 \\uce7c\\ubc1c\\uc774\\uace0 \\uc6b4\\ub3d9\\ud654\\ub294 250 \\uad6c\\ub450\\ub294 245 \\uc2e0\\uace0 OO\\uc740 245 \\uc2e0\\uc5b4\\uc11c \\uadf8\\ub300\\ub85c \\uc8fc\\ubb38\\ud588\\ub294\\ub370 \\ub531 \\ub9de\\ub124\\uc694 \\uad7d\\ub192\\uc774\\uac00 \\uc788\\uc5b4\\uc11c \\uc2e0\\uc73c\\uba74 \\ud0a4\\uac00 \\ucee4\\ubcf4\\uc5ec \\ub9cc\\uc871\\ud569\\ub2c8\\ub2e4 \\ub85c\\ud37c \\ucfe0\\uc158\\uac10 \\uc88b\\uace0 \\ubb34\\uac81\\uc9c0 \\uc54a\\uace0 \\uac00\\ubcbc\\uc6cc\\uc11c \\ub531 \\uc88b\\uc544\\uc694 \\uc124\\uba85 \\ub05d \\uc880 \\ub3c4\\uc6c0\\uc774 \\ub418\\uc168\\ub098\\uc694 \\uc6b0\\ub9ac \\uc774\\uc6c3\\ub2d8\\ub4e4\\uaed8 \\ub3c4\\uc6c0\\uc774 \\ub418\\uc168\\ub2e4\\uba74 \\uc804 \\uc815\\ub9d0 \\uae30\\uc069\\ub2c8\\ub2e4 \\uc774\\uc6c3\\ub2d8\\ub4e4 \\uc548\\ub155\\ud558\\uc138\\uc694 \\uc6b0\\uc0b0 \\ub2e4 \\ucc59\\uae30\\uc168\\uc8e0 \\ube44\\uc624\\ub294\\ub370 \\uc870\\uc2ec\\ud574\\uc11c \\ud1f4\\uadfc\\ud558\\uc138\\uc694 \\uc624\\ub298\\uc740 OO F \\ubaa8\\ub4dc \\ud50c\\ub7ab\\ud3fc \\ud398\\ub2c8 \\ub85c\\ud37c \\uc9c1\\uc811 \\ucc29\\uc6a9\\ud55c \\ud6c4\\uae30\\uc785\\ub2c8\\ub2e4 \\uc9c0\\uae08 \\ubc14\\ub85c \\uace0\\uace0\\uace0 \\ubcf4\\uae30\\uc5d0\\ub294 \\ub514\\uc790\\uc778\\uc774 \\uc880 \\ud22c\\ubc15\\ud574 \\ubcf4\\uc774\\ub294\\ub370 \\uac00\\ubccd\\uace0 \\ud479\\uc2e0\\ud479\\uc2e0\\ud558\\uace0 \\uc544\\ubb34\\ub9ac \\uc624\\ub798\\uac78\\uc5b4\\ub3c4 \\ub118 \\ud3b8\\ud574\\uc694 \\ub2e4\\ub978 \\uc2e0\\ubc1c\\uc2e0\\uace0\\ub294 \\uc624\\ub798 \\ubabb\\uac78\\uc5b4\\uc694 \\uc624\\uc9c1 OO\\ub9cc\\uc774 \\ud3b8\\ud558\\uac8c \\uc624\\ub798 \\uac78\\uc744 \\uc218 \\uc788\\uc2b5\\ub2c8\\ub2e4 \\ub514\\uc790\\uc778\\uc740 \\uc694\\uc998\\uc2a4\\ub7fd\\uac8c \\ud799\\ud569\\ub2c8\\ub2e4 \\uc624\\ub298 \\ucc98\\uc74c \\uc2e0\\uc5b4\\uc11c \\ucc29\\uc6a9\\uac10\\uc774 \\uc870\\uae08 \\uc870\\uc774\\ub294 \\ub290\\ub08c\\uc774 \\uc788\\uc9c0\\ub9cc \\ucc29\\uc6a9\\uac10 \\ud3b8\\ud558\\uac8c \\uace7 \\ub298\\uc5b4\\ub0a0 \\ub4ef \\ud569\\ub2c8\\ub2e4 \\uc0ac\\uc774\\uc988\\ub294 \\uc815\\uc0ac\\uc774\\uc988 \\uc798 \\ub9de\\uc2b5\\ub2c8\\ub2e4 \\uc81c\\uac00 \\uc9c1\\uc811 \\uc2e0\\uc5b4 \\ubcf8 \\ub290\\ub08c \\uc194\\uc9c1\\ud558\\uac8c \\ub9d0\\uc500 \\ub4dc\\ub838\\uc2b5\\ub2c8\\ub2e4 \\ub3c4\\uc6c0\\uc774 \\ub418\\uc168\\ub2e4\\uba74 \\uc88b\\uc544\\uc694 \\uc78a\\uc9c0 \\ub9c8\\uc138\\uc694 \\uc548\\ub155\\ud558\\uc138\\uc694 \\uc774\\uc6c3\\ub2d8\\ub4e4 \\ud1f4\\uadfc \\uc900\\ube44\\ud558\\uc154\\uc57c\\uc8e0 \\uc624\\ub298 \\ub300\\ud55c\\ubbfc\\uad6d\\uacfc \\uac00\\ub098\\uc758 \\uc6d4\\ub4dc\\ucef5 \\uacbd\\uae30\\uac00 \\uc788\\uc2b5\\ub2c8\\ub2e4 \\uc77c\\ucc0d \\ud1f4\\uadfc\\ud558\\uc154\\uc11c \\ud55c\\ubaa9\\uc18c\\ub9ac\\ub85c \\ud568\\uaed8 \\uc751\\uc6d0\\ud574\\uc694 OO F \\ubaa8\\ub4dc \\ud50c\\ub7ab\\ud3fc \\ud398\\ub2c8 \\ub85c\\ud37c \\uc785\\ub2c8\\ub2e4 \\ub514\\uc790\\uc778 \\uccad\\ud0a4\\uc2a4\\ub7ec\\uc6cc \\ud799\\ud574\\uc11c \\ub108\\ubb34 \\uc88b\\uc2b5\\ub2c8\\ub2e4 \\uc815\\uc0ac\\uc774\\uc988\\ub85c \\uad6c\\ub9e4\\ud588\\ub294\\ub370 \\ubc1c\\ub4f1\\uc774\\ub098 \\ubc1c\\ubcfc\\uc740 \\ubed1\\ubed1\\ud560 \\uc815\\ub3c4\\ub85c \\ub531 \\ub9de\\uc544\\uc11c \\ubd88\\ud3b8\\ud569\\ub2c8\\ub2e4 \\uadfc\\ub370 \\ub4b7\\uafc8\\uce58\\uac00 \\uac78\\uc744 \\ub54c\\ub9c8\\ub2e4 \\ube60\\uc838\\uc11c \\uc2e0\\uae30 \\ubd88\\ud3b8\\ud574\\uc694 \\uc2e0\\ubc1c \\uc548\\ucabd \\ubc14\\ub2e5 \\uac00\\uc8fd\\uc774 \\ub108\\ubb34 \\ubbf8\\ub044\\ub7ec\\uc6cc\\uc11c \\ubc1c\\uc774 \\uc55e\\uc73c\\ub85c \\uc3e0\\ub824\\uc694 \\uc2e0\\ubc1c\\uc744 \\uc2e0\\uc5c8\\uc744\\ub550 \\ubd84\\uba85 \\ub9de\\ub294 \\uc0ac\\uc774\\uc988\\uc778\\ub370 \\uac78\\uc73c\\uba74 \\ub4b7\\uafc8\\uce58\\uac00 \\uc790\\uafb8 \\ubc97\\uaca8\\uc9c0\\uace0 \\ub9c9 \\uc2e0\\uae30 \\ud3b8\\ud55c \\uc2e0\\ubc1c\\uc740 \\uc544\\ub2cc \\uac83 \\uac19\\uc2b5\\ub2c8\\ub2e4 \\uc81c \\ubc1c\\uc774 \\uc774\\uc0c1\\ud55c\\uac74\\uc9c0 \\uc2e0\\ubc1c \\ubb38\\uc81c\\uc778\\uc9c0 \\uc798 \\ubaa8\\ub974\\uaca0\\ub124\\uc694 \\uc624\\ub298\\uc740 \\uc5ec\\uae30\\uae4c\\uc9c0\\uc785\\ub2c8\\ub2e4 \\ub300 \\ud55c\\ubbfc\\uad6d \\uc9dd\\uc9dd\\uc9dd\\uc9dd\\uc9dd \\ub300\\ud55c\\ubbfc\\uad6d\\uc758 \\uc2e0\\uc2b9\\uc744 \\uae30\\uc6d0\\ud569\\ub2c8\\ub2e4 \\uc548\\ub155\\ud558\\uc138\\uc694 \\uc774\\uc6c3\\ub2d8\\ub4e4 \\uc694\\uc998 \\ud56b\\ud55c \\uc544\\uc774\\ud15c\\uc778 OO F \\ubaa8\\ub4dc \\ud50c\\ub7ab\\ud3fc \\ud398\\ub2c8 \\ub85c\\ud37c \\uc9c1\\uc811 \\uc2e0\\uc5b4 \\ubd24\\uc2b5\\ub2c8\\ub2e4 \\ud6c4\\uae30 \\uac19\\uc774 \\uacf5\\uc720\\ud569\\ub2c8\\ub2e4 \\uc720\\uad11\\uc774 \\uc544\\ub2c8\\uace0 \\ubb34\\uad11\\uc774\\ub77c \\uc804 \\ub354 \\ub9d8\\uc5d0 \\ub4dc\\ub124\\uc694 \\ucc29\\uc6a9\\uac10\\ub3c4 \\ub118 \\uc88b\\uace0 \\uad7d \\ub192\\uc774\\ub3c4 \\uc801\\ub2f9\\ud558\\uace0 \\ubc1c\\ubcfc\\ub3c4 \\ub531 \\uc88b\\uc544 \\ub300\\ub9cc\\uc871\\uc785\\ub2c8\\ub2e4 \\uc815\\uc0ac\\uc774\\uc988\\uc5d0\\uc694 \\ubc1c\\ubcfc\\uc788\\ub294 235mm\\uc778\\ub370 \\ub531 \\ub9de\\uc544 \\uc88b\\uc2b5\\ub2c8\\ub2e4 \\uac00\\uc744\\uc5d0 \\uc5b4\\uc6b8\\ub9ac\\ub294 \\uba4b\\uc9c4 \\uad6c\\ub450\\uc785\\ub2c8\\ub2e4 \\uce90\\uc8fc\\uc5bc\\ud558\\uac8c \\uc785\\uc5b4\\ub3c4 \\uc88b\\uace0 \\uc758\\uc678\\ub85c \\uc815\\uc7a5\\uc5d0 \\uc785\\uc5b4\\ub3c4 \\uad49\\uc7a5\\ud788 \\ud799\\ud558\\ub124\\uc694 \\uc6d0\\ud53c\\uc2a4 \\uce58\\ub9c8 \\uc2ac\\ub799\\uc2a4 \\ub2e4 \\ucf54\\ub514 \\uac00\\ub2a5\\ud569\\ub2c8\\ub2e4 \\uc880 \\ub3c4\\uc6c0\\uc774 \\ub418\\uc168\\ub098\\uc694 \\ub3c4\\uc6c0\\uc774 \\ub418\\uc168\\ub2e4\\uba74 \\uc88b\\uc544\\uc694 \\uc78a\\uc9c0 \\ub9c8\\uc138\\uc694 \\uc548\\ub155\\ud558\\uc138\\uc694 \\uc624\\ub798 \\uae30\\ub2e4\\ub9ac\\uc168\\uc8e0 \\ub4dc\\ub514\\uc5b4 \\uac00\\uc838 \\uc628 OOO \\ud50c\\ub7ab\\ud3fc \\ud398\\ub2c8 \\ub85c\\ud37c \\uad6c\\ub9e4 \\ud6c4\\uae30\\uc785\\ub2c8\\ub2e4 \\uc9c0\\uccb4 \\uc5c6\\uc774 \\ubc14\\ub85c \\ub9ac\\ubdf0 \\uc54c\\ub824 \\ub4dc\\ub9ac\\ub3c4\\ub85d \\ud560\\uac8c\\uc694 \\uac00\\uaca9\\uc740 \\uc0b4\\uc9dd \\ube44\\uc2fc \\ud3b8\\uc774\\uae34 \\ud558\\uc9c0\\ub9cc \\ud488\\uc9c8\\uc774 \\uac80\\uc99d\\ub41c \\uc2e0\\ubc1c\\uc774\\ub77c \\uace0\\ubbfc \\uc5c6\\uc774 \\uc8fc\\ubb38\\uc744 \\ud588\\uc5b4\\uc694 \\ubc30\\uc1a1\\ub3c4 \\ube68\\ub790\\uace0 \\ubc1b\\uc544 \\ubcf4\\ub2c8 \\ud488\\uc9c8\\uc774 \\uc815\\ub9d0 \\uc88b\\ub2e4\\ub294 \\uac83\\uc744 \\ub290\\uaf08\\uc5b4\\uc694 \\uc2e0\\ubc1c \\ub514\\uc790\\uc778\\ub3c4 \\uc815\\ub9d0 \\uc608\\uc058\\uace0 \\uc2e0\\ubc1c \\ub0c4\\uc0c8\\ub3c4 \\uc548 \\ub098\\uc11c \\ub108\\ubb34 \\uc88b\\ub124\\uc694 \\uad7d\\ub3c4 \\uc788\\uc5b4\\uc11c \\ud0a4\\ub3c4 \\ucee4 \\ubcf4\\uc774\\ub2c8 \\uc88b\\uc2b5\\ub2c8\\ub2e4 \\ucc29\\ud654\\uac10\\ub3c4 \\ub108\\ubb34 \\ud3b8\\uc548\\ud574\\uc11c \\uc800\\ub294 \\uc6b4\\ub3d9\\ud654 \\ub300\\uc6a9\\uc73c\\ub85c \\uc2e0\\uace0 \\ub2e4\\ub2c8\\uace0 \\uc788\\ub124\\uc694 \\uc0ac\\uc774\\uc988\\ub294 \\uc815\\uc0ac\\uc774\\uc988 \\ud558\\uc2dc\\uba74 \\ub420 \\uac83 \\uac19\\uc544\\uc694 \\uc624\\ub298 \\ud6c4\\uae30 \\ub9c8\\uc74c\\uc5d0 \\ub4dc\\uc168\\ub098\\uc694 \\uad1c\\ucc2e\\uc740 \\uc2e0\\ubc1c\\uc774\\ub2c8 \\uad6c\\ub9e4 \\ud558\\uc154\\ub3c4 \\uc815\\ub9d0 \\uc88b\\uc744 \\uac83 \\uac19\\uc544\\uc694 \\uc548\\ub155\\ud558\\uc138\\uc694 \\ucd5c\\uadfc\\uc5d0 \\ub85c\\ud37c\\ub97c \\ud558\\ub098 \\uc0c0\\ub294\\ub370 \\ub108\\ubb34 \\ud3b8\\uc548\\ud574\\uc11c \\ucd94\\ucc9c \\ub4dc\\ub9ac\\uace0 \\uc2f6\\uc5b4 \\uac00\\uc838 \\uc654\\uc2b5\\ub2c8\\ub2e4 \\ubc14\\ub85c \\ud6c4\\uae30 \\uc54c\\ub824 \\ub4dc\\ub9b4\\uac8c\\uc694 \\uc81c\\ud488\\uc740 OOO \\ud50c\\ub7ab\\ud3fc \\ud398\\ub2c8 \\ub85c\\ud37c\\uc785\\ub2c8\\ub2e4 \\uc77c\\ub2e8 \\uac00\\uaca9\\uc740 \\uc0b4\\uc9dd \\ube44\\uc2f8\\uae34 \\ud558\\uc9c0\\ub9cc \\ud488\\uc9c8\\uc774 \\uc815\\ub9d0 \\uc88b\\uc740 \\uac83 \\uac19\\uc544\\uc694 \\uadf8\\ub798\\uc11c \\uc800\\ub294 \\ube44\\uc2fc \\ub3c8 \\uc8fc\\uace0 \\uc0b0 \\ubcf4\\ub78c\\uc774 \\uc788\\ub294 \\uac83 \\uac19\\uc544\\uc694 \\ub9c8\\uac10 \\ucc98\\ub9ac\\ub3c4 \\ub108\\ubb34 \\uae54\\ub054\\ud558\\uace0 \\ucc29\\ud654\\uac10\\uc774 \\uc815\\ub9d0 \\ud3b8\\uc548\\ud55c \\uac83 \\uac19\\uc544\\uc694 \\uc0ac\\uc774\\uc988\\ub3c4 \\uc798 \\ub9de\\uace0 \\uc2e0\\ubc1c\\ubcfc\\ub3c4 \\ub113\\uc5b4 \\ubc1c\\uacfc \\ub4b7\\uafc8\\uce58\\ub3c4 \\uc544\\ud504\\uc9c0 \\uc54a\\uc558\\uc5b4\\uc694 \\uc624\\ub798 \\uc2e0\\uace0 \\ub2e4\\ub140\\ub3c4 \\ubc1c\\uc774 \\ud3b8\\uc548\\ud574\\uc11c \\uc815\\ub9d0 \\uc88b\\uc740 \\uac83 \\uac19\\ub124\\uc694 \\ub85c\\ud37c \\ucc3e\\uc73c\\uc2dc\\uba74 \\uc800\\ub294 \\uc774 \\uc2e0\\ubc1c\\uc744 \\ucd94\\ucc9c \\ub4dc\\ub9ac\\uace0 \\uc2f6\\uc5b4\\uc694 \\ud488\\uc9c8\\uc774 \\uc815\\ub9d0 \\ucd5c\\uace0\\ub85c \\uc88b\\uc740 \\uac83 \\uac19\\uc544\\uc694\",\n          \"\\uc791\\ub144\\uc5d0 \\uc5b8\\ub2c8\\uac00 \\uc2e0\\uace0 \\uc788\\ub294\\uac78 \\ubd10\\ub480\\ub2e4\\uac00 \\uad6c\\ub9e4\\ud574 \\uc2e0\\uc5b4\\ubcf4\\uace0 \\uc774\\ub807\\uac8c \\uc18c\\uac1c\\ud574 \\ubcf4\\ub824\\uace0 \\ud569\\ub2c8\\ub2e4 \\uc0c1\\ud488\\ud3c9\\uc774 \\uc88b\\uc544\\uc11c \\uac80\\uc815 \\uadf8\\ub808\\uc774 2\\uceec\\ub808 \\uc8fc\\ubb38\\ud588\\uc2b5\\ub2c8\\ub2e4 \\uc548\\uc5d0 \\uae30\\ubaa8\\uac00 \\ub4e4\\uc5b4\\uc11c \\uc88b\\uc740\\ub370 \\uc0ac\\uc774\\uc988\\uac00 \\uc791\\uc73c\\uba74 \\uc5b4\\uca4c\\ub098 \\uac71\\uc815\\ud558\\uba74\\uc11c \\uc6d0\\ub798 \\uc2e0\\ub294 \\uc0ac\\uc774\\uc988\\ub97c \\uc8fc\\ubb38\\ud588 \\ub294\\ub370 \\ub2e4\\ud589\\uc774 \\ub531 \\ub9de\\ub124\\uc694 \\ub9c8\\uac10\\ub3c4 \\uae54\\ub054\\ud558\\uac8c \\uc798 \\ub418\\uc5b4 \\uc788\\uace0 \\ubc14\\ub2e5\\uc7ac\\uc9c8\\uc774 \\ub208\\uae38\\uc5d0 \\uac78\\uc5b4\\ub3c4 \\ubbf8\\ub044\\ub7fd\\uc9c0 \\uc54a\\ub124\\uc694 \\ub530\\ub73b\\ud558\\uac8c \\uc798 \\uc2e0\\uace0 \\ub2e4\\ub2d9\\ub2c8\\ub2e4 \\ucc98\\uc74c \\ubc1c\\uc744 \\ub123\\ub294 \\uc21c\\uac04 \\ubd80\\ub4dc\\ub7ec\\uc6b4 \\uac10\\ucd09\\uc774 \\ub108\\ubb34 \\uc88b\\uc558\\uc5b4\\uc694 \\uc694 \\uc998\\uc740 \\ub9e4\\uc77c \\uc774\\uac83\\ub9cc \\uc2e0\\uace0 \\ub2e4\\ub2d9\\ub2c8\\ub2e4 \\uc815\\ub9d0 \\uc2e0\\uc73c\\uba74 \\ud3b8\\ud558\\uace0 \\ub530\\ub73b\\ud55c \\uc2e0\\ubc1c\\uc744 \\uc6d0\\ud558\\uc2e0\\ub2e4\\uba74 \\uc774 \\uc2e0\\ubc1c\\ub9cc\\ud55c\\uac8c \\uc5c6\\ub294 \\ub4ef\\ud574\\uc11c \\uc62c\\ub824\\ubd24\\uc2b5\\ub2c8\\ub2e4\",\n          \"\\uc548\\ub155\\ud558\\uc138\\uc694 \\ucd9c\\uadfc\\ub8e9 \\uc77c\\uc0c1\\ub8e9 \\ubaa8\\ub450 \\uac00\\ub2a5\\ud55c \\uae30\\ubaa8\\ud32c\\uce20\\ub97c \\uc624\\ub298 \\uc18c\\uac1c\\ud574\\ubcfc\\uae4c \\ud558\\ub294\\ub370\\uc694 \\ubc14\\ub85c OOO \\uae30\\ubaa8\\ud32c\\uce20 3\\uc885\\uc138\\ud2b8\\ub78d\\ub2c8\\ub2e4 OOO \\uae30\\ubaa8\\ud32c\\uce20\\ub294 \\uc2e0\\ucd95\\uc131\\uc774 \\uc88b\\uace0 \\ubab8\\uc744 \\ud3ec\\uadfc\\ud558\\uac8c \\uac10\\uc2f8\\ub294 \\ubd84\\ub610 \\uc18c\\uc7ac\\ub85c \\uc7a5\\uc2dc\\uac04 \\ucc29\\uc6a9\\ud574\\ub3c4 \\ubb34\\ub98e\\uc774 \\ub098\\uc624\\uac70\\ub098 \\ud558\\uc9c0 \\uc54a\\uc544\\uc11c \\uc88b\\uc558\\uc5b4\\uc694 \\uc548\\uc5d0\\ub294 \\uae30\\ubaa8\\ub85c \\ub418\\uc5b4 \\uc788\\uc5b4\\uc11c \\ucd94\\uc6b4 \\uaca8\\uc6b8\\uc5d0\\ub3c4 \\ub530\\ub73b\\ud558\\uac8c \\ucc29\\uc6a9 \\uac00\\ub2a5\\ud558\\ub2f5\\ub2c8\\ub2e4 \\uae30\\ubaa8\\ud32c\\uce20\\ub294 \\uc798\\ubabb \\uc785\\uc73c\\uba74 \\ub6b1\\ub6b1\\ud574 \\ubcf4\\uc77c \\uc218 \\uc788\\ub294\\ub370 OOO \\uae30\\ubaa8\\ud32c\\uce20\\ub294 \\ub2e4\\ub9ac \\ub77c\\uc778\\uc744 \\uc7a1\\uc544\\uc8fc\\uace0 \\uc2ac\\ub9bc\\ud574 \\ubcf4\\uc5ec\\uc11c \\uc790\\uafb8 \\uc190\\uc774 \\uac00\\ub354\\ub77c\\uad6c\\uc694 \\uc0c9\\uc0c1\\ub3c4 \\ub2e4 \\ubb34\\ub09c\\ud55c \\uae30\\ubcf8\\uc0c9\\uc0c1\\uc774\\ub77c\\uc11c \\uc5b4\\ub5a4 \\uc0c1\\uc758\\uc640\\ub3c4 \\ucf54\\ub514\\uac00 \\uc26c\\uc5b4\\uc11c \\uc88b\\uc558\\uc5b4\\uc694 \\ub530\\ub73b\\ud558\\uba74\\uc11c \\ub0a0\\uc52c\\ud574\\ubcf4\\uc774\\ub294 \\ubc14\\uc9c0\\ub97c \\ucc3e\\uc73c\\uc2e0\\ub2e4\\uba74 OOO \\uae30\\ubaa8\\ud32c\\uce20 \\ucc29\\uc6a9\\ud574 \\ubcf4\\uc2e4\\uae38 \\ucd94\\ucc9c\\ub4dc\\ub824\\uc694\"\n        ],\n        \"semantic_type\": \"\",\n        \"description\": \"\"\n      }\n    }\n  ]\n}",
              "type": "dataframe",
              "variable_name": "train_docs"
            },
            "text/html": [
              "\n",
              "  <div id=\"df-3161c2d6-5783-4c2c-8834-cdb1ec687e6f\" class=\"colab-df-container\">\n",
              "    <div>\n",
              "<style scoped>\n",
              "    .dataframe tbody tr th:only-of-type {\n",
              "        vertical-align: middle;\n",
              "    }\n",
              "\n",
              "    .dataframe tbody tr th {\n",
              "        vertical-align: top;\n",
              "    }\n",
              "\n",
              "    .dataframe thead th {\n",
              "        text-align: right;\n",
              "    }\n",
              "</style>\n",
              "<table border=\"1\" class=\"dataframe\">\n",
              "  <thead>\n",
              "    <tr style=\"text-align: right;\">\n",
              "      <th></th>\n",
              "      <th>item_name</th>\n",
              "      <th>category</th>\n",
              "      <th>clean_review</th>\n",
              "    </tr>\n",
              "  </thead>\n",
              "  <tbody>\n",
              "    <tr>\n",
              "      <th>0</th>\n",
              "      <td>OO  통굽 털슬리퍼 키높이 겨울슬리퍼 거실화</td>\n",
              "      <td>패션슈즈</td>\n",
              "      <td>찬바람 불면 발이 제일 먼저 알죠 편한 실내화 하나 소개해 드릴게요 엄마가 주택에 ...</td>\n",
              "    </tr>\n",
              "    <tr>\n",
              "      <th>1</th>\n",
              "      <td>OO 3way 소가죽 니트부츠</td>\n",
              "      <td>패션슈즈</td>\n",
              "      <td>안녕하세요 오늘 아침엔 갑자기 너무 쌀쌀해져서 출근길에 부츠가 신고 싶어지더라구요 ...</td>\n",
              "    </tr>\n",
              "    <tr>\n",
              "      <th>2</th>\n",
              "      <td>OO 3센치 여성 소가죽 앵클부츠</td>\n",
              "      <td>패션슈즈</td>\n",
              "      <td>전 가을이 되면 발목까지 오는 부츠 신는걸 즐기는 편인데요 최근에 산 첼시부츠에 대...</td>\n",
              "    </tr>\n",
              "    <tr>\n",
              "      <th>3</th>\n",
              "      <td>OO 7부 마 셔츠</td>\n",
              "      <td>남성의류</td>\n",
              "      <td>주변에서 너무 좋다는 칭찬이 많아서 직접 구매해서 입어본 솔직한 후기를 지금부터 적...</td>\n",
              "    </tr>\n",
              "    <tr>\n",
              "      <th>4</th>\n",
              "      <td>OO 8cm키높이슬립온 울** 블랙/화이트</td>\n",
              "      <td>패션슈즈</td>\n",
              "      <td>키높이라 키가 커보이고 편하게 신을수 있어서 주위분들에게 적극 권해드리고 싶은 신발...</td>\n",
              "    </tr>\n",
              "  </tbody>\n",
              "</table>\n",
              "</div>\n",
              "    <div class=\"colab-df-buttons\">\n",
              "\n",
              "  <div class=\"colab-df-container\">\n",
              "    <button class=\"colab-df-convert\" onclick=\"convertToInteractive('df-3161c2d6-5783-4c2c-8834-cdb1ec687e6f')\"\n",
              "            title=\"Convert this dataframe to an interactive table.\"\n",
              "            style=\"display:none;\">\n",
              "\n",
              "  <svg xmlns=\"http://www.w3.org/2000/svg\" height=\"24px\" viewBox=\"0 -960 960 960\">\n",
              "    <path d=\"M120-120v-720h720v720H120Zm60-500h600v-160H180v160Zm220 220h160v-160H400v160Zm0 220h160v-160H400v160ZM180-400h160v-160H180v160Zm440 0h160v-160H620v160ZM180-180h160v-160H180v160Zm440 0h160v-160H620v160Z\"/>\n",
              "  </svg>\n",
              "    </button>\n",
              "\n",
              "  <style>\n",
              "    .colab-df-container {\n",
              "      display:flex;\n",
              "      gap: 12px;\n",
              "    }\n",
              "\n",
              "    .colab-df-convert {\n",
              "      background-color: #E8F0FE;\n",
              "      border: none;\n",
              "      border-radius: 50%;\n",
              "      cursor: pointer;\n",
              "      display: none;\n",
              "      fill: #1967D2;\n",
              "      height: 32px;\n",
              "      padding: 0 0 0 0;\n",
              "      width: 32px;\n",
              "    }\n",
              "\n",
              "    .colab-df-convert:hover {\n",
              "      background-color: #E2EBFA;\n",
              "      box-shadow: 0px 1px 2px rgba(60, 64, 67, 0.3), 0px 1px 3px 1px rgba(60, 64, 67, 0.15);\n",
              "      fill: #174EA6;\n",
              "    }\n",
              "\n",
              "    .colab-df-buttons div {\n",
              "      margin-bottom: 4px;\n",
              "    }\n",
              "\n",
              "    [theme=dark] .colab-df-convert {\n",
              "      background-color: #3B4455;\n",
              "      fill: #D2E3FC;\n",
              "    }\n",
              "\n",
              "    [theme=dark] .colab-df-convert:hover {\n",
              "      background-color: #434B5C;\n",
              "      box-shadow: 0px 1px 3px 1px rgba(0, 0, 0, 0.15);\n",
              "      filter: drop-shadow(0px 1px 2px rgba(0, 0, 0, 0.3));\n",
              "      fill: #FFFFFF;\n",
              "    }\n",
              "  </style>\n",
              "\n",
              "    <script>\n",
              "      const buttonEl =\n",
              "        document.querySelector('#df-3161c2d6-5783-4c2c-8834-cdb1ec687e6f button.colab-df-convert');\n",
              "      buttonEl.style.display =\n",
              "        google.colab.kernel.accessAllowed ? 'block' : 'none';\n",
              "\n",
              "      async function convertToInteractive(key) {\n",
              "        const element = document.querySelector('#df-3161c2d6-5783-4c2c-8834-cdb1ec687e6f');\n",
              "        const dataTable =\n",
              "          await google.colab.kernel.invokeFunction('convertToInteractive',\n",
              "                                                    [key], {});\n",
              "        if (!dataTable) return;\n",
              "\n",
              "        const docLinkHtml = 'Like what you see? Visit the ' +\n",
              "          '<a target=\"_blank\" href=https://colab.research.google.com/notebooks/data_table.ipynb>data table notebook</a>'\n",
              "          + ' to learn more about interactive tables.';\n",
              "        element.innerHTML = '';\n",
              "        dataTable['output_type'] = 'display_data';\n",
              "        await google.colab.output.renderOutput(dataTable, element);\n",
              "        const docLink = document.createElement('div');\n",
              "        docLink.innerHTML = docLinkHtml;\n",
              "        element.appendChild(docLink);\n",
              "      }\n",
              "    </script>\n",
              "  </div>\n",
              "\n",
              "\n",
              "    <div id=\"df-04cfa728-3a8c-489e-9ae3-8f5c29be0264\">\n",
              "      <button class=\"colab-df-quickchart\" onclick=\"quickchart('df-04cfa728-3a8c-489e-9ae3-8f5c29be0264')\"\n",
              "                title=\"Suggest charts\"\n",
              "                style=\"display:none;\">\n",
              "\n",
              "<svg xmlns=\"http://www.w3.org/2000/svg\" height=\"24px\"viewBox=\"0 0 24 24\"\n",
              "     width=\"24px\">\n",
              "    <g>\n",
              "        <path d=\"M19 3H5c-1.1 0-2 .9-2 2v14c0 1.1.9 2 2 2h14c1.1 0 2-.9 2-2V5c0-1.1-.9-2-2-2zM9 17H7v-7h2v7zm4 0h-2V7h2v10zm4 0h-2v-4h2v4z\"/>\n",
              "    </g>\n",
              "</svg>\n",
              "      </button>\n",
              "\n",
              "<style>\n",
              "  .colab-df-quickchart {\n",
              "      --bg-color: #E8F0FE;\n",
              "      --fill-color: #1967D2;\n",
              "      --hover-bg-color: #E2EBFA;\n",
              "      --hover-fill-color: #174EA6;\n",
              "      --disabled-fill-color: #AAA;\n",
              "      --disabled-bg-color: #DDD;\n",
              "  }\n",
              "\n",
              "  [theme=dark] .colab-df-quickchart {\n",
              "      --bg-color: #3B4455;\n",
              "      --fill-color: #D2E3FC;\n",
              "      --hover-bg-color: #434B5C;\n",
              "      --hover-fill-color: #FFFFFF;\n",
              "      --disabled-bg-color: #3B4455;\n",
              "      --disabled-fill-color: #666;\n",
              "  }\n",
              "\n",
              "  .colab-df-quickchart {\n",
              "    background-color: var(--bg-color);\n",
              "    border: none;\n",
              "    border-radius: 50%;\n",
              "    cursor: pointer;\n",
              "    display: none;\n",
              "    fill: var(--fill-color);\n",
              "    height: 32px;\n",
              "    padding: 0;\n",
              "    width: 32px;\n",
              "  }\n",
              "\n",
              "  .colab-df-quickchart:hover {\n",
              "    background-color: var(--hover-bg-color);\n",
              "    box-shadow: 0 1px 2px rgba(60, 64, 67, 0.3), 0 1px 3px 1px rgba(60, 64, 67, 0.15);\n",
              "    fill: var(--button-hover-fill-color);\n",
              "  }\n",
              "\n",
              "  .colab-df-quickchart-complete:disabled,\n",
              "  .colab-df-quickchart-complete:disabled:hover {\n",
              "    background-color: var(--disabled-bg-color);\n",
              "    fill: var(--disabled-fill-color);\n",
              "    box-shadow: none;\n",
              "  }\n",
              "\n",
              "  .colab-df-spinner {\n",
              "    border: 2px solid var(--fill-color);\n",
              "    border-color: transparent;\n",
              "    border-bottom-color: var(--fill-color);\n",
              "    animation:\n",
              "      spin 1s steps(1) infinite;\n",
              "  }\n",
              "\n",
              "  @keyframes spin {\n",
              "    0% {\n",
              "      border-color: transparent;\n",
              "      border-bottom-color: var(--fill-color);\n",
              "      border-left-color: var(--fill-color);\n",
              "    }\n",
              "    20% {\n",
              "      border-color: transparent;\n",
              "      border-left-color: var(--fill-color);\n",
              "      border-top-color: var(--fill-color);\n",
              "    }\n",
              "    30% {\n",
              "      border-color: transparent;\n",
              "      border-left-color: var(--fill-color);\n",
              "      border-top-color: var(--fill-color);\n",
              "      border-right-color: var(--fill-color);\n",
              "    }\n",
              "    40% {\n",
              "      border-color: transparent;\n",
              "      border-right-color: var(--fill-color);\n",
              "      border-top-color: var(--fill-color);\n",
              "    }\n",
              "    60% {\n",
              "      border-color: transparent;\n",
              "      border-right-color: var(--fill-color);\n",
              "    }\n",
              "    80% {\n",
              "      border-color: transparent;\n",
              "      border-right-color: var(--fill-color);\n",
              "      border-bottom-color: var(--fill-color);\n",
              "    }\n",
              "    90% {\n",
              "      border-color: transparent;\n",
              "      border-bottom-color: var(--fill-color);\n",
              "    }\n",
              "  }\n",
              "</style>\n",
              "\n",
              "      <script>\n",
              "        async function quickchart(key) {\n",
              "          const quickchartButtonEl =\n",
              "            document.querySelector('#' + key + ' button');\n",
              "          quickchartButtonEl.disabled = true;  // To prevent multiple clicks.\n",
              "          quickchartButtonEl.classList.add('colab-df-spinner');\n",
              "          try {\n",
              "            const charts = await google.colab.kernel.invokeFunction(\n",
              "                'suggestCharts', [key], {});\n",
              "          } catch (error) {\n",
              "            console.error('Error during call to suggestCharts:', error);\n",
              "          }\n",
              "          quickchartButtonEl.classList.remove('colab-df-spinner');\n",
              "          quickchartButtonEl.classList.add('colab-df-quickchart-complete');\n",
              "        }\n",
              "        (() => {\n",
              "          let quickchartButtonEl =\n",
              "            document.querySelector('#df-04cfa728-3a8c-489e-9ae3-8f5c29be0264 button');\n",
              "          quickchartButtonEl.style.display =\n",
              "            google.colab.kernel.accessAllowed ? 'block' : 'none';\n",
              "        })();\n",
              "      </script>\n",
              "    </div>\n",
              "\n",
              "    </div>\n",
              "  </div>\n"
            ],
            "text/plain": [
              "                   item_name category  \\\n",
              "0  OO  통굽 털슬리퍼 키높이 겨울슬리퍼 거실화     패션슈즈   \n",
              "1           OO 3way 소가죽 니트부츠     패션슈즈   \n",
              "2         OO 3센치 여성 소가죽 앵클부츠     패션슈즈   \n",
              "3                 OO 7부 마 셔츠     남성의류   \n",
              "4    OO 8cm키높이슬립온 울** 블랙/화이트     패션슈즈   \n",
              "\n",
              "                                        clean_review  \n",
              "0  찬바람 불면 발이 제일 먼저 알죠 편한 실내화 하나 소개해 드릴게요 엄마가 주택에 ...  \n",
              "1  안녕하세요 오늘 아침엔 갑자기 너무 쌀쌀해져서 출근길에 부츠가 신고 싶어지더라구요 ...  \n",
              "2  전 가을이 되면 발목까지 오는 부츠 신는걸 즐기는 편인데요 최근에 산 첼시부츠에 대...  \n",
              "3  주변에서 너무 좋다는 칭찬이 많아서 직접 구매해서 입어본 솔직한 후기를 지금부터 적...  \n",
              "4  키높이라 키가 커보이고 편하게 신을수 있어서 주위분들에게 적극 권해드리고 싶은 신발...  "
            ]
          },
          "execution_count": 20,
          "metadata": {},
          "output_type": "execute_result"
        }
      ],
      "source": [
        "# 전처리 후 데이터 확인\n",
        "train_docs.head()"
      ]
    },
    {
      "cell_type": "markdown",
      "metadata": {
        "id": "OZuu4aSf5Dvu"
      },
      "source": [
        "### +) 전처리 후 카테고리별 대표 상품 찾기"
      ]
    },
    {
      "cell_type": "code",
      "execution_count": 21,
      "metadata": {
        "colab": {
          "base_uri": "https://localhost:8080/"
        },
        "id": "H4hIvvbO41kt",
        "outputId": "a12a2647-837a-4376-e975-9e356fd856b2"
      },
      "outputs": [
        {
          "name": "stdout",
          "output_type": "stream",
          "text": [
            "<카테고리별 대표 상품 목록>\n",
            "[카테고리: 패션슈즈] 대표 상품: OO 바** 클로그 샌들\n",
            "[카테고리: 남성의류] 대표 상품: OO 프** 다운 숏 패딩점퍼\n",
            "[카테고리: 여성의류] 대표 상품: OO 폭스퍼 후드 구스 다운\n"
          ]
        }
      ],
      "source": [
        "from sklearn.metrics import pairwise_distances_argmin_min\n",
        "\n",
        "tfidf = TfidfVectorizer(max_features=5000)\n",
        "# 카테고리별 데이터 나누기\n",
        "print(\"<카테고리별 대표 상품 목록>\")\n",
        "for cat in train_docs[\"category\"].unique():\n",
        "    sub = train_docs[train_docs[\"category\"]==cat]\n",
        "    if len(sub) < 5: continue\n",
        "    # 카테고리 내 상품들의 리뷰 벡터화\n",
        "    X_sub = tfidf.fit_transform(sub[\"clean_review\"])\n",
        "    # 카테고리 중심 벡터 : 해당 카테고리를 가장 잘 대표하는 단어 분포를 가진 가상의 벡터를 의미\n",
        "    centroid = np.asarray(X_sub.mean(axis=0))\n",
        "    # 대표 상품 찾기\n",
        "    closest, _ = pairwise_distances_argmin_min(centroid, X_sub)\n",
        "    rep_item = sub.iloc[closest[0]][\"item_name\"]\n",
        "    print(f\"[카테고리: {cat}] 대표 상품:\", rep_item)"
      ]
    },
    {
      "cell_type": "markdown",
      "metadata": {
        "id": "ya21dxKkl1XZ"
      },
      "source": [
        "## 추천시스템 적용 실습"
      ]
    },
    {
      "cell_type": "markdown",
      "metadata": {
        "id": "F_F1AFZUwfUu"
      },
      "source": [
        "### 1. 콘텐츠 기반 추천시스템"
      ]
    },
    {
      "cell_type": "markdown",
      "metadata": {
        "id": "JgaesxukS0es"
      },
      "source": [
        "###` Q5. 주석(#)을 참고하여 빈칸에 본인의 코드를 채워 함수를 구현해주세요.`"
      ]
    },
    {
      "cell_type": "code",
      "execution_count": null,
      "metadata": {
        "colab": {
          "base_uri": "https://localhost:8080/"
        },
        "id": "1WmoKKPSl4Os",
        "outputId": "ba0e6764-7f95-43cf-94f0-cf806c241f1b"
      },
      "outputs": [
        {
          "name": "stdout",
          "output_type": "stream",
          "text": [
            "                   item_name category  similarity\n",
            "1230  OO 하** 소가죽 니트 3-WAY 부츠     패션슈즈    0.143520\n",
            "498             OO 스** 삭스 부츠     패션슈즈    0.133888\n",
            "134                  OO 니트부츠     패션슈즈    0.116190\n",
            "1138            OO 파** 니트 부츠     패션슈즈    0.106128\n",
            "460       OO 소가죽 스웨이드 울니트 부츠     패션슈즈    0.088472\n"
          ]
        }
      ],
      "source": [
        "# TF-IDF 콘텐츠 기반 추천 (TF-IDF + Cosine)\n",
        "tfidf = TfidfVectorizer(max_features=50000, ngram_range=(1,2), min_df=2, max_df=0.8)\n",
        "X_tfidf = tfidf.fit_transform(train_docs[\"clean_review\"])\n",
        "\n",
        "# 추천할 때 문자열(상품명)로 입력받고, 내부적으로는 벡터 인덱스 사용\n",
        "id2idx = {name:i for i,name in enumerate(train_docs[\"item_name\"])}\n",
        "idx2name = {i:name for name,i in id2idx.items()}\n",
        "\n",
        "def recommend_tfidf(item_name, topk=10):\n",
        "    \"\"\"TF-IDF 기반 콘텐츠 추천\"\"\"\n",
        "    if item_name not in id2idx:\n",
        "        return pd.DataFrame()\n",
        "    idx = id2idx[item_name] # 입력 아이템 인덱스\n",
        "    sims = cosine_similarity(X_tfidf[idx], X_tfidf).ravel() # 코사인 유사도\n",
        "    sims[idx] = -1\n",
        "    top_idx = sims.argsort()[::-1][:topk] # 상위 Top-k 유사 상품 인덱스\n",
        "    recs = train_docs.iloc[top_idx][[\"item_name\",\"category\"]].copy()\n",
        "    recs[\"similarity\"] = sims[top_idx] # 유사도 점수\n",
        "    return recs\n",
        "\n",
        "# \"소가죽 니트부츠\" 상품과 유사도가 가장 높은 상품 5개 추천\n",
        "print(recommend_tfidf(\"OO 3way 소가죽 니트부츠\", topk=5))\n",
        "\n",
        "\n"
      ]
    },
    {
      "cell_type": "markdown",
      "metadata": {
        "id": "O05r0K-DEWTt"
      },
      "source": [
        "### 2. 카테고리별 인기 상품 추천시스템"
      ]
    },
    {
      "cell_type": "markdown",
      "metadata": {
        "id": "ryIBuBf8F-1q"
      },
      "source": [
        "### `Q6. groupby함수을 사용해 train에서 카테고리별, 상품별 리뷰 개수를 집계하여 테이블을 만들어주세요.`"
      ]
    },
    {
      "cell_type": "code",
      "execution_count": null,
      "metadata": {
        "colab": {
          "base_uri": "https://localhost:8080/",
          "height": 206
        },
        "id": "hVNvOurQl4Q6",
        "outputId": "77ef302b-0f31-4514-fe46-120817270ede"
      },
      "outputs": [
        {
          "data": {
            "application/vnd.google.colaboratory.intrinsic+json": {
              "summary": "{\n  \"name\": \"popularity\",\n  \"rows\": 1270,\n  \"fields\": [\n    {\n      \"column\": \"category\",\n      \"properties\": {\n        \"dtype\": \"category\",\n        \"num_unique_values\": 3,\n        \"samples\": [\n          \"\\ub0a8\\uc131\\uc758\\ub958\",\n          \"\\uc5ec\\uc131\\uc758\\ub958\",\n          \"\\ud328\\uc158\\uc288\\uc988\"\n        ],\n        \"semantic_type\": \"\",\n        \"description\": \"\"\n      }\n    },\n    {\n      \"column\": \"item_name\",\n      \"properties\": {\n        \"dtype\": \"string\",\n        \"num_unique_values\": 1267,\n        \"samples\": [\n          \"OO \\uce74** \\uc5ec\\uc131 \\uc0cc\\ub4e4\",\n          \"OO \\uc2a4** \\ub808\\ub354 \\ubbf8\\ub2c8 \\ubd80\\uce20\",\n          \"OO \\ub85c\\uace0 \\ud37c \\ubca0\\uc2a4\\ud2b8\"\n        ],\n        \"semantic_type\": \"\",\n        \"description\": \"\"\n      }\n    },\n    {\n      \"column\": \"review_count\",\n      \"properties\": {\n        \"dtype\": \"number\",\n        \"std\": 2,\n        \"min\": 1,\n        \"max\": 15,\n        \"num_unique_values\": 15,\n        \"samples\": [\n          8,\n          14,\n          1\n        ],\n        \"semantic_type\": \"\",\n        \"description\": \"\"\n      }\n    }\n  ]\n}",
              "type": "dataframe",
              "variable_name": "popularity"
            },
            "text/html": [
              "\n",
              "  <div id=\"df-7dd51a6d-1cef-4092-81c7-00e0df7d96f3\" class=\"colab-df-container\">\n",
              "    <div>\n",
              "<style scoped>\n",
              "    .dataframe tbody tr th:only-of-type {\n",
              "        vertical-align: middle;\n",
              "    }\n",
              "\n",
              "    .dataframe tbody tr th {\n",
              "        vertical-align: top;\n",
              "    }\n",
              "\n",
              "    .dataframe thead th {\n",
              "        text-align: right;\n",
              "    }\n",
              "</style>\n",
              "<table border=\"1\" class=\"dataframe\">\n",
              "  <thead>\n",
              "    <tr style=\"text-align: right;\">\n",
              "      <th></th>\n",
              "      <th>category</th>\n",
              "      <th>item_name</th>\n",
              "      <th>review_count</th>\n",
              "    </tr>\n",
              "  </thead>\n",
              "  <tbody>\n",
              "    <tr>\n",
              "      <th>0</th>\n",
              "      <td>남성의류</td>\n",
              "      <td>OO 7부 마 셔츠</td>\n",
              "      <td>1</td>\n",
              "    </tr>\n",
              "    <tr>\n",
              "      <th>1</th>\n",
              "      <td>남성의류</td>\n",
              "      <td>OO 9부 코튼 린넨 밴딩 팬츠</td>\n",
              "      <td>1</td>\n",
              "    </tr>\n",
              "    <tr>\n",
              "      <th>2</th>\n",
              "      <td>남성의류</td>\n",
              "      <td>OO 경량 구스다운 하이넥베스트</td>\n",
              "      <td>3</td>\n",
              "    </tr>\n",
              "    <tr>\n",
              "      <th>3</th>\n",
              "      <td>남성의류</td>\n",
              "      <td>OO 경량다운 브이넥 베스트</td>\n",
              "      <td>1</td>\n",
              "    </tr>\n",
              "    <tr>\n",
              "      <th>4</th>\n",
              "      <td>남성의류</td>\n",
              "      <td>OO 경량다운 시** 베스트</td>\n",
              "      <td>6</td>\n",
              "    </tr>\n",
              "  </tbody>\n",
              "</table>\n",
              "</div>\n",
              "    <div class=\"colab-df-buttons\">\n",
              "\n",
              "  <div class=\"colab-df-container\">\n",
              "    <button class=\"colab-df-convert\" onclick=\"convertToInteractive('df-7dd51a6d-1cef-4092-81c7-00e0df7d96f3')\"\n",
              "            title=\"Convert this dataframe to an interactive table.\"\n",
              "            style=\"display:none;\">\n",
              "\n",
              "  <svg xmlns=\"http://www.w3.org/2000/svg\" height=\"24px\" viewBox=\"0 -960 960 960\">\n",
              "    <path d=\"M120-120v-720h720v720H120Zm60-500h600v-160H180v160Zm220 220h160v-160H400v160Zm0 220h160v-160H400v160ZM180-400h160v-160H180v160Zm440 0h160v-160H620v160ZM180-180h160v-160H180v160Zm440 0h160v-160H620v160Z\"/>\n",
              "  </svg>\n",
              "    </button>\n",
              "\n",
              "  <style>\n",
              "    .colab-df-container {\n",
              "      display:flex;\n",
              "      gap: 12px;\n",
              "    }\n",
              "\n",
              "    .colab-df-convert {\n",
              "      background-color: #E8F0FE;\n",
              "      border: none;\n",
              "      border-radius: 50%;\n",
              "      cursor: pointer;\n",
              "      display: none;\n",
              "      fill: #1967D2;\n",
              "      height: 32px;\n",
              "      padding: 0 0 0 0;\n",
              "      width: 32px;\n",
              "    }\n",
              "\n",
              "    .colab-df-convert:hover {\n",
              "      background-color: #E2EBFA;\n",
              "      box-shadow: 0px 1px 2px rgba(60, 64, 67, 0.3), 0px 1px 3px 1px rgba(60, 64, 67, 0.15);\n",
              "      fill: #174EA6;\n",
              "    }\n",
              "\n",
              "    .colab-df-buttons div {\n",
              "      margin-bottom: 4px;\n",
              "    }\n",
              "\n",
              "    [theme=dark] .colab-df-convert {\n",
              "      background-color: #3B4455;\n",
              "      fill: #D2E3FC;\n",
              "    }\n",
              "\n",
              "    [theme=dark] .colab-df-convert:hover {\n",
              "      background-color: #434B5C;\n",
              "      box-shadow: 0px 1px 3px 1px rgba(0, 0, 0, 0.15);\n",
              "      filter: drop-shadow(0px 1px 2px rgba(0, 0, 0, 0.3));\n",
              "      fill: #FFFFFF;\n",
              "    }\n",
              "  </style>\n",
              "\n",
              "    <script>\n",
              "      const buttonEl =\n",
              "        document.querySelector('#df-7dd51a6d-1cef-4092-81c7-00e0df7d96f3 button.colab-df-convert');\n",
              "      buttonEl.style.display =\n",
              "        google.colab.kernel.accessAllowed ? 'block' : 'none';\n",
              "\n",
              "      async function convertToInteractive(key) {\n",
              "        const element = document.querySelector('#df-7dd51a6d-1cef-4092-81c7-00e0df7d96f3');\n",
              "        const dataTable =\n",
              "          await google.colab.kernel.invokeFunction('convertToInteractive',\n",
              "                                                    [key], {});\n",
              "        if (!dataTable) return;\n",
              "\n",
              "        const docLinkHtml = 'Like what you see? Visit the ' +\n",
              "          '<a target=\"_blank\" href=https://colab.research.google.com/notebooks/data_table.ipynb>data table notebook</a>'\n",
              "          + ' to learn more about interactive tables.';\n",
              "        element.innerHTML = '';\n",
              "        dataTable['output_type'] = 'display_data';\n",
              "        await google.colab.output.renderOutput(dataTable, element);\n",
              "        const docLink = document.createElement('div');\n",
              "        docLink.innerHTML = docLinkHtml;\n",
              "        element.appendChild(docLink);\n",
              "      }\n",
              "    </script>\n",
              "  </div>\n",
              "\n",
              "\n",
              "    <div id=\"df-7add41af-baba-4787-9560-3213774f48bf\">\n",
              "      <button class=\"colab-df-quickchart\" onclick=\"quickchart('df-7add41af-baba-4787-9560-3213774f48bf')\"\n",
              "                title=\"Suggest charts\"\n",
              "                style=\"display:none;\">\n",
              "\n",
              "<svg xmlns=\"http://www.w3.org/2000/svg\" height=\"24px\"viewBox=\"0 0 24 24\"\n",
              "     width=\"24px\">\n",
              "    <g>\n",
              "        <path d=\"M19 3H5c-1.1 0-2 .9-2 2v14c0 1.1.9 2 2 2h14c1.1 0 2-.9 2-2V5c0-1.1-.9-2-2-2zM9 17H7v-7h2v7zm4 0h-2V7h2v10zm4 0h-2v-4h2v4z\"/>\n",
              "    </g>\n",
              "</svg>\n",
              "      </button>\n",
              "\n",
              "<style>\n",
              "  .colab-df-quickchart {\n",
              "      --bg-color: #E8F0FE;\n",
              "      --fill-color: #1967D2;\n",
              "      --hover-bg-color: #E2EBFA;\n",
              "      --hover-fill-color: #174EA6;\n",
              "      --disabled-fill-color: #AAA;\n",
              "      --disabled-bg-color: #DDD;\n",
              "  }\n",
              "\n",
              "  [theme=dark] .colab-df-quickchart {\n",
              "      --bg-color: #3B4455;\n",
              "      --fill-color: #D2E3FC;\n",
              "      --hover-bg-color: #434B5C;\n",
              "      --hover-fill-color: #FFFFFF;\n",
              "      --disabled-bg-color: #3B4455;\n",
              "      --disabled-fill-color: #666;\n",
              "  }\n",
              "\n",
              "  .colab-df-quickchart {\n",
              "    background-color: var(--bg-color);\n",
              "    border: none;\n",
              "    border-radius: 50%;\n",
              "    cursor: pointer;\n",
              "    display: none;\n",
              "    fill: var(--fill-color);\n",
              "    height: 32px;\n",
              "    padding: 0;\n",
              "    width: 32px;\n",
              "  }\n",
              "\n",
              "  .colab-df-quickchart:hover {\n",
              "    background-color: var(--hover-bg-color);\n",
              "    box-shadow: 0 1px 2px rgba(60, 64, 67, 0.3), 0 1px 3px 1px rgba(60, 64, 67, 0.15);\n",
              "    fill: var(--button-hover-fill-color);\n",
              "  }\n",
              "\n",
              "  .colab-df-quickchart-complete:disabled,\n",
              "  .colab-df-quickchart-complete:disabled:hover {\n",
              "    background-color: var(--disabled-bg-color);\n",
              "    fill: var(--disabled-fill-color);\n",
              "    box-shadow: none;\n",
              "  }\n",
              "\n",
              "  .colab-df-spinner {\n",
              "    border: 2px solid var(--fill-color);\n",
              "    border-color: transparent;\n",
              "    border-bottom-color: var(--fill-color);\n",
              "    animation:\n",
              "      spin 1s steps(1) infinite;\n",
              "  }\n",
              "\n",
              "  @keyframes spin {\n",
              "    0% {\n",
              "      border-color: transparent;\n",
              "      border-bottom-color: var(--fill-color);\n",
              "      border-left-color: var(--fill-color);\n",
              "    }\n",
              "    20% {\n",
              "      border-color: transparent;\n",
              "      border-left-color: var(--fill-color);\n",
              "      border-top-color: var(--fill-color);\n",
              "    }\n",
              "    30% {\n",
              "      border-color: transparent;\n",
              "      border-left-color: var(--fill-color);\n",
              "      border-top-color: var(--fill-color);\n",
              "      border-right-color: var(--fill-color);\n",
              "    }\n",
              "    40% {\n",
              "      border-color: transparent;\n",
              "      border-right-color: var(--fill-color);\n",
              "      border-top-color: var(--fill-color);\n",
              "    }\n",
              "    60% {\n",
              "      border-color: transparent;\n",
              "      border-right-color: var(--fill-color);\n",
              "    }\n",
              "    80% {\n",
              "      border-color: transparent;\n",
              "      border-right-color: var(--fill-color);\n",
              "      border-bottom-color: var(--fill-color);\n",
              "    }\n",
              "    90% {\n",
              "      border-color: transparent;\n",
              "      border-bottom-color: var(--fill-color);\n",
              "    }\n",
              "  }\n",
              "</style>\n",
              "\n",
              "      <script>\n",
              "        async function quickchart(key) {\n",
              "          const quickchartButtonEl =\n",
              "            document.querySelector('#' + key + ' button');\n",
              "          quickchartButtonEl.disabled = true;  // To prevent multiple clicks.\n",
              "          quickchartButtonEl.classList.add('colab-df-spinner');\n",
              "          try {\n",
              "            const charts = await google.colab.kernel.invokeFunction(\n",
              "                'suggestCharts', [key], {});\n",
              "          } catch (error) {\n",
              "            console.error('Error during call to suggestCharts:', error);\n",
              "          }\n",
              "          quickchartButtonEl.classList.remove('colab-df-spinner');\n",
              "          quickchartButtonEl.classList.add('colab-df-quickchart-complete');\n",
              "        }\n",
              "        (() => {\n",
              "          let quickchartButtonEl =\n",
              "            document.querySelector('#df-7add41af-baba-4787-9560-3213774f48bf button');\n",
              "          quickchartButtonEl.style.display =\n",
              "            google.colab.kernel.accessAllowed ? 'block' : 'none';\n",
              "        })();\n",
              "      </script>\n",
              "    </div>\n",
              "\n",
              "    </div>\n",
              "  </div>\n"
            ],
            "text/plain": [
              "  category          item_name  review_count\n",
              "0     남성의류         OO 7부 마 셔츠             1\n",
              "1     남성의류  OO 9부 코튼 린넨 밴딩 팬츠             1\n",
              "2     남성의류  OO 경량 구스다운 하이넥베스트             3\n",
              "3     남성의류    OO 경량다운 브이넥 베스트             1\n",
              "4     남성의류    OO 경량다운 시** 베스트             6"
            ]
          },
          "execution_count": 23,
          "metadata": {},
          "output_type": "execute_result"
        }
      ],
      "source": [
        "# 카테고리별 각 상품의 리뷰 개수 테이블 생성\n",
        "popularity = (train.groupby([\"category\",\"item_name\"])[\"category\"]\n",
        "              .count()\n",
        "              .reset_index(name=\"review_count\"))\n",
        "\n",
        "popularity.head()\n"
      ]
    },
    {
      "cell_type": "code",
      "execution_count": 24,
      "metadata": {
        "colab": {
          "base_uri": "https://localhost:8080/"
        },
        "id": "wcAsQMmTFIGh",
        "outputId": "bbeb79bd-796f-487f-f31f-e3f834b04753"
      },
      "outputs": [
        {
          "name": "stdout",
          "output_type": "stream",
          "text": [
            "남성의류 인기 Top-5:\n",
            "    category         item_name  review_count\n",
            "230     남성의류      OO 젠** 싱글 재킷            14\n",
            "163     남성의류        OO 싱글 울 코트            14\n",
            "209     남성의류         OO 울** 팬츠            12\n",
            "227     남성의류  OO 자** 카라 반팔 티셔츠            12\n",
            "60      남성의류      OO 레** 후드티셔츠            11\n",
            "여성의류 인기 Top-5:\n",
            "    category        item_name  review_count\n",
            "784     여성의류        OO 코튼 가디건            14\n",
            "351     여성의류      OO 경량 다운 자켓            14\n",
            "575     여성의류      OO 아** 구스코트            13\n",
            "498     여성의류   OO 브** 터틀넥 긴팔티            13\n",
            "830     여성의류  OO 폭스퍼 후드 구스 다운            12\n"
          ]
        }
      ],
      "source": [
        "# 카테고리별 Top-N 추천 함수\n",
        "def recommend_popular(category, topk=5):\n",
        "    sub = popularity[popularity[\"category\"] == category]\n",
        "    return sub.sort_values(\"review_count\", ascending=False).head(topk)\n",
        "\n",
        "print(\"남성의류 인기 Top-5:\")\n",
        "print(recommend_popular(\"남성의류\", topk=5))\n",
        "print(\"여성의류 인기 Top-5:\")\n",
        "print(recommend_popular(\"여성의류\", topk=5))"
      ]
    },
    {
      "cell_type": "markdown",
      "metadata": {
        "id": "lGTHnC24G5C4"
      },
      "source": [
        "### 3. Word2Vec 임베딩 기반 추천시스템"
      ]
    },
    {
      "cell_type": "code",
      "execution_count": 25,
      "metadata": {
        "colab": {
          "base_uri": "https://localhost:8080/",
          "height": 224
        },
        "id": "j47zSDtWl4TP",
        "outputId": "9f57edf6-3184-4f90-e1e1-8fedcb85b247"
      },
      "outputs": [
        {
          "name": "stdout",
          "output_type": "stream",
          "text": [
            "기준 상품: OO 소가죽 니트부츠\n"
          ]
        },
        {
          "data": {
            "application/vnd.google.colaboratory.intrinsic+json": {
              "summary": "{\n  \"name\": \"display(recommend_w2v(target_item, topk=5))\",\n  \"rows\": 5,\n  \"fields\": [\n    {\n      \"column\": \"item_name\",\n      \"properties\": {\n        \"dtype\": \"string\",\n        \"num_unique_values\": 5,\n        \"samples\": [\n          \"OO \\uc18c\\uac00\\uc8fd \\ub85c\\ud37c\",\n          \"OO \\ud504** \\uc18c\\uac00\\uc8fd \\uc2a4\\ub2c8\\ucee4\\uc988 (\\uc5ec\\uc131)\",\n          \"OO \\ubcfc** \\ucc9c\\uc5f0\\uc18c\\uac00\\uc8fd \\uae30\\ubaa8 \\uc5ec\\uc131 \\uc575\\ud074\\ubd80\\uce20\"\n        ],\n        \"semantic_type\": \"\",\n        \"description\": \"\"\n      }\n    },\n    {\n      \"column\": \"category\",\n      \"properties\": {\n        \"dtype\": \"category\",\n        \"num_unique_values\": 1,\n        \"samples\": [\n          \"\\ud328\\uc158\\uc288\\uc988\"\n        ],\n        \"semantic_type\": \"\",\n        \"description\": \"\"\n      }\n    },\n    {\n      \"column\": \"similarity\",\n      \"properties\": {\n        \"dtype\": \"float32\",\n        \"num_unique_values\": 5,\n        \"samples\": [\n          0.9653143882751465\n        ],\n        \"semantic_type\": \"\",\n        \"description\": \"\"\n      }\n    }\n  ]\n}",
              "type": "dataframe"
            },
            "text/html": [
              "\n",
              "  <div id=\"df-69709b56-8f17-4afa-b4cd-dfcea6f1282c\" class=\"colab-df-container\">\n",
              "    <div>\n",
              "<style scoped>\n",
              "    .dataframe tbody tr th:only-of-type {\n",
              "        vertical-align: middle;\n",
              "    }\n",
              "\n",
              "    .dataframe tbody tr th {\n",
              "        vertical-align: top;\n",
              "    }\n",
              "\n",
              "    .dataframe thead th {\n",
              "        text-align: right;\n",
              "    }\n",
              "</style>\n",
              "<table border=\"1\" class=\"dataframe\">\n",
              "  <thead>\n",
              "    <tr style=\"text-align: right;\">\n",
              "      <th></th>\n",
              "      <th>item_name</th>\n",
              "      <th>category</th>\n",
              "      <th>similarity</th>\n",
              "    </tr>\n",
              "  </thead>\n",
              "  <tbody>\n",
              "    <tr>\n",
              "      <th>0</th>\n",
              "      <td>OO 니트부츠</td>\n",
              "      <td>패션슈즈</td>\n",
              "      <td>0.971177</td>\n",
              "    </tr>\n",
              "    <tr>\n",
              "      <th>1</th>\n",
              "      <td>OO 소가죽 로퍼</td>\n",
              "      <td>패션슈즈</td>\n",
              "      <td>0.965314</td>\n",
              "    </tr>\n",
              "    <tr>\n",
              "      <th>2</th>\n",
              "      <td>OO 볼** 천연소가죽 기모 여성 앵클부츠</td>\n",
              "      <td>패션슈즈</td>\n",
              "      <td>0.965193</td>\n",
              "    </tr>\n",
              "    <tr>\n",
              "      <th>3</th>\n",
              "      <td>OO 스니커즈(여성)</td>\n",
              "      <td>패션슈즈</td>\n",
              "      <td>0.964685</td>\n",
              "    </tr>\n",
              "    <tr>\n",
              "      <th>4</th>\n",
              "      <td>OO 프** 소가죽 스니커즈 (여성)</td>\n",
              "      <td>패션슈즈</td>\n",
              "      <td>0.964501</td>\n",
              "    </tr>\n",
              "  </tbody>\n",
              "</table>\n",
              "</div>\n",
              "    <div class=\"colab-df-buttons\">\n",
              "\n",
              "  <div class=\"colab-df-container\">\n",
              "    <button class=\"colab-df-convert\" onclick=\"convertToInteractive('df-69709b56-8f17-4afa-b4cd-dfcea6f1282c')\"\n",
              "            title=\"Convert this dataframe to an interactive table.\"\n",
              "            style=\"display:none;\">\n",
              "\n",
              "  <svg xmlns=\"http://www.w3.org/2000/svg\" height=\"24px\" viewBox=\"0 -960 960 960\">\n",
              "    <path d=\"M120-120v-720h720v720H120Zm60-500h600v-160H180v160Zm220 220h160v-160H400v160Zm0 220h160v-160H400v160ZM180-400h160v-160H180v160Zm440 0h160v-160H620v160ZM180-180h160v-160H180v160Zm440 0h160v-160H620v160Z\"/>\n",
              "  </svg>\n",
              "    </button>\n",
              "\n",
              "  <style>\n",
              "    .colab-df-container {\n",
              "      display:flex;\n",
              "      gap: 12px;\n",
              "    }\n",
              "\n",
              "    .colab-df-convert {\n",
              "      background-color: #E8F0FE;\n",
              "      border: none;\n",
              "      border-radius: 50%;\n",
              "      cursor: pointer;\n",
              "      display: none;\n",
              "      fill: #1967D2;\n",
              "      height: 32px;\n",
              "      padding: 0 0 0 0;\n",
              "      width: 32px;\n",
              "    }\n",
              "\n",
              "    .colab-df-convert:hover {\n",
              "      background-color: #E2EBFA;\n",
              "      box-shadow: 0px 1px 2px rgba(60, 64, 67, 0.3), 0px 1px 3px 1px rgba(60, 64, 67, 0.15);\n",
              "      fill: #174EA6;\n",
              "    }\n",
              "\n",
              "    .colab-df-buttons div {\n",
              "      margin-bottom: 4px;\n",
              "    }\n",
              "\n",
              "    [theme=dark] .colab-df-convert {\n",
              "      background-color: #3B4455;\n",
              "      fill: #D2E3FC;\n",
              "    }\n",
              "\n",
              "    [theme=dark] .colab-df-convert:hover {\n",
              "      background-color: #434B5C;\n",
              "      box-shadow: 0px 1px 3px 1px rgba(0, 0, 0, 0.15);\n",
              "      filter: drop-shadow(0px 1px 2px rgba(0, 0, 0, 0.3));\n",
              "      fill: #FFFFFF;\n",
              "    }\n",
              "  </style>\n",
              "\n",
              "    <script>\n",
              "      const buttonEl =\n",
              "        document.querySelector('#df-69709b56-8f17-4afa-b4cd-dfcea6f1282c button.colab-df-convert');\n",
              "      buttonEl.style.display =\n",
              "        google.colab.kernel.accessAllowed ? 'block' : 'none';\n",
              "\n",
              "      async function convertToInteractive(key) {\n",
              "        const element = document.querySelector('#df-69709b56-8f17-4afa-b4cd-dfcea6f1282c');\n",
              "        const dataTable =\n",
              "          await google.colab.kernel.invokeFunction('convertToInteractive',\n",
              "                                                    [key], {});\n",
              "        if (!dataTable) return;\n",
              "\n",
              "        const docLinkHtml = 'Like what you see? Visit the ' +\n",
              "          '<a target=\"_blank\" href=https://colab.research.google.com/notebooks/data_table.ipynb>data table notebook</a>'\n",
              "          + ' to learn more about interactive tables.';\n",
              "        element.innerHTML = '';\n",
              "        dataTable['output_type'] = 'display_data';\n",
              "        await google.colab.output.renderOutput(dataTable, element);\n",
              "        const docLink = document.createElement('div');\n",
              "        docLink.innerHTML = docLinkHtml;\n",
              "        element.appendChild(docLink);\n",
              "      }\n",
              "    </script>\n",
              "  </div>\n",
              "\n",
              "\n",
              "    <div id=\"df-739962a0-3576-498f-bd4f-ff2dc6fc49bf\">\n",
              "      <button class=\"colab-df-quickchart\" onclick=\"quickchart('df-739962a0-3576-498f-bd4f-ff2dc6fc49bf')\"\n",
              "                title=\"Suggest charts\"\n",
              "                style=\"display:none;\">\n",
              "\n",
              "<svg xmlns=\"http://www.w3.org/2000/svg\" height=\"24px\"viewBox=\"0 0 24 24\"\n",
              "     width=\"24px\">\n",
              "    <g>\n",
              "        <path d=\"M19 3H5c-1.1 0-2 .9-2 2v14c0 1.1.9 2 2 2h14c1.1 0 2-.9 2-2V5c0-1.1-.9-2-2-2zM9 17H7v-7h2v7zm4 0h-2V7h2v10zm4 0h-2v-4h2v4z\"/>\n",
              "    </g>\n",
              "</svg>\n",
              "      </button>\n",
              "\n",
              "<style>\n",
              "  .colab-df-quickchart {\n",
              "      --bg-color: #E8F0FE;\n",
              "      --fill-color: #1967D2;\n",
              "      --hover-bg-color: #E2EBFA;\n",
              "      --hover-fill-color: #174EA6;\n",
              "      --disabled-fill-color: #AAA;\n",
              "      --disabled-bg-color: #DDD;\n",
              "  }\n",
              "\n",
              "  [theme=dark] .colab-df-quickchart {\n",
              "      --bg-color: #3B4455;\n",
              "      --fill-color: #D2E3FC;\n",
              "      --hover-bg-color: #434B5C;\n",
              "      --hover-fill-color: #FFFFFF;\n",
              "      --disabled-bg-color: #3B4455;\n",
              "      --disabled-fill-color: #666;\n",
              "  }\n",
              "\n",
              "  .colab-df-quickchart {\n",
              "    background-color: var(--bg-color);\n",
              "    border: none;\n",
              "    border-radius: 50%;\n",
              "    cursor: pointer;\n",
              "    display: none;\n",
              "    fill: var(--fill-color);\n",
              "    height: 32px;\n",
              "    padding: 0;\n",
              "    width: 32px;\n",
              "  }\n",
              "\n",
              "  .colab-df-quickchart:hover {\n",
              "    background-color: var(--hover-bg-color);\n",
              "    box-shadow: 0 1px 2px rgba(60, 64, 67, 0.3), 0 1px 3px 1px rgba(60, 64, 67, 0.15);\n",
              "    fill: var(--button-hover-fill-color);\n",
              "  }\n",
              "\n",
              "  .colab-df-quickchart-complete:disabled,\n",
              "  .colab-df-quickchart-complete:disabled:hover {\n",
              "    background-color: var(--disabled-bg-color);\n",
              "    fill: var(--disabled-fill-color);\n",
              "    box-shadow: none;\n",
              "  }\n",
              "\n",
              "  .colab-df-spinner {\n",
              "    border: 2px solid var(--fill-color);\n",
              "    border-color: transparent;\n",
              "    border-bottom-color: var(--fill-color);\n",
              "    animation:\n",
              "      spin 1s steps(1) infinite;\n",
              "  }\n",
              "\n",
              "  @keyframes spin {\n",
              "    0% {\n",
              "      border-color: transparent;\n",
              "      border-bottom-color: var(--fill-color);\n",
              "      border-left-color: var(--fill-color);\n",
              "    }\n",
              "    20% {\n",
              "      border-color: transparent;\n",
              "      border-left-color: var(--fill-color);\n",
              "      border-top-color: var(--fill-color);\n",
              "    }\n",
              "    30% {\n",
              "      border-color: transparent;\n",
              "      border-left-color: var(--fill-color);\n",
              "      border-top-color: var(--fill-color);\n",
              "      border-right-color: var(--fill-color);\n",
              "    }\n",
              "    40% {\n",
              "      border-color: transparent;\n",
              "      border-right-color: var(--fill-color);\n",
              "      border-top-color: var(--fill-color);\n",
              "    }\n",
              "    60% {\n",
              "      border-color: transparent;\n",
              "      border-right-color: var(--fill-color);\n",
              "    }\n",
              "    80% {\n",
              "      border-color: transparent;\n",
              "      border-right-color: var(--fill-color);\n",
              "      border-bottom-color: var(--fill-color);\n",
              "    }\n",
              "    90% {\n",
              "      border-color: transparent;\n",
              "      border-bottom-color: var(--fill-color);\n",
              "    }\n",
              "  }\n",
              "</style>\n",
              "\n",
              "      <script>\n",
              "        async function quickchart(key) {\n",
              "          const quickchartButtonEl =\n",
              "            document.querySelector('#' + key + ' button');\n",
              "          quickchartButtonEl.disabled = true;  // To prevent multiple clicks.\n",
              "          quickchartButtonEl.classList.add('colab-df-spinner');\n",
              "          try {\n",
              "            const charts = await google.colab.kernel.invokeFunction(\n",
              "                'suggestCharts', [key], {});\n",
              "          } catch (error) {\n",
              "            console.error('Error during call to suggestCharts:', error);\n",
              "          }\n",
              "          quickchartButtonEl.classList.remove('colab-df-spinner');\n",
              "          quickchartButtonEl.classList.add('colab-df-quickchart-complete');\n",
              "        }\n",
              "        (() => {\n",
              "          let quickchartButtonEl =\n",
              "            document.querySelector('#df-739962a0-3576-498f-bd4f-ff2dc6fc49bf button');\n",
              "          quickchartButtonEl.style.display =\n",
              "            google.colab.kernel.accessAllowed ? 'block' : 'none';\n",
              "        })();\n",
              "      </script>\n",
              "    </div>\n",
              "\n",
              "    </div>\n",
              "  </div>\n"
            ],
            "text/plain": [
              "                 item_name category  similarity\n",
              "0                  OO 니트부츠     패션슈즈    0.971177\n",
              "1                OO 소가죽 로퍼     패션슈즈    0.965314\n",
              "2  OO 볼** 천연소가죽 기모 여성 앵클부츠     패션슈즈    0.965193\n",
              "3              OO 스니커즈(여성)     패션슈즈    0.964685\n",
              "4     OO 프** 소가죽 스니커즈 (여성)     패션슈즈    0.964501"
            ]
          },
          "metadata": {},
          "output_type": "display_data"
        }
      ],
      "source": [
        "# 리뷰 토큰화 & Word2Vec 학습\n",
        "sentences = train[\"clean_review\"].dropna().astype(str).apply(lambda x: x.split()).tolist()\n",
        "w2v = Word2Vec(sentences, vector_size=100, window=5, min_count=5, sg=1, epochs=20)\n",
        "\n",
        "# 상품별 리뷰 임베딩 만들기\n",
        "item_vecs = {}\n",
        "for item, group in train.groupby(\"item_name\"):\n",
        "    tokens = \" \".join(group[\"clean_review\"].dropna().astype(str)).split()\n",
        "    vecs = [w2v.wv[w] for w in tokens if w in w2v.wv]\n",
        "    if vecs:\n",
        "        item_vecs[item] = np.mean(vecs, axis=0)\n",
        "\n",
        "# item 리스트 & 행렬 구성\n",
        "items = list(item_vecs.keys())\n",
        "matrix = np.vstack([item_vecs[it] for it in items])\n",
        "\n",
        "# 추천 함수 정의\n",
        "def recommend_w2v(item_name, topk=5):\n",
        "    if item_name not in items: return ['No data']\n",
        "    idx = items.index(item_name)\n",
        "    sims = cosine_similarity([matrix[idx]], matrix).ravel()\n",
        "    sims[idx] = -1  # 자기 자신 제외\n",
        "    top_idx = sims.argsort()[::-1][:topk]\n",
        "\n",
        "    recs = pd.DataFrame({\n",
        "        \"item_name\": [items[i] for i in top_idx],\n",
        "        \"category\": [train_docs.set_index(\"item_name\").loc[items[i], \"category\"] for i in top_idx],\n",
        "        \"similarity\": [sims[i] for i in top_idx]\n",
        "    })\n",
        "    return recs\n",
        "\n",
        "\n",
        "target_item = \"OO 소가죽 니트부츠\"   # 추천 받을 상품명 입력\n",
        "print(\"기준 상품:\", target_item)\n",
        "display(recommend_w2v(target_item, topk=5))"
      ]
    },
    {
      "cell_type": "markdown",
      "metadata": {
        "id": "eN_ANq7bPAlR"
      },
      "source": [
        "## 3가지 추천시스템 비교, 분석\n",
        "앞서 우리가 구현한 3가지 (콘텐츠 기반 / 카테고리 인기 / Word2Vec) 추천 결과 테이블을 생성해보겠습니다."
      ]
    },
    {
      "cell_type": "code",
      "execution_count": 26,
      "metadata": {
        "id": "mSORbEj_Ob2p"
      },
      "outputs": [],
      "source": [
        "def compare_recommendations(item_name, topk=5):\n",
        "    results = []\n",
        "\n",
        "    # 1. TF-IDF 콘텐츠 기반 추천\n",
        "    tfidf_recs = recommend_tfidf(item_name, topk=topk)\n",
        "    if isinstance(tfidf_recs, pd.DataFrame) and not tfidf_recs.empty:\n",
        "        for _, row in tfidf_recs.iterrows():\n",
        "            results.append({\n",
        "                \"기준 상품\": item_name,\n",
        "                \"추천 방식\": \"콘텐츠 기반 (TF-IDF)\",\n",
        "                \"추천 상품\": row[\"item_name\"],\n",
        "                \"카테고리\": row[\"category\"],\n",
        "                \"점수/유사도\": row[\"similarity\"]\n",
        "            })\n",
        "\n",
        "    # 2. 카테고리별 인기 상품 추천\n",
        "    if item_name in train_docs[\"item_name\"].values:\n",
        "        category = train_docs.loc[train_docs[\"item_name\"]==item_name, \"category\"].iloc[0]\n",
        "        popular_recs = recommend_popular(category, topk=topk)\n",
        "        if isinstance(popular_recs, pd.DataFrame) and not popular_recs.empty:\n",
        "            for _, row in popular_recs.iterrows():\n",
        "                results.append({\n",
        "                    \"기준 상품\": item_name,\n",
        "                    \"추천 방식\": f\"카테고리 인기 (category={category})\",\n",
        "                    \"추천 상품\": row[\"item_name\"],\n",
        "                    \"카테고리\": row[\"category\"],\n",
        "                    \"점수/유사도\": row[\"review_count\"]\n",
        "                })\n",
        "\n",
        "    # 3. Word2Vec 임베딩 기반 추천\n",
        "    w2v_recs = recommend_w2v(item_name, topk=topk)\n",
        "    if isinstance(w2v_recs, pd.DataFrame) and not w2v_recs.empty:\n",
        "        for _, row in w2v_recs.iterrows():\n",
        "            results.append({\n",
        "                \"기준 상품\": item_name,\n",
        "                \"추천 방식\": \"Word2Vec 임베딩\",\n",
        "                \"추천 상품\": row[\"item_name\"],\n",
        "                \"카테고리\": row[\"category\"],\n",
        "                \"점수/유사도\": row[\"similarity\"]\n",
        "            })\n",
        "\n",
        "    return pd.DataFrame(results)\n"
      ]
    },
    {
      "cell_type": "code",
      "execution_count": 27,
      "metadata": {
        "colab": {
          "base_uri": "https://localhost:8080/",
          "height": 520
        },
        "id": "YJwMWlQIPc-D",
        "outputId": "98285edd-5133-4596-eecb-32d283a23a68"
      },
      "outputs": [
        {
          "data": {
            "application/vnd.google.colaboratory.intrinsic+json": {
              "summary": "{\n  \"name\": \"compare_table\",\n  \"rows\": 15,\n  \"fields\": [\n    {\n      \"column\": \"\\uae30\\uc900 \\uc0c1\\ud488\",\n      \"properties\": {\n        \"dtype\": \"category\",\n        \"num_unique_values\": 1,\n        \"samples\": [\n          \"OO \\uc18c\\uac00\\uc8fd \\ub2c8\\ud2b8\\ubd80\\uce20\"\n        ],\n        \"semantic_type\": \"\",\n        \"description\": \"\"\n      }\n    },\n    {\n      \"column\": \"\\ucd94\\ucc9c \\ubc29\\uc2dd\",\n      \"properties\": {\n        \"dtype\": \"category\",\n        \"num_unique_values\": 3,\n        \"samples\": [\n          \"\\ucf58\\ud150\\uce20 \\uae30\\ubc18 (TF-IDF)\"\n        ],\n        \"semantic_type\": \"\",\n        \"description\": \"\"\n      }\n    },\n    {\n      \"column\": \"\\ucd94\\ucc9c \\uc0c1\\ud488\",\n      \"properties\": {\n        \"dtype\": \"string\",\n        \"num_unique_values\": 11,\n        \"samples\": [\n          \"OO \\uc5ec\\uc131 \\uc18c\\uac00\\uc8fd \\ub2e4\\uc774\\uc5bc \\uc2a4\\ub2c8\\ucee4\\uc988\"\n        ],\n        \"semantic_type\": \"\",\n        \"description\": \"\"\n      }\n    },\n    {\n      \"column\": \"\\uce74\\ud14c\\uace0\\ub9ac\",\n      \"properties\": {\n        \"dtype\": \"category\",\n        \"num_unique_values\": 1,\n        \"samples\": [\n          \"\\ud328\\uc158\\uc288\\uc988\"\n        ],\n        \"semantic_type\": \"\",\n        \"description\": \"\"\n      }\n    },\n    {\n      \"column\": \"\\uc810\\uc218/\\uc720\\uc0ac\\ub3c4\",\n      \"properties\": {\n        \"dtype\": \"number\",\n        \"std\": 6.774806398298973,\n        \"min\": 0.14998151027289391,\n        \"max\": 15.0,\n        \"num_unique_values\": 13,\n        \"samples\": [\n          0.9646849632263184\n        ],\n        \"semantic_type\": \"\",\n        \"description\": \"\"\n      }\n    }\n  ]\n}",
              "type": "dataframe",
              "variable_name": "compare_table"
            },
            "text/html": [
              "\n",
              "  <div id=\"df-b5b6dba6-c1b6-47ef-a10f-88042fa3325f\" class=\"colab-df-container\">\n",
              "    <div>\n",
              "<style scoped>\n",
              "    .dataframe tbody tr th:only-of-type {\n",
              "        vertical-align: middle;\n",
              "    }\n",
              "\n",
              "    .dataframe tbody tr th {\n",
              "        vertical-align: top;\n",
              "    }\n",
              "\n",
              "    .dataframe thead th {\n",
              "        text-align: right;\n",
              "    }\n",
              "</style>\n",
              "<table border=\"1\" class=\"dataframe\">\n",
              "  <thead>\n",
              "    <tr style=\"text-align: right;\">\n",
              "      <th></th>\n",
              "      <th>기준 상품</th>\n",
              "      <th>추천 방식</th>\n",
              "      <th>추천 상품</th>\n",
              "      <th>카테고리</th>\n",
              "      <th>점수/유사도</th>\n",
              "    </tr>\n",
              "  </thead>\n",
              "  <tbody>\n",
              "    <tr>\n",
              "      <th>0</th>\n",
              "      <td>OO 소가죽 니트부츠</td>\n",
              "      <td>콘텐츠 기반 (TF-IDF)</td>\n",
              "      <td>OO 소가죽 로퍼</td>\n",
              "      <td>패션슈즈</td>\n",
              "      <td>0.195588</td>\n",
              "    </tr>\n",
              "    <tr>\n",
              "      <th>1</th>\n",
              "      <td>OO 소가죽 니트부츠</td>\n",
              "      <td>콘텐츠 기반 (TF-IDF)</td>\n",
              "      <td>OO 소가죽 컴포트 부츠(남성)</td>\n",
              "      <td>패션슈즈</td>\n",
              "      <td>0.177288</td>\n",
              "    </tr>\n",
              "    <tr>\n",
              "      <th>2</th>\n",
              "      <td>OO 소가죽 니트부츠</td>\n",
              "      <td>콘텐츠 기반 (TF-IDF)</td>\n",
              "      <td>OO 니트부츠</td>\n",
              "      <td>패션슈즈</td>\n",
              "      <td>0.170999</td>\n",
              "    </tr>\n",
              "    <tr>\n",
              "      <th>3</th>\n",
              "      <td>OO 소가죽 니트부츠</td>\n",
              "      <td>콘텐츠 기반 (TF-IDF)</td>\n",
              "      <td>OO 여성 소가죽 샌들</td>\n",
              "      <td>패션슈즈</td>\n",
              "      <td>0.151509</td>\n",
              "    </tr>\n",
              "    <tr>\n",
              "      <th>4</th>\n",
              "      <td>OO 소가죽 니트부츠</td>\n",
              "      <td>콘텐츠 기반 (TF-IDF)</td>\n",
              "      <td>OO 프** 소가죽 스니커즈 (여성)</td>\n",
              "      <td>패션슈즈</td>\n",
              "      <td>0.149982</td>\n",
              "    </tr>\n",
              "    <tr>\n",
              "      <th>5</th>\n",
              "      <td>OO 소가죽 니트부츠</td>\n",
              "      <td>카테고리 인기 (category=패션슈즈)</td>\n",
              "      <td>OO 여성 소가죽 다이얼 스니커즈</td>\n",
              "      <td>패션슈즈</td>\n",
              "      <td>15.000000</td>\n",
              "    </tr>\n",
              "    <tr>\n",
              "      <th>6</th>\n",
              "      <td>OO 소가죽 니트부츠</td>\n",
              "      <td>카테고리 인기 (category=패션슈즈)</td>\n",
              "      <td>OO 오** 메리제인 구두</td>\n",
              "      <td>패션슈즈</td>\n",
              "      <td>15.000000</td>\n",
              "    </tr>\n",
              "    <tr>\n",
              "      <th>7</th>\n",
              "      <td>OO 소가죽 니트부츠</td>\n",
              "      <td>카테고리 인기 (category=패션슈즈)</td>\n",
              "      <td>OO 클** 부츠</td>\n",
              "      <td>패션슈즈</td>\n",
              "      <td>15.000000</td>\n",
              "    </tr>\n",
              "    <tr>\n",
              "      <th>8</th>\n",
              "      <td>OO 소가죽 니트부츠</td>\n",
              "      <td>카테고리 인기 (category=패션슈즈)</td>\n",
              "      <td>OO 여성 소가죽 샌들</td>\n",
              "      <td>패션슈즈</td>\n",
              "      <td>14.000000</td>\n",
              "    </tr>\n",
              "    <tr>\n",
              "      <th>9</th>\n",
              "      <td>OO 소가죽 니트부츠</td>\n",
              "      <td>카테고리 인기 (category=패션슈즈)</td>\n",
              "      <td>OO 모** 삭스 앵클부츠</td>\n",
              "      <td>패션슈즈</td>\n",
              "      <td>13.000000</td>\n",
              "    </tr>\n",
              "    <tr>\n",
              "      <th>10</th>\n",
              "      <td>OO 소가죽 니트부츠</td>\n",
              "      <td>Word2Vec 임베딩</td>\n",
              "      <td>OO 니트부츠</td>\n",
              "      <td>패션슈즈</td>\n",
              "      <td>0.971177</td>\n",
              "    </tr>\n",
              "    <tr>\n",
              "      <th>11</th>\n",
              "      <td>OO 소가죽 니트부츠</td>\n",
              "      <td>Word2Vec 임베딩</td>\n",
              "      <td>OO 소가죽 로퍼</td>\n",
              "      <td>패션슈즈</td>\n",
              "      <td>0.965314</td>\n",
              "    </tr>\n",
              "    <tr>\n",
              "      <th>12</th>\n",
              "      <td>OO 소가죽 니트부츠</td>\n",
              "      <td>Word2Vec 임베딩</td>\n",
              "      <td>OO 볼** 천연소가죽 기모 여성 앵클부츠</td>\n",
              "      <td>패션슈즈</td>\n",
              "      <td>0.965193</td>\n",
              "    </tr>\n",
              "    <tr>\n",
              "      <th>13</th>\n",
              "      <td>OO 소가죽 니트부츠</td>\n",
              "      <td>Word2Vec 임베딩</td>\n",
              "      <td>OO 스니커즈(여성)</td>\n",
              "      <td>패션슈즈</td>\n",
              "      <td>0.964685</td>\n",
              "    </tr>\n",
              "    <tr>\n",
              "      <th>14</th>\n",
              "      <td>OO 소가죽 니트부츠</td>\n",
              "      <td>Word2Vec 임베딩</td>\n",
              "      <td>OO 프** 소가죽 스니커즈 (여성)</td>\n",
              "      <td>패션슈즈</td>\n",
              "      <td>0.964501</td>\n",
              "    </tr>\n",
              "  </tbody>\n",
              "</table>\n",
              "</div>\n",
              "    <div class=\"colab-df-buttons\">\n",
              "\n",
              "  <div class=\"colab-df-container\">\n",
              "    <button class=\"colab-df-convert\" onclick=\"convertToInteractive('df-b5b6dba6-c1b6-47ef-a10f-88042fa3325f')\"\n",
              "            title=\"Convert this dataframe to an interactive table.\"\n",
              "            style=\"display:none;\">\n",
              "\n",
              "  <svg xmlns=\"http://www.w3.org/2000/svg\" height=\"24px\" viewBox=\"0 -960 960 960\">\n",
              "    <path d=\"M120-120v-720h720v720H120Zm60-500h600v-160H180v160Zm220 220h160v-160H400v160Zm0 220h160v-160H400v160ZM180-400h160v-160H180v160Zm440 0h160v-160H620v160ZM180-180h160v-160H180v160Zm440 0h160v-160H620v160Z\"/>\n",
              "  </svg>\n",
              "    </button>\n",
              "\n",
              "  <style>\n",
              "    .colab-df-container {\n",
              "      display:flex;\n",
              "      gap: 12px;\n",
              "    }\n",
              "\n",
              "    .colab-df-convert {\n",
              "      background-color: #E8F0FE;\n",
              "      border: none;\n",
              "      border-radius: 50%;\n",
              "      cursor: pointer;\n",
              "      display: none;\n",
              "      fill: #1967D2;\n",
              "      height: 32px;\n",
              "      padding: 0 0 0 0;\n",
              "      width: 32px;\n",
              "    }\n",
              "\n",
              "    .colab-df-convert:hover {\n",
              "      background-color: #E2EBFA;\n",
              "      box-shadow: 0px 1px 2px rgba(60, 64, 67, 0.3), 0px 1px 3px 1px rgba(60, 64, 67, 0.15);\n",
              "      fill: #174EA6;\n",
              "    }\n",
              "\n",
              "    .colab-df-buttons div {\n",
              "      margin-bottom: 4px;\n",
              "    }\n",
              "\n",
              "    [theme=dark] .colab-df-convert {\n",
              "      background-color: #3B4455;\n",
              "      fill: #D2E3FC;\n",
              "    }\n",
              "\n",
              "    [theme=dark] .colab-df-convert:hover {\n",
              "      background-color: #434B5C;\n",
              "      box-shadow: 0px 1px 3px 1px rgba(0, 0, 0, 0.15);\n",
              "      filter: drop-shadow(0px 1px 2px rgba(0, 0, 0, 0.3));\n",
              "      fill: #FFFFFF;\n",
              "    }\n",
              "  </style>\n",
              "\n",
              "    <script>\n",
              "      const buttonEl =\n",
              "        document.querySelector('#df-b5b6dba6-c1b6-47ef-a10f-88042fa3325f button.colab-df-convert');\n",
              "      buttonEl.style.display =\n",
              "        google.colab.kernel.accessAllowed ? 'block' : 'none';\n",
              "\n",
              "      async function convertToInteractive(key) {\n",
              "        const element = document.querySelector('#df-b5b6dba6-c1b6-47ef-a10f-88042fa3325f');\n",
              "        const dataTable =\n",
              "          await google.colab.kernel.invokeFunction('convertToInteractive',\n",
              "                                                    [key], {});\n",
              "        if (!dataTable) return;\n",
              "\n",
              "        const docLinkHtml = 'Like what you see? Visit the ' +\n",
              "          '<a target=\"_blank\" href=https://colab.research.google.com/notebooks/data_table.ipynb>data table notebook</a>'\n",
              "          + ' to learn more about interactive tables.';\n",
              "        element.innerHTML = '';\n",
              "        dataTable['output_type'] = 'display_data';\n",
              "        await google.colab.output.renderOutput(dataTable, element);\n",
              "        const docLink = document.createElement('div');\n",
              "        docLink.innerHTML = docLinkHtml;\n",
              "        element.appendChild(docLink);\n",
              "      }\n",
              "    </script>\n",
              "  </div>\n",
              "\n",
              "\n",
              "    <div id=\"df-9bf0b81a-6427-41b0-976a-0dbc45d35292\">\n",
              "      <button class=\"colab-df-quickchart\" onclick=\"quickchart('df-9bf0b81a-6427-41b0-976a-0dbc45d35292')\"\n",
              "                title=\"Suggest charts\"\n",
              "                style=\"display:none;\">\n",
              "\n",
              "<svg xmlns=\"http://www.w3.org/2000/svg\" height=\"24px\"viewBox=\"0 0 24 24\"\n",
              "     width=\"24px\">\n",
              "    <g>\n",
              "        <path d=\"M19 3H5c-1.1 0-2 .9-2 2v14c0 1.1.9 2 2 2h14c1.1 0 2-.9 2-2V5c0-1.1-.9-2-2-2zM9 17H7v-7h2v7zm4 0h-2V7h2v10zm4 0h-2v-4h2v4z\"/>\n",
              "    </g>\n",
              "</svg>\n",
              "      </button>\n",
              "\n",
              "<style>\n",
              "  .colab-df-quickchart {\n",
              "      --bg-color: #E8F0FE;\n",
              "      --fill-color: #1967D2;\n",
              "      --hover-bg-color: #E2EBFA;\n",
              "      --hover-fill-color: #174EA6;\n",
              "      --disabled-fill-color: #AAA;\n",
              "      --disabled-bg-color: #DDD;\n",
              "  }\n",
              "\n",
              "  [theme=dark] .colab-df-quickchart {\n",
              "      --bg-color: #3B4455;\n",
              "      --fill-color: #D2E3FC;\n",
              "      --hover-bg-color: #434B5C;\n",
              "      --hover-fill-color: #FFFFFF;\n",
              "      --disabled-bg-color: #3B4455;\n",
              "      --disabled-fill-color: #666;\n",
              "  }\n",
              "\n",
              "  .colab-df-quickchart {\n",
              "    background-color: var(--bg-color);\n",
              "    border: none;\n",
              "    border-radius: 50%;\n",
              "    cursor: pointer;\n",
              "    display: none;\n",
              "    fill: var(--fill-color);\n",
              "    height: 32px;\n",
              "    padding: 0;\n",
              "    width: 32px;\n",
              "  }\n",
              "\n",
              "  .colab-df-quickchart:hover {\n",
              "    background-color: var(--hover-bg-color);\n",
              "    box-shadow: 0 1px 2px rgba(60, 64, 67, 0.3), 0 1px 3px 1px rgba(60, 64, 67, 0.15);\n",
              "    fill: var(--button-hover-fill-color);\n",
              "  }\n",
              "\n",
              "  .colab-df-quickchart-complete:disabled,\n",
              "  .colab-df-quickchart-complete:disabled:hover {\n",
              "    background-color: var(--disabled-bg-color);\n",
              "    fill: var(--disabled-fill-color);\n",
              "    box-shadow: none;\n",
              "  }\n",
              "\n",
              "  .colab-df-spinner {\n",
              "    border: 2px solid var(--fill-color);\n",
              "    border-color: transparent;\n",
              "    border-bottom-color: var(--fill-color);\n",
              "    animation:\n",
              "      spin 1s steps(1) infinite;\n",
              "  }\n",
              "\n",
              "  @keyframes spin {\n",
              "    0% {\n",
              "      border-color: transparent;\n",
              "      border-bottom-color: var(--fill-color);\n",
              "      border-left-color: var(--fill-color);\n",
              "    }\n",
              "    20% {\n",
              "      border-color: transparent;\n",
              "      border-left-color: var(--fill-color);\n",
              "      border-top-color: var(--fill-color);\n",
              "    }\n",
              "    30% {\n",
              "      border-color: transparent;\n",
              "      border-left-color: var(--fill-color);\n",
              "      border-top-color: var(--fill-color);\n",
              "      border-right-color: var(--fill-color);\n",
              "    }\n",
              "    40% {\n",
              "      border-color: transparent;\n",
              "      border-right-color: var(--fill-color);\n",
              "      border-top-color: var(--fill-color);\n",
              "    }\n",
              "    60% {\n",
              "      border-color: transparent;\n",
              "      border-right-color: var(--fill-color);\n",
              "    }\n",
              "    80% {\n",
              "      border-color: transparent;\n",
              "      border-right-color: var(--fill-color);\n",
              "      border-bottom-color: var(--fill-color);\n",
              "    }\n",
              "    90% {\n",
              "      border-color: transparent;\n",
              "      border-bottom-color: var(--fill-color);\n",
              "    }\n",
              "  }\n",
              "</style>\n",
              "\n",
              "      <script>\n",
              "        async function quickchart(key) {\n",
              "          const quickchartButtonEl =\n",
              "            document.querySelector('#' + key + ' button');\n",
              "          quickchartButtonEl.disabled = true;  // To prevent multiple clicks.\n",
              "          quickchartButtonEl.classList.add('colab-df-spinner');\n",
              "          try {\n",
              "            const charts = await google.colab.kernel.invokeFunction(\n",
              "                'suggestCharts', [key], {});\n",
              "          } catch (error) {\n",
              "            console.error('Error during call to suggestCharts:', error);\n",
              "          }\n",
              "          quickchartButtonEl.classList.remove('colab-df-spinner');\n",
              "          quickchartButtonEl.classList.add('colab-df-quickchart-complete');\n",
              "        }\n",
              "        (() => {\n",
              "          let quickchartButtonEl =\n",
              "            document.querySelector('#df-9bf0b81a-6427-41b0-976a-0dbc45d35292 button');\n",
              "          quickchartButtonEl.style.display =\n",
              "            google.colab.kernel.accessAllowed ? 'block' : 'none';\n",
              "        })();\n",
              "      </script>\n",
              "    </div>\n",
              "\n",
              "  <div id=\"id_61b0d7bf-2508-447f-b850-44c31eabb907\">\n",
              "    <style>\n",
              "      .colab-df-generate {\n",
              "        background-color: #E8F0FE;\n",
              "        border: none;\n",
              "        border-radius: 50%;\n",
              "        cursor: pointer;\n",
              "        display: none;\n",
              "        fill: #1967D2;\n",
              "        height: 32px;\n",
              "        padding: 0 0 0 0;\n",
              "        width: 32px;\n",
              "      }\n",
              "\n",
              "      .colab-df-generate:hover {\n",
              "        background-color: #E2EBFA;\n",
              "        box-shadow: 0px 1px 2px rgba(60, 64, 67, 0.3), 0px 1px 3px 1px rgba(60, 64, 67, 0.15);\n",
              "        fill: #174EA6;\n",
              "      }\n",
              "\n",
              "      [theme=dark] .colab-df-generate {\n",
              "        background-color: #3B4455;\n",
              "        fill: #D2E3FC;\n",
              "      }\n",
              "\n",
              "      [theme=dark] .colab-df-generate:hover {\n",
              "        background-color: #434B5C;\n",
              "        box-shadow: 0px 1px 3px 1px rgba(0, 0, 0, 0.15);\n",
              "        filter: drop-shadow(0px 1px 2px rgba(0, 0, 0, 0.3));\n",
              "        fill: #FFFFFF;\n",
              "      }\n",
              "    </style>\n",
              "    <button class=\"colab-df-generate\" onclick=\"generateWithVariable('compare_table')\"\n",
              "            title=\"Generate code using this dataframe.\"\n",
              "            style=\"display:none;\">\n",
              "\n",
              "  <svg xmlns=\"http://www.w3.org/2000/svg\" height=\"24px\"viewBox=\"0 0 24 24\"\n",
              "       width=\"24px\">\n",
              "    <path d=\"M7,19H8.4L18.45,9,17,7.55,7,17.6ZM5,21V16.75L18.45,3.32a2,2,0,0,1,2.83,0l1.4,1.43a1.91,1.91,0,0,1,.58,1.4,1.91,1.91,0,0,1-.58,1.4L9.25,21ZM18.45,9,17,7.55Zm-12,3A5.31,5.31,0,0,0,4.9,8.1,5.31,5.31,0,0,0,1,6.5,5.31,5.31,0,0,0,4.9,4.9,5.31,5.31,0,0,0,6.5,1,5.31,5.31,0,0,0,8.1,4.9,5.31,5.31,0,0,0,12,6.5,5.46,5.46,0,0,0,6.5,12Z\"/>\n",
              "  </svg>\n",
              "    </button>\n",
              "    <script>\n",
              "      (() => {\n",
              "      const buttonEl =\n",
              "        document.querySelector('#id_61b0d7bf-2508-447f-b850-44c31eabb907 button.colab-df-generate');\n",
              "      buttonEl.style.display =\n",
              "        google.colab.kernel.accessAllowed ? 'block' : 'none';\n",
              "\n",
              "      buttonEl.onclick = () => {\n",
              "        google.colab.notebook.generateWithVariable('compare_table');\n",
              "      }\n",
              "      })();\n",
              "    </script>\n",
              "  </div>\n",
              "\n",
              "    </div>\n",
              "  </div>\n"
            ],
            "text/plain": [
              "          기준 상품                    추천 방식                    추천 상품  카테고리  \\\n",
              "0   OO 소가죽 니트부츠          콘텐츠 기반 (TF-IDF)                OO 소가죽 로퍼  패션슈즈   \n",
              "1   OO 소가죽 니트부츠          콘텐츠 기반 (TF-IDF)        OO 소가죽 컴포트 부츠(남성)  패션슈즈   \n",
              "2   OO 소가죽 니트부츠          콘텐츠 기반 (TF-IDF)                  OO 니트부츠  패션슈즈   \n",
              "3   OO 소가죽 니트부츠          콘텐츠 기반 (TF-IDF)             OO 여성 소가죽 샌들  패션슈즈   \n",
              "4   OO 소가죽 니트부츠          콘텐츠 기반 (TF-IDF)     OO 프** 소가죽 스니커즈 (여성)  패션슈즈   \n",
              "5   OO 소가죽 니트부츠  카테고리 인기 (category=패션슈즈)       OO 여성 소가죽 다이얼 스니커즈  패션슈즈   \n",
              "6   OO 소가죽 니트부츠  카테고리 인기 (category=패션슈즈)           OO 오** 메리제인 구두  패션슈즈   \n",
              "7   OO 소가죽 니트부츠  카테고리 인기 (category=패션슈즈)                OO 클** 부츠  패션슈즈   \n",
              "8   OO 소가죽 니트부츠  카테고리 인기 (category=패션슈즈)             OO 여성 소가죽 샌들  패션슈즈   \n",
              "9   OO 소가죽 니트부츠  카테고리 인기 (category=패션슈즈)           OO 모** 삭스 앵클부츠  패션슈즈   \n",
              "10  OO 소가죽 니트부츠             Word2Vec 임베딩                  OO 니트부츠  패션슈즈   \n",
              "11  OO 소가죽 니트부츠             Word2Vec 임베딩                OO 소가죽 로퍼  패션슈즈   \n",
              "12  OO 소가죽 니트부츠             Word2Vec 임베딩  OO 볼** 천연소가죽 기모 여성 앵클부츠  패션슈즈   \n",
              "13  OO 소가죽 니트부츠             Word2Vec 임베딩              OO 스니커즈(여성)  패션슈즈   \n",
              "14  OO 소가죽 니트부츠             Word2Vec 임베딩     OO 프** 소가죽 스니커즈 (여성)  패션슈즈   \n",
              "\n",
              "       점수/유사도  \n",
              "0    0.195588  \n",
              "1    0.177288  \n",
              "2    0.170999  \n",
              "3    0.151509  \n",
              "4    0.149982  \n",
              "5   15.000000  \n",
              "6   15.000000  \n",
              "7   15.000000  \n",
              "8   14.000000  \n",
              "9   13.000000  \n",
              "10   0.971177  \n",
              "11   0.965314  \n",
              "12   0.965193  \n",
              "13   0.964685  \n",
              "14   0.964501  "
            ]
          },
          "metadata": {},
          "output_type": "display_data"
        }
      ],
      "source": [
        "# 비교할 기준 상품 입력\n",
        "target_item = \"OO 소가죽 니트부츠\"\n",
        "compare_table = compare_recommendations(target_item, topk=5)\n",
        "display(compare_table)"
      ]
    },
    {
      "cell_type": "markdown",
      "metadata": {
        "id": "bZDDhd7-CBX9"
      },
      "source": [
        "## <서술형 문제>"
      ]
    },
    {
      "cell_type": "markdown",
      "metadata": {
        "id": "J8_mVS-XQJhE"
      },
      "source": [
        "###문제1:\n",
        "\n",
        "> 동일한 기준 상품 \"OO 소가죽 니트부츠\"를 대상으로\n",
        "TF-IDF 콘텐츠 기반, 카테고리 인기 기반, Word2Vec 임베딩 기반 추천 시스템의 결과를 비교했을 때,\n",
        "각 방법이 어떤 기준으로 추천을 수행하는지 서술해주세요."
      ]
    },
    {
      "cell_type": "markdown",
      "metadata": {
        "id": "CsIkEmyHQJjS"
      },
      "source": [
        "답안 : TF-IDF 콘텐츠 기반은 리뷰 텍스트의 단어 빈도 패턴 유사성을 기준으로, 카테고리 기반은 동일 카테고리에 속한 상품의 인기도를 기준으로, Word2Vec 임베딩 기반은 단어의 의미적 유사성을 학습한 벡터 공간에서의 근접도를 기준으로 추천을 수행한다."
      ]
    },
    {
      "cell_type": "markdown",
      "metadata": {
        "id": "VHtaQeFiQJta"
      },
      "source": [
        "### 문제2\n",
        "\n",
        "> 콘텐츠 기반 추천(TF-IDF)과 Word2Vec 기반 추천은 모두 텍스트 데이터를 사용하지만, 추천 결과와 유사도 점수는 다르게 나타났습니다.\n",
        "그 이유를 서술해주세요.\n",
        "\n",
        "\n"
      ]
    },
    {
      "cell_type": "markdown",
      "metadata": {
        "id": "bfNf5WADQJwJ"
      },
      "source": [
        "답안: TF-IDF는 단어 출현 빈도의 통계적 유사성을 반영하는 반면, Word2Vec은 단어 간 의미적 맥락을 학습하여 유사도를 계산하기 때문에 동일 텍스트라도 강조되는 특징이 달라 추천 결과와 유사도 점수가 다르게 나타난다."
      ]
    },
    {
      "cell_type": "markdown",
      "metadata": {
        "id": "CwWjea2_QmVO"
      },
      "source": [
        "# 고생 많으셨습니다! 😀"
      ]
    }
  ],
  "metadata": {
    "colab": {
      "provenance": []
    },
    "kernelspec": {
      "display_name": "base",
      "language": "python",
      "name": "python3"
    },
    "language_info": {
      "codemirror_mode": {
        "name": "ipython",
        "version": 3
      },
      "file_extension": ".py",
      "mimetype": "text/x-python",
      "name": "python",
      "nbconvert_exporter": "python",
      "pygments_lexer": "ipython3",
      "version": "3.12.4"
    }
  },
  "nbformat": 4,
  "nbformat_minor": 0
}
