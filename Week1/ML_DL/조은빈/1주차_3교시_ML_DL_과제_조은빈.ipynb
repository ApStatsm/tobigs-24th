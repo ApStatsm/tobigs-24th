{
  "cells": [
    {
      "cell_type": "markdown",
      "source": [
        "# ✅ 사본을 만들어 과제를 수행해주세요.\n",
        "\n",
        "본 실습은 빈칸을 채워 코드를 완성시키는 문제와 주관식 답변 문제로 이루어져 있습니다.\n",
        "실습 관련한 질문은 언제든 편하게 해주세요."
      ],
      "metadata": {
        "id": "UY3IK3yq7pmH"
      },
      "id": "UY3IK3yq7pmH"
    },
    {
      "cell_type": "markdown",
      "source": [
        "# 💡 ML 과제: 선형 회귀 모델 학습\n",
        "\n",
        "실습 목표\n",
        "\n",
        "1. 선형 회귀 모델(Ridge)을 정의하고 학습하는 방법을 이해합니다.\n",
        "\n",
        "2. GridSearchCV를 활용하여 하이퍼파라미터를 탐색하는 방법을 배웁니다.\n",
        "\n",
        "3. 예측 결과에 대한 평균제곱오차(MSE)와 결정계수(R²)를 계산하여 모델 성능을 평가합니다.\n",
        "\n"
      ],
      "metadata": {
        "id": "yaSz9WBasUAH"
      },
      "id": "yaSz9WBasUAH"
    },
    {
      "cell_type": "markdown",
      "source": [
        "**0. Import**"
      ],
      "metadata": {
        "id": "K12irqH_us4d"
      },
      "id": "K12irqH_us4d"
    },
    {
      "cell_type": "code",
      "source": [
        "import numpy as np\n",
        "import pandas as pd\n",
        "from sklearn.model_selection import train_test_split, GridSearchCV\n",
        "from sklearn.linear_model import Ridge\n",
        "from sklearn.metrics import mean_squared_error, r2_score\n",
        "from sklearn.datasets import make_regression"
      ],
      "metadata": {
        "id": "yRRnLdx0uqdH"
      },
      "id": "yRRnLdx0uqdH",
      "execution_count": 1,
      "outputs": []
    },
    {
      "cell_type": "markdown",
      "source": [
        "**1. 데이터 생성**"
      ],
      "metadata": {
        "id": "c2xj78upuxrM"
      },
      "id": "c2xj78upuxrM"
    },
    {
      "cell_type": "code",
      "source": [
        "X, y = make_regression(n_samples=200, n_features=5, noise=15, random_state=42)\n",
        "\n",
        "df = pd.DataFrame(X, columns=[f'feature_{i}' for i in range(X.shape[1])])\n",
        "df['target'] = y"
      ],
      "metadata": {
        "id": "Noq4BYmCuwcK"
      },
      "id": "Noq4BYmCuwcK",
      "execution_count": 2,
      "outputs": []
    },
    {
      "cell_type": "markdown",
      "source": [
        "**2. Train-test split**\n",
        "\n",
        "train : test = 0.8:0.2로 분리될 수 있도록 빈칸을 채워 코드를 완성해주세요."
      ],
      "metadata": {
        "id": "HQITSRuDu4AL"
      },
      "id": "HQITSRuDu4AL"
    },
    {
      "cell_type": "code",
      "source": [
        "X_train, X_test, y_train, y_test = train_test_split(\n",
        "    X, y, test_size= 0.2 , random_state=42\n",
        ")"
      ],
      "metadata": {
        "id": "St4XHKjju3VD"
      },
      "id": "St4XHKjju3VD",
      "execution_count": 3,
      "outputs": []
    },
    {
      "cell_type": "markdown",
      "source": [
        "**3. 모델 정의**"
      ],
      "metadata": {
        "id": "hpjUPQWavH0u"
      },
      "id": "hpjUPQWavH0u"
    },
    {
      "cell_type": "code",
      "source": [
        "ridge = Ridge()"
      ],
      "metadata": {
        "id": "JJG4gEfmvKJF"
      },
      "id": "JJG4gEfmvKJF",
      "execution_count": 4,
      "outputs": []
    },
    {
      "cell_type": "markdown",
      "source": [
        "**4. Grid Search (하이퍼파라미터 튜닝)**\n",
        "\n",
        "❓ 빈칸을 채워 코드를 완성하고 각 하이퍼파라미터들이 의미하는 것이 무엇인지 작성해주세요.\n",
        "\n",
        "참고: https://scikit-learn.org/stable/modules/generated/sklearn.model_selection.GridSearchCV.html\n",
        "\n",
        "답변:\n",
        "- alpha: 모델의 L2 패널티, 즉 규제 강도를 조절하는 하이퍼파라미터\n",
        "- GridSearchCV)\n",
        "- estimator: 어떤 모델 튜닝할지 지정\n",
        "- param_grid: 탐색할 하이퍼파라미터 후보들 딕셔너리로 제공\n",
        "- scoring: 성능 평가 기준\n",
        "- cv: 교차검증 횟수"
      ],
      "metadata": {
        "id": "PtemoQRQ3QQB"
      },
      "id": "PtemoQRQ3QQB"
    },
    {
      "cell_type": "code",
      "source": [
        "param_grid = {\n",
        "    'alpha': [0.01, 0.1, 1.0, 10.0, 100.0]\n",
        "}\n",
        "\n",
        "grid_search = GridSearchCV(\n",
        "    estimator=Ridge(),\n",
        "    param_grid=param_grid,\n",
        "    scoring='neg_mean_squared_error',\n",
        "    cv=5\n",
        ")\n",
        "\n",
        "grid_search.fit(X_train, y_train)\n"
      ],
      "metadata": {
        "id": "689P6psmvLrB",
        "colab": {
          "base_uri": "https://localhost:8080/",
          "height": 164
        },
        "outputId": "4b28d09d-b890-4891-a269-09af3d378287"
      },
      "id": "689P6psmvLrB",
      "execution_count": 5,
      "outputs": [
        {
          "output_type": "execute_result",
          "data": {
            "text/plain": [
              "GridSearchCV(cv=5, estimator=Ridge(),\n",
              "             param_grid={'alpha': [0.01, 0.1, 1.0, 10.0, 100.0]},\n",
              "             scoring='neg_mean_squared_error')"
            ],
            "text/html": [
              "<style>#sk-container-id-1 {\n",
              "  /* Definition of color scheme common for light and dark mode */\n",
              "  --sklearn-color-text: #000;\n",
              "  --sklearn-color-text-muted: #666;\n",
              "  --sklearn-color-line: gray;\n",
              "  /* Definition of color scheme for unfitted estimators */\n",
              "  --sklearn-color-unfitted-level-0: #fff5e6;\n",
              "  --sklearn-color-unfitted-level-1: #f6e4d2;\n",
              "  --sklearn-color-unfitted-level-2: #ffe0b3;\n",
              "  --sklearn-color-unfitted-level-3: chocolate;\n",
              "  /* Definition of color scheme for fitted estimators */\n",
              "  --sklearn-color-fitted-level-0: #f0f8ff;\n",
              "  --sklearn-color-fitted-level-1: #d4ebff;\n",
              "  --sklearn-color-fitted-level-2: #b3dbfd;\n",
              "  --sklearn-color-fitted-level-3: cornflowerblue;\n",
              "\n",
              "  /* Specific color for light theme */\n",
              "  --sklearn-color-text-on-default-background: var(--sg-text-color, var(--theme-code-foreground, var(--jp-content-font-color1, black)));\n",
              "  --sklearn-color-background: var(--sg-background-color, var(--theme-background, var(--jp-layout-color0, white)));\n",
              "  --sklearn-color-border-box: var(--sg-text-color, var(--theme-code-foreground, var(--jp-content-font-color1, black)));\n",
              "  --sklearn-color-icon: #696969;\n",
              "\n",
              "  @media (prefers-color-scheme: dark) {\n",
              "    /* Redefinition of color scheme for dark theme */\n",
              "    --sklearn-color-text-on-default-background: var(--sg-text-color, var(--theme-code-foreground, var(--jp-content-font-color1, white)));\n",
              "    --sklearn-color-background: var(--sg-background-color, var(--theme-background, var(--jp-layout-color0, #111)));\n",
              "    --sklearn-color-border-box: var(--sg-text-color, var(--theme-code-foreground, var(--jp-content-font-color1, white)));\n",
              "    --sklearn-color-icon: #878787;\n",
              "  }\n",
              "}\n",
              "\n",
              "#sk-container-id-1 {\n",
              "  color: var(--sklearn-color-text);\n",
              "}\n",
              "\n",
              "#sk-container-id-1 pre {\n",
              "  padding: 0;\n",
              "}\n",
              "\n",
              "#sk-container-id-1 input.sk-hidden--visually {\n",
              "  border: 0;\n",
              "  clip: rect(1px 1px 1px 1px);\n",
              "  clip: rect(1px, 1px, 1px, 1px);\n",
              "  height: 1px;\n",
              "  margin: -1px;\n",
              "  overflow: hidden;\n",
              "  padding: 0;\n",
              "  position: absolute;\n",
              "  width: 1px;\n",
              "}\n",
              "\n",
              "#sk-container-id-1 div.sk-dashed-wrapped {\n",
              "  border: 1px dashed var(--sklearn-color-line);\n",
              "  margin: 0 0.4em 0.5em 0.4em;\n",
              "  box-sizing: border-box;\n",
              "  padding-bottom: 0.4em;\n",
              "  background-color: var(--sklearn-color-background);\n",
              "}\n",
              "\n",
              "#sk-container-id-1 div.sk-container {\n",
              "  /* jupyter's `normalize.less` sets `[hidden] { display: none; }`\n",
              "     but bootstrap.min.css set `[hidden] { display: none !important; }`\n",
              "     so we also need the `!important` here to be able to override the\n",
              "     default hidden behavior on the sphinx rendered scikit-learn.org.\n",
              "     See: https://github.com/scikit-learn/scikit-learn/issues/21755 */\n",
              "  display: inline-block !important;\n",
              "  position: relative;\n",
              "}\n",
              "\n",
              "#sk-container-id-1 div.sk-text-repr-fallback {\n",
              "  display: none;\n",
              "}\n",
              "\n",
              "div.sk-parallel-item,\n",
              "div.sk-serial,\n",
              "div.sk-item {\n",
              "  /* draw centered vertical line to link estimators */\n",
              "  background-image: linear-gradient(var(--sklearn-color-text-on-default-background), var(--sklearn-color-text-on-default-background));\n",
              "  background-size: 2px 100%;\n",
              "  background-repeat: no-repeat;\n",
              "  background-position: center center;\n",
              "}\n",
              "\n",
              "/* Parallel-specific style estimator block */\n",
              "\n",
              "#sk-container-id-1 div.sk-parallel-item::after {\n",
              "  content: \"\";\n",
              "  width: 100%;\n",
              "  border-bottom: 2px solid var(--sklearn-color-text-on-default-background);\n",
              "  flex-grow: 1;\n",
              "}\n",
              "\n",
              "#sk-container-id-1 div.sk-parallel {\n",
              "  display: flex;\n",
              "  align-items: stretch;\n",
              "  justify-content: center;\n",
              "  background-color: var(--sklearn-color-background);\n",
              "  position: relative;\n",
              "}\n",
              "\n",
              "#sk-container-id-1 div.sk-parallel-item {\n",
              "  display: flex;\n",
              "  flex-direction: column;\n",
              "}\n",
              "\n",
              "#sk-container-id-1 div.sk-parallel-item:first-child::after {\n",
              "  align-self: flex-end;\n",
              "  width: 50%;\n",
              "}\n",
              "\n",
              "#sk-container-id-1 div.sk-parallel-item:last-child::after {\n",
              "  align-self: flex-start;\n",
              "  width: 50%;\n",
              "}\n",
              "\n",
              "#sk-container-id-1 div.sk-parallel-item:only-child::after {\n",
              "  width: 0;\n",
              "}\n",
              "\n",
              "/* Serial-specific style estimator block */\n",
              "\n",
              "#sk-container-id-1 div.sk-serial {\n",
              "  display: flex;\n",
              "  flex-direction: column;\n",
              "  align-items: center;\n",
              "  background-color: var(--sklearn-color-background);\n",
              "  padding-right: 1em;\n",
              "  padding-left: 1em;\n",
              "}\n",
              "\n",
              "\n",
              "/* Toggleable style: style used for estimator/Pipeline/ColumnTransformer box that is\n",
              "clickable and can be expanded/collapsed.\n",
              "- Pipeline and ColumnTransformer use this feature and define the default style\n",
              "- Estimators will overwrite some part of the style using the `sk-estimator` class\n",
              "*/\n",
              "\n",
              "/* Pipeline and ColumnTransformer style (default) */\n",
              "\n",
              "#sk-container-id-1 div.sk-toggleable {\n",
              "  /* Default theme specific background. It is overwritten whether we have a\n",
              "  specific estimator or a Pipeline/ColumnTransformer */\n",
              "  background-color: var(--sklearn-color-background);\n",
              "}\n",
              "\n",
              "/* Toggleable label */\n",
              "#sk-container-id-1 label.sk-toggleable__label {\n",
              "  cursor: pointer;\n",
              "  display: flex;\n",
              "  width: 100%;\n",
              "  margin-bottom: 0;\n",
              "  padding: 0.5em;\n",
              "  box-sizing: border-box;\n",
              "  text-align: center;\n",
              "  align-items: start;\n",
              "  justify-content: space-between;\n",
              "  gap: 0.5em;\n",
              "}\n",
              "\n",
              "#sk-container-id-1 label.sk-toggleable__label .caption {\n",
              "  font-size: 0.6rem;\n",
              "  font-weight: lighter;\n",
              "  color: var(--sklearn-color-text-muted);\n",
              "}\n",
              "\n",
              "#sk-container-id-1 label.sk-toggleable__label-arrow:before {\n",
              "  /* Arrow on the left of the label */\n",
              "  content: \"▸\";\n",
              "  float: left;\n",
              "  margin-right: 0.25em;\n",
              "  color: var(--sklearn-color-icon);\n",
              "}\n",
              "\n",
              "#sk-container-id-1 label.sk-toggleable__label-arrow:hover:before {\n",
              "  color: var(--sklearn-color-text);\n",
              "}\n",
              "\n",
              "/* Toggleable content - dropdown */\n",
              "\n",
              "#sk-container-id-1 div.sk-toggleable__content {\n",
              "  max-height: 0;\n",
              "  max-width: 0;\n",
              "  overflow: hidden;\n",
              "  text-align: left;\n",
              "  /* unfitted */\n",
              "  background-color: var(--sklearn-color-unfitted-level-0);\n",
              "}\n",
              "\n",
              "#sk-container-id-1 div.sk-toggleable__content.fitted {\n",
              "  /* fitted */\n",
              "  background-color: var(--sklearn-color-fitted-level-0);\n",
              "}\n",
              "\n",
              "#sk-container-id-1 div.sk-toggleable__content pre {\n",
              "  margin: 0.2em;\n",
              "  border-radius: 0.25em;\n",
              "  color: var(--sklearn-color-text);\n",
              "  /* unfitted */\n",
              "  background-color: var(--sklearn-color-unfitted-level-0);\n",
              "}\n",
              "\n",
              "#sk-container-id-1 div.sk-toggleable__content.fitted pre {\n",
              "  /* unfitted */\n",
              "  background-color: var(--sklearn-color-fitted-level-0);\n",
              "}\n",
              "\n",
              "#sk-container-id-1 input.sk-toggleable__control:checked~div.sk-toggleable__content {\n",
              "  /* Expand drop-down */\n",
              "  max-height: 200px;\n",
              "  max-width: 100%;\n",
              "  overflow: auto;\n",
              "}\n",
              "\n",
              "#sk-container-id-1 input.sk-toggleable__control:checked~label.sk-toggleable__label-arrow:before {\n",
              "  content: \"▾\";\n",
              "}\n",
              "\n",
              "/* Pipeline/ColumnTransformer-specific style */\n",
              "\n",
              "#sk-container-id-1 div.sk-label input.sk-toggleable__control:checked~label.sk-toggleable__label {\n",
              "  color: var(--sklearn-color-text);\n",
              "  background-color: var(--sklearn-color-unfitted-level-2);\n",
              "}\n",
              "\n",
              "#sk-container-id-1 div.sk-label.fitted input.sk-toggleable__control:checked~label.sk-toggleable__label {\n",
              "  background-color: var(--sklearn-color-fitted-level-2);\n",
              "}\n",
              "\n",
              "/* Estimator-specific style */\n",
              "\n",
              "/* Colorize estimator box */\n",
              "#sk-container-id-1 div.sk-estimator input.sk-toggleable__control:checked~label.sk-toggleable__label {\n",
              "  /* unfitted */\n",
              "  background-color: var(--sklearn-color-unfitted-level-2);\n",
              "}\n",
              "\n",
              "#sk-container-id-1 div.sk-estimator.fitted input.sk-toggleable__control:checked~label.sk-toggleable__label {\n",
              "  /* fitted */\n",
              "  background-color: var(--sklearn-color-fitted-level-2);\n",
              "}\n",
              "\n",
              "#sk-container-id-1 div.sk-label label.sk-toggleable__label,\n",
              "#sk-container-id-1 div.sk-label label {\n",
              "  /* The background is the default theme color */\n",
              "  color: var(--sklearn-color-text-on-default-background);\n",
              "}\n",
              "\n",
              "/* On hover, darken the color of the background */\n",
              "#sk-container-id-1 div.sk-label:hover label.sk-toggleable__label {\n",
              "  color: var(--sklearn-color-text);\n",
              "  background-color: var(--sklearn-color-unfitted-level-2);\n",
              "}\n",
              "\n",
              "/* Label box, darken color on hover, fitted */\n",
              "#sk-container-id-1 div.sk-label.fitted:hover label.sk-toggleable__label.fitted {\n",
              "  color: var(--sklearn-color-text);\n",
              "  background-color: var(--sklearn-color-fitted-level-2);\n",
              "}\n",
              "\n",
              "/* Estimator label */\n",
              "\n",
              "#sk-container-id-1 div.sk-label label {\n",
              "  font-family: monospace;\n",
              "  font-weight: bold;\n",
              "  display: inline-block;\n",
              "  line-height: 1.2em;\n",
              "}\n",
              "\n",
              "#sk-container-id-1 div.sk-label-container {\n",
              "  text-align: center;\n",
              "}\n",
              "\n",
              "/* Estimator-specific */\n",
              "#sk-container-id-1 div.sk-estimator {\n",
              "  font-family: monospace;\n",
              "  border: 1px dotted var(--sklearn-color-border-box);\n",
              "  border-radius: 0.25em;\n",
              "  box-sizing: border-box;\n",
              "  margin-bottom: 0.5em;\n",
              "  /* unfitted */\n",
              "  background-color: var(--sklearn-color-unfitted-level-0);\n",
              "}\n",
              "\n",
              "#sk-container-id-1 div.sk-estimator.fitted {\n",
              "  /* fitted */\n",
              "  background-color: var(--sklearn-color-fitted-level-0);\n",
              "}\n",
              "\n",
              "/* on hover */\n",
              "#sk-container-id-1 div.sk-estimator:hover {\n",
              "  /* unfitted */\n",
              "  background-color: var(--sklearn-color-unfitted-level-2);\n",
              "}\n",
              "\n",
              "#sk-container-id-1 div.sk-estimator.fitted:hover {\n",
              "  /* fitted */\n",
              "  background-color: var(--sklearn-color-fitted-level-2);\n",
              "}\n",
              "\n",
              "/* Specification for estimator info (e.g. \"i\" and \"?\") */\n",
              "\n",
              "/* Common style for \"i\" and \"?\" */\n",
              "\n",
              ".sk-estimator-doc-link,\n",
              "a:link.sk-estimator-doc-link,\n",
              "a:visited.sk-estimator-doc-link {\n",
              "  float: right;\n",
              "  font-size: smaller;\n",
              "  line-height: 1em;\n",
              "  font-family: monospace;\n",
              "  background-color: var(--sklearn-color-background);\n",
              "  border-radius: 1em;\n",
              "  height: 1em;\n",
              "  width: 1em;\n",
              "  text-decoration: none !important;\n",
              "  margin-left: 0.5em;\n",
              "  text-align: center;\n",
              "  /* unfitted */\n",
              "  border: var(--sklearn-color-unfitted-level-1) 1pt solid;\n",
              "  color: var(--sklearn-color-unfitted-level-1);\n",
              "}\n",
              "\n",
              ".sk-estimator-doc-link.fitted,\n",
              "a:link.sk-estimator-doc-link.fitted,\n",
              "a:visited.sk-estimator-doc-link.fitted {\n",
              "  /* fitted */\n",
              "  border: var(--sklearn-color-fitted-level-1) 1pt solid;\n",
              "  color: var(--sklearn-color-fitted-level-1);\n",
              "}\n",
              "\n",
              "/* On hover */\n",
              "div.sk-estimator:hover .sk-estimator-doc-link:hover,\n",
              ".sk-estimator-doc-link:hover,\n",
              "div.sk-label-container:hover .sk-estimator-doc-link:hover,\n",
              ".sk-estimator-doc-link:hover {\n",
              "  /* unfitted */\n",
              "  background-color: var(--sklearn-color-unfitted-level-3);\n",
              "  color: var(--sklearn-color-background);\n",
              "  text-decoration: none;\n",
              "}\n",
              "\n",
              "div.sk-estimator.fitted:hover .sk-estimator-doc-link.fitted:hover,\n",
              ".sk-estimator-doc-link.fitted:hover,\n",
              "div.sk-label-container:hover .sk-estimator-doc-link.fitted:hover,\n",
              ".sk-estimator-doc-link.fitted:hover {\n",
              "  /* fitted */\n",
              "  background-color: var(--sklearn-color-fitted-level-3);\n",
              "  color: var(--sklearn-color-background);\n",
              "  text-decoration: none;\n",
              "}\n",
              "\n",
              "/* Span, style for the box shown on hovering the info icon */\n",
              ".sk-estimator-doc-link span {\n",
              "  display: none;\n",
              "  z-index: 9999;\n",
              "  position: relative;\n",
              "  font-weight: normal;\n",
              "  right: .2ex;\n",
              "  padding: .5ex;\n",
              "  margin: .5ex;\n",
              "  width: min-content;\n",
              "  min-width: 20ex;\n",
              "  max-width: 50ex;\n",
              "  color: var(--sklearn-color-text);\n",
              "  box-shadow: 2pt 2pt 4pt #999;\n",
              "  /* unfitted */\n",
              "  background: var(--sklearn-color-unfitted-level-0);\n",
              "  border: .5pt solid var(--sklearn-color-unfitted-level-3);\n",
              "}\n",
              "\n",
              ".sk-estimator-doc-link.fitted span {\n",
              "  /* fitted */\n",
              "  background: var(--sklearn-color-fitted-level-0);\n",
              "  border: var(--sklearn-color-fitted-level-3);\n",
              "}\n",
              "\n",
              ".sk-estimator-doc-link:hover span {\n",
              "  display: block;\n",
              "}\n",
              "\n",
              "/* \"?\"-specific style due to the `<a>` HTML tag */\n",
              "\n",
              "#sk-container-id-1 a.estimator_doc_link {\n",
              "  float: right;\n",
              "  font-size: 1rem;\n",
              "  line-height: 1em;\n",
              "  font-family: monospace;\n",
              "  background-color: var(--sklearn-color-background);\n",
              "  border-radius: 1rem;\n",
              "  height: 1rem;\n",
              "  width: 1rem;\n",
              "  text-decoration: none;\n",
              "  /* unfitted */\n",
              "  color: var(--sklearn-color-unfitted-level-1);\n",
              "  border: var(--sklearn-color-unfitted-level-1) 1pt solid;\n",
              "}\n",
              "\n",
              "#sk-container-id-1 a.estimator_doc_link.fitted {\n",
              "  /* fitted */\n",
              "  border: var(--sklearn-color-fitted-level-1) 1pt solid;\n",
              "  color: var(--sklearn-color-fitted-level-1);\n",
              "}\n",
              "\n",
              "/* On hover */\n",
              "#sk-container-id-1 a.estimator_doc_link:hover {\n",
              "  /* unfitted */\n",
              "  background-color: var(--sklearn-color-unfitted-level-3);\n",
              "  color: var(--sklearn-color-background);\n",
              "  text-decoration: none;\n",
              "}\n",
              "\n",
              "#sk-container-id-1 a.estimator_doc_link.fitted:hover {\n",
              "  /* fitted */\n",
              "  background-color: var(--sklearn-color-fitted-level-3);\n",
              "}\n",
              "</style><div id=\"sk-container-id-1\" class=\"sk-top-container\"><div class=\"sk-text-repr-fallback\"><pre>GridSearchCV(cv=5, estimator=Ridge(),\n",
              "             param_grid={&#x27;alpha&#x27;: [0.01, 0.1, 1.0, 10.0, 100.0]},\n",
              "             scoring=&#x27;neg_mean_squared_error&#x27;)</pre><b>In a Jupyter environment, please rerun this cell to show the HTML representation or trust the notebook. <br />On GitHub, the HTML representation is unable to render, please try loading this page with nbviewer.org.</b></div><div class=\"sk-container\" hidden><div class=\"sk-item sk-dashed-wrapped\"><div class=\"sk-label-container\"><div class=\"sk-label fitted sk-toggleable\"><input class=\"sk-toggleable__control sk-hidden--visually\" id=\"sk-estimator-id-1\" type=\"checkbox\" ><label for=\"sk-estimator-id-1\" class=\"sk-toggleable__label fitted sk-toggleable__label-arrow\"><div><div>GridSearchCV</div></div><div><a class=\"sk-estimator-doc-link fitted\" rel=\"noreferrer\" target=\"_blank\" href=\"https://scikit-learn.org/1.6/modules/generated/sklearn.model_selection.GridSearchCV.html\">?<span>Documentation for GridSearchCV</span></a><span class=\"sk-estimator-doc-link fitted\">i<span>Fitted</span></span></div></label><div class=\"sk-toggleable__content fitted\"><pre>GridSearchCV(cv=5, estimator=Ridge(),\n",
              "             param_grid={&#x27;alpha&#x27;: [0.01, 0.1, 1.0, 10.0, 100.0]},\n",
              "             scoring=&#x27;neg_mean_squared_error&#x27;)</pre></div> </div></div><div class=\"sk-parallel\"><div class=\"sk-parallel-item\"><div class=\"sk-item\"><div class=\"sk-label-container\"><div class=\"sk-label fitted sk-toggleable\"><input class=\"sk-toggleable__control sk-hidden--visually\" id=\"sk-estimator-id-2\" type=\"checkbox\" ><label for=\"sk-estimator-id-2\" class=\"sk-toggleable__label fitted sk-toggleable__label-arrow\"><div><div>best_estimator_: Ridge</div></div></label><div class=\"sk-toggleable__content fitted\"><pre>Ridge(alpha=0.1)</pre></div> </div></div><div class=\"sk-serial\"><div class=\"sk-item\"><div class=\"sk-estimator fitted sk-toggleable\"><input class=\"sk-toggleable__control sk-hidden--visually\" id=\"sk-estimator-id-3\" type=\"checkbox\" ><label for=\"sk-estimator-id-3\" class=\"sk-toggleable__label fitted sk-toggleable__label-arrow\"><div><div>Ridge</div></div><div><a class=\"sk-estimator-doc-link fitted\" rel=\"noreferrer\" target=\"_blank\" href=\"https://scikit-learn.org/1.6/modules/generated/sklearn.linear_model.Ridge.html\">?<span>Documentation for Ridge</span></a></div></label><div class=\"sk-toggleable__content fitted\"><pre>Ridge(alpha=0.1)</pre></div> </div></div></div></div></div></div></div></div></div>"
            ]
          },
          "metadata": {},
          "execution_count": 5
        }
      ]
    },
    {
      "cell_type": "markdown",
      "source": [
        "**5. 최적 모델 평가**\n",
        "\n",
        "빈칸을 채워 코드를 완성해주세요."
      ],
      "metadata": {
        "id": "3IIObZA43Xrs"
      },
      "id": "3IIObZA43Xrs"
    },
    {
      "cell_type": "code",
      "source": [
        "print(\"최적의 하이퍼파라미터:\", grid_search.best_params_)\n",
        "\n",
        "best_model = grid_search.best_estimator_\n",
        "\n",
        "y_pred = best_model.predict(X_test) #모델 학습\n",
        "\n",
        "print(\"MSE:\", mean_squared_error(y_test, y_pred))\n",
        "print(\"R² score:\", r2_score(y_test, y_pred))"
      ],
      "metadata": {
        "id": "sBbJa52M3YkL",
        "colab": {
          "base_uri": "https://localhost:8080/"
        },
        "outputId": "424b6f42-b81e-4a65-db15-215588bb15e0"
      },
      "id": "sBbJa52M3YkL",
      "execution_count": 6,
      "outputs": [
        {
          "output_type": "stream",
          "name": "stdout",
          "text": [
            "최적의 하이퍼파라미터: {'alpha': 0.1}\n",
            "MSE: 191.13669584366232\n",
            "R² score: 0.9780011857389037\n"
          ]
        }
      ]
    },
    {
      "cell_type": "markdown",
      "source": [
        "❓ 모델의 성능을 MSE값과 R²을 바탕으로 평가해주세요.\n",
        "\n",
        "답변:MSE값이 191.14로, 실제 값과 예측 값 간의 평균제곱오차가 비교적 낮음을 의미함.\n",
        "\n",
        "R^2 score 결정계수 값이 97.8로 이 모델이 약 87.8%의 설명력을 갖음을 의미합니다.\n",
        "\n",
        "따라서, 이 Ridge 모델은 정확도가 매우 높고, 예측 오차도 낮아 성능이 우수하다고 볼 수 있습니다\n",
        "\n",
        "❓ Grid Search이외에 다른 하이퍼파라미터 튜닝 기법으로는 어떤게 있는지 설명해주세요.\n",
        "\n",
        "답변: 랜덤서치나 베이지안 최적화 방식 등이 있습니다"
      ],
      "metadata": {
        "id": "1yKBD8mr3dJJ"
      },
      "id": "1yKBD8mr3dJJ"
    },
    {
      "cell_type": "markdown",
      "source": [
        "# 💡 DL 과제: Fashion-MNIST CNN 모델 구현\n",
        "\n",
        "실습 목표\n",
        "\n",
        "1. Fashion-MNIST 데이터셋의 특징을 이해하고 구조를 파악합니다.\n",
        "\n",
        "2. CNN 모델을 직접 구현하면서 합성곱 연산 및 출력 크기 계산을 실습합니다.\n",
        "\n",
        "3. Stride, padding, 필터 개수 등 하이퍼파라미터가 출력 형태에 미치는 영향을 학습합니다.\n",
        "\n",
        "4. Batch Normalization을 적용하는 방법을 실습합니다.\n",
        "\n",
        "![image.png](data:image/png;base64,iVBORw0KGgoAAAANSUhEUgAABLAAAAJYCAIAAAD9hIhNAAAgAElEQVR4Aeyde5wWZd3/Z5ejYo8CCgIaFCZIplgGlD4SqaQpJoUHHjK0g8QjHvgpAqEobO0CQhq8VEISxEQxT0jKSY6bgpIHME+leXri4BHDMkWcX7uD92vb+/seuIaZnZndz/sP2P3ONd/rms/1neuez859z+35QgpIASkgBaSAFJACUkAKSAEpIAUapAJegzxqHbQUkAJSQApIASkgBaSAFJACUkAK+DKEKgIpIAWkgBSQAlJACkgBKSAFpEADVUCGsIFOvA5bCkgBKSAFpIAUkAJSQApIASkgQ6gakAJSQApIASkgBaSAFJACUkAKNFAFZAgb6MTrsKWAFJACUkAKSAEpIAWkgBSQAjKEqgEpIAWkgBSQAlJACkgBKSAFpEADVUCGsIFOvA5bCkgBKSAFpIAUkAJSQApIASkgQ6gakAJSQApIASkgBaSAFJACUkAKNFAFZAgb6MTrsKWAFJACUkAKSAEpIAWkgBSQAjKEqgEpIAWkgBSQAlJACkgBKSAFpEADVUCGsIFOvA5bCkgBKSAFpIAUkAJSQApIASkgQ6gakAJSQApIASkgBaSAFJACUkAKNFAFZAgb6MTrsKWAFJACUkAKSAEpIAWkgBSQAjKEqgEpIAWkgBSQAlJACkgBKSAFpEADVUCGsIFOvA5bCkgBKSAFpIAUkAJSQApIASkgQ6gakAJSQApIASkgBaSAFJACUkAKNFAFZAgb6MTrsKWAFJACUkAKSAEpIAWkgBSQAjKEqgEpIAWkgBSQAlJACkgBKSAFpEADVUCGsIFOvA5bCkgBKSAFpIAUkAJSQApIASkgQ6gakAJSQApIASkgBaSAFJACUkAKNFAFZAgb6MTrsKWAFJACUkAKSAEpIAWkgBSQAjKEqgEpIAWkgBSQAlJACkgBKSAFpEADVUCGsIFOvA5bCkgBKSAFpIAUkAJSQApIASkgQ6gakAJSQApIASkgBaSAFJACUkAKNFAFZAgb6MTrsKWAFJACUkAKSAEpIAWkgBSQAjKEqgEpIAWkgBSQAlJACkgBKSAFpEADVUCGsIFOvA5bCkgBKSAFpIAUkAJSQApIASkgQ6gakAJSQApIASkgBaSAFJACUkAKNFAFZAgb6MTrsKWAFJACUkAKSAEpIAWkgBSQAg3XEHqhrFixYveLo2PHjqeccgq1X7Fihed54Qlvu+22a6+91swwfPjwI444wvf9hx9++Kqrrnr33XfNZgpKgRAFQot9F8UZklabpEDdKDBr1qxCDTdq1KhDhw7nnnvu//3f/+1O757nXXXVVUHL3VmNdyen2kiB2BWoWeTNmjVr27btN77xjfLy8i1btsTelxJKgbpUYP369eeee26nTp2aNWvWokWLo446auLEiW+//fYejkFXxXsoYK3dG64hXFODb3/723vttVeNwJr33nuvllIhv4Ybwvfee2/Nml0kPOWUUzp27Gh20bFjx3Hjxvm+f80113ie9/LLL5vNFJQCIQrUrO09rPaQXrRJCiSkQHCtPGvWrDVr1ixfvvzqq69u1qzZ5z73uffff3+XPcoQ7lIiNciCAjWLfPXq1Xfdddcll1yy7777tmrVaunSpVkYocYgBSIoMGPGjMaNG3/xi1+8/vrrV6xYsWTJkvLy8s997nOnn356hGw1d9FVcU019vznhmsIa2o3ePDgFi1a1Iw4/RxuCMNT/eMf//B9nwzhY4895nnen/70JxnCcBm1dfcVCK/2oCB3P1tyLbMzkuSOUZl3U4HgWnndunWF9ldeeaXneb/97W8LEfohC4bwn//85yeffEIjVFwK+L5fXOS+77/66qsHH3zwZz7zmc2bNxerpEWyWBNFMqXAI4880qhRo5NOOulf//pXzYF9+OGH8+fPrxmJ8LMMYQTRQnaRIawSJ/wSOZDvpZdeOuuss9q1a9e0adM2bdp885vffPLJJ4NNgSFcuHDhUUcd1bx58y5duvzmN78piF7rTUpBXxs2bDjxxBP32WefXr169e7du/BuqOCHwr4jR47s0qXLv3+96qqrarUJ3oO6Y8eOiRMndunSpWnTpgcccMA555zz+uuvF3bv3bv3F7/4xdWrV/fs2bN58+bt27e/4oorPv7440ID/dAAFahV7UGRrFq16mtf+9pee+111llnBVchgwYNOuCAA5o2bdq1a9fJkyfv2LEj0KpWPf/79Hn55Zc9z5s1a1bQIORM8X3/jjvu6NWr1957792iRYu+ffs+8cQThSkoPjUKm/RDA1eg+Fr5gQce8DzvF7/4Re9qauozePDgmm+4CDeE8+fP79Wr11577bXPPvuccMIJjzzySJDq3nvv9TzvoYceqpn5hhtu8Dxv/fr1QXDdunX9+vVr2bJls2bNunfvPm/evELjYMCLFy8+77zz9t9/f8/zPvjgg8JW/SAFihUoLvKgzZ133ul5XvBGIXOR/PDDD8vKyoLLgP333//cc8994403CvmXLVvWu3fvVq1aNW/e/OCDD/7ud79bsJE33HDDEUcc0aJFi3322adLly6jR48u7KUfpEAsCpx66qmNGzd+7bXXKFv4ReySJUtOO+20Dh06NGvWrHPnzueff/6bb74ZpKKrYupI8V0qIENYJVGtS2RTtS5duhxyyCG33nrrqlWr7r777ksvvbTwscCOHTsedNBB3bp1mzNnzuLFi8844wzP81atWhXkqXUBPXjw4CZNmvz7vdQVFRXLli37d/tnnnnmmGOOOfDAAwvv6ysM4JBDDvnZz37m+/7rr79+4YUXep53zz33BM2CN7Wef/75nucNGzZs0aJF06dPP+CAAw4++ODCCdO7d+/WrVu3b99+6tSpixcvvuiiizzPu+CCCwr59UMDVKBWtQfXCgcffPC0adNWrFixatWqN954o0OHDgcccMD06dMXLVo0bNgwz/OGDh0aaFWrnosNYciZ8otf/KKkpOSHP/zh73//+3vuuedrX/taixYtnnnmmSBz8anRAGdHh2wqUHyt/Ktf/crzvBkzZuyJIbzttts8z+vbt+999903b968r3zlK02bNq2srPR9f/v27W3atBk0aFDN8fTo0ePLX/5yEFm+fHnTpk3/+7//e968eYsWLTr33HNr/lkkGHCHDh3OP//8hQsX3nXXXfpLXE0l9XOxAsVFHrR5//33GzVqdPzxxwfXKrWuH3bs2HHSSSe1aNFi3LhxS5cunTlzZocOHbp16/bPf/4zWJybN29+4okn3nfffStXrrztttvOOeec4EkEt99+u+d5F1544ZIlSx566KHp06dfdNFFxaNSRApEVuDjjz/ee++9e/bsGZIh/CL2xhtvrKiouP/++1etWnXLLbcceeSRXbp0+eijj0KuikP60qZwBWQIq/SpdYlcLNlbb73led51111XvOnf7/To2LFj8+bNX3311WDrBx980KpVqyFDhgS/1rqAHjx4sOd5N998c81U5ltGn3rqKc/zHn/88aBl8c3x5557zvO8//3f/y2kevTRRz3PCzyk7/vBvcea9+V/8pOflJaWFoZa2FE/NBwFalV7UCTLli0rKDBq1CjP8x599NFCZOjQoSUlJS+88MK/i6pWPdcyhCFnymuvvda4ceMLL7ywkHbbtm0HHnjgmWeeGUTMU6PQWD80ZAWCa+W1a9du375927Ztv//97w844IDgfXSRDeGOHTvat2//pS99qXD3e9u2bW3atPn6178eSP3//t//22uvvbZu3Rr8+uyzz3qeN23atODXrl27HnXUUdu3by/My6mnntquXbsgWzDgH/zgB4Wt+kEKhCtAhtD3/bZt2x522GHBtUqt64fA1919992F5OvWrfM874YbbvB9/6677vI876mnnipsLfwwbNiw/fbbr/CrfpACsSuwefNmz/POPvtsyrzLi9jCjp988sn27dtfffVVz/MK17TFV8WF9vohggIyhFWi1bpEDipv+6f4vv/JJ5907ty5Q4cOU6ZMeeKJJwoXEIHiHTt27NWrV031e/XqddJJJwWRWhfQwVVvrYfWmIbwyiuv7NSpUyFtcekH71967LHHCm183z/ssMMKf4/p3bv3Zz7zmZpbg8HceuutNYP6uUEpUKvae/fu3bJly5oK9OjRo1u3bjUjwR8abrzxxl0awpAz5aabbvI8b926dZ+eWFX/n3XWWW3atAn6Mk+NmsPQzw1WgeBauebb5r/0pS/94Q9/CP7s1bt375rK7OZbRgODN2nSpJr7Dh06tLS0NHhP3Z/+9CfP8379618HDUaMGNGsWbPgyXh/+ctfPM+bPHlyzWIOFuRnn3228HmwwoVLzS70sxQwFQgxhG3atKlpCGtePwwaNGi//fb76KOPapZi4Q9tL774YtOmTXv06DF79uyXXnqpZr9z5swJLtbvu+++wruKajbQz1JgDxXYpSHc5UXsli1bhgwZctBBB5WWlhbW/wkTJgQDK74q3sMBN/DdZQirCqDWJXKti4+gRF555ZUf/vCHbdu29TyvVatWF1544d///vdgU/FDZWr+0brYEO699961ys40hIcddtill15aaFlc+mVlZZ7n1fzQoO/7xx9//CGHHBLs1bt378LPQST4ewzd6iz0pR/qsQK1qr1379617F/nzp2DtycVRHj99dc9z/v5z3++S0Po+z6dKT//+c8LC3rNH0pLS4OOBg8eXHxqFMagHxqyAsGaPGfOnHXr1j355JMbN24sqFFzsQ2Cu2kIKysrPc+r9dexYFEtfKHFV7/61eCPfR9//HG7du0Kd7P/8Ic/1Kzhmj+vXr26YAhr/bWuMGb9IAWKFSBDWOsto7UWyRNOOKFm+RV+/uY3vxl0sXr16lNPPbVFixae533+85+v+ep/8803f+1rX2vUqFFJSUmPHj2WLFlSPCpFpEBkBXb5ltHwi9gdO3YceeSRBxxwwNSpU1esWPHYY4+tXbu25mfCi6+KIw9VO/q+L0NYVQa1LpHfeuutdTWoVSgvvPBCWVlZo0aNCm8KdTWExU80LTaEwV+vC084MJ8ySn9cKdyu1B3CWnOnX4urPXioTE1l6A7h9OnTfd9fs2aN53mLFi0q7BK8Q6nwUJlCvNaZMn36dM/z7rrrrhrn1s4fg11qnYaFPPpBCtC18r8L8lvf+lZhxQuEqrWc1ryAqPnnuV3eIfR9v3DT7/e//73neQsXLgy6eP755z3PGz16dHExB38oDBmwZlMKmApQzcybN8/zvLKysuLV2/f9s88+u3Xr1sV1+Pzzz9fs5eOPP167du2gQYM8z7v99ttrbnr//fcffPDBr371q02bNn3llVdqbtLPUmAPFejXr1/jxo1r3bco5Ay/iF2/fr3nebNnzy60D96aUfheWRnCgjKx/CBDWCVjhCvR7t27f/WrXw3mYM8N4Xe/+93CG+eCnGVlZe3bt6/5pPKpU6d6nhe8HyloE1yU1PwgePA1FWPGjAka6DOEgQ76t6YCtaq92BCOHj265odXfd+/4IILCp8h3LRpk+d5Nd9oF3wBQLEhDDotnCkvv/xy48aNJ06cWHMwNX+uNbCam/RzA1eArpV93x8yZEirVq0KzzR/6623WrZsuTtPGd2xY0eHDh26d+9eWGbff//9Nm3aHHPMMQW133333ebNm19++eUDBgzo0KFDzQ8LfOELX/j2t79daFnrh5AB12qpX6VAoIBZM8HXTuy7777Bg0OLF8nf/va3nuetXbt2d2TcunWr53kjRowobnzfffd5nvfAAw8Ub1JECkRWoPC1Ex9++GHNJB999NH9998ffhG7YcOGWn+/uOyyy2r+ga/4qrhmF/rZVQEZwirFihfZWjquX7/+v//7v6dOnbpw4cJly5aNGTOmtLS08OyWPTeEwfNzb7jhhkcffTT4rq0jjzxy2LBhNYcR/G17yJAhjzzyyLp164K/Q59//vklJSWXXHLJ4sWLf/3rX7dp0+bggw9+6623gh0LTxmdNm3a4sWLL7744pqPi6yZXD83HAVqVXuxIQyeMnrggQfOmDEjeDhtSUlJzWcXnXDCCS1btrzpppuWLFkycuTIL3zhC4XnK4afKeXl5Y0bNx4yZMi99967cuXKefPmXXrppWPHjg3ErzWwhjMjOtJdKmBeKwd7Be/eHDBgwOLFi+fOndu9e/eO1RRy1ryAqHmH0Pf94Cmj3/72t+fPn3/nnXcGN0mCp4wWdh84cGCbNm2aNm1aWPCDTcuXL2/WrFnfvn3nzp27atWqe++9t7y8fMCAAcHWkAEXMusHKVBTgaBmZs2atWbNmsrKyrvvvrvwxfTLly8PWhYvkh9//PHJJ5/cqlWrcePGLVy48KGHHpo9e/bgwYPvueeefz+N5sYbbzzjjDNmz569fPnyBx98cMCAAZ7nLV682Pf9H//4xxdeeOEdd9yxatWqefPmde/evWA7a45KP0uBPVQg+GL6ww8//Prrr1+5cuXSpUsnTZp0yCGHBF9MH3IR+9FHH3Xu3Lljx45z585dtGjRBRdccOihhxav57WuivdwtA15dxnCqtkvXmRr1cSWLVvOPffcrl27Bt/Yc8QRR1x77bWFx4jvuSF85513BgwYsN9++5WUlHie9+KLL3qeV/hai8JgRo8e3b59++DDtTW/h/DQQw9t0qTJ/vvv//3vf7/mrfngWn/lypVHH310s2bN2rVr97Of/azmY/EKmfVDw1GgVrUXG8Lgewj/53/+p3Xr1k2aNOnSpcs111xT897Ipk2bBgwY0KpVq3333ff73//+H//4x4IhDD9TfN+/7777+vTp81//9V/NmjXr2LHjgAEDCl/1VmtgDWdGdKS7VCDcX91yyy2HHXZY8+bNu3XrNm/evN38DGHQ6X333Rd8TWuLFi2OP/74hx9+uNZglixZEnwu689//nOtTevXrz/zzDPbtGnTpEmTAw888Jvf/GbwturCZwiDv+7V2ku/SgFTgaDIg2ILvu64d+/e5eXlNb9U0Fwkt2/fPnny5COPPLJ58+b77LNP165dhwwZ8pe//CV4h3///v07duzYrFmz1q1b9+7d+/777w96v+WWW/r06dO2bdumTZu2b9/+zDPP3LBhgzkwBaXAHirw1FNPDR48+LOf/WzTpk1btGhx1FFHjR07Nijs4HsI6SL22WefPfHEEz/zmc+0bNnyjDPOeO2112oaQt/3i6+K93CoDXl3GcIszv7EiRMPOOCAguGMPETzWj9yNu0oBaSAFJACUkAKSAEpIAWkQD1TQIawnk3ofxyODOF/yKFfpIAUkAJSQApIASkgBaSAFPhPBWQI/1OP+vWbDGH9mk8djRSQAlJACkgBKSAFpIAUiFkBGcKYBVU6KSAFpIAUkAJSQApIASkgBaRAXhSQIczLTGmcUkAKSAEpIAWkgBSQAlJACkiBmBWQIYxZUKWTAlJACkgBKSAFpIAUkAJSQArkRQEZwrzMlMYpBaSAFJACUkAKSAEpIAWkgBSIWQEZwpgFVTopIAWkgBSQAlJACkgBKSAFpEBeFHAzhMFXpjaQf/cDOgNZk6U/kLVxxjIep/Mtlh7znuRhYANwNXAVcA2wDXgAyLvOTuNXGZNchwMzgDlAH+DzACyi/e8HRgJdgRYA6eAULwGckkRorDKOIFqmdjkFmAlkavBxDSbRMoZTs4QGT+0pTnliiX8WgEX088cD04BjgG5AR+BAoCUQizhxJYlrZt3K2K11XMeahzz7AeAHO2ftmOhSJmvjjGU8KmNXGcEPPrwBAD94NfjBq8APXgN+cNsDgOtx5bq9ypim73AA/OAM8INzwA/2oUsZWkXBD94/EgA/2BX8YAvSwSleAjglidBYZRxBtEztcgoAfnBmpgYf12ASLWM4NWUIqzziMQD4wW4dAfCDB4IfbBlX5cSSx7VCqFO3MnZrTX3Wx/h+gAxhBmdbZew6KTKErorVQXuVMYl8OCBDSIp5nhfXJUVIF+YmlbEpS46CpwAyhFTbrpPrem5Se4q7jsep/WcB+rMa3CA8Hm4QyhBWzUZcM0sVa8b1llE8EfYDZAhRsvQ2mMVNwfSGmaGeZQgzNBmfDoUq1ox/ulOD+B/84OEyhCHTH9clRUgX5iazXCloZlAwXQVOAWQI4ypj13OT2lM80fr5LCBDGKPscc0sVawZlyHEGdwPkCFEydLbYBY3BdMbZoZ6liHM0GR8OhSqWDP+6U4N4n8ZwgjTHNclhWvXZrlS0DW52teBAqcAMoRxlbHruUntKZ5okXwWkCGMUfa4ZpYq1ozLEOIM7gfIEKJk6W0wi5uC6Q0zQz3LEGZoMj4dClWsGf90pwbxvwxhhGmO65LCtWuzXCnomlzt60CBUwAZwrjK2PXcpPYUT7RIPgvIEMYoe1wzSxVrxmUIcQb3A2QIUbL0NpjFTcH0hpmhnmUIMzQZnw6FKtaMf7pTg/hfhjDCNMd1SeHatVmuFHRNrvZ1oMApgAxhXGXsem5Se4onWiSfBWQIY5Q9rpmlijXjMoQ4g/sBMoQoWXobzOKmYHrDzFDPMoQZmoxPh0IVa8Y/3alB/C9DGGGa47qkcO3aLFcKuiZX+zpQ4BRAhjCuMnY9N6k9xRMtks8CMoQxyh7XzFLFmvF6aAhLAXo+/ipgLfAcsAlYD/QG6Hn9LwOPAS8ArwELLX4AxFj3saQyi5uCsfSY9yQkTtbiedfZafxO4jtlTqvx8cAU4A7gZuDXwBvAq8C9AM3IuwA9Nw8Od8pNQJnF1wHXyY3rUoP6JdHMOCVRPESBuGawGTAbgLPqjZCh5neTWa4UzNphmhXiOkj6rqlXgD8Cy4BLgUuAC4FjgfHAb4AugKtuTu3NmQoJOiX3PEeLR/Vtxl2Hkkp78IOlVwHgB1etBZ4DwA9uWg+AH+wtQxihbMxypWCE/PVvFxIna/H6p3zIETmJH5InO5uOB8gggR+8A/zgzeAHf01Xrq8C4AfvpRl5F5AhdL4EyU6x5mckdL3oegTgB5vNBui0cu03F+3p3DfjWTsis0JcBylDGDhEV92c2pszFRJ0Su68GpvFTUHXoaTSXobwsWpeAOAG4WvWDcKFcIPwB6nMbEinVLFmPCRPw9lkKpPBYMOZEee1Ow/SHA/IEAYK3ARYNwjL4Abh110Lga42XPNQe6dlhJIoHqJAXDMoQxgicq7L2KyQkIM1N8kQyhCGnQVm0WQtKEP4WDUvADKEWavYVMYTdp5naVsq4qTVqZPwaQ3Sqd/jARlCGcKg2p3KSY0DBczL/ZKSEld9ZAhDFMv1amxWSMjBmptkCGUIw84Cs2iyFpQhfKyaFwAZwqxVbCrjCTvPs7QtFXHS6tRJ+LQG6dTv8YAMoQxhUO1O5aTGgQLm5b4MYbzlkevV2KwQV31kCGUIw84C13pKpb0M4WPVvADIEKZSllnrNOw8z9K2rOmW6HichE90JHElPx6QIZQhDKo9rkprUHnMy30ZwnhrINersVkhrvrIEMoQhp0FrvWUSnsZwseqeQGQIUylLLPWadh5nqVtWdMt0fE4CZ/oSOJKfjwgQyhDGFR7XJXWoPKYl/syhPHWQK5XY7NCXPWRIZQhDDsLXOsplfYyhI9V8wIgQ5hKWWat07DzPEvbsqZbouNxEj7RkcSV/HhAhlCGMKj2uCqtQeUxL/dlCOOtgVyvxmaFuOojQyhDGHYWuNZTKu1vBTYDTwBrgUeAp4BnAfOpngsXLqRvDIc0zz4KrAbWAebw6THT44BUZrxePp4xLiV7AHSevwn83ZH3gHcAGk9nIC59MpWHRDDjmRq553nDLWYBEwH44qjxYwGrz6rYWQCkGUtfX3EZ0A8YClwCjABGW1QAA4G0KsR3Ia1BptJvKUAPd0l6kKcCbwGVQNLjTCW/SxX7SY+wBIil37bA9cDNwLXA5cBJQC9gGXA+8B1gAnAf8CuLdkAsM+J5Hky484Oj3MrYrXVcx5pknlsB8IObnwDAD64FP/jIUwAZORnCGKug/pVxXOL0AEgx8INvOvrBv4MffO8dgMYDfrBzXPpkKg+JYMYzNXIZwsAhDgXAD14CfnDEaIsKAPzgwLQqxHchrUGm0i/4wVIZwlSmI7xTlyqWIazyiOAHr70cAD94EvjBXuAHl4EfPB/84HcmAOAH77P84K/AD7YLL6rd31oC7H6GoKVbGbu1dh1LGu1vBWQIV1ezDnjKQncI0yjhOPsEP9iDTnwZwjjVd8xFk2LGHXMn3ny4xSxgIjAeoDt7Vp9VsbMAyqM7hDHWh1muFIyx3+ynkiHM/hwVRkgVa8YLeyX0A7gD5/tF5vDaAnCD8PqbgWuBywEZQnM6gmBcM26WKwU92mDGQ0afnU23AjKEMoRBVWenVutgJDKEdSByXF2Yqy4F4+o0rjzDLcAPzgI/OBH8oN4yOnr06NEVwEAgrpl1zUMVa8Zdk+e6vQxhjqbPLFcKJn1ccdkDc5xtARnC4J7hryzaAabCEYJxzThVrBmXIdRbRtcFPGWhO4QRzuRM7SJDmKnpCB+MuUZTMDxV3W8dbiFDOLQavWU0L2Wc6IkjQ5iovPEmp4o14/F2XZwtLntQnNnzvLaADKEMoVntO4NmMWUtCDcIb9UdwtXVrAMsP/iUDGHWytt1PDKEroql2D5s8S3aluI4za6HW8gQDq1GhrCofncGzFqqr0EZwhzNLFWsGU/6uGQIe/XSZwirqsC10sxypaDuEOoO4U6DKEPoeqblor0MYS6mKRgkLdNmPGvHZfnB4TKEQ6uRITRr2PcTfxpHpk4TGcJMTUf4YKhizXh4qj3fKkMoQxjUgGstmeVKQRlCGUIZQtdTLE/tZQhzNFu0TJvxrB2XDGG/fv2GAjKEZg3LEAYWUU8ZzdpqlrXvspIhlCGUIYyySmwAdvqeov/oayTWAPQ9gRSvBNYDjwLLgVUAdFtJ4zTjTwOvAFEmLI59fBfi6DA3OQYCJNhW4CPgA8eveKoAACAASURBVOAfAKTfSuMZAORmAlwGSiKYcZfEcbZtDUy3qAAmAGXAOGAyQE8THQmQYRsDjAdGA9DtyFGA+XUUpuUePnz41cBBQJzVYOXyXbAS5D5WAiR9YK2Aa4CXgHeAZUDSx5VKfpcqdr7RDQWCYVcFBlnMBUYDFwGzgUXAYIC+U2omcC4wCOgKnA3MAH5hcR0wHmgJ0MyWANSe4m5l7Naa+sxSfANQ5AR3BmQITSsYBJ8GXgHSKoT6V8ZxKTkQIMW2AuAHPwI/+ME/AEgvQ1g14TQpZjyuCnHNA36wteUHp1cAEwDwg2XjgMnAWGAkIEPoWgYh7c1ypWBInvxuKgGSPiLwg62uAcAPvvQOsAxI+rhSyU8Va8ZdRwgFgmHX/IMs5gKjgYuA2cAiYDAgQ9iyZUua2RKA2lPcLFcK5uMShA7VjG8AZAgrqwmxf8WbngZeAcwZqYOg70IdjCc7XQwESLCtgAxhHcwpTYoZr4PxmF3IEI4ZMwb+Cjx+NDASGAXoDqFZe3kJlgBJj1+GMEaFzVWXgq79QoFg2DX/IIu5wGgA/OBF4Adngx9cBH5wsAyhDKFrYTu33wDIEFZWU+z6QiJPA68AzrMV0w6+CzH1mY80AwESbCsgQ1gH802TYsbrYDxmFzKEMoRmYRSCZrlSsLBXffqhBEj6GGUIY1SYKtaMu/YLBYJh1/yDLOYCowEZwhnVWO8Y/cV1AP2tEN4xqjuErqXt2H4DIENYWU2I/Sve9DQAfvAVx7mKrbnvQmy95iER+MGBJNhWQIawDmabJsWM18F4zC5kCGUIzcIoBM1ypWBhr/r0QwmQ9DHKEMaoMFWsGXftFwoEw675B1nMBUYDMoQyhGa17wy6FmUq7TcAMoSV1RS7vpDI04AMYSq1HaFTGcIIoqW1i+9CWoOUIZQhDK89lyp2fhpHeNcZ2VoCJD08GcIYFU60jKFAMOx6XIMs5gKjARlCGcKws8C1KFNpvwGQIaysJsT+FW96GpAhTKW2I3QqQxhBtLR28V1Ia5AyhDKE4bXnUsUyhOFaum2VIXTTK7R1omVc4kjoSI2NgyzmAqMBGUIZwrCzwKi77IU2ADKEldUUu76QyNOADGH2Ct8ekQyhrUsmo74LaR2BDKEMYXjtuVSxDGG4lm5bZQjd9AptnWgZlzgSOlJj4yCLucBoQIZQhjDsLDDqLtWQufy9CjwOrAFWA8uBlQCkWQ1plkOalZRnBUB5oPkKU4angW1AWuUQVrVF29IaZCr9jgCKVNkZeBf4CKCvnfgn8DZA4zkXSEXMpDslEcx40oOh/P2AORZTgKnABIC+joI+wX8lcLUjkObKkcDlwGXACGCUBeS+nEQ4HaCZjStulisF4+o013mozBYATwIk8jvAq8BmoBLItfg0eN8FSuIaLwUoT09gusUQ4McAPDblumnAzcBKYC7QFTgVOBs4A+gLfBHoatEduAiAU3kBzWxccZcq9vP9tRMyhKtXryaDB+fgSmovQxjXGZipPCMAWibeBcAP4vcQ/hN4G6DxnAtkSuS4BkMimPG4OnXN0w+YYzEFAD84dQIgQzhq1KjLgfEA+MHTXWfctb1ZrhR0TV4v28sQZnBaqWLNeFzjLwUof09gusUQ4MeADGHgELtagB/sDn7wIhlCquHY4jKEMoRBMZlrNAVjq788JBoBkDjgB9+VIayD2aZJMeN1MB6zi36A5QfngB+cIkMY3DKEs3PEKAvwg7pDaNZpnoIyhBmcLXPVpWBc4y8FKH9PYLoF+MEhPwZkCGUIqeCr4lSUacVlCGUIg9oLq9qibWmVayr90hVnkSo7AzKEqUxTjsq4HyBDOHLkSPJs8I7Ry+j0HGVByccDukOY4rns1LUMoZNcddOYXiLNeFxDKgUof09guoUM4RnV9AXgHaNf7GqhO4QyhKtXr47ts3/LgZVAVd8W9BZQSKO3jGaujGmtjyVOV5zmq5rv++8CukMYy3SEJ6FJMePhqZLb2g+YY6E7hIGLkyE0aziDf2VO7sQJySxDGCJOWpuoYs14XIMsBSh/T2C6hQzhGdX0BWQI9RnCx83Pzq1Zs8YyX1Ux8HHOD4OJK48Moeflu4xprY8lLkMYi4x1k8S81KBg3QypuJd+gOUH9ZbRnXf1ZAizVsbFhZ1iRIYwRfGpa6pYM05JXOOlAOXpCUy3kCE8o5q+gAxhvq+k9ZZRvWU0WCjNNZqCtLbWy7gMYY6mlSrWjKd1XP0AGUK9ZTSoSbNcKZhWGWeqXxnCTE1HimVcCpA+PYHpFjKEZ1TTF5AhlCHUHcKdtxjNO6VPA/CtE9to2Uo6TlcbZjzpwWQqvwxhpqYjfDBmuVIwPFVyW/sBMoQyhEHVUcWa8eQKNUeZZQgzOFlmuVIwrvGXApS/JzDdQobwjGr6AjKE+TaEh1tsAh4HTCO0Zs0aeivmQ8BSgPLQW0Yh/UOQfukSgNrTeJ6weAr4ANgboOUsrjgt02Y8rk5zkWcUYCrj+/47wL+Aj4B/ApD+HRrPQCAX4rsOkkQw467J42o/FLjNYipAz6+bBIwHyoBxwGgA0mN4DDASoL/L0FtJL7agJKBB2QVAXJVAeXwXKEm9jFM9kWBvA28CrwMvA68BbwDwIvCvejlZNClm3FWBUoDyQPPS84A5Fp2APsD5ACyio0cAlwDXAzCcPg8Cs4EbgRnAXMDScg68woyDV4Yx04BjAaoE17hZrhSUIcQ7hCsAV8MGaVYsB1zzLwGWAjSeJyyeAj4A9gZci9i1PdW3GXdNnuv2owBTGRnCdOeaJsWMpzXUocBtFlMBGcLg2kmGMK0yTqXf8YAPvA2AH3wT/ODr4AdfBj/4GvjBN2QIYaKcn1RXClBZQnMZwiqPOBsAP3gj+MEZ4AfnzrGQIXQueiruuOKHW2wCHgd0h3BFNU9YgB98CvzgB3sDcc045aFl2oxTknoZHwWYysgQplsDNClmPK2hDgVus5gKyBCOqEaGMK0yTqXf8YAPvA3IENbB9MGc2GHX8ZDBozzU/jxgjkUngO7IwQ3C80cDI4BLALhBeD2N50FgNiBD6PzARbu6IUrFmlbc8oOHgx/cBH5QdwhXBDxhIUOYVm3H1e8oAE5xvWU0LuGj5KFJMeNROohjn6HAbRZTARnC4NpJhjCOksxNDvCD433gbUCGsA6mHObEDruOpxSgPNBcdwirPCL4wdkyhDKEMoQ730K6FFgBPGEhQ0gLdF7iowD7ZU2fIUx1XmlSzHhaIx0K3GYxFZAhlCH0q0mrjFPpV4YwFdmjdRrU527+69oFGTzKQ+3PA+ZYdALojpzuEM6txtJSnyH09ZbRFStWrHD9jF/VPhbLAdf8O/1f0X/gB5daY6mKPWEhQ0gLdF7iowB6nXsHoE+PfAT8E4D0eqhMVUHRpJjxtCpwKHCbxVRAhlCG0K8mrTJOpV8ZwlRkj9ZpUJ+7+a9rF2TwKA+1Bz94nulhwA92kiEMPlUY2L/if00xxwF6qAzVcOJxvWV06VI9ZbSqzHZz1Q6aJV6XWepgFECKkWGTIayDWaVJMeN1MB6zi6HAbRbgB6fKEMoQ+tWYNVZfgzKEOZrZoD5381/X4yKDR3movQyh3jJKNRPEd7OAg2b5vpKWIZQhjFL04SdQ/do6CqBlQoYwxfmnSTHjaY1zKHCbhQzhyGoC+1f8rz5DmFYZp9KvDGEqskfr1HfBtQsyeJSH2ssQyhBSzQRxlyr2820Ij7XYBDwBPAksAxY5sjgmlgALAeoWDmvZcxZPAx8ArYDwkt3zrW5Fv+f95SfDQIAUewug9vCO0Y8+AeiB5pT/DCA/M+AwUhLBjDvkjbXpFcCtFtOBCcBEYBxQBlwNjALGAnCsVwwHID2GLwDMHYYB5cAYINZyMJL5Lhj719/QSGA78CpAXy+xEdgMQPON7wI0sfVyxuhgzbirAqUA5WkPfBnob3EScCZwOvANoI8jpwL7AvsAHYCewOFAO6C1xQHAV4BrAetlsypGleAaN8uVgjKET4AffJKMk6MfXLQ4JpYA4AcXUrd0XM9ZPA2AH/ygFeBaxK7tqb7NuGvyXLcfCJjK+L4PfvAtai9DGGN5kMhmPMZ+nVKRRzJf2KYDE4CJAPjBcWXA1cAoYCxABzscgPQYvgAwdxgGlANjAKfpjtDYdyFC/vzuMhIAP7j9VUCGsA5qwKWKnZ+vUQrQcbUHvgz0tzgJOBM4HQA/+I0+jpwK7AvsA3QAwA/2PBwAP9jO8oOtwQ8eAH7wK9cC5uumDCGdCGHxYy02AU8AMoSBRbT84HNPAzKEYXWZpW0DAR+QIUxx9mBO7HBa4ySPZL6wTQcmABMBGcJRo0aBHxxWDoAfHJN05dj1CtGkB5Op/CMBGcJMTVMwGChYO+w6/lKA8oAfbP9lwPKD/U8CwA+eeTogQ9i6tQxh9p4yeqwF+MFN4Ad1h3DnLUMZQlqLcx0fCNgva7pDmOpk06SY8bRGKkN4xRV6y2hY9ZnlSsGwRPVuG/jBkTKEGZxqqlgz7jp+8IOllEeGcN99990H6ADoDqHzAxfN4qYgFWta8WMtZAiDN5EuBnb6v6L/ZAjTKuNE+wU/OJDOcd0hTHQ6wpPTpJjx8FTJbZUhlCEMry6zXCkYnqqebZUhzNGEUsWacdfjkiHs06fPqcC+APjBfcAPdpAhlCE8VoZQhtBcsgtB17U71+1lCHM0fYUS3Z0f0jouGUIZwvDa253qLbQJT1XPtsoQ5mhCCyW6Oz+4HpcMoQxh8KFC86MW+gyh6wlV1f5YCxlCGcLwFTxKqeV2HxnCHE1deN3W2prWcckQyhCG116tQg3/NTxVPdsqQ5ijCQ2v21pbXY9LhlCGUIbQ9azZRfuTLcgQrgdeAIreU7kzsARYmjAPAYuABwAY/hLzvYKg2Xr6mvI2wC4mco8311qdw3/d497ylKAfQBK9DVD7KQC13wpQe3hTyal5moPdHiuJYMZ3O2vMDa8DzL90zgGmAVBNUyYBZcB44EpgHDABIFc8AoD0434E3GMBY5kAGpRNBGIuiKJ0ZrlSsGjv+hywLliqYvQZwr8BmxzZDGwE/g78BaiXc0YVa8ZdFSgFKM9Y4HJgP4vDgbaOdAUOBQ4EzKd3tm7dugXQBYAH63y5E1ABnAJ83+IS4E5gOnApQJXgGvddyPfXTpjLKy2V5G1eAJYBS4ClCfMQAH5w0QMADF+G0PVEy0f7fgCtEm8D1H4KQO23AtT+VCAf6juOkkQw4465Y2t+HXCrxRxgGgDVJEN4zz333DMBkCGMrbgTTmRescgQJqx6xPTmqktB1z5KAcozFrgc2M8C/ODhbR0BP9j1UOBAQIZw+vTp4AcvpUpwjVPFmnEZwvXgB19YBiwBEvaDSx8CZAidPzjrekrluT34wX7mcuD7/tsAtZ8CUPutALU/FcjznODYSQQzjlkS3nAdYPnBW+cA0wCoJhnCe2QIE67rukgvQ1gXKsfUh7nqUtC1T/CD+JTRsQD4wcstP7ifDGGnaiqAU4DvW1wCwA3CO6cDMoSu5w62N5fXTYDuED5QzRJAbxnFOsvzhn6AD7wNQHN/CkDttwLUHvyg3jLq/FXIcVUx+MHrZAivuOKKEcA44EfAPRYTAN0hjKu2k85jXrHoDmHSskfLTy9JZty1i1KA8owFZAi7dOmit4xS2TjfLDGLm4IhvaayyVxeNwEyhNV+8IElgAxhKjWcdKfgB3WHMGnho+SnhdeMR+kgjn2uA2QIZQiD+jLLlYJxlGRucphXLDKE2Zw/qlgz7noI4Ad1h7DqbaTwEcIWXQAZwpDyM8uVgnrLqN4yutMgyhCGnFT53SRDmKO5o2XajKd1XOAHdYfwChnCoCbNcqVgWmWcSr8yhKnIHq1Tqlgz7tqFDOGBBx6ozxDqM4SuJ05Ye3N5hRuEm3SHUHcIg6U8rKTq3TYZwhxNqXmpQcG0jkuGcMKECVXmzwLeMTpiHPAj4B4LeMeonjKa1qng3K95xaI7hM461skOtPCacdcRyRDKEE6vRp8hdD13sL25vMoQLqomsH/F/8I7RvWUUSyzXG+QIczR9JmXGhRM67iuA261mANMA6YA8K0Tk+jjc+OBK4FxAHkwywxWxUYAkF5fO5HaR2FTOX3MKxYZwlTmYped0sJrxneZrVYDGUIZQhnCWifFnv460GIzAN+g85fXgEpgBbAMgOYrlscEdLtsJbAK+IfFk8AHQDtgT2d6V/ubazQFd5WsXm0/HiBx3gWoPTxo+tDtwDaA8vcC6tUkfXowJIIZ/3Snuv7/ZuB2i98Bm4AZQPDaWfzvFIAM5ESgHCDDWQFcDZAh/AlwrwUIfzOY3/FTgaQrxixXCiY9mEzl7wpYr71Vsb858joAZ9smaP76PwGrKqtimRI5rsFQxZrxuDqlPJcAq4EnLIpvDwSRp4EtgKmA7/vPA/Cav42uybsBA4EOQCkAzTu0Bcyr2u5AH6AEOBXoBFCFUJwmy4zn+zOEZnlsBqj4wA++VgmsAMiYQfMVy2OC+gU/uBL84CrzNQn84JMfAOaZ065dOyrWuOJmcVMwrk5zked4gMR5F6D2hwLbAXptoPzgB3vlQnzXQZIIZtw1eVztbwZut/gdsAkAPzhjOjAFkCEcP16GMK6Sjy0P+MGu5ouvDGFsukdKZK66FIzUg8NOlwCrgScsHgCeBrYAJMLzAL3o0zU5+MFuAwEyeKUAtW8LmJe14Ae7gx/sUwKcCnQCHIqmuilNlhmXIdQdwp0O0XxNkiF0Pf2y1h784PHmcuD7/rsAtT8UAD+4nV4bKL8MISmTVqXdDNxu8TtgEyBDGNwyNG/FgPC6Q5jWqeDcrwyhs2Tp7UALrxlPepjgBy9ZDVh+8IkHgKeBLYCpgO4QBhZRhjDpcwHzD7TYDNBfI3SHMHCEMoRYZ3neIEOYo9mjF1ozntZxkS2x/ODt4Ad/B35wkwyhDGFahV0H/coQ1oHIcXVhrroUjKtTyiND2K2b7hBW3TSkCqE4VawZ1x1C3SHUHUI6lepDXIYwR7NortEUTOu4ZAjLysoqgKsBfYYwa2WcyukjQ5iK7NE6pYo149G62P29ZAhlCKvsoAxhyDlj3SAcuBnQHcLgU4X6DGFIRdW/TTKEOZpT81KDgmkdlwyhDGF47VHFmvHwVPVsqwxhjibULFcKJn1cMoQyhDKEuzjLZAiXL1+uh8p4Xr5vdO+iyvdsswzhnulXp3vT1YYZr9OR1ehMhlCGsEY5GD+a5UpBY//6G5IhzNHcUsWa8aSPS4ZQhlCGcBdnmQyhDGFQIuYaTcFdVFX92ixDmKP5pIo142kdlwyhDGF47ZnlSsHwVPVsqwxhjiaUKtaMJ31cMoQyhDKEuzjLRltsBF4B/gqsAyqBh4DgjZp7/i99SwXdIYRhVtJI3rR4EqD3354A7GIi93izuUZTcI97y1OCLgCJ8x5A7fcC3gV2AJSfHu6cpznY7bGSCGZ8t7PG3PAe4E6LxQA81u7pcoAeNjMZmAhMAMoSBg6rfCgw04Ke0EPJpwMxF0RROrNcKVi0d30OHARsBejZSxsd2QzQ9xB+CMDZM6FezhlVrBmPS4FS4CsANC+dYnEZMBToD3wDOB0YA1wP9ATWAHcBcEn+0FrgecD8mNU64AHgFADm5LK4rnx8F/L9XrvRFrRUvgL8FYDpXlcJUPGtjAkZwpA116Xm/ZA89W9TF4AUAz/4HrXfC3gXAD+4g/LHtSzmYmZJBDOe1hHdA9xpsRh4GigHZAhnzpz5OwA0Kwc/OD3pyjHLlYJJDyZT+cEPHrQV2ARsdAT84GYZwpDyoIo14yF5nDaRwQM/+BVqP8WCvMdQoD8AfvAb4AdPBz845noA/GBP8INrwA/eRdfka4HnARlCs+YzdyVt+cHRtFS+AoAf/KsM4ZtvvvkkoDuETqt8io27APYZ7vsyhClOFk2KGU9rnOAH77nTYjEAflB3CIcGzLT4HVAOyBCmdY5QvzKEpEwG4+aqS8G4xk8GT4awZ08Zwqo/j7tWGlWsGdcdwldkCFdWY71jVIbQ9ezLXHvwg13M5cCXIUx1AmlSzHhaI5UhLHMHLJveMpq5vzInelrJECYqb7zJzVWXgnF1LUN4/fXX6w7hZZfpLaPup5TuEIY8VKYSCOxf8b8yhO4FmIM9ZAhzMEmfDpGuNsz4pzvV9f8yhO5+sEyG0Kxh35chrDKJW4FNwEZH9JbRCKskVawZj5Df3EWGUIYweGdvXB+WMcuVgrpDqDuEO72hDKG5QOc9KEOYoxmkZdqMp3VcMoQyhOG1Z5YrBcNT1bOtukOYowmlijXjcR2XDKEMoQxhxLNJdwh1hzAoHXONpmDEasvnbjKEOZo3qlgzntZxyRDKEIbXnlmuFAxPVc+2yhDmaEKpYs14XMclQyhDKEMY8WySIZQhDErHXKMpGLHa8rmbDGGO5o0q1oyndVwyhDKE4bVnlisFw1PVs60yhDmaUKpYMx7XcckQyhDKEEY8m8w30m8BXgSeAdYDDwNLgeJP6wWRFY4sc6QSoPG8ZPEUYCq/cePGBUDECd7t3cw1moK7nbU+NNwbIHG2AdSeNIIPv2yiPBT/IkD95jpOIpjxtI50PnCnBawfT9HidwUwE/ilI5OBCcAkAJpPGAeQh/wRYGoMi+uCCuDXQNKVY5YrBZMeTKbytwXeATYDtLpSHNI4f+3EhUCmRI5rMFSxZjyuTqFA2t4I/Bh40GI48BOgP3ACMAQYDdDi3QOYCZQD5wD9gCuBORa0Go8EmgCtALjw+aJrpZnlSsF8f4Zwo8UWAPzgi+AHn1kPgB98eCmwEqBLIoovc6QSgOGstPzgS08BlvBVsQWAaxG7tqf6NuOuyXPdHvzg3qYyvu+DH9xG7UmcTQDloXhcyyKNM1NxEsGMpzXy+cCdFrB+yBDudIg/AkyNYXGVIUzrVHDuty3wDkBGDhZXDFMe1+8hBD94obMQedjBXHUpGNcBQYHIEPbo0aPHTKAcAD94DvjBflcCcyxoNR4JgB9sAn6wVVxXPlSxZlyGUIZwZYAMYVxreqbyyBBmajrCB2Ou0RQMT5Xc1vmA5QfvlCEcV43uEGatjJM7QUIy0+U++MF3yMih84MNlEeGMGSyqGLNeEgep01UIXCD8Ea4Qfhj6wbhg8MBuEH4k/7ACcAQAG4Qjv4lUGX+LGYC4AfLZQg9z9HimcVNQafKroPGGy22ALpDWFnNTv9X9J8MYR1UbN13IUNY95pH7pEWXjMeuZc93BH84HwZwgkT9JbRquIyy5WCe1iN+dq9LSBDmMF5pIo143GNHwpEdwirDCL4wZkyhCHlZ5YrBfO9dlt+cCP4wS0yhJXVFDnBnQEZwpCTKr+bZAhzNHe0TJvxtI5LhnDSpEkTgHGA7hCaNdzQvoeQLvdlCNNazUL6pYo14yF5nDZRhegOoQxh8CZSp3Jy/vOcWdwUdB1K0u1lCJcxlYAMYdJlman8MoSZmo7wwdDCa8bDUyW3VYZQhjC8usxypWB4qnq2lS73ZQgzONFUsWY8rvFThcgQyhDKEO7iLJMhZD+4rBKQIdxFVdWvzTKEOZpP81KDgmkdlwyhDGF47VHFmvHwVPVsK13uyxBmcKLNcqVgXOOnCpEhlCGUIdzFWSZDKEMYlAgt02Z8F1VVvzbLEOZoPs1ypWBaxyVDKEMYXntUsWY8PFU920qX+zKEGZxos1wpGNf4qUJkCGUIZQh3cZbNsFgFvAmYn5176aWX6DOHlcBDwAoAmj8U4vHMTcsBGCaGn7d4G1gKnA7sYiL3eLPvwh73Vh8SkGD/Aqg9aeH6/DrK3xGgfnMdJxHMeFpHugC4w+IvwLPAFcB0YCowDZgCVAATAXqMAcUhfcUwwJShEoAxTrwJKAHiqijfhbg6zUWersDfAfNP3hs34oMSqP1mgFbpD4DxQC7Edx2kSxX7rsmp/X7ATKA/YK5/3YDGQHsgcCbF//YFTgMuAvoAjwJjgGOAEwF4MZl6q8WNwFwAtOkLYx8zC6DKobhbGbu1pj5Tis+wAD+4Cvzgmy8BMoTPP/88+MG3lwLgB09PukByXcZJi2PmJ8XAD/6L2pvJPc+jS40PAcrfEaB+cx0nEcx4Wke6ALD84B3gB//yLHAFAH5wOr2Em9dD06ZNmwJUAOS1yh2B9DKEsV1Jp3U6OPXbFQA/+HcyeFsAar8ZoFX6A2A84CRCXhqbqy4F4zqo/YCZQH/AXADBD3YDP9gY/GD7YisYRPoC4AdPAz94EfjBPo8C5KmOAcAPnkivJpYfvPVGYC4A2sgQxnXqeN4MCxnC4JZhpSPPW8gQxlet2cpEL2wyhCnOE02KGU9rnAsAGcJypgIYBpi+uBIg13oTUALEVVG+C3F1mos8XQEZwgxOn0sVx/Z3jf2AmUB/QIZwzJgxxwAyhFTb+f7aCcsPzpAhlCGkcg/iGXztqfshkUQyhHU/F4UeaVLMeGGvOv5hASBDWM5UAOAHh8kQ1nFV10134Ae7yhDWjf5OvZirLgWdMoc0Bj+4H/jBmeAH+8sQyhAGZUYVa8ZlCPWW0cqA5y10hzBk7c71JnM58H1fhjDFaaVJMeNpjRP84AIZQvaD5RWADGFaZZxKvzKEqcgerVNz1aVgtC6K95IhvOgivWV0zJgx+gxh8cmxq4juEC5btiy4H1j8b6Ujlh/UZwh3VYK53U4vbDKEKU4pTYoZT2ucMoQTJ04M8X7mpgpAhjCtMk6lXxnCVGSP1qm56lIwWhfFe8kQyhBW2UEZwuJzY5cRGUIZwqBIaJk247usq4bQwFRGdwjTnXqaFDOe1lBlCGUIw2vPLFcKhqeqZ1tlCHM0oVSxZjyu45IhlCGUIYx4NskQyhAGpWOu0RSMWG31azcSR3cIU5xnmhQzntY4ZQhlCMNrzyxXCoanqmdbZQhzNKFUsWY8ruOSIZQhlCGMWldI9QAAIABJREFU62wKy2M+OvbWW2+lz3M/DlQC9DCb1cAyAJqvpvwwnMqHgT8C5hOrjwXChE5jm+9CGgPMXJ8k2EcAtacDew3YDlD+VgD1m+s4iWDGkz7SFgCsW8vmW2wClgAjAfraiV8C9ADxKQA9qLMiJsqBYcCJFs8D5gMkpk2bdgvQEoirosxypWBcneYizzkALLof/Q14A9jsCCzSr20DHgFyIb7rIKlizbhrcmp/EDAIGA1ssngJmAQsBGg1vhA4AegENAFaAdC8SSOgGfBfwLEWA4AFwHBgLDAboMqhuFmuFMz3Q2VIAjMuQxg4xD8CMoRm2dTXIK0IdGlC7UkfutTYDlB+eAloRf3mOk4imPGkjxT8YItlgOUH51uXJVWxJcBIgC5BwA/+ciowBZgIVMREOTAMONHieUCGMOlzIa785wC06oIf/Bv4wTcc/eBmWqW3AY8AcemTqTzmqkvBuEYOfvAg8IODwA+O3mTxEjAJWAjQagx+8ELwgyd0AsjgtQKofSMA/GAz8IP/dazFAGABAH5w+FgA/OBs10qjijXjMoS6Q/jHABlC1zMt1+3N5cD3fbo0ofYkAl1qbAcoP7wEyBDG9s1XNIMyhBMnTqyICfCD5cOAEy2eB2QIqYazFj8HoFVXhjDFGaSXJDMe1zhlCDt16kQGrxVA7RsBMoRmDfu+L0MoQyhDGNdinqc8tCLQpQm1p2OWISRlQuIkshkPyRPLJhlCGcJohWSWKwWjdZHTvc4BaNWVIUxxoqlizXhc45QhlCEMbhnqDmFc55SdR28Z1VtGg6Xcro8GFjVf1XSHMN0qoEkx40kPVYZQhjBajZnlSsFoXeR0L/CD58gQZnBCqWLNeFzjlyGUIZQhjOtsCssjQyhDGCzlYVXSYLaZr2oyhOnOP02KGU96qDKEMoTRaswsVwpG6yKne8kQ5mjiqGLNeFzHJUMoQyhDGNfZFJZHhlCGMFjKw6qkwWwzX9VkCNOdf5oUM570UGUIZQij1ZhZrhSM1kVO95IhzNHEUcWa8biOS4ZQhlCGMK6zKSyPDKEMYbCUh1VJg9lmvqrJEKY7/zQpZjzpocoQyhBGqzGzXCkYrYuc7iVDmKOJo4o143EdlwyhDKEMYcSzqdTCNdeLwFrAfLr6/Pnz5wH3AncAvwPgYbYLFgE0zn8A5jBdxUyrvblGUzCtQWaqXxInri+mp4fKfAzQeD4DZErMuAZDIpjxuDqlPJ8H4FHkC80F6h2Anro5Evg1MAm4FpjoCI2T4uOACmAo0M+CvlTgJmAWcChAleAa911wTZ7r9ssBWnU3Am8CWxzZBED6N2licz0pNHg6WDNOSVzjnYAjAPqmhB4W04CTAfqui7OAc4DhwNlAN+AK4DzgOAC6PRteTCbNsIBjGr4NgFN/+W+A+YBrRZnlSsF8P2W01MJVrxeBtQBMkwyhq/Bxtqf6NuNxdpzbXKYyvu/TpQm1JwFkCEmZkDiJbMZD8sSyCfzg52UIyQ2Wl5ePAyqAoUA/i83ATcAs4FAglrLxvHxfVMQlgpmHLgpp1d0IvAlscQT84CZIL0PoE+Z0Rwh2AsAPHiFDeMUVV5wHHAfIEGIZ0wYzHqG+E92l1MK1xxeBtYAMoavCddDeLFcK1sF4st8FiUOXJtSejlSGkJQJiZPIZjwkTyybZAgnTpwY4v3MTeAHx1UAQ4F+FuAHN98EgB+cBX7w0FjKRoYwRMblAK26G4E3AUc/uEWGMGSyfBdC8jht6gTIEHbr1g1uEMoQhpWYSxXn/HsISy3CtLG2vQisBWQILRVTjrkVfcqDzUT3pBhdmlB7OhgZQlImJE4im/GQPLFskiGUIYxWSGa5UjBaFzndazlAqy74wY1vAjKEMRYGVawZj6tf8IOdZAhlCAPr4VppZrlSMN/v7rD8YKmrXi8C4AfXyhC6KlwH7am+zXgdjCf7XZjK6C2j6U4cTYoZT3qoMoQyhNFqzCxXCkbrIqd7LQdkCDM4oVSxZjyu8csQnn322fARQt0hrDIfrpVmlisFZQg98IMvyhDee++9rsWXVnuqbzOe1iAz1a+pjAxhunNEk2LGkx6qDKEMYbQaM8uVgtG6yOle4AeXyxBmcEKpYs14XOOXIZQh/E01dOfJtdLMcqWgDKEM4T8C7rVwLb602lN9m/G0Bpmpfk1lZAjTnSOaFDOe9FBlCGUIo9WYWa4UjNZFTveSIczRxFHFmvG4jkuGUIZQhjDi2aS3jC5YoK+dqCoec42mYMRqq1+7kTj0t2pqT6roM4SkTEicRDbjIXli2SRDKEMYrZDMcqVgtC5yupcMYY4mjirWjMd1XDKEMoQyhHGdTVV5SgDqYyDwIfAS8CzwOLABeBJ4AoDmT74OvAGQPrmIm2s0BXNxREkPksSBqv+Q2tM4XwV2AJS/KUD95jpOIpjxpI+0J7AAeMDiXeB7wChgOkDfHHUdUAFMBqB5RZkj9PTRsUBXi5eBOcDNwNFAXBXluxBXp7nIs/PdOEX/bQU2Am/GxFvA3wCaWCioo3MxKTRIOlgzTklc40cAhwNnAOdbXAyc4sh3gL7ACUBXYB/gOOAgYC9H2gPNLVoCFwD0B9Z9gWOBJgBVmu9CPby1UgKQXgMBujJ+CQA/+Cz4wcc3AGTwngCoPfjB18EPvkH65CLuUvN+Lo4o6UGSYlT21J7G+SoAfnAH5Qc/2JT6zXWcRDDjSR9pT2AB8IDFu8D3gFHAdECG8OWXXwY/OOdmIOnLd7NcKZh0GWcqf5ET3BnYCoAfxKeMuvrEtwDwg3+jSUy6olKZRDpYMx7XCI8ADgfOACw/eD74wYtPcQT84Hf6AicAXQHwg/scB4AfPMjRD+4FfrB9c4uWwAWADGFc54hbnhKAsgwE6Mr4JUCGkBSug7i5RlOwDsaT/S5IHCp7ak9H+iogQ0iKZe2dzz2BBcADFu8C3wNGAdMBGUIZwpATKmubZAizNiMh4/FdCMnjtOkI4HDgDECG8KCDZAirSs+linP+PYTmmVYCmI09zxsI0JUx+MGXZAhJ4TqIuxV9HQwo812QYlT21J4O9FVAhpAUc167QxLFsQn8YM8FwAMW7wLgB783CgA/OF2GUIYwjmKvoxwyhHUkdBzd+C7E0WFVjiOAwwHwg2fIEMoQBjXpUsUyhDKEb+wkrhUtlTxuRZ/KEDPWKSkmQ5jiRNGkmPGkxylDOHny5ArA8SOEZfoMoVnDvt+w3sAvQ5j0qhVjfqpYMx5Xv+AHjwA/eLgM4XHHHae3jDZp0oQq0CxXCjreT6Q+sxQvAWiMAwG6MtYdQlIyxTjVtxlPcZzZ6dpUxvd9KntqT0f0KqA7hKSY7hB+73u6Q7jzITNdLV4G9BnCkHMqU5tkCDM1HeGDoZc8Mx6eave3yhB27dpVnyHcd999jwXgmTIyhHCSgR8sgeZ6y6juEFJp1Oe4+aomQ5julNOkmPGkh6o7hLpDGK3GzHKlYLQucrqXDGGOJo4q1ozHdVwyhDKE+1ZzLCBD6HauyRAGzx3VU0Z9wK2e6mlr0EZ3CNOcb5oUM570QGUIZQij1ZhZrhSM1kVO95IhzNHEUcWa8biOS4ZQhnDfao4FZAjjOtfsPD8Gdt44K/rveeAj4C1gM0BPjn4b2AS8AiwGbHVyEvVdyMkxJTtMEuwTgNrTKOmd1ZSH4q7LH40nF3ESwYwnfUR9AFg/Ft9vAYvW28cBI4GbgOuAqcBkYCJQAdBnCKF5xdXA9UAzi4eBe4EZAExsn7gqyixXCsbVaS7ykAj0ol909bEzQO1d43Bt8hb9NZnGfzmQi0mhQdLBmnFK4hqH9eB6OMXvnQAsshgG0LeG9ACGAJcCMMYJw4GOwEDgZOA8YCgAi/TVMy2uBC4GzgJGAGcDrhVllisF6+FnCF31Aj/4Y1qLnwc+AmjNBT+4mdZ0urTaBLwCLAZcdctUe6pvM56pkac1GFMZ3/c/Aag9jf8lgPJQXIaQlCHl44qTbYD1Q4awyiRWAHSpcT1g+cFm4AcfpotF8IMzaGbjqhyqWDMeV6e5yGMq4Ps+vejTRQi1d43TxYkMYVqf6Ib1QIawyiMOBMAPngx+8LyhAK3SMy3AD155MQB+8CzwgyPAD57tutDRmmPGZQg9GcLgCs+1zjLV3ixuCmZq5GkNhsT5BKD2NH7wgy9RHorLEJIypHxccbINMoQVFRW6QxhSZlSxZjwkT/3bZCogQ5jNiabJMuNxHcL1AP3Rh26+WTcIF8ENwmFHA3CDsMcQAG4QXkqDhBuEw+EGoQxhlUl0rTSzXCkoQyhDuPMCz7XOMtWe6tuMZ2rkaQ3GVEZ3CNOajqBfmhQznvRQZQgnTpxYAcgQhpSfWa4UDMlT/zaRCHRnT3cIU6wBmiwzHtc4wQ/qDqHuEO68ZehaaWa5UlCGUIZQhtD1FKsP7WlFgBuEn1B70kJ3CEmZkDiJbMZD8sSySYZQhjBaIZnlSsFoXeR0LxJBhjCDE0qTZcbjGr8M4fDhukNY9TbSnf6v6D/XSjPLlYIyhDKEMoSup1h9aE8rggxhirNLk2LGkx6nDKEMYbQaM8uVgtG6yOleJIIMYQYnlCbLjMc1fhlCGcLgU4VFTlB3COM6yULz6DOEgSMMFSnrG801moJZP5g6GR+JI0NYJ/LbndCkmHE7RXxRGUIZwmjVZJYrBaN1kdO9SAQZwgxOKE2WGY9r/DKEMoQyhHGdTVHyyBDKEEapm5zvY76q6TOE6c4qTYoZT3qoMoQyhNFqzCxXCkbrIqd7kQgyhBmcUJosMx7X+GUIZQhlCOM6m6LkuQd4ClgArACWAQuB+4EHgCXASmAL0MSCBG0EUPuk4+YaTcGkB5OL/CTOJwC1p4P9M0B5KN4UoH5zHScRzHjSR0qGENahB8x19G3gGGA4MB2YBEwGoPkk14fEjAeuBMYB04DWFs8C5hMFFy1aBLmn0czGVVFmuVIwrk4zlacrQCK4fgcVPWzGNU5G9G8Ajf8WIFOT4joYOlgz7pqc2ncG9gfg+aBHL7aYABwKHAJ8CxgKlAO/BI4D5gOzgQeBeQBcki9cbfEWMBLoBYCW3/oO0AKgijLLlYL6DKFnXsfcc8894AefWgCsAJYBVHzgB++n6zDwg0tWAluAJhZUZOAHG1H7pONU32Y86cHkIr+pTIx3CP8MUL8UBz/YNBciuw6SRDDjrsld2/cBaCEyF9K3gWOA4cB0gAzeZIDalwEVwHjgSmAcMA2w/GDrZ4FFAOSWIXQ9FZzbdwXME9n3fRlCZ4mT34Emy4zHNZzOwP6ADOH8+fNnA+AHH5wH0DX5agvwg2+NBHoB3wLAD36nBUAVaJYrBWUIZQi3BDSxoCKTISRl8hKnFeETgNrT8f4ZoDwUlyEkZUj5uOJ9ABnCioqK8QD4wSvBD44jzyZDGFcZp5KnK0DnsgxhKtMU3ilNlhkPT7X7WzsD+wMyhDKEgUOkGjPLlYIyhDKEMoR0KtXnOK0I4Aedv3YC/OCfqV+KyxCSMklXZx9AhlCGMLz2qGLNeHiqnG4FP9jVVEB3CLM5yzRZZjyuQ+gM7A/IEMoQyhDGdfZV5THf6aS3jDaphoTWHUJSJi9x81VNbxlNd/poUsx40kPtA8gQyhCG155ZrhQMT5XTrTKEt1ST0+kLhk0Va8bjOtLOwP6ADKEMoQxhXGdfVR4ZwuAWYRMLElqGkJTJS9x8VZMhTHf6aFLMeNJD7QPIEMoQhteeWa4UDE+V060yhDKE0Uq3M7A/IEMoQyhDGO1cs/eSIZQhtCujXkfp+kxvGU1x2mlSzHjS4+wDyBDKEIbXnlmuFAxPldOtMoQyhNFKtzOwPyBDKEMoQxjtXLP3kiGUIbQro15H6fpMhjDFaadJMeNJj7MPIEMoQxhee2a5UjA8VU63yhDKEEYr3c7A/oAMoQyhDOHOc81846LrebgNeAxYBVQC0HzVSkcedgSGU/kMcLIFidkYoPZJx+lqw4wnPZhc5DeVifEto88C1C/F9wZyIbLrIEkEM+6a3LX98cAC4G6L1wG6Yh4H0NM4KwD41onJkwBIU0F5yoErHKHj6m7xKLAQuBY4AXCtEGpvlisFKUmu49ZraVWMRNgI0PcKbkmYvwE7gBVArieRJsuMx3WkFwNwyp5wOGDe57gNuAO4F/g1AGnuoFXuJoBeHa4DBgFnAicBPwUusOgFzAAqgUeAZ4EfAVSBvgv5fspoIwvSheLbAPCDj60CYLorobkMIU1IlLhLzftROqh3+5BinwDUnoSB1exZykNx8IN7U7+5jpMIZjzpIwU/ePwC4G4L8IOv00v+OIAuKSqAycAkANLIEEapMrNcKRilg8zvczJAImwEZAhTnGqaLDMe1zjBD14sQ9i1a9frAPCDg8APngl+8KSfApYfvAD8YC/wgzMqAfCDj9AV1I8AqkCzXCkoQ+iBH9wmQ3jyySdTkcENwsbUPuk41bcZT3owuchvKqM7hOnOHU2KGU96qDKEFRUyhFGqzCxXCkbpIPP7gB/UHcLMz1yNAVLFmvEa++3RjzKEN910E/25EPzgdTKEP/rRj6jszHKloAyhDOEzAeZrGBWZDCEpk5c4rQifANSejpf+vkV5KK47hKQMKR9XXIZQhjBaLVHFmvFoXWR8L/PFVG8Zzfis1RqeWa4UrLVv5F9lCGUIg3uGdAUFNwhlCD3PesdoI9dTUXcIZQhda6YetKcXNvCDzl9MT8sZ9UtxGUJSJukilCGUIYxWY1SxZjxaFxnfS4Yw+FBhxqcpfHhmuVIwPNXub5UhlCGUIdz98+U/WsoQhjxophII7F/xv+Zr2H/IXeMX3SGsIUYuf6QXNhnCFKeTJsWMJz1OGUIZwmg1ZpYrBaN1kfG9zBdT3SHM+KzVGh5VrBmvtW/kX2UIZQhlCCOePjKEMoRB6ZhrNAUjVlv92o3EkSFMcZ5pUsx40uOUIZQhjFZjZrlSMFoXGd9LhlB3CKOVqAyhDKEMYbRzR28ZDfGDD1cCxfcGg4j5GkYTozuEpExe4nR9JkOY4gzSpJjxpMcpQyhDGK3GzHKlYLQuMr6X+WKqO4QZn7Vaw6OKNeO19o38qwyhDKEMYcTTp4kF5WoH0Ied1gCVADRfE8xu8b+QBr+mgtqTKVwFPAeMsyAxSwBqn3TcdyHpweQiv4tgYW3pYJ8GwnJZ21oC1G+u45YAGEv6SL8BzAcWWOwAzDd3NGrUaCYwyZEJQDkAzSdA8/IyR64EbgC+bmEJXBVbDNB3ddAj7OOqKCxZa0NcnWYqzwDAEqAqtgnYkhJ/A7YDS4FMTYrrYGiyzLhrcmo/D7gTWAYEf+Wv9e/NwPeA04CjgXOB0cBQoDtwPTARgMO9eTxwNjDK4lTgCAA0OxqaHwF+pV0LgCrKdyHfTxm1/GAT0oX0fRZYA1QC0HxNsRUMIpBGhpAmMCzuUvP6HsIqJZ0UC2lMs/I0EJLK3AR+sCX1m+u4qQAFkz5S8IPfAD8437Qr4Ad3NAJmApMcmQCUA9BchjBKlVHFmvEoHWR+H/CDA0wFZAizOZ80WWY8rkOYB4AfvBP84LJaVjD4lQwS+MHvnQaQtwE/eO5oYCjQHQA/eD34wYl0vOAHx4MfPHuUxanAEQCJBs1lCN1PKRnCyspK3SF0tTfuhVYP9/BjgqR5GnDtVoaQFCPl44rLEE6YIEMYpZqoYs14lA4yv48M4dJqMj9RYQM0y5WCYYlctoEfnCdD2L17dxnCdu10h5BPJxlCGcKgOmiZNuNcUA1oi6lMhCBJBn7wadcuZAhJMVI+rrgMoQxhtFqiijXj0brI+F4yhDKE0UpUhnDo0KFwg1CGsOptjvCO0RZUb+aqS0G3d45Rl2nFZQhlCIPao/o242mVa6b6NZWJEKSDkiEkZULiTvqH5IllkwyhDGG0QspUGUc7hD3cS4ZQhjBaCckQyhAeUQ19xk2GEM8sGUIZwqA4dAmCJwlscFIspDGk92QISZmQeIjOxZtC8sSySYZQhjBaIRXXakgkWhcZ30uGUIYwWonKEMoQyhBGO3c8GUIZwqB0Qi44ijdFrLb6tVuxLNEipIoMISkTEneagpA8sWySIZQhjFZImSrjaIewh3vJEMoQRishGUIZQhnCaOeODGGlDGFQOroEcT2FnBQLaUz9yhCSMiHxEJ2LN4XkiWWTDKEMYbRCKq7VkEi0LjK+lwyhDGG0EpUhlCGUIYx27rh9MT08Qfe0lwHXr4twbV+ZMKsBulK/3SLixNT5biEXHMWb6nx0WeywWJbwyCcAHduTQHgvxVsPBqjfXMeLDz8kkvSRHgPcASy3eAOgwdN3WtCDwicBZTFB/VKcur0SmAYcZzEVCC6+i/+F3NNOBmhSXOMhRVu8yTV5Ltr3B4oPP4hsBODseWNLTFD+14EdwP1ALiaLBkmTZcYpCcUbA3cBFcBo4BcWo4D2QA+gK9AL6ONIF2Ai8FMAXsGO+T4wAZhjsQ6whK+KHQqcDgwETgGo0nwX8v1QmUYWpMtpwMuAq8FzbV+ZMKuBp4HbLUjMrMVdal7fQ1g1e06K+b7/CUCV8CTg2i/4wYOp31zHncRJ+kiPAcAP3mH5weV0xUmDnw+QAZsElMUE9Utx6hb84JXTgOMswA9OLbaCQQRyyxBS9cUWBz/Yn05w8IMb6fTZEhOUH/zg6zuA+4HYBE0jEU2WGXcdIPjBxuAH76oARgO/sBgFtAfAD/YAP9i1F+DoB/uAH+wyEfgpAK9gMoQ+4XZd6Fr0SbdvZEGdnga8DLgaPNf2lQmzGgA/+PTtFiRm1uJU32Y8a4NPZTymMiHBTwAa/JNASBfmJhlCUxbfT/zvGscAMoTkBsePH18GyBCmVca0QCUalyG8v5pERU46OVWsGXcdjAxhiEuUITz99NMHAqcAVIFmuVJQhlBvGd3pEC0/eDsVWdbiVN9mPGuDT2U8pjIhwU8AGjz4wSdDujA3yRCassgQBq5sEgC+zDkc4v3MTdSBDGFaZUwLVKJxGUIZwvACkyGUIQzeQwrvGJUhDD+BrK2NLKyGVbHTALhB+LLrHT/X9pUJsxrQHUKqkAYVp+szioMf/IREkyEkZULiJL4ZD8kTy6ZjAN0hNK1gEJQhdH07eiy1mrUkMoQyhOE1KUMoQyhDGH6OOG+1/GAjygJ+UHcIdYeQSqY+x02PERKUIayDagjRv3hT0uMBP3iMDKEMYXjtFddqSCQ8VU63yhDKEIaXrgyhDKEMYfg54rxVhrCSWQ3oDqFzndXHHUIu0cxNMoR1UAWm8hRMejwyhGVlZSHez9ykO4S6Q+h5ngyhDGH4+ixDKEMoQxh+jjhvlSGsZMAPrpYhdK6z+rgD2QyKyxDWQRWQ+GY86fHIEMoQRqsxs1wpGK2LjO8lQyhDGF6iMoQyhDKE4eeI89bmFpTlp8CLwMPAWuAxYA0A6R+mzyJCt2sh/ZpK4ClgjgWJmbU4XW2Y8awNPpXxmMqEBLcDNPhHgZAuzE2dAOo313FTAQomfaRfB2YD5sJFz6+nZwW5PnW9HKA7dRMBam/eBhw/fvw44ApgLEDfJNHfYjRQCVQA/YC4Ksp3Ia5OM5XnRICE2QjQ10JsSRg6bWn8sCTMztSkuA6GDtaMuyan9icDXwZOAsx18TXgTmA1cAvwU2AY0BdoCrQF9gbMO0aNGjVqBrQBjrY4B7gZAM1umQvQS9IZAFWUWa4UzPdTRptbkC5Qqz8FP/giGba1wGMAGTbKb15XPfLII9CtDGHVhFN9m3GqkAYVN5UJCW4HSLRHgZAuzE2dAOo313FTAQomfaTgB78+GzAXLrqylCEcW81UoL8F+MHRlUAFAH6wX1wV5bsQV6eZygN+8EQSZiMgQ5jitNJkmfG4xgl+8GTwg18GP3hSuQX4wdfuBFYDtwA/BcAPDusLgB9s2hbYG5AhdL42NoubgnEVfVx5LD/YnJJDrcoQ7rxjaN0gnENiZi1OFWvGszb4VMZjKhMS3A7Q4B8FQrowN4Ef7ET95jpuKkDBpI9UhjDkLaNwg3Ac3CC8YiwwFehvIUOYdM3HlV+GcHY1cemZSh5aeM14XCOUIezbt68M4dy5c3WH0PmckiFcu1Z3CKvKxlyjKehcZ/VxBxKH4uAHt5M2jwKUn+IyhKQMKR9XXIZQhjBaLVHFmvFoXWR8LxlCGcJoJSpDKEMYvIdUhtD5DJIhlCEMisa81KCgc53Vxx1IHIrLENZBFZD4Zjzp8cgQyhBGqzGzXCkYrYuM7yVDKEMYrURlCGUIZQijnTueDKEMYVA6dLVhxiNWW/3azVQmJChDWAfzH6J/8aakxyNDKEMYrcaKazUkEq2LjO8lQyhDGK1EZQhlCGUIo507MoRrZQiD0gm54CjeFLHa6tduxbKER2QI62D+w6eg1takxyNDKEMYrcZqFWr4r9G6yPheMoQyhNFKVIZQhlCGMNq545mfPaVcS4C3gD8C8DDRx+AzU4/S00TXAdDtH82H+D3yyCP0FFNq/wJQaUFiZi0efs1Ra2vWBp/KeGppsstftwE0+Epglx3VanAoQP3mOl7r2MN/TfpIjwNmAU9azAe+AswBrgbogxbQ/OqJQAUwHqD8Y4ArARjOxLMs6Llo6wA4pop+QFwVFV63tbbG1Wmm8hwN1Dr2wq+bgKSfMkr56eHAhQHX+oFOw0xNiutgah1j+K+uydsBlwPfADoDfSwuBKBajz4GOAOAdaWftZhVxYYCXYHxwGCA3HUFcBNwi8UU4K8AXdjfC/wOoOeWUQX6LuT7aRwyhDKEwWngUvM+nTkNKu6kmO/74Ae3kWiVgGu/hwLUb67jTuIkfaTHAeAHZz1pMR8AP/iVOcDVAF2JQnMZwoqKChnCpE8dj66w6QTfBJBh2xITlF+GMOkn1bUDwA9eDn7wG+AHO1t+sA/4wQupXMEPHnMGIEM4ZcqUvwIyhIkvuzKEMoSktq9KAAAgAElEQVRBkdELrRlPvC7z0IGpTEhQhrAOZjVE/+JNSY8H/OBxMoTjx48nwwk3CMdcCUwEzL+p6w5h0jUfV366wi4+i4MI+MFNZNhi8oNbKL8MoQzh0UfrDuHOO4bWDcJbpgDgB/8qQxjX6op5ZAhlCIPioBdaM4711JA2mMqEBGUI66A6QvQv3pT0eGQIKyoqxgMyhCHlV1yrIZGQPPndJEMY3LrP7wzKEMoQFt5AKkNoL+BZO71lCGUIg5q06xWiWSvjVMYD2mBYhrAOpgnVtzYkPR4ZQhnCaDVmVSvGonWR8b1kCGUIw0u0HaC3jA4dOrQrMB4YDOgzhM5/18B12toQXuJ1v1WGUIYwqDqrWjFW94WawR5RHdggQ1gHkwja2+GkxyNDKEMYrcbseoVotC4yvpcMoQxheIm2A2QIZQiDp8z8DtBDZfDMkiGUIQyKAy427DDWU0PaYEvDURnCOqgOlt/YkvR4ZAhlCKPVmFGsHIrWRcb3kiGUIQwvUfCD7WQIZQhlCMPPHdwqQyhDGBQHX28YW7CeGtIGQ5fQkAxhHVRH6AzU3pj0eGQIZQij1VjtSg39PVoXGd9LhlCGMLxEZQj1tRPBY2bgWyfuhRuEv9MdQjyzGllQ6+8BNwNLgQ3Ax8BzwDrgCWAr4APrgfnAVRYkZilQAlCeuOKggR2Oq9Nc57Gl4eh7AIlwN8A92Fu6AdRvruO2BBBN+kj7ATOAZyyuBroCc4Dg+rL433EAvWrCcK4uzhxEqP1YgNrTeCYD/S2+AzwOlAP00Zq4KgoK1g7H1Wmm8rQAbAl8fzOwJWHoKaOvAjT+nwCZmhTXwdDBmnHX5HsDxwK9gNOA6yymAZcA5zlyPmB+B0afPn26A82AQwBo3qwRsD8AV7Wl5uQ2BkYB1wCTgOGA9cpQFTMH2bA+Q2hON+nyPeBmYCmwAfgYAD/43DoA/OATWwEfAD+4fj5wlQWJSWcO+MESyhNXHDSww3F1mus8tjQcBT/4HolwN8A92FvAD3ajfnMdtyWAaNJHCn6w3wzA8oPPXA2AH+w6BygDwA+OuwKA4cgQVpnEuCoKCtYOx9VppvK0AGwJZAgzNXmfDoYmy4x/utPu/g9+cO9jgV7AaYDlB6+bBlwCnOcI+MHzZQhHjRp1DQB+cNJwQIYQzzEZwq1bt5rLk+/7MoSkDNZTQ9pA4lBchrAOqoPEN+NJj0eGsKysjAzkWIDagz+9Am4QTjZf9eEG4XfgBuHjcIOwXHcIkz53wA+2ME9kX4Yw6fmIlJ8my4y79iBDqDuEgUOUIXQ9d7C9DKEMYVAc5hpNQaynhrSBxKG4DGEdVAeJb8aTHo8MoQxhtBozy5WC0brI+F4yhD+pJuPTFD48qlgzHp6qeKsMoQyhDGHxebFHERlCGcKggMw1moJ7VHP1ZWcSh+IyhHUw8yS+GU96PDKEMoTRaswsVwpG6yLje8kQyhCGl6gMoQyhDGH4OeK8VYZQhjAoGrraMOPOdVYfdzCVCQnKENZBFYToX7wp6fHIEMoQRqux4loNiUTrIuN7yRDKEIaXqAyhDKEMYfg54rxVhlCGMCiakAuO4k3OdVYfdyiWJTwiQ1gHVRA+BbW2Jj0eGUIZwmg1VqtQw3+N1kXG95IhlCEML1EZQhlCGcLwc8R5qwyhDGFQNOHXHLW2OtdZfdyhlia7/FWGsA6qYJezULNB0uORIZQhjFZjNat0lz9H6yLje8kQyhCGl6gMoQyhDGH4OZKPrQcDJwKTAPMp7c8888xjADyEdnhPoCWQD5UdR7nLy46aDRxz18/mNQXZnZ9dDeFMgPr6F9AdqJezQuKY8aQVOBe4HvirxSjgaGABcC0Az1FPPGw+1f26666DYV47AZgFDLM4HFgH0GDOAuKqKLNcKRhXp7nIQyLQ9wFuBrYkDHS7mcZ/DJCLSaFB0sGacUpC8c8D5wHwMtgdloTDv2fxfeBogL4u4gLgBoCW4+lAL2AScBEAr2DnjgAuA8os7gDmAQcBewE0s70AqjSzXCno0QYzTl02qDj4wYNPBKCGJ8kQxlg2ZrlSMMZ+85uKxKG4DGEdzDWJb8aTHg+9ml4P/NViFABXIEcvAK4FpqXEdQAMU4bQLOGqYNJlnKn8pIIMYaamKRgMTZYZdx0/+MHPgx88T4awV69edC0NfvAiegkbAVwGlFmAH7wD/OA88IMH7QUcDvQCqALNcqWgDCHJiHEZQpQmvQ1U32Y8vWFmqGdTmZCgDGEdTF6I/sWbkh4PvZpeD/zVYhQgQxjcMpwFDLOAK4TD1wHkTuEG4VlxVVRxrYZE4uo0F3lIBxnCDE4fTZYZdx2/DOG0adPgBuF0sDwyhFWvACQOVaBZrhSUISQZMS5DiNKkt4Hq24ynN8wM9WwqExKUIayDyQvRv3hT0uORIZzGXAeQB4N3jE4APzjL8oPDZAiTrvmk8xefxUFEhjBp5SPkp8ky4675ZQhlCIN7hnsBtNrLELqea8m2lyFMVt9I2c01moKReqhvO5E4FJchrIMKIPHNeNLjkSFkPzgN/KA+Q1hVlWa5UjDpMs5UfhJBhjBT0xQMhibLjLuOX4ZQhlCG0PWsyWJ7GcIMzoq5RlMwg+Ov+yGROBSXIayDOSLxzXjS45EhlCGMVmNmuVIwWhc53YtEkCHM4ITSZJlx1/HLEMoQyhC6njVZbC9DmMFZMddoCmZw/HU/JBKH4jKEdTBHJL4ZT3o8MoQyhNFqzCxXCkbrIqd7kQgyhBmcUJosM+46fhlCGUIZQtezJovtZQgzOCvmGk3BDI6/7odE4lBchrAO5ojEN+NJj0eGUIYwWo2Z5UrBaF3kdC8SQYYwgxNKk2XGXccvQyhDKEPoetbE2b4xEGcfVq6WwF+BhwErd5yxphZxdpBkLnONpmCSA8lN7ucAEu1NgA74RoDyw9cQ/us4gPrNdZzEMeNJH+klANkk86K2P9ACuA0YC5QD44FxjpQB0G35FADSlEHzKT+yCC4giv9dBfwS+AEQV0WZ5UrBuDrNRZ4dwNvAZsA819544w1ovpnaU5zy0CS2BnIxKTRIOlgzTkkofihwA3AxMBI41gLO+x8cCXQCYOyH0vcW/hS4GjgCmAzcDNwC3AusBF6w2ADAhc+Ns4H+wAjgDIAqzXehAX3+uzFAOsYVbwn8FQA/+HBc46E8lh9sSo2zFnep+Yb1zVc0U+AHnyMlwQ++SflpWaT8MoRZexrHJcA0wLy4hBe7/uAHW9wGjAXKgfGAox8cR0YOupUhrFoP6Bw347SA1Ms4+MEdbwObAfNckyGMt2bMcqWga9eHAjcAFwMjgWMtZAgDhwh+8N6VwAsWGwC68pkN9P//7J15nFTVmf5v0yAoGBAFXNNEJ2LMRM3IRMaYEHd7UKMRFUYMMipKVBSRxWFr4COLgKAElFWWAWTfArLGhRhEJs4Ek5hfXLAhdDdCDEoE43Z/Vl+4n07X+730KW51VXU/3z+g+r2n3nPuc9976j51blUBvYCbAapA34VaNHeDH6xLOsYVBz94wruADGEKyrvUvAxhQmAZwhTKLN1PyaoyfggYD5gXqfBiJ0N4yGmOAawFwjuT1waDCCwQvvQEQNeFcZV3VpVxXDsVSx4ZwlhkrJ4kaS1j8INnTwQeBMAP9rnEgk7884GWAA1eK4Tbtm2TIaye0/Noe5EhjFZQK4TR+tSwrTKEWXhAfRfSPX7wgw+BHxwvQzhsmFYIE1XpUsW16+05GcJ0z1ox5k9rGZOnmgiAH3xQhnD06NHTAbhjdKZWCKm2a9HcLUMYPVfKEEbrU8O2yhBm4QGladqMp3v8MoSDB+uW0VSqzCxXCqbSQc4+R4Ywhw4dVawZd90vGcJ77723CDgPGA2AH5wuQ+j89pxZ3BR0Lfqsai9DGH04ZAij9alhW2UIs/CA0sRrxtM9fhlCGcLUaswsVwqm1kWOPkuGMIcOHFWsGXfdLxlCGcLgQ4U3Ar0A+AjhzVSBZrlSUCuE+gzhoUKSIaQzqkbGZQiz8LDSNG3G0z1+GUIZwtRqzCxXCqbWRY4+S4Ywhw4cVawZd90vGUIZQhlC17MmzvZaIYxWU4YwWp8atlWGMAsPqHmpQcF0j1+GUIYwtRqjijXjqXWRo8+SIcyhA2eWKwVd90uGUIZQhtD1rMlk+zygHkBjpR+yfxuI61tGYfh5NM6cjtM0bcZzek/jGvxbgKmY7/sHABrPXIDyU7wLQP3mdJxEMOPp3lMyhBOAYoszgXQPvkbmbw6sBaYAtwNxiWaWKwXj6jQn8uwE9gElQCkAzUt2ATCcnbuBWnUQaWfNuGv5NQCGAWOAVUB9iyJgDjAc6AN0Ah4AhgAXAvQjQGMB+pEhyvMg0NOiB9AEgOY9fgQUAvDNry2pAn0XatEto6QXxfMA8IP1KI8MISkTY9yl5mvX99qRyOAH3yIlDwCUfy5A+SkOfrAL9ZvTcRLBjKd7T2UI062wa37wg83XAlMA8IO3u46H2pvlSkFKUiPjZMD2ASVAKQDNS8AP7qLx7AZq1UGknTXjruXaAAA/iF9fvAqw/GD9ImAOMBwAP9gH/GAn8IMPgB8cAn7wQjJyYwEZQn2pjOuJie3zABlClCxzG3wXMjfMLOpZhjCLDsbhobhUcdrf15AhPHxYsuV/GcJsORKpjoMM2D6ADB74wVJqL0OYwhFL62zcAJAhHDJEhjCxaAgLhIVaIUzhXI7hKeAH82QIYxA37hRpnbvjHmxW5JMhzIrD8I+DyKoyliH8x4OT+b9kCDN/DI5uBDKER6dftT47rbMx+MEGMoQyhME9pDKE1Xq2H7EzGcIjSpQ9DdI6d2fPbsY4EhnCGMWMK1VWlbEMYVyHNa48MoRxKZmpPDKEmVI+hX7TOhvLED7wgG4Z7dGjhz5DmMKpmYmnyBBmQvUU+0zr3J3imLL7aTKEWXh8sqqMZQizrUJkCLPtiLiOR4bQVbEMtk/rbCxDKEOYsIMyhBk8w526liF0kiuzjdM6d2d219LUuwxhmoQ9mrRZVcYyhEdzKNPxXBnCdKhanTllCKtT7aPsK62zsQyhDKEM4VGeodX6dBnCapX76DpL69x9dEPL0mfLEGbhgcmqMpYhzLYKkSHMtiPiOh4ZQlfFMtg+rbOxDKEMoQxhBs/u2LquC1AH9LMTK4EZAOWnOBlaap/T8bTO3TmtDA1+C3AA+D+A8t8K7AP+ClwJUL85Hc+qMi4CZgLm76oWADl9mDI1+FbAOkcGAnHtV1aVcVw7FUued4ADQCnwEbAf+BSAbg9A+o/oyMYiTrYloZ0143EN3vy5iPr16zcBTgbM8XQA5gCPAquAMQC9t9gdaAEE37aS/G9r4PvA9cANwE8tRgN1ATqyTQHQoEU+YB5x/ewEyRJbHA53XepAhpCUiTFuztEUjLHf3E21BTgAgB/8P1IA/OCt+wDwg3+9EqB+czpOFWvG072n4AeLwA/OlCFM9xFpBaxzZCAQ1/jNcqVgXJ3mRB7wg+8cAEoBMmzgB/eDH/wUupUhTFQTVawZj6v8yDY0AU4GzPGAH+wwB3gUWAWMAWQI69atS0cW/GBTGUKzhrMuKEOYdYckQ3N3FupQ9SFtAQ4AMoRV1zbllualBgVT7qWKT5QhrKJQ1dYM/GCrdY4MBOLaEapYMx5XpzmRR4YwJw5TMEizXCkY136RbWgCgB882RyPDGGwZHg9AAuEN/zUAhYIR5NBoCMrQ2jWas4E6XjTDmiFkJSJMU7TtBmPsd/cTbUFOADIEFbDsTbLlYLpHo8MYboVds0vQ+iqWLa1lyHMtiMSMR6aeM14RB6nTWQbwA82kSH80Y9+BHeMtoY7Rr8PfvB6GcLMLIs7nSHZ1liGMNuOSKbu7shCHao+JPCDW8APHpAhrLq2Kbc0LzUomHIvVXyiDGEVhaq2ZjKE1SZ1mjqSIUyTsOlISxOvGY9rADKE3bt3p7slfwTIEObn51MFmuVKQRlCkhHjMoQoTeY2UH2b8cwNM4t6liHMooNxeChmuVLw8JPS9b8MYbqUTTWvDGGqymXL82QIs+VIVGEcNPGa8Srkq1ITGUIZwuAmUnLF+QCVl1muFJQhJBkxLkOI0mRuA9W3Gc/cMLOoZxnCLDoYh4dilisFDz8pXf/LEKZL2VTzyhCmqly2PE+GMFuORBXGQROvGa9Cvio1kSGUIZQhrNKpkiWNZAiz5EBUHIY5R1Ow4hNr7WMZwiw89FSxZjzd45chTLfCrvllCF0Vy7b2MoTZdkQixmPOuhSMyOO0SYZQhlCG0OmUyXBjWLDFW3hPAS4ATgIaACRHHkDtczpO07QZz+k91eBrsAJmuVIw3TpcDdwLPGFxHECDh0krj9rnerwOYO5XY6AfMBC4FjA7TSFIFWvGU8ifu08ZCRQD9Mltir8KvAg8D7wOQPPnc/eIRIzcLFcKRuQxN2Vkovsa8GOAfjvqTqAHMBgYAZwJXAJcBVwIXApAmqsusrgYMA93BoNUsWZct4w6H6l8gBKdAlwAgB88CfxgA+o3IzMODSbdcbO4KZjuwSi/FEhNAapYM55aF1V/FvjBq8EP3mv5wSeOA2gYtWrW8jwP/GAdU5/GQD8A/ODAawGz0xSCZrlSMIX8ufsU8IMjiwEyfhQHP/gq+MEXyeCBH3yd2ufuEYkYOVWsGY/IY27KyEQHfvBr4Ad/LEN4VTkXWYAfvNg83BkMmuVKQRlC5yOVD1CiU4ALABlCUjIiTvVtxiPyaJMUyKACZrlSMN3jlCFMt8IyhL7vV4PI2dOFDGH2HIsjjoQmXjN+xGyVGsgQDh48eAQAC4RnXgJcBcAC4YWwQHgppNEKoVnytWzurnQCh3+CH9Qto6FCGXgABWuHMzA+dSkFqqCAXa8QrUK+o2oiQ3hU8lXtyVohrJpONaSVDGEOHUiYd+2w637JEMoQutZMau3teoWoVgidRZYhdJYs/U+A8rbD6R+OepACqShg1ytEU+nA5TkyhC5qpdhWhjBF4XLzaTKEOXTcYN61w677JUMoQ+haM6m1t+sVojKEziLLEDpLlv4nQHnb4fQPRz1IgVQUsOsVoql04PIcGUIXtVJsK0OYonC5+TQZwhw6bjDv2mHX/ZIhlCF0rZnU2tv1ClEZQmeRZQidJUv/E6C87XD6h6MepEAqCtj1CtFUOnB5jgyhi1optpUhTFG43HyaDGEOHTeYd+2w637JEMoQutZMau3teoWoDKGzyDKEzpKl/wlQ3nY4/cNRD1IgFQXseoVoKh24PEeG0EWtFNvKEKYoXG4+TYYwh44bzLt22HW/ZAhlCF1rJrX2dr1C1M0QQhKFpYAUkAJSQApIASkgBaSAFJACUiD3FJAhzL1jphFLASkgBaSAFJACUkAKSAEpIAViUUCGMBYZlUQKSAEpIAWkgBSQAlJACkgBKZB7CsgQ5t4x04ilgBSQAlJACkgBKSAFpIAUkAKxKCBDGIuMSiIFpIAUkAJSQApIASkgBaSAFMg9BWQIc++YacRSQApIASkgBaSAFJACUkAKSIFYFJAhjEVGJZECUkAKSAEpIAWkgBSQAlJACuSeAjKEuXfMNGIpIAWkgBSQAlJACkgBKSAFpEAsCsgQxiKjkkgBKSAFpIAUkAJSQApIASkgBXJPARnC3DtmGrEUkAJSQApIASkgBaSAFJACUiAWBWQIY5FRSaSAFJACUkAKSAEpIAWkgBSQArmngAxh7h0zjVgKSAEpIAWkgBSQAlJACkgBKRCLAjKEscioJFJACkgBKSAFpIAUkAJSQApIgdxTQIYw946ZRiwFpIAUkAJSQApIASkgBaSAFIhFARnCWGRUEikgBaSAFJACUkAKSAEpIAWkQO4pIEOYe8dMI5YCUkAKSAEpIAWkgBSQAlJACsSigAxhLDIqiRSQAlJACkgBKSAFpIAUkAJSIPcUkCHMvWOmEUsBKSAFpIAUkAJSQApIASkgBWJRQIYwFhmVRApIASkgBaSAFJACUkAKSAEpkHsKyBDm3jHTiKWAFJACUkAKSAEpIAWkgBSQArEoIEMYi4xKIgWkgBSQAlJACkgBKSAFpIAUyD0FZAhz75hpxFJACkgBKSAFpIAUkAJSQApIgVgUkCGMRUYlkQJSQApIASkgBaSAFJACUkAK5J4CMoS5d8w0YikgBaSAFJACUkAKSAEpIAWkQCwKyBDGIqOSSAEpIAWkgBSQAlJACkgBKSAFck8BGcLcO2YasRSQAlJACkgBKSAFpIAUkAJSIBYFZAhjkVFJpIAUkAJSQApIASkgBaSAFJACuaeADGHuHTONWApIASkgBaSAFJACUkAKSAEpEIsCMoSxyKgkUkAKSAEpIAWkgBSQAlJACkiB3FNAhjD3jplGLAWkgBSQAlJACkgBKSAFpIAUiEUBGcJYZFQSKSAFpIAUkAJSQApIASkgBaRA7ikgQ5h7x0wjlgJSQApIASkgBaSAFJACUkAKxKKADGEsMiqJFJACUkAKSAEpIAWkgBSQAlIg9xSQIcy9Y6YRSwEpIAWkgBSQAlJACkgBKSAFYlFAhjAWGZVECkgBKSAFpIAUkAJSQApIASmQewrIEObeMdOIpYAUkAJSQApIASkgBaSAFJACsSggQ+gg46uvvnrDDTecccYZxxxzTPPmzdu0afPwww87PL/KTbdv3+553rPPPluVZ7zwwgue573wwgtVaaw2UoAUiCjvgoKCdu3a0ROrUoFz5swZO3YsZVBcCkQrEFGc0U88yq3RlX+UyfV0KVAVBZ599lmvAieddFLbtm1XrlxZleeqjRRITYEnn3zS87xvf/vbrk/v3Llzw4YN6Vlty6Gt0fHozNHPPeJWXaL4vi9DeMQ6OdTgF7/4RZ06dS677LJ58+a9+OKL8+bN69mz52mnnVbV57u0kyF0UUttY1AguryjL4s//PDDzZs3f/jhhxHjaNeuXUFBQUQDbZICpEB0cdKzYolHV34sXSiJFIhWIDCEzz777ObNm3/9618vWbLksssu8zxvxYoV0U/UVimQsgLnn39+8C7Eq6++6pQk2rZlrSHUJYoMoUOd//CHPzzrrLM+++yzis/54osvKv4Z12MZwriUVJ4qKhBd3kdzWfzxxx/7vq/ZtooHQs2SFYguzuT2MUaOpvIrDiM4CypG9FgKVFGBwBBu3bo1bH/gwIH69et37NgxjOiBFIhRga1bt3qe165dO8/z7r77bqfMMoROcmVVY60QVvVwfPvb377ooouo9XPPPXfllVeefPLJDRo0OOecc/r06fO3v/0tbBycIW+99VZhYWHDhg1PP/30hx9++JNPPgkb7Nq16+abb27UqNHXvva1W265ZfPmzRVvGd26deutt95aUFDQoEGDgoKCDh06vPfee+Fzq3LDXthYD6SAqUB0eQeXxc8///x3v/vdBg0atGrVatq0aWGeShUYVPu2bduuvPLKRo0atWnTpm3bthXueEo8DJ+rB1LgiAocTXH6vl9aWtq1a9fTTjutXr16LVu2LCoqqvi+XlFR0fe+970TTjjh+OOP/+53vzt16tQvv/wyHFIlQzhhwoT8/PyBAwcGDdavX3/ZZZcdf/zxxx577MUXX7xhw4bwiYMGDfI87ze/+c1NN93UpEmTk08+OdykB1LASYFkQ/jll18ef/zxP/3pT4M80TX8ySefPPzwwy1atDj22GN/8IMf/M///E9BQUHnzp2dxqDGtUqBe++91/O8N9544+KLLz7++OMrvp8VLFeMGjVqzJgxLVu2bNiwYZs2bTZv3hzqU8kQ/upXvzrxxBPbtWsXXBJXWiH8+9//PnTo0FatWh1zzDEnnXTSHXfc8f7774epKj0IMv/ud7+77LLLjjvuuJNOOum+++6rOLaDBw/27du3ZcuW9erVO/XUU3/2s5/99a9/DZN88cUXI0eODPpq1qzZ7bffvnPnzmCrLlECHXRlFlbLER7cddddnuc98MADr7766qefflqp9dChQ8eOHbtq1aoXX3zxmWee+cY3vnHppZeGbTp37nzMMcd861vfGj169IYNGwYOHJiXlzd48OCgwYEDB771rW81btx4/Pjxa9eu7d69+9e//vWKhnDhwoUDBw5cunTpSy+99Nxzz7Vt27ZZs2Z79uwJnl7pcjzsVA+kQNUViC7vgoKC008//dxzz501a9batWtvvvlmz/NeeumlIH+lCuzcuXNw5T18+PCNGzd+1f73v//997///ZNPPnnzYao+MLWUAkdTnKWlpWeccUZBQcGkSZM2bNgwdOjQ+vXr33HHHaGqd9xxx7Rp09aXM3To0GOPPTacmX3fDw3hl19+2bNnz3r16oUf7Z49e3ZeXt4NN9ywZMmSlStXXnvttfn5+aEnDAxhQUFBnz591q9fv2zZsrBHPZACTgoEhvDVV1/97LPPPv300507d3bv3r1OnTpr1qwJ8kTXcMeOHevUqdO3b99169aNGzfujDPOaNy4sQyh0yGoVY0PHDjQuHHjf/3Xf/V9f+rUqZ7nzZgxI1QgMIQtW7a85pprlpXzne9854QTTti3b1/QpqIhnD9/fv369bt16/b5558HWysawi+++OKaa65p2LDh4MGD169fP3Xq1NNOO+3cc889cOBA2F3FB8GF9Ne//vXHHnts3bp1RUVFdevWvfbaa4M2X3755dVXX123bt0BAwasW7du9OjRDRs2/O53vxsuvXTt2tXzvPvvv3/NmjXPPPNMs2bNzjjjjOBCWpcogYYyhBXrLerx3r17L7nkkmCho169ehdffPHw4cP3799f6TlffvnlZ5999tJLL3me99vf/jbY2rlzZ8/zFixYEDb+93//91atWgV/Pv30057nLV++PNx69913VzSEYdz3/c8///xvf/tbw4YNn3zyySBe6XK8YmM9lgJVVCC6vIPV6eLi4iDbwYMHmzZtes899wR/VqrAoNqnTyvT7VkAACAASURBVJ9esWvdMlpRDT12UuBoivOee+5p1KhRWLq+748ePdrzvN///veVxvDFF1989tlnQ4YMOfHEE8NFwsAQHjhw4KabbmrcuHHo9z7++OOmTZted911YZIvvvji/PPP/973vhdEAkMYriWGzfRACrgqEBjCijdZ1K9ff+LEicl5kmv497//ved5ffr0CRvPmzfP8zwZwlAQPaikwKxZszzPe+aZZ3zf379/f6NGjX7wgx+EbQJD+J3vfCf0eK+99prnefPmzQvahIZwxIgR+fn5I0eODJ/r+35FQxiU4uLFi8MGwa2qZm37vh9cWoSXvr7vP/bYY57n/epXv/J9f82aNZ7nPf7442G2+fPne543efJk3/fffPNNz/N+9rOfhVu3bNnied5//dd/BRFdougzhGFtVPXB1q1bR4wY0b59+5NOOumrN05atmwZvMHwzjvvdOzYsUWLFnl5eeHE/dxzzwV5O3funJeXd/DgwbCbvn37NmjQIPjzlltuOf7448NNX50zwRV2+Fb0/v37e/fufdZZZ+Xn54fJ77333uAplS7HK+bRYyngpACVd0FBQZs2bSqmatOmzTXXXBNEKlVgMGtX+o4ZzbYV1dPjFBRIrThPO+2066677rMKBJfI4TXHxo0bL7/88q997Wvh1Op5XllZWTDCoPLbtGlzxhlnvPHGG+Gw169f73neokWLKiT+rE+fPnl5ecGdUYEhDN8TDJ+oB1LAVYHAEM6aNWtrOc8//3zXrl3z8vLGjx8fpIqo4YkTJwa3LoedfvbZZ3Xr1pUhDAXRg0oKtG3b9thjjw1X/Lp06eJ53p/+9KegWWAI+/btGz7rk08+8TxvxIgRQaRz587HHXdc165d69evP3/+/LBZ8KCiIbztttuaNGny6aefVpxFTz755FtuuaXSs8LMXy3x7d27N9waDGbo0KG+7/fu3fsry1fxjtMvv/yyYcOGt956q+/7wYnw2muvhc/1ff9b3/pW+EEwXaLIEFasDbfHn376aY8ePTzP69Wr1/79+0899dQzzzxzypQpL7300tatW5csWVJxiS98yyTsI7hcCP68/PLL/+mf/incFL6ZERrC66677rjjjhs+fPiGDRtee+21rVu3NmvWLJzQK12OV8yjx1IgNQUqlnfFG+fCbBWn9UoVGLwehC2DB5ptKwmiP1NWwKk469atW9HphY+HDBni+/6WLVvy8/Mvv/zy+fPnv/LKK1u3bu3Xr99X6yfbt28PhldQUNC0adO8vLyuXbtWHPB///d/h6kqPdixY8dXLYMZvuLVScWn67EUqLoCyZ8h9H3/6quvPvbYY//6179G1/DQoUM9z/vzn/9csbsWLVqE1w8V43osBd566628vLz27dv/9TCrVq3yPC90gIEHGzVqVEWtvvpegEGDBgWRzp07161bt3Hjxv/yL//y0UcfVWxWaYXwiiuuqDR5Bn9edtlllZ5VMXPFTQcPHvQ876GHHvJ9/84776xbt27Frb7vn3XWWVdccYXv+8GJEH5oMGhW8dpblygyhJWKx+3Pffv2eZ5XWFi4fPlyz/NefPHF8PnB+8eho4s2hNErhPv27ftq1bGoqChM/sknn+Tn54cTeqXL8bCZHkiBo1EgLO8UDGHyzxBptj2aY6HnVlKg6sV58sknX3XVVcHSSsV/d+3a5ft+jx49GjRoUPHejWRD2K5duxkzZuTn53ft2jX8Wung9qTx48dXzBk8/vvf//7VaANDGH7Su9L49acUqLoCpiHs1avXV5cfW7Zsia5hrRBWXWe19H3/0UcfNU3aKaecEtwjWhVD2LBhw9dff71Zs2bf+973Pvjgg4rCVnwruUOHDl9930zyFPrHP/6x4lPCx8HNR64rhB06dIhYIQxvfdIligxhWGlHflBSUlKpUfBdoHfeeeeKFSs8z6v4PUvt27ev+gph9GcIP/zwQ8/zhg8fHvb+85//vOJnAGQIQ2X0IGUFIso7FkP4k5/8pHnz5ikPT0+szQocTXHeddddp556aqWLklDMhx9+uFGjRuGXhB04cCD4Qq+KK4Tt2rXzfX/hwoX16tW77bbbgqui/fv3N2nSpFu3bmGqSg9kCCsJoj9TVsA0hFdeeaXnee+++250Df/ud7/zPK93795h7/oMYSiFHlRS4PPPPz/11FPPOuusF/6Rnj17ep63cuXKrz7IV0VD6Pv+H/7wh1NPPfW8887bvXt32FFFQxjcZ1H13zmkzxBu2rTJ9/21a9d6nvfEE0+EfS1cuNDzvClTpvi+/8c//tHzvO7du4dbg48+9uvXL4joEkWGMKyNIz/4zne+U1hYOHHixF/+8pcbNmwYPXr0Kaec0qhRo23btu3du/eEE044//zzg6+b69Chwze/+c2qG8KPP/747LPPbty48c9//vO1a9c++OCDlb5l9Ic//GHTpk2nTJmyfv36/v37n3LKKU2aNNEK4ZGPmVpUWYGI8o7FEAbXxxMnTtyyZUvFH9Sq8gDVsPYqcDTFWVJSUlBQcM4550ycOHHjxo2rVq2aMGFCu3btgnuHNm7c6Hle+/bt161bN2/evAsvvDCYupMNoe/7q1atOvbYY3/yk58Ea4CzZ8+uU6fOrbfeunDhwpdeemnRokUDBgwIP9otQ1h76zXuPQ8MYfDD9Js3b/7FL37xn//5n199a92NN97o+/4Ra7hjx475+fmPPvro+vXrw28Z7dKlS9zDVL6cV2DlypWe51X6Ghjf9/fs2VO/fv0bbrjByRD6vv/OO+984xvfaNWqVXivZkVD+PnnnxcWFn51T/7gwYOff/75DRs2zJgxo3PnzkuWLDGlNL9ltLCwMGgcfMtovXr1ioqK1q9fP2bMmEaNGlX6ltG8vLyHHnpo7dq1kyZNat68+RlnnBGuN+oSRYbQrDo7OH/+/P/4j//45je/2ahRo3r16n3961+//fbb//CHPwStf/3rX//bv/3bcccd16xZs7vuuuv111+vuiH0ff/Pf/7zTTfd1KhRo+OPP/6mm2769a9/XfHpwdbgl7Kuueaa3/3udxV/R0grhPYBU9RFgejyDr98P0xZcVqvVIHJN0j7vv/BBx+0b9++SZMmwbcuhXn0QAocUYGjKc7gaqZ79+7f+MY36tWr17Rp0wsvvLBfv37h78ROnz69VatW9evXP/PMM4cPHz5t2rRKnyEMVgiDQb7wwguNGjW65pprgi9G/+oT4+3atWvatGm9evVOO+20du3aLVy4MGgpQ3jEw6oGVVQgMIThjXyNGze+4IILnnjiifD79KNrOPgdwubNmzdo0CD4ybjGjRv36NGjir2rWe1R4IYbbjjmmGPMTz536NChbt26ZWVlVV8hDHT785//fM4557Rs2fKdd96p9BlC3/c/++yz0aNHn3/++Q0aNGjUqNE555xzzz33vPXWW6bmwaXFtm3bfvSjHx177LFNmzbt1q1bOJP7vn/w4ME+ffoUFBTUq1fvlFNO6datW/LvEJ599tn16tU76aSTOnXqFNpUXaIEgutnJ8zCU1AKSAEpIAWkgBSQAjVKgVdeecXzvDlz5tSovdLOSAEpcNQKyBAetYRKIAWkgBSQAlJACkiB7FNg3bp1gwcP/sUvfrFx48YnnniiefPm3/zmNyt+kVL2DVkjkgJSIAMKyBBmQHR1KQWkgBSQAlJACkiBdCvw6quvfv/73z/hhBPq1q178sknd+7cOflbmtI9BuWXAlIg+xWQIcz+Y6QRSgEpIAWkgBSQAlJACkgBKSAF0qKADGFaZFVSKSAFpIAUkAJSQApIASkgBaRA9isgQ5j9x0gjlAJSQApIASkgBaSAFJACUkAKpEUBGcK0yKqkUkAKSAEpIAWkgBSQAlJACkiB7FdAhjD7j5FGKAWkgBSQAlJACkgBKSAFpIAUSIsCboYw/GlUPZACWaWA08mRVSOPazD5gGv+nwLtgB8DNwC3Aa7jhN3Nd82TVe1Vxll1ODSY1BRQGaem29E/axFQDHQDjn4kNSCD70IN2F/tQo1UwKWKfRnCGlkDtW6n3Iq+JsoTl0ECP/jTdgD4wR+DH7wB/OBtrsckrv117Tet7VXGaZVXyatHAZVx9eic3Av4wUXFQDcgOXMtjPgu1EJ9tMs5oYBLFcsQ5sQh1SCPpIBb0R8pWy5uj8sgyRBm8OirjDMovrqOSwGVcVxKuuaRIXRVLKK9yjhCHG3KFQXcytitda5ooHHWMgVUxjKEgQI5Xfgq45w+fBp8oIDKOFOVIEMYo/Iq4xjFVKpMKeBWxm6tM7VP6lcKRCqgMpYhlCGMPEW0UQpUkwKajatJ6KRuZAiTJEk9oDJOXTs9M2sUcCtjt9ZZs5MaiBSoqIDKWIZQhrDiGaHHUiBTCmg2zpTyMoQxKq8yjlFMpcqUAm5l7NY6U/ukfqVApAIqYxlCGcLIU0QbpUA1KaDZuJqETupGhjBJktQDKuPUtdMzs0YBtzJ2a501O6mBSIGKCqiMZQhlCCueEXosBTKlgGbjTCkvQxij8irjGMVUqkwp4FbGbq0ztU/qVwpEKpDTZVzHhUgZHDYuAEjJTwFq/zFA7Z8BHHaJm+YBcblo7tltC4ljxt1Sq7UUqC4FzHKlYHUNKiv6iWvCITFnAXcCfwSeArJCxOoaBIlsxqtrUOpHCrgpYJYrBfU7hG7iqnV2KkD1bcazbRdc/GCduAYPfnCBqZjv++AHP6X24Ac/pvbgB5+JZX/BD+bFdX0WyyA9T7NxXEIqTyYVoHPcjGdyoNXed1wTjqmk7/vgB2eBH7wT/OAfwQ8+Ve2CZbJDEtmMZ3Kg6lsKsAJmuVJQlyAspLbkjgJU32Y823ZLhtD3fRlCGcJsOzE1ntQUMGddCqbWRY4+S4Ywhw4cVawZz6H90lBrlQJmuVJQhrBW1UaN3VmqbzOebSrIEMoQBjVplisFs62MNR4poDKOrgEZwmh9smorTbxmPKtGrsFIgVABs1wpKEMY6qYHOawA1bcZz7b9lCGUIQxq0ixXCmZbGWs8UkBlHF0DMoTR+mTVVpp4zXhWjVyDkQKhAma5UlCGMNRND3JYAapvM55t+ylDKEMY1KRZrhTMtjLWeKSAyji6BmQIo/XJqq008ZrxrBq5BiMFQgXMcqWgDGGomx7ksAJU32Y82/ZThlCGMKhJs1wpmG1lrPFIAZVxdA3IEEbrk1VbaeI141k1cg1GCoQKmOVKQRnCUDc9yGEFqL7NeLbtpwyhDGFQk2a5UjDbyljjkQIq4+gakCGM1ierttLEa8azauQajBQIFTDLlYIyhKFuepDDClB9m/FM7ScZv7SOZzCwHfgQ6AfQ4N8G3gf2APRTy18HaDw5ETfLlYI5sUcaZC1UgCrWjNcqfVwN4WjgcSAuMc0j5fv+NQD1e4wF/QgQJclUnEQw45kapPqVAtEKmOVKQRnCaDG1NTcUoPo245naJRnCt99+G/zg++AH98gQmjXs+36mylj9SoFoBahizXh0qhq2VYbwmGOOkSGsYVWt3clmBcxZl4IyhNl8KDW2qipA9W3Gq5o07nYyhDKE0TVllisFo1NpqxTIlAJUsWY8U4PMSL8yhDKEGSk8dVprFTBnXQrKENbaOqlRO071bcYztecyhDKE0bVnlisFo1NpqxTIlAJUsWY8U4PMSL8yhDKEGSk8dVprFTBnXQrKENbaOqlRO071bcYztecyhDKE0bVnlisFo1NpqxTIlAJUsWY8U4PMSL8yhDKEGSk8dVprFTBnXQrKENbaOqlRO071bcYztecyhDKE0bVnlisFo1NpqxTIlAJUsWY8U4PMSL8yhDKEGSk8dVprFTBnXQrKENbaOqlRO071bcYztecyhDKE0bVnlisFo1NpqxTIlAJUsWY8U4PMSL8yhDKEGSk8dVprFTBnXQrKENbaOqlRO071bcYztecyhDKE0bVnlisFo1NpqxTIlAJUsWY8U4PMSL8yhDKEGSk8dVprFTBnXQrKENbaOqlRO071bcbTveexGL9ewBbgXeAgUAz8BZgOnA7Qz0tQHIZTvA/4K/CWxT1AuivBNb/vgmtytZcC1aOASxXr11MSx+Q8YArgehzrApSnJbAeoDw5HVcZx3X4XK+IqP2TwHVAIyCu/TLzwKlW12zseZ7rm0SUh+JuZezWmvpUXApkVIGsKmOazpwU6gWAH9zyLgB+8GAx8BcA/OB08IOnk/GjOAxHhhBL26mc1FgKVJsCWLLWhmobVTZ3BH7wPPCDU1z3xfUitSUAfnC963hyor1VrRjLiT3K1CBdr4ioPfjBJ68DwA82SqsOrueaDGFaD4eS10YFcJ62NqRbIJrOnPrtBcgQ7isHFgj/ai0QvgULhPc4HZFqaGxVK8aqYTzqQgqkoACWrLUhhfw17ykyhFl4TK1qxVgWjj97huR6RUTtZQhTOKZYstYG3TKagsJ6StYpYNU2xtI9eprOnPoFP9hLhnBfOTKETuWkxlKg2hTAmdfaUG2jyuaOZAiz8OhY1YqxLBx/9gzJ9YqI2ssQpnBMsWStDTKEKSisp2SdAlZtYyzdo6fpzKlfGcLicvYBMoRO5aTGUqDaFPBdqLZRZXNHMoRZeHRcqlgfhY06gK5XRNRehjBKZdjmVsZuraFLhaVAZhXIqjKm6cxJIhnC4nL2ATKETuWkxlKg2hTwXai2UWVzRzKEWXh0XKpYhjDqALpeEVF7GcIolWGbWxm7tYYuFZYCmVUgq8qYpjMniWQIi8vZB8gQOpWTGkuBalPAd6HaRpXNHckQZuHRcaliGcKoA+h6RUTtZQijVIZtbmXs1hq6VFgKZFaBrCpjms6cJJIhLC5nHyBD6FROaiwFqk0B34VqG1U2dyRDmIVHx6WKZQijDqDrFRG1lyGMUhm2uZWxW2voUmEpkFkFMlLGeYCrFM9ZfAb8BdgJFAPQHMNOCvu+vx/YAZQANKDtQJnFAWAN4HoE4/rmaCeRXQep9lKgehRQGbvqvAk4DaD88IqUR+1d45uBhoCZP92DNDtNIagyTkE08ymur49fA+YAY4F5wNkAGVFzpzIVrAfQeNzK2K019am4FMioAhkp47he2Cw/+Bz4wc/AD/6FjFMxQO0p7qSwDGHwEuh6TjiJ7Jpc7aVA9SigMnbVeRMAfvA0yh/XSxLlBz+4GfxgQzNPugdpdppCUGWcgmjmU2QITVlSC4IfrEfZ3MrYrTX1qbgUyKgCGSnjuF7YZAh37NgBC4QlZFBhgXC7tUBYBguEB2CBcI1rLbu+4FH+jJQxDUZxKZCaAipjV902ATKErkrG2F5lHJeYrq+PsED4tTkALBCOhQXCebBAeLZWCPWzE3HVvPJkUoGMzN0yhBGywx2j++GOURnCxOkToWfypkyeb+pbCrACybUaEeE0tWjLJkCGMINFEFG0yZsyOM7s71qGMMZjpBXCGMVUqpqpQPIEHRGJSwIZwgiRZQjz8/NdKy1Cz+RNrsnVXgpUjwLJtRoRqZ4hZXkvmwAZwgweuIiiTd6UwXFmf9cyhDEeIxnCGMVUqpqpQPIEHRGJSwIZwgiRZQhlCOM60ZQntxSImBaSN+XWrqVptJsAGcI0CV6VtMm1GhGpSsJa20aGMMZDL0MYo5hKVTMViJipkzfFJYEMYbK2YUSGUIYwrhNNeXJLgXASqMqD3Nq1NI12EyBDmCbBq5K2KtUbtqlKwlrbRoYwxkMvQxijmEpVMxUI5+WqPIhLAhnCCLVlCGUI4zrRlCe3FIiYFpI35daupWm0mwAZwjQJXpW0ybUaEalKwlrbRoYwxkMvQxijmEpVMxWImKmTN8UlQX2A8l8ImN7pHaDYkVKAvtVzF0BfBkPf9glpdtG3hlJ7GifFzXH+ATgIzAboyMYVT67ViEhcnSqPFIhXgYiiTd4Ub9dZnu1RYDlAu+N6hR3Xe5fLgJ8CNP6ciCfXakQkJ/YoU4N0LVca5yhgKgAv47OXAIsBM89o4C4Arv4ubACQCK7xiKJN3qTvtXOVV+2zUYHkyo6IxLUD4AfrU36aEWQId+7cuQsg40dxGUIqP8WlQPUoEDH3Jm+qniFlSS/gBx8FP7ichu16hS1DSEpGxJNrNSISkUebXMuVFAM/OAr84FTTyM2eLUOIhSxDSLWneC4pgAVubYhrx2QId+zYsR0Af6cVwqjqs6oVY1GJtE0KZE4BLFlrQ+aGmYGeZQgzIHqqXVrVirFUO6kVz5MhvOuuu2g9ABYIG8RVGViy1gYZwrhkV55MKmDVNsbiGqgMoQxhXLUU5MGStTbE27WySYG4FLCqFWNxdZoTeWQIc+IwBYPEkrU25NB+Vf9QZQhlCKu/6tRj7VXAmqIxFpdMMoQyhHHVUpAHS9baEG/XyiYF4lLAqlaMxdVpTuSRIcyJwxQMEkvW2pBD+1X9Q5UhlCGs/qpTj7VXAWuKxlhcMskQyhDGVUtBHixZa0O8XSubFIhLAataMRZXpzmRR4YwJw5TMEgsWWtDDu1X9Q9VhlCGsPqrTj3WXgWsKRpjcckkQyhDGFctBXmwZK0N8XatbFIgLgWsasVYXJ3mRB4Zwpw4TMEgsWStDTm0X9U/VBlCGcLqrzr1WHsVsKZojMUlkwyhDGFctRTkwZK1NsTbtbJJgbgUsKoVY3F1mhN5ZAhz4jAFg8SStTbk0H5V/1BlCGUIq7/q1GPtVcCaojGWKZkmAx9awJd3bt8LuH6rp9PPNuzYsYN+P7DMEcpD46dxUh5TN2r8LvA24Fo5eQDlwZK1NlASxaVAZhWwqhVjmR1qNfcO8827owEaXh2A2scVXwmsAeLqNyN5sGStDRkZYa50CtVax3X88POBS54BnnVkADDe4jkAfqpz2SJgDvAk8AhAYlrVijF9yyjJqHguKYAFbm3I1I5NBiw/+KFpbLZvlyEsCSCPZ+pGjen6DPzg266VA34wj/JY1YoxSqK4FMisAliy1obMDrWae6cJZzRAw4vrCpvyUxz84Erwg2soT07ErWrFWE7sUaYGGVe5yhA++eST4AcfoYOLJWttkCEkGRXPJQWs2sZYpnYM/OBkGcIUfpiePJ4MYabKW/1KgUABnHmtDbVKNBnCHDrcVrViLIf2q/qHKkO4bJlWCKu/7tRjbVUA52lrQ6ZEkiEsKysjI7cLOLQgmPQf5ZEhzFR5q18pEChgTboYq1WiyRDm0OHGkrU25NB+Vf9QZQhlCKu/6tRj7VXAmqIxlimZZAhlCIObSKkCsWStDZREcSmQWQWsasVYZodazb3LEFaz4EfTHZasteFoOqrxz5UhlCGs8UWuHcwiBawpGmOZGrcMoQyhDGGmzj71W20K4Mxrbai2UWVDRzKE2XAUqjgGq1oxVsWctbOZDKEMYe2sfO11ZhTAedrakJkhep4MoQyhDGGmzj71W20KWJMuxqptVNnQkQxhNhyFKo4BS9baUMWctbOZDKEMYe2s/Bj2+kGgL9AAiGEo6U/RAnDt2ZqiMeaaPK728Cm5XXss6DNySR+mOxSg5NSefi2C+t0BvA9Y+5SIUf644k6fIXwH+AC4GqAKqQtQeyxZawMlUbwaFCgA+gE9geOAatiF9HVhVSvG0jeMGDMfA1AX1wFfADcClD94Xyn5X2pPcdcr9ZnAAaC5RVyDoTxxxbFkrQ1xdVoj8yQXahBx3Vn6ltHZwOMA/GDEc08BgywmArOA6QCcUjOfBxYAJKZVrRjTt4ySjBmLPwj0BRoAGdsBl45bAC45Em2xwK0Nrsnjak+ezfROZJDI4FFyal8GUL/gB3eAH3zf3CkZwsAhUkVZ1YoxSqJ4NShQAIAf7Ad+sCf4weOqYRfS1wWWrLUhfcOIMTP4wWOoC/CD14Ef/OJGgPLHdYUtQ0gK58pFRcT4s2dTXOUqQ/j888+DH1xAh9uadDGWG1fStKs1Mg5+8MG+APjBBjkhDvjBFq6DxwK3Nrgmj6s9eTbTO5ExI4NHyak9+EH8FlAZwg8++AAWCK+mCoEFwrrU3qpWjFESxatBAfCDBTKENfJKWoYwOKdoNeMA0NyCTk9Xd0p54orjzGttiKvTGplHhnDWrFnTATqnYIFQhrBGniK8UzKELVrIEOKtlWTwZAgDC73dgtz1O8AHgAwhz1u1a4sMYcTxti6YMRaRJ3s2yRAGx4IuXsEPHrD8YHM6rDKEpEyux2UIZQhzvYYzNn4ZQhnCiFsrZQjJ3ckQZmzOqn0dyxBGHHM0f9aGiDzZs0mGMDgWMoRWCSdi2VOrWTgSGUIZwiwsy9wYkgyhDKEMYbTri9hqLRBup/awQPgOLBDqltHcmEKrYZQyhBEi00WzGY/Ikz2bZAiDYyFDaNawDGH0qSpDKEMYXSHaigrIEMoQyhCShTtiXIYQZxZtiE8BGcIILemi2YxH5MmeTTKEwbGQITRrWIYw+lSVIZQhjK4QbUUFZAhlCGUIj2j8qIEMIc4s2hCfAjKEEVrSRbMZj8iTPZtkCINjIUNo1rAMYfSpKkMoQxhdITVwq+s3Cl4LwHcRTf8xMB64EUir9D8EugH3AOcBNHiaps04JaF4HkDtKf4uQN8HY8Z3A2bjXbt2kXGibxktBd4DKM+HAH1bKY2TPjNJ7c38lIRuGd0HPArQEYfCyaP2ZrlSkJIoHqMCHYFlwDPAywAdXPMs3wasAGYAU4Ai4G2AdKadMuOUxDWeD7jmiaX9VIB+pOcigAbjOrFQHteLlkcA84uy9+zZc5sFDQYOYD7tLMVpp6g9jccsVwpSEsU9z3NVnkQbDSwC1gNzgaXAWIsHgYeApwCYjKcsByD9QyQaVawZ189OkIzOcZqGKNG1wHQA/OCPxwM3AjSeWOLgB3/YDQA/eM95AA3SLG4KUhKK5wHUnuLvAuTlzPhuwGwsQxj4wxLgHWAf8ChARxwKR4aQBMu6OPjBjssA8IPPgB98meYo8yzfBoAfXAF+cAZdghQB4AffynkvwwAAIABJREFUpqNFO2XGKYlrnOyEa55Y2k8FZAhvu+02UpiOIM2iFKcrMWpP4zHLlYKURHEZwsDCPQXQbLwckCHMjXOKpiEa/bXAdECG8LzzziMxaZo245SE4q4vJJQH/OC75OXM+G7AbCxDKENI1ah4VRSQISwqKpIhrEqpVGwDfnCqDKEMYcU6qSWP47qCGg0sAtYDcwFYIFw61uJB4CEA/OBTMoQ18yyQIfQ8TyuEEcUtQ/jhhx+at3Tu2LGDbgEtAai9mR9ylLwD7AMeBeig5wHU3nz/goKURPEYFZAhlCFMoZxkCPeUc5sF6akVQlIm1+PwMoh3ytD+jgYWAeuBuYAMoW4ZpdpzjssQyhBGF40MoQxh8NJIdULez4xTEsVjVECGUIYwhXKSIZQhTKFsaupTZAgfeughrRDW1PK290uGUIbQrozDURlCGUIZwsNnQ278L0MoQ5hCpcoQyhCmUDY19SkyhDKENbW2cb9kCGUIsTjKN8gQyhDKEEafI9m2VYZQhjCFmpQhlCFMoWxq6lNkCGUIa2pt437JEMoQYnGUb5AhlCGUIYw+R7JtqwyhDGEKNSlDKEOYQtnU1KfIEMoQ1tTaxv1yLfomQHfgeqA9sAC4CzB3rBWwFOgJ/BNwOfAgYA7S89L7Udh6AA3mGuAA8J5FKVDiiPklKzt27KBvJS0DqD0N5y8AfRkMxSk/tS+2oMbwnTLvfABsA6gSXOO+C67J1T5CgabAncAMYB3QA7gF6GoBOXr0A4Y5MgqgOYT0dKlin5LkdPzXwG+AXNnZZgBNsOZZkis7qzLOtiM1HpgHLACmOWKmh8ly1ABgCjAJWAZ0BOhguZWxW2vqU3H3H98EP9ikO3A90B5YANwFmMewFQB+cGlPAPzgP10OPAiYg5QhLGHoYo4MXhlA7aln8IN/oUsHilN+al9sQY1lCOmEqm3xpsCdwAwA/OA68nLgB2+x/GBXStIPcPSDw+gSh+YQKhJdVIAf/DX4wd+QktkWBz/YjCZY8yzJtp2i8aiMSZlMxcEPjjcN27x58xYA0xwx89NsOQCYAkwCwA8uAz/YkQ6KWxm7taY+FZchLPeI4Ad7yhBec801B4D3LEqBEkfoYo4MHvjBMmpPw5EhTGFS1GycgmixPKUpAH7wTvNKd8aMGesA8nIyhLEcvmxLIkMYWETzNMm2g0Xj0WxMymQqLkO4bJkMYaaqz7Ff3TK6dKlWCBNFA3eMyhAmTCK9l0xxMpzUvtiCGmuF0HGSq7HNwQ82lSEcNWoUvalE1aAraRnCYMqVIaRzRPEUFJAhlCFMoWwy8xQZQhnCoPJkCEtKSrRCmMI0pCvpFESL5SkyhMOG6ZbRWEopkUSGUIYwtmJSosMKyBDKEB6uhaz/X4ZQhjAoUhlCGcLUpisZwtR0O/pnyRDKEB59FYUZZAhlCMNi0IO4FJAhlCGMq5bSnkeGUIYwKDIZQhnC1KYbGcLUdDv6Z8kQyhAefRWFGWQIZQjDYtCDuBSQIZQhjKuW0p5HhlCGMCgyGUIZwtSmGxnC1HQ7+mfJEMoQHn0VhRlkCGUIw2LQg7gUkCGUIYyrlrw6QD5APzTvavxc29MOtwa6A2cDDwCDLJ4G7gWgz7MLgGuB0wESJ6uupOk3OT4CzO9sKAPoS1YoXgxsB4IX8uR/KT/F3wfgy1NLXb/FNHmEQcTcXWpsKr9jxw5q/yZAZekaz6oydh18TrRvA9B3iK8CngH6AfQd4q8Br1gsAGjw44Bhjrj+WEJGypjehlsBLALMA74SmA/APPHmG8BiYCbQA+gM3AQUAlcBHYAXgBctrgVuBx4BOgFnAq4TVEbK2HWQtar9IGAWcAcwHYD5dcEci4UAzCuLngKeBGDKWdkaoEpwK2O31tRnLsTrAPlAXSAPIA2geR61pziUQevuwNnAA8Agi6eBewHoU4YwYRI/AkxbUgaUOFIMbAd2Ao7dloAffL8U2AVQvzDMnebuUmNTeRlCmoJqQBz8YJtRwCrgGaAfsAx4DXjFYgEAYx8FfnDcMEdkCFcC84E3gTeAxcBMoAfQGbgJKATAD17VAXgBsPzgi9cCtwPgBx/pBJwJuE5ftefa2FWZTLUfBIAfnHUHMB1YAMyxWAgsAp4CwA8+CVOODGFM1VcHyAfqAnkADROayxAWFBQUXAvAAuHpJHJWzd1aISwpkSGkUo2KZ1UZRw00Z7fJEI4bJ0O4YsWKFXDZtmiVBV2cgR+c/ybwBrAYmAn0ADoDNwHgBwtlCD3P02ycbdM8+MFBMoStW7emg+VWxm6tqc9ciIMfrAN+MB/8YN08gDSA5jKEBTKEH5VjrlOVASWOFAPbgZ2AY7cyhDQfRMVrz2wcpUI6t8kQyhAm7KAMYblFLARkCGUI0zkNp5hbhnDlSq0Qplg8lZ8mQ3h2OQ8A5sn2NHAvEHSR/G/C/FlcC2iFEPxgmasxAz9YvB0AP7jTtV/dMlp5AqrC3zKEVRDpqJrIEMoQrihnEbDKQiuEgUXsALwA6JbRo5qt9OR/VMC8Rh00SCuErbVC+I+VUoW/ZAhlCIML7ioUy1E10S2jumU0tQKSIUxNt6o/S4ZQhlCG8KbDFAJaIdQKYdUn1WprKUOoFcLYik2GUIZQhrD4MNsBrRDqS2Vim3OzL5EMoQzhinJggVCfISwsLNRnCBMzl96ey7b5W4ZQhjC2mpQhlCGUITzsB3XLaML5mp/elCGMbc7NvkQyhDKEMoSHFwhvSpg/C60QyhBm3+TtyRDKECbKMg8wPV4W1rE5JNgn5y+b+TbQAaDfa7rLoisQvqJUenAJcCJgKpNCMHB6Vfw3hfxOTykG6GN45qJcGUBJoDl+5nA7QB6pFNgF0HgoTvsF6XeZou3c6fazEzQY0Gb7RwDZDKeycb0EMWe/OnXquHZaq9p3dGQN8BwwAxgK9AZ6WHQHrLaJWBEwDOgC0LzaDKD2Zjyu8rsf+C0wH1hs8TywAngJ+AOwDaDZeD/wfwA03w/z2UcfA9sB+AjhC7+32ApsAv4HeB6A5v/jWmm+C67Ja1X7uF6qPgS2AZOA8cAgYLDFWGAiMA2gr0h9HTgVoIryXciNZXHyTmadkS7ZFqedch0n+MFvdwBkCF0Vdm1fDJQAprcpAyBHCTSXIUwcDFPhnTt3kmhw2SND6HoqZF37jo6sAZ4DwA/OAD84tDfQw6I7YLVNxIqAYUAXgK4owA82o/ZmPK4SAT94/2+B+cBiC7Aez68AXgL+AGwDZAg3bdpEBo8OCrV3rTSzXCnomrxWtTcv1FN47xL84Idw9mwDPzgJ/OD4QYDlBwePBSYC0wAZQudzgbyTWWfO2TP0BNop1+HIELourbgq7Nq+GCAvZ9qVMoCSQHMZwsTBMBWWIXQt7BrQvqMjawDwg8/JEDZrJkO4AvzgS+AH/7ANkCGUIawBs655oS5DGDhEGULnCifvZNaZc/YMPYF2ynU4MoQyhCUlWiE8ZPpMMy5D6Dqr1NT2jn6wI/jBNTKEvu9rhRAWCGUID91D+nuLrcAmgFb8ngeoveuc5rvgmrxWtTcv1GUIZQhTPAvIO5l1lmIf1f402inXgcgQyhDKEIaWr9gi3FrpAS2rbgc+AtoArueyyxWIb85+KbzKug4yp9vLEBYVFQ0DugBUljKEMoTBTKnPEOb0rJjuwcf1UqVbRl9//XX4COGpdBBp9jbj+gwhyZj2uAzhiSeeGJfKZnFTMK5OKU8xQHd7VnIpwZ/kVSiJa3uwPNvpJiX4TpnSXQCNh+K0X5BeXyojQ0jnX1RchlCG8LflzAcWW8BalD5DeOhlRIYwatKp9dtkCCdOnDgN0C2jzucHeSezzpyzZ+gJtFOuw9EKoVYItUIYmmrTjIdbKz0gd0pu+SMAFgjbuJ7L9BaGGTdnP60QRmsuQyhDKEO4/zAwn+lbRhOziDnrUjB62qnlW+N6qdIKoVYIE6cSeSezznLl3KOdch2/DGG2zd3FAC2CVXIpwZ/kVSiJa3vyPFohLCsrI3Ho+kmG0HXWylR7GUIZQhnCw35wP01oHwM0MWqFMFMTWk70a16op/DepQxhbhjCuLxNXHnMk4SKsjVQBJjJUwimdWc9zzsPGAYUWtD104NAXFfG+QDpTO/bmXFK4hq/AzgIvAeYHq/MkdKYoFs0aTgxdVtK+U23vHPnThrnOxaUxFS+pKQEHH0xXCZ9PA9wrSizXCnomjzd7WmCNeNxDaYFcAlAExrdt9MboG8T3QxsA+j9l5ctpgGjHBkBtAf2ApcCvgtxVcJMYAOwGphtMR1YCFg5EjEqs8kAHPBp9H36TwLU/mkAtJw5BVgBvGExAXgKGAeQyGsA10pzqWLfNbnap6DAcOA5YB4wFYBCG/eYxVBgPAB9Tl0ArANcdXMrY7fWMJY8AJpjGNI4/1a72UEdoDVQBJjJUwimdWdlCCMKO4WDZT7lDuAg8B5QYlHmSGlM7AJoODF1K0OYKLGIok3eZNZkBoMwv9rhuMbZArgE6AjQlXpvQIZw79694AcvTa7ViEhclUAeZgOwGphtMR1YCFg5EjEqs8nANIAMHvjBJ6n90wCJOQVYAbxhMQEAP/gUXaaTyGsA10qLKNrkTa7J1T4FBYYD4AefmwdMBajSHrMAPzgU/OB46FOGkAshD+BnOGypA7QGigCHLiObwr7G435lCJOn7DASeVgcNt4BHATeAyw/iD8jUQaUxsQuALoti6lbGcJE4YUlWpUHDpVaLU1hfrXDcY2oBXAJ0BGgK/XegAyhDOH06dMXArMBKrPJwDSADJ4M4ezZs9cArnNOVSbhsI1rcrVPQYHhgAxhhJhhiVblQTyXIHF5m7jymOrYFyZ16rQGwA8WmclTCKZ1Z2UII6o/hYNlPuUO4CAAfvA9GcLSUhnCRIlFFG3yJrMmMxikCdaMxzVO8IMtLgHAD3akK3Xwg71lCGUIZQjD9cIVwBsWEwCtEMY1K9bUPMMBGcKII+67EM8lSFzeJq48pjrmdUkdGcJhhyi06Ag8COgzhHfccQf4wYPvATKEMoTBlOUydWfdp1ZogjXj5hSdQlCGcNq0aaMcGQG0B/YCumV0ITAboPcdJgPTAK0Qjhs3DjTWCmEK82huPAX84HAZwojj53ZR4dYauo3LyMWVxxymeV0iQzjsMJYfLOwIgB98UIZQhrA0JcoA+j6YXcA7FpTEtOL6Uhlz/jxikCZYM37EbFVsIEMoQxiUykxgA7AaMG3GdAD84EIziT5D+EY5E4CnAPpkF4m8BqjilBI2i+XaOMymB0evgAzhunXrXGV0K2O31jCWuIxcXHnMYZrXJTKEww4jQ2iWTUTwDuAg8B5g2hLwRxhOyYUZTwKftYs6NlKkFKL85OVonO9YUBJTeRnCiJqP2EQTrBmPyOO0qQVwCdARoKWb3oBuGdUto7pldMphVgCBA6z07wQA/KC+VMZpRqzJjYcDWiGMOOq+C7plVJ8hHBZQaNEReBDQCqFWCFPyg/oMYWJKd5m6dctoQjHwg/oM4agIRgBwx2j7vYBuGV0IzAbofYfJwDRAt4zqltEID1BTN4Ef1C2jUQfc7aLCqXUeUBeA5him3WoCmPajJzAPGAtA83kDARp8PkDtzTfUU/gRz15AH6C3xa3AVUBf4ASARHCNO5Wxa3JqvxHYD9A6VanFbsBqGxXbBdBgKB7VRxzbaIWQfqiNxvm2BSUpBig5XBjvpfZUORR3KmOaKOKK0yBjidcDWgBnAucD8CLQcwLQEegBjABGAWMASDNivMUMgO6pg7GM6gvAvvbYDBQCTmUcSzl5njcfeBFYDbxsAb5s2ioA+nxxMXB4pa3y/7OA2cBcYJ4jMwEowBmg5eotFs8DMPa5sK+z4YDPp9m+LUAVmJEypsHkdDwPoJ2C5nlwYbV/JDAVoIpaCpjthwPjATPJ7NmzFzlColHcrYydWtNxAj9Yl9pTnHapCSBDSIp5ntcL6AP0tgA/eOtVQF/gBCBi/E6bnMrYKXNEY/CDG2naIttQarEbsNpGxXYBNBiKR/URxzYZQtcVwjppJqLyj34T+MF6LQDwg2eeD/QEJgAdgR7ACGAUMAaANDKEziU2H3gRWA28bCFDGDjEGQBoKUPoXMY18gl5AO0sNJchTHhHEo3ibtfGTq3pOMkQDhw4kI4HLBDmU/s6ALWnOPjBXn0Ayw/2liEkeT3PkyGMwwkeyiFDKENYr54M4YiA8RZwNT5DK4RaIQzWH+YC8xyBBcKZVIGrgS0WsED4PIxdK4QR1yC5sSkPoNFDcxlCGcLykmkCaIWQziitEEa80xEhmtMmGUIZwr3l0LKqUznJEMoQjjiM5QfH0+W4DKEMoQxhuEKsW0ZdX3fS3T4PoH6huQyhDGF5yTQBZAjpjJIhlCEM3NougDwMxWP0fmYqrRDKEMoQjjiMDGHES5u5KfQDlR68CMCa1mrrjtGXpwGrAOhTnyHcsmXLFq0QmgVcg4N5AO0yNJchlCEsL5kmgAwhnVEyhDKEMoTh98vQe8bFALniYD0w+V9qH3F6mpsiijZ5U500Y44wrqA+QzimnBGADKFrpVXygeGf5M1kCOcxMwFaoyYxE/4vCRlC19rO9fZ5AO0XNJchlCEsL5kmgAwhnVEyhMkX0GEkQjSnTbpltDQ+ygDycuTBQhNY8QElKQYoebIVDCLU3qmctEKoFcIRh5EhdD13QgdY6YEM4dy5c9n62VvAD+ozhOFFROUHruVaq9rnASQCNJchlCEsL5kmgAwhnVEyhJUn7Ap/R4jmtEmGMD4/iL9DSF6OPFhFHxg+piTFACWXIXQ6QSIaa4VwTDkjABnCiOIxN1XygeGfMoQyhMH8D7860dYsJ9e35yiJ4p7n5QEkDjSXIcwyQ0jHzzVeB6A8jwCzLCYB5kvs+PHjhwFDgfXAxQDtVFzx64H+QBvgAYshwD3Ao8BdAIylDX276QlABbt35IdxKb8NcLUN77uwCygDoPku8jwUj9H7OaV6D6Bxhiaw4gMSgeKUnI7sm4BrpR25diu0cE2e7vYwqdvhAuBcoD3QF4Bfi+hxCUATEaTvOw6YAVivVIlY5R+eO/y32R76HHcf0NUREg32acYIwHfBtSzzgKeAZcBa4JcWK4CFwEZgHTAbWAIsBp4GJgMzgWnAfGADsNViOQAazIbmy7cBsE8z4ULpeqpAlyr2KUmNjMMpmHcM4CpCa2AcMAEYD0wEngSmW8wBqIznAtR+E9AAIJF9FzyXxrEVvX2NUKcO7dIjwCwL8IOToDZkCA9dC1l+8IEhwD3Ao8BdAF2H3QqcAGSkjLcBewGyGS5+8P1dQBkAzWUISZhEnI4UHNi9bwI0oVE8I2VMg3GN06xuxguAc4H2QF+gB3AJQBMRpJchnDFjhgzhCvCDCzcC4AfX0UXhEmAx8DQwGSDvNA2YD2wAtlosB0gEaC5D6DpDx9Y+DwA/eIxrx62BcQD4wQl0zT8ReBKYbjEHoDKeC1D7TUADgET2XZAhlCGUIaRT6QjxbQDZBrIZMoSlDCwQvkdiVlwYDB/vcoSS05EFP/jmEQooabPL1B3b23NJo0gxYBo/ChYA4AfPbQ/0BXoAlwAyhF27dgXNeiTMn8UIwHfBtdrygKeAZQAsEK61Fgh/uQKQIQwc4gZgqwUZPLoypvbbgJmAVghdzzVqD6egVgjnzJkzh8p4LkDtNwENADpYvgsyhDKEMoR0Kh0hvg3YC5DNkCFkP1gqQ0jz+RGqs9o3k/cz4wWADOGUcmZZwPvjumU0Ly8v7ylgGSBDOHny5JkALBBOgwXC+RuArRZk8OjKmNrDy+822CfdMhrbS0LifLPQCqEMYSpFZl4i1NEto6lo6dH7Xv0Bei9ct4y6yk8vSHsBGcII40ebZAhlCM89VyuECYMoQxjxBRVPAcsAGUIZwuDaiV73aeI145SkRsYtM5iIyRDKEKZS8DKEqagGz5EhPOGEE8w5moIgpHN4G7AXkCEk1xcRlyFMdxk71z08gWZ1M14AaIVQK4RQX4fCdDH6FLAMkCGUIZQhjD7XaCudgzKEMoRUM1Fx8xJBK4RRkvE2GUIZwl27dpUBuwBypxSP8Gxp3SRDKEOoFcLgBlKtEGqFcEk5i4GngcnATEC3jOpnJ/iSE39GQoZQhjCibHCTDCFK475BhlCGUIYw9LHhF8lUfACmGMNhtkoP9gJvAq5nM3k/M+6aPN3taVY34wWAVgi1QhhdqHnAU8AyQCuEWiHUCmH0uUZb4RTULaNzZAgTNXMiQPXkGi8ExluMAKYCVo5ErAvQETAv2nzfbwiQCKcBZPzobeOxQC/A3N0VwH1AEUCD7AtMB8wPOj7wwAMkvhkn5Sl+BbAXKAZ2A2aaPUAlixL+Cbl3lzhCJqkMiGt5ENKX0W/Khzte6cG7FjRI+jqfSjnDP+HAFptHcO/eve0AqjTfBUpyHNAMOBVo5cgFFucDXYE7gfZAW+AqoAcQ2LDkf1cB24DNwEYguccgMsaiG9AJMKf0Ll269AMGAuOAaYDvApUxxc8FbgLg5a7Xn4BFFisBeHlcYeVIxBYDS4D5AFTlqlnAbAB2a+UyYB2wFFhgsRAgMZ8D/g+4ACgEqNJcqjjrvvOZdiqr4m8DcAk/4p+BPsAzwExgHjDH4llgIjAJmA3AqbbucoCOrO9CPN8yCn7wRBqiaxxO5MLxFlRMUwErRyLWBegIkOzgBxuSCKcB1wPjgLFAL8Dc3RXAfUARAGMc1xeYDsgQhuak0oPdQIkju4AyoDQmIL0MIc0reAkCfvA48IPNwA+e2sqRCyzOB7oCdwLtgbYA+MGregBTALry3gZsBjYC0O2UMRbdgE6AOaXLEAYvgH8CFlmsBODlUYbwkEFcYLEQIDHBDz73f4A1DyVihQBdifkuUBLFIxQAP/g2XcP/M9AHeAYAPzhzHjDH4llgIjAJmA2sAy4HSGffBRnCqQnzZ9EF6AiQ7DKERUVF44C+wHRAhrCSDwz/3A2UOAJ+ED+jWBoTZYBWCGlioRcAGcK2bdvKEHbq1AlewbRC2KtXL60QJq5DVwKwQLgMrlHXHfJ/Sf9ZfnDBQmAFIENIU32ux2UIJ02aBH5wNp1rlwNUDHT9YMZlCGUIE6+OvXr1Mq8eYIpecR9QBIAf1AphwsbttdgDhA6w0gPwg7pl9N133323FNAto82aaYWwR48ePaYAWiEcOHAgzd7TAPNSg4J0HUPxc4GbgODVLfnfPwGLLMA3raTXRytHIrYYWALMB6gsZwF00Un7JUOoL5WhEzDGuAyhDGEq5VQIjLeg5eapgJUjEesCdAToBU8rhFohLC5nN2D5wb3gB/dU8oHhn5BbhvBdGcJgzVC3jF51lW4ZTbyq9QMGAjKEZJxkCNeVsxTQCmEq17u15jkyhDKEqRQ7+EF9hvD666+/nl6txwK9ANP/0gseLBDeVwTQIPsC0wHdMho6wEoPdgMljuiW0ffff7+StuGfgbFP/te09PpSmQsuuOB8AD5C2PVOoD3QFtAto7pl9KZy4OVOt4zO1i2jwYUlXZL6LlASxSMUkCGUIYwoD9wkQ3jaaaclzJ/FOGAsQC+QMoRUf1cAZAOSDUMQ2Q2YefYAoTmp9ABya4XwXa0QaoUw9Ic9ALhjdArdm7cN2AxsBKjfMRbdgE6AOaVrhTB4BfwTsMhCK4TLygnWA5P/XQossFgI0LvP+gwhXZnkevxtgO7y+2egD/AMMBOYB8yxeBaYCEwCEm/MWCSfZUHkcoCKwXdBnyHUZwgPOcQuFiuA+4AiYBzQF5gOaIWwkg8M/9wNlDiiFUKtEAbfO9rKkQsszge0QrixnCnAGItuQCfAmtETsX7AQGAcMA3wXaDrGIrDRwjPvQmgN0D/BCyyWAnAy6O+ZfSQQVxgsRAgMWUI6VzI9Tj4QX3L6OzZs3PhS2Vobp0FwOvLwAFAG6AQ6G3RHygCJgM0eBhL4STg/wFTAOv1KBF7HHgEoPEPAfpaDALgAA6gTuEdnD6dAdinR64FXK5A8Pv6aXq9G/gYoK8qeRcw2+8BQgdY6UFJmikFygBoXkrD3AVQnmKgkizBn5TEbLxz504a5KfAXqALQJXmVMZ1ALpibgWcCVwEtAXM67ahwC1AN2AgsBj4DbDNEUjzm5eBVwDKswZYZzEDeAYAHzcOtBzYE4BjOJSWT30X6FygOL3+LgduBMxZ9/33359vsQxYAiwEFjkCaRbOBeBsWLwUgOEvgeZLafjUrxmnnTInkOeee846IInYO8C/AHcCVGkuVeznAZQ8q+J1AddBTgBGANcD1nV9IjYEmA5QRc0FpgFjLcYBs4H1AJ0OKwHQcgQdLKcydlsh7AXMAgYCA4A2QCHQ26I/UARMBmDsA2EsMoSJg0qi9QE6A48A1wJuRU+nDsTvBj4G6FLjXcBsvwdw9TAlMVEKlAHQXIawS5cuXaDQ3GZj8IN1ZAgXL178G2CbI5BGhnDo0KEyhMuWAAuBRY5AGhnC+TKE9CKSQhz8YF3XVBMA8jDgB6+3rusTMfCDQ6YDMoTOX5brdCXdC5gFDAQGAG0A8mBm3YAf7A9+sAj84GQYuwzhoEGDBsEBlCH8+OOPPzYN3vvvv/8uYLYHP4jfMlqSZkqBMgCayxB2kSEcOnToLUA3gGbjxQAZOUc/uI3yvAzAAuErlGcNsM5iBgALhM/AW9haIbzxxhtvNGddrRAGDncpsAiAs9AOLwTo8n0+AAuE78AC4b/cCZDtcbo2zgMoeVbFZQjnljMNGGtBs+tsYD0AZ8PClcAIgCrKqYzd3pPuBcwCBgJkJ8APtpEh1C2jj5RzLeBW9HTqQPxuIGH+LOhS413AbL8H0AphaTnFgKlP8JTkf83GumX0zHIuAuCO0bbm9dxQ4BagGzAQsC85tUJY7hHpkgW01C2jiZnYdB9wx6hWCBcF0GloxhcC5gSiW0YrTlgHAAAgAElEQVThqiTOsAzh3HKmAZYfHEuzK/jB2esBOBtkCAcMaAPIEMoQPlIO+MFrfRdcp9K7AcsMJmKmwdMKYWk5JcAuIHhW8r/FgOnxkp8eRMzGMoQyhNsO8xsAFghffgWANL9ZA6yzgAXCGVohLCwsXA7cCNAsPd9ChnBpOYsA0/hRcCEgQ+h6ZRJXexlCGUK/HK0Q6pbRIQF9LQYBA4CBQB+gMxDYv+R/ZQhdPUxJTJQCZQA01y2jXXTLqG4ZDf0h+ME16yxkCD3Po3eHwQ8uvxGQIVy6dOkSILB/yf8uAsj7mfGFgAxhXAbPNY8MoQyhDGFRwGRgIEAvSJOA/wdMAWDK1beMJuyhDKEMYWk5xYCpT/CU5H/Nxloh1ArhtsOEzq3SA60Q6ktlli3TLaOHrlZM40fBhYAMoauRi6u9DKEMoV+OVgi1QqgVwiPMq3DH6N0fA/TeM3yE8F2z/R7A1cOUxESymwoiZQC1p+HsAihPMWDqQ0nMxjKEMoTbDlPJB4Z/yhDKEMoQhm9ek/cz4wsBGcIjXIikbbMMoQyhX46bIewOjAQeBcYC84GhwGMW4SRV6cF44GZgEDAVmAaANiMHAD2AYQAsTE5aCcwBnrU4ZBaT/hsI9AH6A/cDw4GLAN+FuObV1sDbwCfA5xZ7gRKgDNgFQBoMlwLQbRk0x1tGqWPK8x5g7u4HgEvVJNquAJoDrpXmNJ5LgfOBAuB04FRgINDFAs7Xi4YBi4E1wGvAG8CbwAvAMgCGswbSvACFs4Ly/K/FZgD26c2XgXFAETACmAM4lbHrOdIL2Aa0BGBK+GC5BR0+qI5lVo5EbBGwAKD8S4GFwBKA8tP4IY1bGDRYRFnoHIHqfvlqgA4iVWBay7gOQN6sPpDvAu2pa3wAQEewA3A7MAd4EpgJzAbGAxOAuRbwSrWYzp1pwFMA7NNMEpkOolsZO7XuDowEHgXGAvOBocBjFjTdQA2MvxkYBEwF4HBPA21kCPv379//fmA4cBHgVMZ05rjGWwPgB98GP/jJ5xZ7gRKgDNgFQBoMlwLQrQxh8+bNm7tWlFMZgx+89HygAAA/ePqpwECgiwWcrzKEKwLWAP9rsRl4E6Ar5nEA+MGiEcAcwKmMXc+RXsA2oCXwAbDc4tDRSvpvGWDlSMQWAQsASL8M/ODShQBdRFJ+Gj/lcYqDBjKEderUqSNDePvtt8O8MudJYCYwGxgPgB+cMNdChtDvDowEHgXAD46dD4AfHPqYBU03UAMyhIfOvmcthgBwTTiwD9AfAD94/3DgIsB3wfUShNq3BmQIy8pkCJvLEHbp0gXOVxnCFQFrgP+12Ay8CcgQbtu2Dfxgyw+A5RaHjlbSf66Gii5OFgCUX4ZwzZo1VN5XA0lH71CAXt9dril8SkLxhPmzkCGUIXyqnJkAvflCleZWxk6tuwMjAfCDj8oQjhypFcL+WiEM1gw/t9gLlABlwC4A0mC4FIBuZQibyxDKEL5wGLoYXQP8r8Vm4E2ArpjHAVoh/OAD3TK6bNkyvOWVLkad4osASgKniAxh4i7SfBfIM7jGBwB0BDsAtwNzgCeBmcBsYDwwAbAWCOdqhVArhIMGDRo0FZgGgFmWIewvQyhDWHIkwIeWvgfssvgAcHo7TJ8hDO4hHQh0sdAKYWAJVwB0sWv5wf/dDLwJvAyMA2QIZQgTdlCGsNwhOb06uHoqa3UwEdMKoVYInypnJkCumyrQrYydWncHyPNohXDaNH2GsE+fPn36A/cDwwG6vnQqYzpzXOOtAd0yqltGm5fjWlFOZazPEK5Zs+Y14A0ArNObLwDLgDUApNGXymBpu54jvYBtQEsA3iPSCmGi4pcDdDHqFF8EUBI41bRCqBXCQyuGM4HZwHhgAqAVQnv6Bj/YXYZw6tSp0wASZwDQAxgGTAJWAnOAZy2GALBIoM8Qtm7durUMoQxh83JcL3btaReiMoQyhJvLIZf7MjAO0AqhVggTdlCGsHzihnnXDrtO9XUArRBqhfCpcmYCSwCqQLteIaqfndCXyswJeNYC/OAQGULP8xLmz0KGUIaweTk0R1McZmk7LEMoQyhD2Osw24CWgFYIlyxZsgxYDsC1qFt4EUBZtEJYt25d+NUJfYYwsUgI1mkmLBDOHg9MALRCaF+CwJrWgMnAMGAwQPZjHGAep/nAJmAOALPWokHARIB2Cmpy/HqA2t8MnAPQxWh/i7GA1TYRgwM7mN577g48DpwN+C6QAumO9wZutHgL+Ahw/Y31EkdKgTIAmpc6dltC+0Xx9y1+C5wCpLsSKL9LFfvdgPuALsAtwCXAuYBpUK3STsQKAWrf1RHQBsOU/qdAJ6AjALtb2B4wjxUNEg74fdQext6JxL8KuBbwXaBzgeJDAJoQjgd2A6ZFWg2sBFYBZvKIFTlIg2EY5moY5srljlAeipvjocZzAfpK1bXAFcA6gCrNpYqdv2WUOs1IvDFwN0DXolcC/QA44HMp/xKAKmQBsBCgPLMsRgKPAU8AtLMU3wIcB7iVsVPrAcBkYBgwGICpfsg4wKyn+cAmYA6wCBgETARop+h4rweo/c3AOQDNOP0txgJW20QMDqwMYUL13sCNFuAH3/oIoOuhkpgoBcoAaC5DSOdfIu670A24D+gCgB+85RLgXECGsFOnTh2BQqA9YB4rMnhwwGUIE5Mi+MHjdwOmZ1sNrARWAWZyGcJARfNybu7cuXSZvha4AlgH0Izsu0BJciLeGAA/eDddi14JgB/sR0ec8i8BqEIWAAsByjPLYiTwGPAEQDtL8S3AcYBLFftulyADgMnAMGAwMAQYB5j1NB/YBMwBFgGDgIkA7NMQOt7rAWp/M3AOQDNUf4uxgNU2EYMDK0OYUL03cKOFDGFJOWR0KW4tEL7/W+AUgM6RdMd9F7oB9wFdABnCbt26kdeCBcKfdgI6AoVAe8A8VjRIOOAyhDKEqwNWAssdgTQYPtT9P/5Hrc3LORnCdL/oeJ7XGJAhDCziLIuRwGPAE8B4R8APbjkO8F2QIdw0B1gEDAImAkMAKoP1ALW/GTgHoPnF9HjgB8eajWUISdsg3huw/OCNMoQyhH4k3YD7gC6ADKEMYadyzInoxhtvvAq4Fogs28obo+fM5K1DAHqHSCuEq1frltHEouE6ILnGgkjlSo38m5LkRLwxIEMoQxhV9bBAqM8QDho0aNBEAF6/tEJYVFRU1B2AjxA+fjYQVbVJ2zI1R4Mf7G1eh8kQyhAmVe4/BLoB4AfvAz/YRYZQhlCGcPdhzLs6VwO02LUKMJPrltFAxrkA3ci3FrgCAD+4jq4H/mG2PdIflCQn4o0BGUIZwqjCHwBMBoYBdGMheadxgDmBzAc2AXOARUDC/FlMBGinaMVvPUDtbwbOAWiG6m8xFrDaJmJ0ZIuA7oAMoQxhSTn0xj/FdcuoDGHXrl27OUJ3Y+qWUa0QLlu2DPwgrryBH1wlQxixXGlezumWUbpgizHeGJAhlCH0IxgATAbADw4j2zAEAD84zpxB5gObgDnAImAQMBGAfdIKYcIjdgdkCGUIS8oh40dxGUIZQhnCoAbI5XYCzFsVZAhlCJcfJljKq/q/qy3o6eblnAxhjMaPUjUGZAhlCP0IBgDgByfLEE6cOFGGcPBgfalMYirWLaOlpfqWUXpRTsQj5t7kTd2A+4AugG4Z1S2jncqRIdy9e7e5iLcaIG+jFcJAGVM2Ek2GMOq1IZ3bGgMyhDKEfgQnAH0BustxIkArgWOA0RZPAdDnxKcBuFly7CiAFrXWAvcDjYB0TgiJ3JaWo0GbpwcC5H77AX0AeouhCeC74KpkPuCax6n928BHwHtASZopdcR1OMWO7LGgMTodkWpo7FLF/qlAJ6AnAHdzY5jWnUxj2RG4HrgKMH/T4tJLL70IuARoA1D+QuAKgPLAbl1F7c3hw1gKKTnF2wN0f+ydABRaJ6cydj2t4AadQX8EjgO2A6ssNgArHVkNrAHWAtTtCoDaxxWH3Vr9vAXs09pFwFTAyp2IUdnTzlIFprWMC4DuwKNAf2CAxUhgCnAf0BkYAjwEzAEWAEsBKJxFswAyJhQfazEZgD6dw88CrwNnAG5l7NT6BKAvQPpOBMYBY4DRFuAHn4I+ZQgPzYeWljKECXHAD+bTC0ks8bcB8IMfvQeUpJlSR1yHU+zIHgsaYyxHKsYkvgvgB0/tBPQEihyRISwsLLwCIIN3FUDtL7EoBCA3htsDMoTbt29fZbEBII9B8dXAGmAtQPnBD66g9nHFYbdkCPHFoQDoDjwK9AcGWIwEpgD3AZ2BIQD4wYfmAAuApYAM4euvvw5+8AzfBbeblE4A+gIyhI8//vha4H4AFggb4dQS04bRFk8DAwGYEIb0A/oAk4EmgEvN+66C5QOueZzavw3IEBZHssdChrBTp049gSJHZAhlCO8spxOQ1tl4EPBH4DhgO7DKAvzgBldDtRpYA8C1w1rqV4ZQK4T9yxlgMRKYAtwHdAaGADKEzuuDs2Y9C8ACoQzhmDGjLbRC6GQ8wsaWllohTMgDflArhCUlJSXktSieeI4Lke7P2Gj5wT00mLD4s+SB05W0Vgh1y2hhOVc50h7QCqFWCMlqRsdXA+ZdnWsBWueZCpjJZQhlCMNCIhtGK1UUH2sxGaBOXePgB5+VIRw3BhhtIUOY2tWtpaUMoQxhSTSljkRnS95qeL7IkAxhJ6An4LhAWKQVQq0Q3lkOFJo+Q4juCXzT6jXAWoA60AqhDGH/cgZYjASmAPcBnYEhgFYIXd3gLK0QTpw4cRwAflArhKlZP/tZoy2eBgYCMCHollFb84jo24BuGY30g8UyhJ0A8IM9ZQjbtGlDn+ULluCS/70CoDxXAdT+EovkYQQRyI3h9oBWCLVCSFYzOr4aMBfx1gLhwk6lB1MBM7kMoQxhWD9kw8Y7MtZiMkCdusafBbRCqBXCxOcKI8xDLJssP6gVwoS0umW0hCl1hDPZW6LtX/JWGULwg/oMYcJjwZeMyhAmPKIMoQxhtPGjreAH9aUyeGlWAHQHHgUC+5f87wCLkcAU4D6gMzAE0AqhqxvUCuFErRDeX46+VKZPnz7w5svkJoDvAk7SsEGGsIRx9IOlnMneUuyIDGEnoCdQ5IhuGdUto3eWA4WmW0bJN61cDawB1gLUwQqA2scVh92SIYRLCs8rALoDjwLJVjCIDLAYCUwB7gM6A+AHh8gQ1kxDiNUNG8jbXAc8BkwDFloscWQqQIdwBjAJoO9+AM1iC7vamE4WTwKg2VTQYNJ4YBhwP0DquPhB528ZpU4pngdQezP+HvAXYAdQEhOlwG6gzJGdAPnB7YCZ5kvAVD6DwYyUcTPgEuB64EYLa1JJxMhVBk4j+V9avKL8yRmCSJc0Q+N0jXe0oCTdABLByp2I3QJQ+wsA3wXX020C8EugMbAXWG6xDtgIrARWANB85SpgNQDNV9HdleBD19B4XOPmeCgJDXIRsB4oBGYCVIEuVYwXFf8M9AV+BNwEdAG6WXQEQLDCs4FLgPHAM8CzwFRgGjAbmAw8DowAHrMIjHfV/x0IDAdGAS8AxwC+C24/O/H/2zujELvqO48nI10QpPrgIoUu++bTIAu+SAnUQmWbh2krhYXgSil5sEFdKFvYPCxCC1GoINgwi5FEtw5jixrrzGWGZNJowiBqtA92aKvSNolhkpkkJuDCdh8WZ7lzx5g99//53/ndc86990w+34cx53/+53/+93N+5z/345m5Q3cOtSuEBw4cUAgPHFAIt2/fvp1uk2T7GcgnEPDBjyvyQfw00VXISjBJkTt37txZyGlIcpzPIEnyQ2yMLN34FiQ6f/DBv90B+Tbk/lT+GaIQkt112nelQofsgeyGpMZut4EP/hP1/wfIWiTRcp2EgA++fivkMmQmlQXIcUgLMguB7gphWxJfgRyD7IT8AkIVGKliXI3HIXsh4IP3fg/yA8ieVHZBAJhCuCGI+1LZvAp2ej4GeQICPvjkGxDwwb9Zi0QhfPUg5AUIPCD8zwMQhVAhbOugQriSS1LkFMLMYk7vY6LtCiG8p+qnmZwt2p5850aD7IGAD+5ODq4QXl5PygdnFiDgg8dbkFkIdFcIFcINQwQf/B4tUsklgW78nZA7ITsg+yHwgPCZ5yHwlvzgIcgU5FnIzyAb/tf1n32pdDRv818fgzwBeRICPviGQnjo5VReDeYgBHzwBYXw6aefBmb+yGj73fi6/SW+hN6pn4F8AvEJ4en1JMXyM0joigyg81okVc1HIaQ3VX20k7NF23elQoPsgeyGpMZut/mE8PLlyzOpLECOQ1qQWQh0VwgVQoXwizeb4IOHpiDPQsAHf9ZlghsN+1L592AegzwBeRKiEO6jOng5lVeDOQh5AaIQKoT59+IJF1xvyh9V2HsG8glEITy9HoWwUEg9NxXCPsSPDiFni7bvSoUGAR/csxuSGrvdphAqhEfW06ooc6nQ2P4O4d69ezf8r+s/PiE8eNAnhG1HVAgVwp5v6hIdboIkuq43JX/ZBz5TxieERLHdrhCurq6uBJMUOX9kdI2TK8HIPoWQ7K6PdnK2aHvbz7pCgyiEk5OT/g7h/Px8yr/abeRaHf3r/tqqKMn50Ng0yVcgxyA7Ib+A0GLJS29iDw0yDtkL6TLBjQaFUCFs66BCuG+fQkirTa4dfPAmOkYhJDLRdoVQIYzWTKd/4o0GN/V3iu6jFMIfVBdytmj7rlRokD0QeEDo7xDeeuutt16GzKSyADkOaUFmIdDdHxn1R0YVwi9+hO8QZAryLMQfGaW3FfV+qEz3m49qW+5I5S7IPZCvQe6E3Ayp9qU5WogA1XeyPTTysDovQa5C6Alb9FNGlyEXIKuQFQh0X6X5/wVyBpIc5yNI9OKOQaLjUP9kuVIjDWK7BIZLgCo22R6d6kuQFyH0/zs+hRxO5WgwrWDmas48hB7KBacfE1eQ4nBzytzbbQ9BwCYOUQUmy5Uat0Oeh3xhOf//Xw9DJiA7IHensiGXXf+hnxV/EPIo5N8g/wL5V8hPIU9BHofAMD8lIZyGJCutBXkD8i7kHcibkDXIOAS6p5sVwnvAB792JwR88GZaVmwfAIF0dUPrAOZT/hRLkKuQc5DzwYAPLl+ArELAB1egu0LYLhko2HRz+RpzBAnUQSBdr9AancBLkBchCuHc3Nw8RCE8dEghvFch7CjiNEQhTC/e0bW77v53pHIXBB4QKoR1X6VBjJ+uV2gdxIRKn2MJAj54FXzwXNAHzyuEmUs3BskcEtoFBZtuDo1sZwkMjEC6XqE1OivwwZdehCiECmHnkaFPCLseDW40KIQKYWd5bvb/k0754B13QRTC6LfeBvWHNxvp5ka8riWIQviX9ZyBJMX4I0i0EsAHx6LjUP90vUIrDWK7BIZLAAo23RydqkI4Fw88IJz3CaFPCO+91yeEGz9DOg3xCWE1a3d0rY/2VwijxLZq/3S9QmsjIIAPLimECmGnrhtRxk7yBiQA6266OcpHIYz7oD8y2n5G6BNCnxB2fqvQ3yFMr8Vraz4h9EdGo9+RR7E/1XeyfRRfQNecFMLOs76O/nV/hQeEZ3xC2FVKNkhgoASSqy41RmemECqEs+tJPrfxQ2V2rCf1mTJ3K4QKIa3DnXaFUCGMfkcexf75Ki/sHcUX0DUnhVAhLNRtYbOrZGyQwEgQKBRqfjM6Y4VQIVQIJz7PDohC+Pjjj/spo+Pj4/nlt7BXIVQIo9+RR7F/oazzm6P4ArrmpBAqhFugjLvq2oatTyBft4W9URwKoUKoEH7ugxM7IAqhQji+nsJ6m99sthBGv5fYf6sSyFd5YW/dEMYgofPCX3m4cAVCnw66CqHxaRzqD8OvVvVnJ05DzkKS8/8QEroi27Ztgwvrh8pEQdp/KxMorLf5zSiI/ZC9kNshsI5eeS2VY5CjEPqwlvlg+nC/5CF0WppnK5jkSamRJjMLoblMQX4O2QWhCszXbWHvdyFvQY5ATkII2mHIoVR+Avkx5FEI3Gp790H+A/IcZBoCbE4C47fegywFcyqVP0JSfdttNMnXIXRvLkAegKxFohDSamB7kwhEan6t7hc2BgmdlwTsCmQZsgqh8WGYof0dwtOQs5Dk/D+EhK6IQhjFZf8bk0CtqzH44P69EPDB22EdVQjbb0TJwah9LhJym1kInXQKAj74c/DBXXSThsoYfPC7b0GOQE5CCNphyKFUwAd/Aj74Y/DBR+FWUwjbjngKAoXwFvjg6woh3Zi2S6AHgdDa3WOs0rvBB2PPkUjYrkCWIeCDqzQ+DKMQtsuikiubqa+RKuPMPN0lgQyBWstYIYzI10Zf0gl600kORu2hKdFkZiF00imIQnj48OGUDx5SCDuPDJeCSSoePCBUCDPfGdwlgYEQqPUtSPQVVKINJGxXICRyCuHy8vKHkKFc2cxJR6qMM/N0lwQyBGotY4UwZF+dzuRgCuGuXT4h9AlhD0FUCNNLeuZ7gLskMEQC6XqF1rrnqRCurvo7hP1UGRRsurmfE3iMBOonkK5XaI1ORyFUCDvPDOEB4ZRPCH1C+NZ64FcI3+vhf127FcL04h1du+0vgcEQSNcrtNY9JYVQIeyvxqBg0839ncKjJFA3gXS9Qmt0MgqhQqgQXnvkC79C6I+Mto1QIXzggQdg3U03+6Ey0e9H9h9FAunqhta6X4BCqBD2V2NQsOnm/k7hURKom0C6XqE1OhmFUCFUCBXCk9el8zyw+6tCqBBGv7/YfysQgDcb6ea6X7BCqBD2V2PpeoXW/k7hURKomwAUbLo5OhmFUCFUCBXC63zQPzuxsLCw8AAkvexCq08Io9+P7D+KBKC80811v4BKhHAJchWyArkIoQ+bOR8MjUMfigPTXOn8GfrNf/0YkhzhA0i0Eiq5spmTpusVWjPjuEsCQyQABZtujs5zAvJlyM2QTyGzqfwGchRyBDIfzBykY0Sb/0qnjX6oTIpNu23zM2m1WvCa5mYgv4bQZCYh0UpL1yu0jkNgLpPwWmdeg5yAvAl5u4rAOU9A1WPzYjDvQN6F0PAnIccgv4Q8l8rzkCkI/WrrNORXELgbfn0fZC0ShTC6Sth/FAlEar4Zf4cQfHDpKoREC3zw4irkfDAwDP5ZC5rnuWDABz9ODgM++EG0lMcg0XGo/0iVMU3SdgnkCdRaxhMQ8MEv3wz5FDKbym8g9BYYfPDIfDDkTq1g6LQKYaaSQ2U8DpmEKISLHPDBd96F0EgnIeCDx34JeS6V5yFTEIUwc6+5SwJVEgit3VWeODXWGCTVF9sUwqTaXWtUCLF03CGBoRKodTWegCiELc48RCHM3CihMh6HTEIUQrK4xcVFhXB6ehoeEP7KJ4SZe9ZdEmgTCK3ddSMbg4TOqxBec7/kPxTCUDnZWQIDI1DrajwBUQhbnHmIQpi5KUJlPA6ZhCiECmHnmeE0RCHM3JvukkCOQGjtzg1Uxb4xSGhshTDpgdcaFcJQOdlZAgMjUOtqPAFRCFuceYhCmLkpQmU8DpmEKISLHJ8Q+oQwc2O6SwI9CITW7h5jld49BgkNrBBec7/kPxTCUDnZWQIDI1DrajwBUQhbnHmIQpi5KUJlPA6ZhCiE7IP+yOi0Qpi5Md0lgR4EQmt3j7FK7x6DhAZWCJMeeK1RIQyVk50lMDACta7GExCFsMWZhyiEmZsiVMbjkEmIQrjI8QmhQpi5Md0lgR4EQmt3j7FK7x6DhAZWCK+5X/IfCmGonOwsgYERqHU1noAohC3OPEQhzNwUoTIeh0xCFEL2QZ8QTiuEmRvTXRLoQSC0dvcYq/TuMUho4PchlyH01yIuQejPPyxDViH0Zy2oHaZ/+SwkaYOZxgupkF2Hrsi2bdvgwo5Fx6H+I1XGNEnbJZAnUGsZj0MWII9A/gBJDnMcQp9fnxykj8bon7Wg/tROQkj96SXMQVqp0Mckpvq22w5D4JxzpyD5ou3eW0kZfwkyDnkY8gyExDJZmScg70H+CKHvv6chH0B+D3kb8hpkP+RByFcgT0OS7x/ehfwW8mYwcK1OwPC/3QmJlXGsd/dNY4sERoDASJXxGCTE6X0ICdV5yCXICgR8cHkVQuJH7TT/sxD63kPtF1JJLuhLS0uhK6IQRnHZ/8YkUOtqDG+kxxcg4IOPgA/+ITkM+ODx5NvuY8eOJQfpo/Eo5AgEumOzQpi5QyspY/DBL1EZPwx5BjIDSVYmOQb44Ht/hNA3X/DB0x9AwAd//zYEfPC1/RDwwQfBB78CPvh08v0D+OC7JGxBH3yTLhaNDz64M1bGsd6Zu8ddEhgegZEq4zFICA/44PskVOch4IOXwAdXFMLMZYIL6xPCDDN33XAEal2N6Z006ZZCeJSjEGZuzkrKWCE8fVohbEucQpi519wlgSoJVLJ2VzWhSrRBITy7HvqfkdR+IZXk/+HzCWFVBe84ErieQK2rsUJ49OhReEB4hNUvvUchvL5uC/+upIwVQoWw80xPISzcX25KoC4ClazdVU1OIaSfF7148SI94Vy3v8QXEj9qT/ngBYWwqtp2HAn0JFDraqwQKoSH1zMHOQXpWbeFDpWUsUKoECqEhTvLTQnUS6CStbuqKSqECmF/tTRSZdzfS/AoCdRaxgqhQqgQPvN5ZiD+DuH+/fv9HcKdO/0dQr8h33gEan0LEsWpECqE0Zrp9B+pMu7vJXiUBGotY4VQIVQIP/fBZ8AHZxRChbDzMTOx1TjW2+91EhhJAiNVxgqhQtjfXTJSZdzfS/AoCdRaxgqhQqgQKoTXf+LofohPCH1C6LfjG5FArW9BokC3Q0LjLEFWIPQ7dWcg9AnR1J783bwLFy7Qp5LSfKj/nyB/hkD3PyX/YD2wrOzPTsAF3x664tu2bRupMo5O3v4S6BCotYxvgnwEOQGZhyQ/r6UFmYHMQmCYFnSfheFnqH90/OvfVV//bxqf5vMSJAlzEXIK8nIvqeMAAAtoSURBVAaEJvMQJHp71lrG0clE+yd/d/HvIHdD/hGyK5j7IfdAbodEIVTV/7ZUboFUddKqxomVcax3VXN0HAlUSmCkyrgSPViCgA+ukICdgZwORiHM/B3CSq64QljpkuBgQyNQ62oMPngT+OBHJyDgg/NJh2lByElmITCMQri4uLgIPngKfPANgv8QJHo/1FrG0clE+yuEUWKZ/relAj54S2acoeyKlXGs91BekCeVQC8CI1XGlejBEkQh/PN6fELY655wvwSGQ6DW1VghnJnxCWFbEhXCzO2tEGbgRHelfPA2hXAtytH+EhgMgVrfgkRfgkK4vLxMTyz9kdFMOY1UGWfm6S4JZAjUWsYKoULYeWaoEGbuQYUwAye6SyFML+lRjvaXwGAIpOsVWuuekkKoEHZqIFppULDp5ujg9pfAYAik6xVao1NSCBVChbDnXaMQ9kS0+Q4KYXrx3jxBe0pgkATS9QqtdU9MIVQIFcK67zLHH1kCsO6mm6OvQiFUCBXCnneNQtgT0eY7KITVrN2bJ25PCZQhkK5XaC1zos0cqxAqhArhZu4U+2xJArDuppujBBRChVAh7HnXKIQ9EW2+g0JYzdq9eeL2lEAZAul6hdYyJ9rMsQqhQqgQbuZOsc+WJADrbro5SkAhVAgVwp53jULYE9HmOyiE1azdmyduTwmUIZCuV2gtc6KBHXsVAq9p7b8g1J/a/xdC/YfVfgXy11R+B4lezUpUP3PSEMzMOO6SwBAJjFQZfx1CkzybykXIKgS6YzMME26+BKETR09wHkIfIfbfqRD5zyAfQP4H8veQ6B1B80y2Rwe3vwQGQyBZrtTon0IezEXxLPUSoPpOttc7lYpGBx+8mnxFa2sK4YYgpnzwr7+DRK+VQhglZv8bkACtUcn2uvmAD349OZm1tbWzqUSFivpTe1TMqD/44KWqzgs+eF4hrLuMHV8C/RGghS7ZrhD2B9mjRotAsripcbSmDrNRCOnyddrhAeEVhRAKymYJDIhA/s4t7K17TgrhpUsKYfuhYbTSCoWa34wObn8JDIZAvm4LexXCwVwUz1IvgUJZ5zfrnUpFoyuE+YuoEFZUaA4jgYoJ5O/cwt6Kz901nEKoEHZ+hrSrNHo0FAo1v9ljLHdLYEgE8nVb2KsQDukqedpKCRTKOr9Z6ZnrGkwhzF9EhbCuynNcCZQjkL9zC3vLnar30QqhQqgQ9r5P7LFFCRTW2/ymQrhFq+AGe1n5Ki/sbQQbhbBw1QqbCmEjythJ3oAECrdqfrNuPgqhQqgQ1n2XOf7IEsgvv4W9CuHIXkcnFiBQKOv8ZmDc4XVVCPMXUSEcXm16ZgnkCOTv3MLe3EBV7FMIFUKFsIo7yTEaSaCw3uY3FcJGXmMnXSCQr/LC3sKxo7mpEBauWmFTIRzNunVWEijcqvnNunEphAqhQlj3Xeb4I0sgv/wW9iqEI3sdnViAQKGs85uBcYfX9auQ3ZAfQfZBXoS8AnkBMgV5GQLdsfkpyCOQ+1O5BzK8y5s+c75uC3vTQ9gqgWETKBRqfrPuyd4C+T5kZyoTwXwb8h0IdMdmms63as43Id+A3FdFUhek3fZDSFUVla/bwt6qTuo4EqiWQKFQ85sKYbXwHW04BPJVXtg7nCkGzwo++FXwwd3ggz/aBwEffBF88BXwwRemIOCDL0N3bAYffOoRSMoH7wcfvCd4TWrvXijU/Gbts/EEEuiLQL5uC3v7OkPgIPDBW8AHv78zFRIwaieTAx/8DvWndjpvzT74LfDBb4IPfqMKH7wvdUHabeCDPwwUR7ZroVDzm9mR3CmBoRHI121hr0I4tOvkiSskUCjr/GaF561vKIVwaj0KIRVzfbXnyBIoQ4AqNtle5kSbOVYhrNASFcJkDa+trW2mFO0jgcEToIpNtiuEg79AnrF6AsnipsbqT1/DiAqhQkgF3GmvoegcUgIVEMjXbWFvBefLDqEQKoTZAsGdhULNb+Io7pDAUAnk67awVyEc6rXy5BURKJR1frOic9Y7jEKoEG6BMq73JnH0kSSQr9vC3rpfgUKoEPZXY4VCzW/2dwqPkkDdBPJ1W9irENZ9ORx/EAQKZZ3fHMSESp9DIVQIt0AZl74PHKB5BPJ1W9hb98tTCBXC/mqsUKj5zf5O4VESqJtAvm4LexXCui+H4w+CQKGs85uDmFDpcyiECuEWKOPS94EDNI9Avm4Le+t+eQqhQthfjRUKNb/Z3yk8SgJ1E8jXbWGvQlj35XD8QRAolHV+cxATKn0OhVAh3AJlXPo+cIDmEcjXbWFv3S9PIVQI+6uxQqHmN/s7hUdJoG4C+bot7I0JYeFgNyUgAQlIQAISkIAEJCABCUiguQQUwuZeO2cuAQlIQAISkIAEJCABCUigFAGFsBQ+D5aABCQgAQlIQAISkIAEJNBcAgphc6+dM5eABCQgAQlIQAISkIAEJFCKgEJYCp8HS0ACEpCABCQgAQlIQAISaC4BhbC5186ZS0ACEpCABCQgAQlIQAISKEVAISyFz4MlIAEJSEACEpCABCQgAQk0l4BC2Nxr58wlIAEJSEACEpCABCQgAQmUIqAQlsLnwRKQgAQkIAEJSEACEpCABJpLQCFs7rVz5hKQgAQkIAEJSEACEpCABEoRUAhL4fNgCUhAAhKQgAQkIAEJSEACzSWgEDb32jlzCUhAAhKQgAQkIAEJSEACpQgohKXwebAEJCABCUhAAhKQgAQkIIHmElAIm3vtnLkEJCABCUhAAhKQgAQkIIFSBBTCUvg8WAISkIAEJCABCUhAAhKQQHMJKITNvXbOXAISkIAEJCABCUhAAhKQQCkCCmEpfB4sAQlIQAISkIAEJCABCUiguQQUwuZeO2cuAQlIQAISkIAEJCABCUigFAGFsBQ+D5aABCQgAQlIQAISkIAEJNBcAgphc6+dM5eABCQgAQlIQAISkIAEJFCKgEJYCp8HS0ACEpCABCQgAQlIQAISaC4BhbC5186ZS0ACEpCABCQgAQlIQAISKEVAISyFz4MlIAEJSEACEpCABCQgAQk0l4BC2Nxr58wlIAEJSEACEpCABCQgAQmUIqAQlsLnwRKQgAQkIAEJSEACEpCABJpLQCFs7rVz5hKQgAQkIAEJSEACEpCABEoRUAhL4fNgCUhAAhKQgAQkIAEJSEACzSWgEDb32jlzCUhAAhKQgAQkIAEJSEACpQgohKXwebAEJCABCUhAAhKQgAQkIIHmElAIm3vtnLkEJCABCUhAAhKQgAQkIIFSBBTCUvg8WAISkIAEJCABCUhAAhKQQHMJKITNvXbOXAISkIAEJCABCUhAAhKQQCkCCmEpfB4sAQlIQAISkIAEJCABCUiguQQUwuZeO2cuAQlIQAISkIAEJCABCUigFAGFsBQ+D5aABCQgAQlIQAISkIAEJNBcAgphc6+dM5eABCQgAQlIQAISkIAEJFCKgEJYCp8HS0ACEpCABCQgAQlIQAISaC4BhbC5186ZS0ACEpCABCQgAQlIQAISKEVAISyFz4MlIAEJSEACEpCABCQgAQk0l4BC2Nxr58wlIAEJSEACEpCABCQgAQmUIqAQlsLnwRKQgAQkIAEJSEACEpCABJpLQCFs7rVz5hKQgAQkIAEJSEACEpCABEoRUAhL4fNgCUhAAhKQgAQkIAEJSEACzSWgEDb32jlzCUhAAhKQgAQkIAEJSEACpQgohKXwebAEJCABCUhAAhKQgAQkIIHmElAIm3vtnLkEJCABCUhAAhKQgAQkIIFSBBTCUvg8WAISkIAEJCABCUhAAhKQQHMJKITNvXbOXAISkIAEJCABCUhAAhKQQCkCCmEpfB4sAQlIQAISkIAEJCABCUiguQQUwuZeO2cuAQlIQAISkIAEJCABCUigFIH/AxsJfqd7y8BVAAAAAElFTkSuQmCC)\n",
        "\n",
        "✅ Fashion-MNIST란?Fashion-MNIST는 Zalando에서 공개한 의류 이미지 데이터셋으로, 기존 MNIST 손글씨 숫자 데이터셋의 대체를 목표로 개발되었습니다. 총 10개 카테고리(티셔츠, 바지, 코트 등)로 구성된 흑백 이미지(28x28 픽셀)로 이루어져 있으며, 딥러닝 모델의 성능을 테스트하기 위한 벤치마크 데이터로 널리 사용되고 있습니다.\n",
        "\n",
        "\n",
        "✅모델을 빠르게 학습하기 위해 GPU를 사용하는 것이 좋습니다. Google Colab에서는 다음과 같이 설정할 수 있습니다.\n",
        "\n",
        "메뉴 → 런타임 → 런타임 유형 변경 → 하드웨어 가속기: GPU 선택 → 저장"
      ],
      "metadata": {
        "id": "FiJakblIf1C5"
      },
      "id": "FiJakblIf1C5"
    },
    {
      "cell_type": "markdown",
      "source": [
        "**0. Import**"
      ],
      "metadata": {
        "id": "qiGIQkelgOBh"
      },
      "id": "qiGIQkelgOBh"
    },
    {
      "cell_type": "code",
      "source": [
        "import torch\n",
        "import torchvision\n",
        "import torchvision.transforms as transforms\n",
        "import torch.nn as nn\n",
        "import torch.nn.functional as F\n",
        "import matplotlib.pyplot as plt\n",
        "import torch.optim as optim"
      ],
      "metadata": {
        "id": "E5PB90G5gNNl"
      },
      "id": "E5PB90G5gNNl",
      "execution_count": 7,
      "outputs": []
    },
    {
      "cell_type": "markdown",
      "source": [
        "**1. 데이터 전처리**"
      ],
      "metadata": {
        "id": "Lxf2cg0MgRT3"
      },
      "id": "Lxf2cg0MgRT3"
    },
    {
      "cell_type": "code",
      "source": [
        "transform = transforms.Compose([\n",
        "    transforms.ToTensor(),\n",
        "    transforms.Normalize((0.5,), (0.5,))\n",
        "])\n",
        "\n",
        "train_dataset = torchvision.datasets.FashionMNIST(root='./data', train=True, download=True, transform=transform)\n",
        "test_dataset = torchvision.datasets.FashionMNIST(root='./data', train=False, download=True, transform=transform)\n",
        "\n",
        "train_loader = torch.utils.data.DataLoader(dataset=train_dataset, batch_size=64, shuffle=True)\n",
        "test_loader = torch.utils.data.DataLoader(dataset=test_dataset, batch_size=64, shuffle=False)"
      ],
      "metadata": {
        "id": "fI667Bt_gTqd",
        "colab": {
          "base_uri": "https://localhost:8080/"
        },
        "outputId": "8a72537f-c6fd-448b-eb0d-0d166f4431f7"
      },
      "id": "fI667Bt_gTqd",
      "execution_count": 8,
      "outputs": [
        {
          "output_type": "stream",
          "name": "stderr",
          "text": [
            "100%|██████████| 26.4M/26.4M [00:02<00:00, 10.9MB/s]\n",
            "100%|██████████| 29.5k/29.5k [00:00<00:00, 171kB/s]\n",
            "100%|██████████| 4.42M/4.42M [00:01<00:00, 3.06MB/s]\n",
            "100%|██████████| 5.15k/5.15k [00:00<00:00, 15.3MB/s]\n"
          ]
        }
      ]
    },
    {
      "cell_type": "code",
      "source": [
        "# 이미지 확인\n",
        "\n",
        "classes = ['T-shirt/top', 'Trouser', 'Pullover', 'Dress', 'Coat',\n",
        "           'Sandal', 'Shirt', 'Sneaker', 'Bag', 'Ankle boot']\n",
        "\n",
        "# 샘플 이미지 6개 시각화\n",
        "examples = iter(train_loader)\n",
        "images, labels = next(examples)\n",
        "\n",
        "plt.figure(figsize=(10,4))\n",
        "for i in range(6):\n",
        "    plt.subplot(2,3,i+1)\n",
        "    plt.imshow(images[i][0], cmap='gray')\n",
        "    plt.title(classes[labels[i]])\n",
        "    plt.axis('off')\n",
        "plt.suptitle('Fashion-MNIST Sample Image')\n",
        "plt.show()"
      ],
      "metadata": {
        "id": "S5DJS2nIgtJ6",
        "colab": {
          "base_uri": "https://localhost:8080/",
          "height": 385
        },
        "outputId": "72ca0410-a22f-4f1b-b24a-b23fd599dfcf"
      },
      "id": "S5DJS2nIgtJ6",
      "execution_count": 9,
      "outputs": [
        {
          "output_type": "display_data",
          "data": {
            "text/plain": [
              "<Figure size 1000x400 with 6 Axes>"
            ],
            "image/png": "[encoded data removed]"
          },
          "metadata": {}
        }
      ]
    },
    {
      "cell_type": "markdown",
      "source": [
        "**2. CNN 모델 설계**\n",
        "\n",
        "아래 조건에 맞게 코드를 완성시켜주세요.\n",
        "\n",
        "        # Conv Layer 1: 입력 채널 1, 출력 채널 16, 필터 3x3, stride=1, padding=1\n",
        "        # Conv Layer 2: 입력 16, 출력 32, 필터 3x3, stride=2, padding=1\n",
        "        # Conv Layer 3: 입력 32, 출력 64, 필터 3x3, stride=2, padding=1\n",
        "        # 각각의 Conv Layer 이후 Batchnorm 을 적용하고 activation function으로 ReLU를 사용\n",
        "        # 출력 층(FC) 뉴런의 개수는 10개 (클래스가 10개이기 때문)\n",
        "        # optimizer는 Adam을 사용"
      ],
      "metadata": {
        "id": "TuwwS6XXhTia"
      },
      "id": "TuwwS6XXhTia"
    },
    {
      "cell_type": "code",
      "source": [
        "class FashionCNN(nn.Module):\n",
        "    def __init__(self):\n",
        "        super(FashionCNN, self).__init__()\n",
        "\n",
        "        self.conv1 = nn.Conv2d(in_channels=1, out_channels=16, kernel_size=3, stride=1, padding=1)\n",
        "        self.bn1 = nn.BatchNorm2d(16)\n",
        "\n",
        "        self.conv2 = nn.Conv2d(16,32,3, stride=2, padding=1)\n",
        "        self.bn2 = nn.BatchNorm2d(32)\n",
        "\n",
        "        self.conv3 = nn.Conv2d(32,64,3, stride=2, padding=1)\n",
        "        self.bn3 = nn.BatchNorm2d(64)\n",
        "\n",
        "        self.fc1 = nn.Linear(64*7*7, 128)\n",
        "        self.fc2 = nn.Linear(128,10)\n",
        "\n",
        "    def forward(self, x):\n",
        "        x = F.relu(self.bn1(self.conv1(x)))\n",
        "        x = F.relu(self.bn2(self.conv2(x)))\n",
        "        x = F.relu(self.bn3(self.conv3(x)))\n",
        "\n",
        "        x = x.view(x.size(0), -1)\n",
        "\n",
        "        x = F.relu(self.fc1(x))\n",
        "        x = self.fc2(x)\n",
        "        return x"
      ],
      "metadata": {
        "id": "RRXS8GkbhS4O"
      },
      "id": "RRXS8GkbhS4O",
      "execution_count": 10,
      "outputs": []
    },
    {
      "cell_type": "markdown",
      "source": [
        "**3. 학습 설정**\n",
        "\n",
        "적절한 손실함수와 조건에 맞는 optimizer를 사용해주세요."
      ],
      "metadata": {
        "id": "vx5BcVz3oJWP"
      },
      "id": "vx5BcVz3oJWP"
    },
    {
      "cell_type": "code",
      "source": [
        "model = FashionCNN()\n",
        "criterion = nn.CrossEntropyLoss() #손실함수\n",
        "optimizer = optim.Adam(model.parameters(), lr=0.001) #Optimizer\n",
        "\n",
        "device = torch.device(\"cuda\" if torch.cuda.is_available() else \"cpu\")\n",
        "model.to(device)"
      ],
      "metadata": {
        "id": "dT_ir0V0hgiC",
        "colab": {
          "base_uri": "https://localhost:8080/"
        },
        "outputId": "cd5e892f-c29a-4f7a-b8f2-e0d0e29b5c00"
      },
      "id": "dT_ir0V0hgiC",
      "execution_count": 11,
      "outputs": [
        {
          "output_type": "execute_result",
          "data": {
            "text/plain": [
              "FashionCNN(\n",
              "  (conv1): Conv2d(1, 16, kernel_size=(3, 3), stride=(1, 1), padding=(1, 1))\n",
              "  (bn1): BatchNorm2d(16, eps=1e-05, momentum=0.1, affine=True, track_running_stats=True)\n",
              "  (conv2): Conv2d(16, 32, kernel_size=(3, 3), stride=(2, 2), padding=(1, 1))\n",
              "  (bn2): BatchNorm2d(32, eps=1e-05, momentum=0.1, affine=True, track_running_stats=True)\n",
              "  (conv3): Conv2d(32, 64, kernel_size=(3, 3), stride=(2, 2), padding=(1, 1))\n",
              "  (bn3): BatchNorm2d(64, eps=1e-05, momentum=0.1, affine=True, track_running_stats=True)\n",
              "  (fc1): Linear(in_features=3136, out_features=128, bias=True)\n",
              "  (fc2): Linear(in_features=128, out_features=10, bias=True)\n",
              ")"
            ]
          },
          "metadata": {},
          "execution_count": 11
        }
      ]
    },
    {
      "cell_type": "code",
      "source": [
        "def train(model, loader, optimizer, criterion, device):\n",
        "    model.train()\n",
        "    running_loss = 0.0\n",
        "\n",
        "    for images, labels in loader:\n",
        "        images, labels = images.to(device), labels.to(device)\n",
        "\n",
        "        optimizer.zero_grad()\n",
        "        outputs = model(images)\n",
        "        loss = criterion(outputs, labels)\n",
        "        loss.backward()\n",
        "        optimizer.step()\n",
        "\n",
        "        running_loss += loss.item()\n",
        "\n",
        "    return running_loss / len(loader)"
      ],
      "metadata": {
        "id": "-f8-MDHnhmpc"
      },
      "id": "-f8-MDHnhmpc",
      "execution_count": 12,
      "outputs": []
    },
    {
      "cell_type": "code",
      "source": [
        "def evaluate(model, loader, device):\n",
        "    model.eval()\n",
        "    correct = 0\n",
        "    total = 0\n",
        "\n",
        "    with torch.no_grad():\n",
        "        for images, labels in loader:\n",
        "            images, labels = images.to(device), labels.to(device)\n",
        "            outputs = model(images)\n",
        "            _, predicted = torch.max(outputs.data, 1)\n",
        "            total += labels.size(0)\n",
        "            correct += (predicted == labels).sum().item()\n",
        "\n",
        "    return correct / total"
      ],
      "metadata": {
        "id": "ei-it1fglOGR"
      },
      "id": "ei-it1fglOGR",
      "execution_count": 13,
      "outputs": []
    },
    {
      "cell_type": "markdown",
      "source": [
        "**4. 모델 학습**"
      ],
      "metadata": {
        "id": "qZoOt2AtoQaX"
      },
      "id": "qZoOt2AtoQaX"
    },
    {
      "cell_type": "code",
      "source": [
        "num_epochs = 10\n",
        "for epoch in range(num_epochs):\n",
        "    train_loss = train(model, train_loader, optimizer, criterion, device)\n",
        "    test_acc = evaluate(model, test_loader, device)\n",
        "    print(f\"Epoch {epoch+1}/{num_epochs}, Loss: {train_loss:.4f}, Test Accuracy: {test_acc:.4f}\")"
      ],
      "metadata": {
        "id": "UP8VfzAelP33",
        "colab": {
          "base_uri": "https://localhost:8080/"
        },
        "outputId": "92e38985-2492-4d1c-dd59-9386f1891404"
      },
      "id": "UP8VfzAelP33",
      "execution_count": 14,
      "outputs": [
        {
          "output_type": "stream",
          "name": "stdout",
          "text": [
            "Epoch 1/10, Loss: 0.3614, Test Accuracy: 0.8821\n",
            "Epoch 2/10, Loss: 0.2372, Test Accuracy: 0.9122\n",
            "Epoch 3/10, Loss: 0.1903, Test Accuracy: 0.9152\n",
            "Epoch 4/10, Loss: 0.1587, Test Accuracy: 0.9150\n",
            "Epoch 5/10, Loss: 0.1317, Test Accuracy: 0.9147\n",
            "Epoch 6/10, Loss: 0.1052, Test Accuracy: 0.9171\n",
            "Epoch 7/10, Loss: 0.0873, Test Accuracy: 0.9136\n",
            "Epoch 8/10, Loss: 0.0692, Test Accuracy: 0.9166\n",
            "Epoch 9/10, Loss: 0.0562, Test Accuracy: 0.9186\n",
            "Epoch 10/10, Loss: 0.0457, Test Accuracy: 0.9203\n"
          ]
        }
      ]
    },
    {
      "cell_type": "markdown",
      "source": [
        "❓ **최종 Accuracy는?**\n",
        "\n",
        "답변: Epoch 10기준 92.03%\n",
        "\n",
        "❓ **CNN의 구조를 간략하게 설명하세요.**\n",
        "\n",
        "답변: 합성곱 층에서 지역적 특징을 추출하고, ReLU로 비선형성을 부여하며, 풀링 층으로 계산량을 줄이고 과적합을 방지하며 배치 정규화를 통해 학습을 안정화하고 이후 완전연결층과 출력층을 거쳐서 최종 분류를 수행하는 것이 CNN입니다."
      ],
      "metadata": {
        "id": "UxrLO_jboWUZ"
      },
      "id": "UxrLO_jboWUZ"
    },
    {
      "cell_type": "code",
      "source": [],
      "metadata": {
        "id": "jcfk9OLgXLUp"
      },
      "id": "jcfk9OLgXLUp",
      "execution_count": null,
      "outputs": []
    }
  ],
  "metadata": {
    "colab": {
      "provenance": [],
      "collapsed_sections": [
        "yaSz9WBasUAH",
        "FiJakblIf1C5"
      ],
      "gpuType": "T4"
    },
    "language_info": {
      "name": "python"
    },
    "kernelspec": {
      "name": "python3",
      "display_name": "Python 3"
    },
    "accelerator": "GPU"
  },
  "nbformat": 4,
  "nbformat_minor": 5
}